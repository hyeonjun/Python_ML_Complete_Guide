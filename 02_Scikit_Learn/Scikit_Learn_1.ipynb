{
  "nbformat": 4,
  "nbformat_minor": 0,
  "metadata": {
    "colab": {
      "name": "Scikit_Learn_1.ipynb",
      "provenance": [],
      "collapsed_sections": [
        "TX1JfnWczC3K",
        "QoNiLcJgBLHK",
        "kF2X2Gj4d_NS",
        "yMFhp3bG-j7Y"
      ],
      "authorship_tag": "ABX9TyNDB0tDol7XhooIcIZQBHrN"
    },
    "kernelspec": {
      "name": "python3",
      "display_name": "Python 3"
    },
    "language_info": {
      "name": "python"
    }
  },
  "cells": [
    {
      "cell_type": "markdown",
      "metadata": {
        "id": "TX1JfnWczC3K"
      },
      "source": [
        "# 사이킷런\n",
        "\n",
        "#### 사이킷런 특징\n",
        "\n",
        "*  파이썬 기반의 다른 머신러닝 패키지도 사이킷런 스타일의 API를 지향할 정도로 쉽고 가장 파이썬스러운 API를 제공\n",
        "\n",
        "*  머신러닝을 위한 매우 다양한 알고리즘과 개발을 위한 편리한 프레임워크, API를 제공\n",
        "\n",
        "*  오랜 기간 실전 환경에서 검증됐으며, 매우 많은 환경에서 사용되는 성숙한 라이브러리."
      ]
    },
    {
      "cell_type": "markdown",
      "metadata": {
        "id": "ZI2c5pg91VGt"
      },
      "source": [
        "# 첫 번째 머신러닝 - 붓꽃 품종 예측\n",
        "\n",
        "붓꽃 데이터 세트로 붓꽃 품종을 분류(Classification)한다.\n",
        "\n",
        "붓꽃 데이터 세트는 꽃잎의 길이와 너비, 꽃받침의 길이와 너비 피처(Feature)를 기반으로 꽃의 품종을 예측.\n",
        "\n"
      ]
    },
    {
      "cell_type": "markdown",
      "metadata": {
        "id": "idUgvqFv19J1"
      },
      "source": [
        "분류(Classification)는 대표적인 지도학습(Supervised Learning) 방법의 하나.\n",
        "\n",
        "지도학습은 학습을 위한 다양한 피처와 분류 결정값인 레이블(Label) 데이터로 모델을 학습한 뒤, 별도의 테스트 데이터 세트에서 미지의 레이블을 예측한다.\n",
        "\n",
        "즉 지도 학습은 명확한 정답이 주어진 데이터를 먼저 학습한 뒤 미지의 정답을 예측하는 방식.\n",
        "\n",
        "*  sklearn.datasets : 사이킷런에서 자체적으로 제공하는 데이터 세트를 생성하는 모듈의 모임\n",
        "\n",
        "*  sklearn.tree : 트리 기반 ML 알고리즘을 구현한 클래스 모임\n",
        "\n",
        "*  sklearn.model_selection : 학습 데이터와 검증 데이터, 예측 데이터로 데이터를 분리하거나 최적의 하이퍼 파라미터로 평가하기 위한 다양한 모듈의 모임\n",
        "\n",
        "하이퍼 파라미터란 머신러닝 알고리즘별로 최적의 학습을 위해 직접 입력하라는 파라미터들을 통칭하며, 하이퍼 파라미터를 통해 머신러닝 알고리즘의 성능을 튜닝할 수 있다."
      ]
    },
    {
      "cell_type": "code",
      "metadata": {
        "id": "VkCMK2fy7f6z"
      },
      "source": [
        "from sklearn.datasets import load_iris                  # 붓꽃 데이터 생성\n",
        "from sklearn.tree import DecisionTreeClassifier         # ML알고리즘 : 의사결정트리\n",
        "from sklearn.model_selection import train_test_split    # 데이터 세트를 학습 데이터와 테스트 데이터로 분리"
      ],
      "execution_count": 1,
      "outputs": []
    },
    {
      "cell_type": "code",
      "metadata": {
        "colab": {
          "base_uri": "https://localhost:8080/",
          "height": 250
        },
        "id": "8pRPx1938ZUz",
        "outputId": "2f9f12e7-251e-4dff-d53c-0e352462b679"
      },
      "source": [
        "import pandas as pd\n",
        "\n",
        "# 붓꽃 데이터 세트 로딩\n",
        "iris = load_iris()\n",
        "\n",
        "# iris.data는 데이터 세트에서 피처(feature)만으로 된 데이터를 numpy로 가지고 있음\n",
        "iris_data = iris.data\n",
        "\n",
        "# iris.target은 붓꽃 데이터 세트에서 레이블(결정값) 데이터를 numpy로 가지고 있음\n",
        "iris_label = iris.target\n",
        "print('iris target 값:', iris_label)\n",
        "print('iris target 명:', iris.target_names)\n",
        "\n",
        "# 붓꽃 데이터 세트를 자세히 보기 위해 DataFrame으로 변환\n",
        "iris_df = pd.DataFrame(data=iris_data, columns=iris.feature_names)\n",
        "iris_df['label'] = iris.target\n",
        "iris_df.head(3)"
      ],
      "execution_count": 2,
      "outputs": [
        {
          "output_type": "stream",
          "name": "stdout",
          "text": [
            "iris target 값: [0 0 0 0 0 0 0 0 0 0 0 0 0 0 0 0 0 0 0 0 0 0 0 0 0 0 0 0 0 0 0 0 0 0 0 0 0\n",
            " 0 0 0 0 0 0 0 0 0 0 0 0 0 1 1 1 1 1 1 1 1 1 1 1 1 1 1 1 1 1 1 1 1 1 1 1 1\n",
            " 1 1 1 1 1 1 1 1 1 1 1 1 1 1 1 1 1 1 1 1 1 1 1 1 1 1 2 2 2 2 2 2 2 2 2 2 2\n",
            " 2 2 2 2 2 2 2 2 2 2 2 2 2 2 2 2 2 2 2 2 2 2 2 2 2 2 2 2 2 2 2 2 2 2 2 2 2\n",
            " 2 2]\n",
            "iris target 명: ['setosa' 'versicolor' 'virginica']\n"
          ]
        },
        {
          "output_type": "execute_result",
          "data": {
            "text/html": [
              "<div>\n",
              "<style scoped>\n",
              "    .dataframe tbody tr th:only-of-type {\n",
              "        vertical-align: middle;\n",
              "    }\n",
              "\n",
              "    .dataframe tbody tr th {\n",
              "        vertical-align: top;\n",
              "    }\n",
              "\n",
              "    .dataframe thead th {\n",
              "        text-align: right;\n",
              "    }\n",
              "</style>\n",
              "<table border=\"1\" class=\"dataframe\">\n",
              "  <thead>\n",
              "    <tr style=\"text-align: right;\">\n",
              "      <th></th>\n",
              "      <th>sepal length (cm)</th>\n",
              "      <th>sepal width (cm)</th>\n",
              "      <th>petal length (cm)</th>\n",
              "      <th>petal width (cm)</th>\n",
              "      <th>label</th>\n",
              "    </tr>\n",
              "  </thead>\n",
              "  <tbody>\n",
              "    <tr>\n",
              "      <th>0</th>\n",
              "      <td>5.1</td>\n",
              "      <td>3.5</td>\n",
              "      <td>1.4</td>\n",
              "      <td>0.2</td>\n",
              "      <td>0</td>\n",
              "    </tr>\n",
              "    <tr>\n",
              "      <th>1</th>\n",
              "      <td>4.9</td>\n",
              "      <td>3.0</td>\n",
              "      <td>1.4</td>\n",
              "      <td>0.2</td>\n",
              "      <td>0</td>\n",
              "    </tr>\n",
              "    <tr>\n",
              "      <th>2</th>\n",
              "      <td>4.7</td>\n",
              "      <td>3.2</td>\n",
              "      <td>1.3</td>\n",
              "      <td>0.2</td>\n",
              "      <td>0</td>\n",
              "    </tr>\n",
              "  </tbody>\n",
              "</table>\n",
              "</div>"
            ],
            "text/plain": [
              "   sepal length (cm)  sepal width (cm)  ...  petal width (cm)  label\n",
              "0                5.1               3.5  ...               0.2      0\n",
              "1                4.9               3.0  ...               0.2      0\n",
              "2                4.7               3.2  ...               0.2      0\n",
              "\n",
              "[3 rows x 5 columns]"
            ]
          },
          "metadata": {},
          "execution_count": 2
        }
      ]
    },
    {
      "cell_type": "markdown",
      "metadata": {
        "id": "HLT3ohje-I7L"
      },
      "source": [
        "레이블(Label, 결정값)은 0, 1, 2 세 가지 값으로 되어있고 0이 Setosa, 1이 Versicolor, 2가 Virginica 품종을 의미한다."
      ]
    },
    {
      "cell_type": "code",
      "metadata": {
        "id": "LJMWt9g2-Zsa"
      },
      "source": [
        "# 학습용 데이터와 테스트용 데이터 분리\n",
        "# 학습 데이터로 학습된 모델이 얼마나 뛰어난 성능을 가지는지 평가하기 위해 분리\n",
        "# train_test_split(), 파라미터 : test_size\n",
        "# test_size : 입력값의 비율로 분할, 예) 0.2 => 학습 데이터 80%, 테스트 데이터 20%\n",
        "X_train, X_test, y_train, y_test = train_test_split(iris_data, iris_label, test_size=0.2, random_state=11)"
      ],
      "execution_count": 3,
      "outputs": []
    },
    {
      "cell_type": "markdown",
      "metadata": {
        "id": "QoNiLcJgBLHK"
      },
      "source": [
        "#### train_test_split() 파라미터\n",
        "\n",
        "*  iris_data : 피처 데이터 세트\n",
        "*  iris_label : 레이블 데이터 세트\n",
        "*  test_size=0.2 : 전체 데이터 세트 중 테스트 데이터 비율\n",
        "*  random_state : 호출할 때마다 같은 학습/테스트 용 데이터를 생성하기 위해 주어지는 난수 발생 값. train_test_split()은 호출 시 무작위로 데이터를 분리하므로 random_state를 지정하지 않으면 수행할 때마다 다른 학습/테스트 용 데이터를 만들 수 있다. 숫자를 지정할 때는 어떤 값을 지정해도 상관없다.\n",
        "\n",
        "---\n",
        "\n",
        "train_test_split()은 학습 피처 데이터 세트를 X_train으로, 테스트용 피처 데이터 세트를 X_test로, 학습용 레이블 데이터 세트를 y_train으로, 테스트용 레이블 데이터 세트를 y_test로 반환.\n",
        "\n"
      ]
    },
    {
      "cell_type": "code",
      "metadata": {
        "colab": {
          "base_uri": "https://localhost:8080/"
        },
        "id": "oacq8j3VJfbn",
        "outputId": "d3c22d3d-141b-4595-bb36-6f4072697ca9"
      },
      "source": [
        "# 의사 결정 트리를 이용해 학습과 예측 수행\n",
        "# DecisionTreeClassifier 객체 생성 시 입력된 random_state도 지정\n",
        "dt_clf = DecisionTreeClassifier(random_state=11)\n",
        "\n",
        "# 학습 수행\n",
        "dt_clf.fit(X_train, y_train)"
      ],
      "execution_count": 4,
      "outputs": [
        {
          "output_type": "execute_result",
          "data": {
            "text/plain": [
              "DecisionTreeClassifier(random_state=11)"
            ]
          },
          "metadata": {},
          "execution_count": 4
        }
      ]
    },
    {
      "cell_type": "code",
      "metadata": {
        "id": "d86Mmni2J4Eu"
      },
      "source": [
        "# 학습된 DecisionTreeClassifier 객체를 이용하여 예측 수행\n",
        "# 예측은 반드시 학습 데이터가 아닌 다른 데이터를 이용해야 한다.\n",
        "# DecisionTreeClassifier 객체의 predict() 메서드에 테스트용 피처 데이터 세트를 입력하여 예측값 반환\n",
        "pred = dt_clf.predict(X_test)"
      ],
      "execution_count": 5,
      "outputs": []
    },
    {
      "cell_type": "code",
      "metadata": {
        "colab": {
          "base_uri": "https://localhost:8080/"
        },
        "id": "y1KsthDJKMQ2",
        "outputId": "fa16ade8-2e67-44e0-fb44-6f34fb802ba9"
      },
      "source": [
        "# 예측 결과를 기반으로 DecisionTreeClassifier의 예측 성능 평가\n",
        "# 정확도 측정. accuracy_score()\n",
        "from sklearn.metrics import accuracy_score\n",
        "print(\"예측 정확도 : {0:.4f}\".format(accuracy_score(y_test, pred)))"
      ],
      "execution_count": 6,
      "outputs": [
        {
          "output_type": "stream",
          "name": "stdout",
          "text": [
            "예측 정확도 : 0.9333\n"
          ]
        }
      ]
    },
    {
      "cell_type": "markdown",
      "metadata": {
        "id": "kF2X2Gj4d_NS"
      },
      "source": [
        "#### 붓꽃 데이터 분류 프로세스\n",
        "\n",
        "1. 데이터 세트 분리 : 데이터를 학습 데이터와 테스트 데이터로 분리\n",
        "\n",
        "2. 모델 학습 : 학습 데이터를 기반으로 ML 알고리즘을 적용해 모델 학습\n",
        "\n",
        "3. 예측 수행 : 학습된 ML 모델을 이용해 테스트 데이터의 분류(즉, 붓꽃 종류) 예측\n",
        "\n",
        "4. 평가 : 예측된 결과값과 테스트 데이터의 실제 결과값 비교하여 ML 모델 성능 평가\n",
        "\n"
      ]
    },
    {
      "cell_type": "markdown",
      "metadata": {
        "id": "AoLXxWOOlZE_"
      },
      "source": [
        "# 사이킷런 기반 프레임워크\n",
        "\n",
        "fit() : ML 모델 학습\n",
        "\n",
        "predict() : 학습된 모델의 예측\n",
        "\n",
        "지도학습의 주요 두 축인 분류(Classification)과 회귀(Regression)의 다양한 알골지믕르 구현한 모든 사이킷런 클래스는 fit()과 predict()만을 이용하여 간단하게 학습과 예측 결과를 반환한다.\n",
        "\n",
        "사이킷런에서는 분류 알고리즘을 구현한 클래스를 Classifier, 회귀 알고리즘을 구현한 클래스는 Regressor로 지칭한다.\n",
        "\n",
        "이 Classifier과 Regressor를 합쳐서 Estimator 클래스라고 부른다. 즉, 지도학습의 모든 알고리즘을 구현한 클래스를 통칭해서 Estimator라고 부른다.\n",
        "\n",
        "cross_val_score()와 같은 evaluation 함수, GridSearchCV와 같은 하이퍼 파라미터 튜닝을 지원하는 클래스의 경우 Estimator를 인자로 받는다. Estimator에 대해서 cross_val_score(), GridSearchCV.fit() 함수 내에서 이 Estimator의 fit()과 predict()를 호출해서 평가를 하거나 하이퍼 파라미터 튜닝을 수행하는 것이다."
      ]
    },
    {
      "cell_type": "markdown",
      "metadata": {
        "id": "2negEhrJtrdN"
      },
      "source": [
        "![image.png](data:image/png;base64,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)"
      ]
    },
    {
      "cell_type": "markdown",
      "metadata": {
        "id": "NNB390IZv-Ns"
      },
      "source": [
        "사이킷런에서 비지도학습인 차원 축소, 클러스터링, 피처 추출(Feature Extraction) 등을 구현한 클래스 역시 대부분 fit()과 transform()을 적용한다. 비지도학습과 피처 추출에서 fit()은 지도 학습의 fit()과 같이 학습을 의미하는 것이 아닌 입력 데이터의 형태에 맞춰 데이터를 변환하기 위한 사전 구조를 맞추는 작업이다.\n",
        "\n",
        "fit()으로 변환을 위한 사전 구조를 맞추면 이후 입력 데이터의 차원 변환, 클러스터링, 피처 추출 등의 실제 작업은 transform()으로 수행한다.\n",
        "\n",
        "사이킷런은 fit()과 transform()을 하나로 결합한 fit_transform()도 함께 제공한다."
      ]
    },
    {
      "cell_type": "markdown",
      "metadata": {
        "id": "9L03znWHyZ_b"
      },
      "source": [
        "#### 사이킷런 내장된 예제 데이터 세트\n",
        "\n",
        "* datasets.load_boston() : 회귀 용도 이며, 미국 보스턴의 집 피어들과 가격에 대한 데이터 세트\n",
        "\n",
        "* datasets.load_breast_cancer() : 분류 용도이며, 위스콘신 유방암 피처들과 악성/음성 레이블 데이터 세트\n",
        "\n",
        "* datasets.load_diabetes() : 회귀 용도이며, 당뇨 데이터 세트\n",
        "\n",
        "* datasets.load_digits() : 분류 용도이며, 0에서 9까지의 숫자 이미지 픽셀 데이터 세트\n",
        "\n",
        "* datasets.load_iris() : 분류 용도이며, 붓꽃에 대한 피처를 가진 데이터 세트"
      ]
    },
    {
      "cell_type": "markdown",
      "metadata": {
        "id": "wOHOvtkrzQ2L"
      },
      "source": [
        "fetch 계열 명령은 데이터 크기가 커서 패키지에 내장되어 있지 않고 인터넷에서 내려받아 홈 디렉터리 아래의 scikit_learn_data라는 서브 디렉터리에 저장한 후 추후 불러들이는 데이터.\n",
        "\n",
        "* fetch_covtype() : 회귀 분석용 토지 조사 자료\n",
        "* fetch_20Newsgroups() : 뉴스 그룹 텍스트 자료\n",
        "* fetch_olivetti_faces() : 얼굴 이미지 자료\n",
        "* fetch_lfw_people() : 얼굴 이미지 자료\n",
        "* fetch_lfw_pairs() : 얼굴 이미지 자료\n",
        "* fetch_rcv1() : 로이터 뉴스 말뭉치\n",
        "* fetch_mldata() : ML 웹사이트에서 다운로드"
      ]
    },
    {
      "cell_type": "markdown",
      "metadata": {
        "id": "FoRe82CQ1HX5"
      },
      "source": [
        "분류와 클러스터링을 위한 표본 데이터 생성기\n",
        "\n",
        "* datasets.make_classifications()\n",
        "\n",
        ": 분류를 위한 데이터 세트를 만든다. 특히 높은 상관도, 불필요한 속성 등의 노이즈 효과를 위한 데이터를 무작위로 생성한다.\n",
        "\n",
        "* datasets.make_blobs()\n",
        "\n",
        ": 클러스터링을 위한 데이터 세트를 무작위로 생성해준다. 군집 지정 개수에 따라 여러 가지 클러스터링을 위한 데이터 세트를 쉽게 만들어준다."
      ]
    },
    {
      "cell_type": "markdown",
      "metadata": {
        "id": "DiWGU9_n1gsZ"
      },
      "source": [
        "#### 분류나 회귀를 위한 연습용 예제 데이터 구성\n",
        "\n",
        "사이킷런에 내장된 이 데이터 세트는 일반적으로 딕셔너리 형태로 되어있다.\n",
        "\n",
        "* data : 피처의 데이터 세트\n",
        "* target : 분류 시 레이블 값, 회귀일 때는 숫자 결괏값 데이터 세트\n",
        "* target_names : 개별 레이블의 이름\n",
        "* feature_names : 피처의 이름\n",
        "* DESCR은 데이터 세트에 대한 설명과 각 피처의 설정\n",
        "\n",
        "data, target은 넘파이 배열이며, target_names, feature_names는 넘파이 배열 또는 파이썬 리스트. DESCR은 스트링 타입이다.\n",
        "\n",
        "피처의 데이터 값을 반환받기 위해서는 내장 데이터 세트 API를 호출한 뒤에 그 Key값을 지정하면 된다."
      ]
    },
    {
      "cell_type": "code",
      "metadata": {
        "colab": {
          "base_uri": "https://localhost:8080/"
        },
        "id": "4iUCrP3WzIQj",
        "outputId": "2010b32c-d07b-4d9e-e8c2-5819d4c1c3f5"
      },
      "source": [
        "from sklearn.datasets import load_iris\n",
        "\n",
        "iris_data = load_iris()\n",
        "print(type(iris_data))\n",
        "\n",
        "# <class 'sklearn.utils.Bunch'>\n",
        "# Bunch 클래스는 파이썬 딕셔너리 자료형과 유사"
      ],
      "execution_count": 7,
      "outputs": [
        {
          "output_type": "stream",
          "name": "stdout",
          "text": [
            "<class 'sklearn.utils.Bunch'>\n"
          ]
        }
      ]
    },
    {
      "cell_type": "code",
      "metadata": {
        "colab": {
          "base_uri": "https://localhost:8080/"
        },
        "id": "cVBCOdLt2tBq",
        "outputId": "6502d966-317b-47d7-d97c-6e46a8b5be7d"
      },
      "source": [
        "keys = iris_data.keys()\n",
        "print('데이터 세트 키 :',keys)"
      ],
      "execution_count": 8,
      "outputs": [
        {
          "output_type": "stream",
          "name": "stdout",
          "text": [
            "데이터 세트 키 : dict_keys(['data', 'target', 'frame', 'target_names', 'DESCR', 'feature_names', 'filename', 'data_module'])\n"
          ]
        }
      ]
    },
    {
      "cell_type": "markdown",
      "metadata": {
        "id": "7o9LWw_K29OD"
      },
      "source": [
        "데이터 키는 피쳐들의 데이터 값을 가리킨다. 데이터 세트가 딕셔너리 형태이기 때문에 피처 데이터값을 추출하기 위해서는 데이터 세트.data(또는 데이터['data'])를 이용하면 된다. (target, features_names, DESCR key 또 한 마찬가지)"
      ]
    },
    {
      "cell_type": "code",
      "metadata": {
        "colab": {
          "base_uri": "https://localhost:8080/"
        },
        "id": "HeJYlSKy3ORB",
        "outputId": "f69d70a0-9111-41c2-8442-79ded0dd38b7"
      },
      "source": [
        "print('features_names의 type :',type(iris_data.feature_names))\n",
        "print('\\nfeatures_names의 shape :',len(iris_data.feature_names))\n",
        "print(iris_data.feature_names)\n",
        "\n",
        "print('\\ntarget_names의 type :',type(iris_data.target_names))\n",
        "print('\\ntarget_names의 shape :',len(iris_data.target_names))\n",
        "print(iris_data.target_names)\n",
        "\n",
        "print('\\ndata의 type :', type(iris_data.data))\n",
        "print('\\ndata의 shape :', iris_data.data.shape)\n",
        "print(iris_data['data']) # print(iris_data.data)\n",
        "\n",
        "print('\\ntarget의 type :',type(iris_data.target))\n",
        "print('\\ntarget의 shape :',iris_data.target.shape)\n",
        "print(iris_data.target) # print(iris_data['target'])"
      ],
      "execution_count": 9,
      "outputs": [
        {
          "output_type": "stream",
          "name": "stdout",
          "text": [
            "features_names의 type : <class 'list'>\n",
            "\n",
            "features_names의 shape : 4\n",
            "['sepal length (cm)', 'sepal width (cm)', 'petal length (cm)', 'petal width (cm)']\n",
            "\n",
            "target_names의 type : <class 'numpy.ndarray'>\n",
            "\n",
            "target_names의 shape : 3\n",
            "['setosa' 'versicolor' 'virginica']\n",
            "\n",
            "data의 type : <class 'numpy.ndarray'>\n",
            "\n",
            "data의 shape : (150, 4)\n",
            "[[5.1 3.5 1.4 0.2]\n",
            " [4.9 3.  1.4 0.2]\n",
            " [4.7 3.2 1.3 0.2]\n",
            " [4.6 3.1 1.5 0.2]\n",
            " [5.  3.6 1.4 0.2]\n",
            " [5.4 3.9 1.7 0.4]\n",
            " [4.6 3.4 1.4 0.3]\n",
            " [5.  3.4 1.5 0.2]\n",
            " [4.4 2.9 1.4 0.2]\n",
            " [4.9 3.1 1.5 0.1]\n",
            " [5.4 3.7 1.5 0.2]\n",
            " [4.8 3.4 1.6 0.2]\n",
            " [4.8 3.  1.4 0.1]\n",
            " [4.3 3.  1.1 0.1]\n",
            " [5.8 4.  1.2 0.2]\n",
            " [5.7 4.4 1.5 0.4]\n",
            " [5.4 3.9 1.3 0.4]\n",
            " [5.1 3.5 1.4 0.3]\n",
            " [5.7 3.8 1.7 0.3]\n",
            " [5.1 3.8 1.5 0.3]\n",
            " [5.4 3.4 1.7 0.2]\n",
            " [5.1 3.7 1.5 0.4]\n",
            " [4.6 3.6 1.  0.2]\n",
            " [5.1 3.3 1.7 0.5]\n",
            " [4.8 3.4 1.9 0.2]\n",
            " [5.  3.  1.6 0.2]\n",
            " [5.  3.4 1.6 0.4]\n",
            " [5.2 3.5 1.5 0.2]\n",
            " [5.2 3.4 1.4 0.2]\n",
            " [4.7 3.2 1.6 0.2]\n",
            " [4.8 3.1 1.6 0.2]\n",
            " [5.4 3.4 1.5 0.4]\n",
            " [5.2 4.1 1.5 0.1]\n",
            " [5.5 4.2 1.4 0.2]\n",
            " [4.9 3.1 1.5 0.2]\n",
            " [5.  3.2 1.2 0.2]\n",
            " [5.5 3.5 1.3 0.2]\n",
            " [4.9 3.6 1.4 0.1]\n",
            " [4.4 3.  1.3 0.2]\n",
            " [5.1 3.4 1.5 0.2]\n",
            " [5.  3.5 1.3 0.3]\n",
            " [4.5 2.3 1.3 0.3]\n",
            " [4.4 3.2 1.3 0.2]\n",
            " [5.  3.5 1.6 0.6]\n",
            " [5.1 3.8 1.9 0.4]\n",
            " [4.8 3.  1.4 0.3]\n",
            " [5.1 3.8 1.6 0.2]\n",
            " [4.6 3.2 1.4 0.2]\n",
            " [5.3 3.7 1.5 0.2]\n",
            " [5.  3.3 1.4 0.2]\n",
            " [7.  3.2 4.7 1.4]\n",
            " [6.4 3.2 4.5 1.5]\n",
            " [6.9 3.1 4.9 1.5]\n",
            " [5.5 2.3 4.  1.3]\n",
            " [6.5 2.8 4.6 1.5]\n",
            " [5.7 2.8 4.5 1.3]\n",
            " [6.3 3.3 4.7 1.6]\n",
            " [4.9 2.4 3.3 1. ]\n",
            " [6.6 2.9 4.6 1.3]\n",
            " [5.2 2.7 3.9 1.4]\n",
            " [5.  2.  3.5 1. ]\n",
            " [5.9 3.  4.2 1.5]\n",
            " [6.  2.2 4.  1. ]\n",
            " [6.1 2.9 4.7 1.4]\n",
            " [5.6 2.9 3.6 1.3]\n",
            " [6.7 3.1 4.4 1.4]\n",
            " [5.6 3.  4.5 1.5]\n",
            " [5.8 2.7 4.1 1. ]\n",
            " [6.2 2.2 4.5 1.5]\n",
            " [5.6 2.5 3.9 1.1]\n",
            " [5.9 3.2 4.8 1.8]\n",
            " [6.1 2.8 4.  1.3]\n",
            " [6.3 2.5 4.9 1.5]\n",
            " [6.1 2.8 4.7 1.2]\n",
            " [6.4 2.9 4.3 1.3]\n",
            " [6.6 3.  4.4 1.4]\n",
            " [6.8 2.8 4.8 1.4]\n",
            " [6.7 3.  5.  1.7]\n",
            " [6.  2.9 4.5 1.5]\n",
            " [5.7 2.6 3.5 1. ]\n",
            " [5.5 2.4 3.8 1.1]\n",
            " [5.5 2.4 3.7 1. ]\n",
            " [5.8 2.7 3.9 1.2]\n",
            " [6.  2.7 5.1 1.6]\n",
            " [5.4 3.  4.5 1.5]\n",
            " [6.  3.4 4.5 1.6]\n",
            " [6.7 3.1 4.7 1.5]\n",
            " [6.3 2.3 4.4 1.3]\n",
            " [5.6 3.  4.1 1.3]\n",
            " [5.5 2.5 4.  1.3]\n",
            " [5.5 2.6 4.4 1.2]\n",
            " [6.1 3.  4.6 1.4]\n",
            " [5.8 2.6 4.  1.2]\n",
            " [5.  2.3 3.3 1. ]\n",
            " [5.6 2.7 4.2 1.3]\n",
            " [5.7 3.  4.2 1.2]\n",
            " [5.7 2.9 4.2 1.3]\n",
            " [6.2 2.9 4.3 1.3]\n",
            " [5.1 2.5 3.  1.1]\n",
            " [5.7 2.8 4.1 1.3]\n",
            " [6.3 3.3 6.  2.5]\n",
            " [5.8 2.7 5.1 1.9]\n",
            " [7.1 3.  5.9 2.1]\n",
            " [6.3 2.9 5.6 1.8]\n",
            " [6.5 3.  5.8 2.2]\n",
            " [7.6 3.  6.6 2.1]\n",
            " [4.9 2.5 4.5 1.7]\n",
            " [7.3 2.9 6.3 1.8]\n",
            " [6.7 2.5 5.8 1.8]\n",
            " [7.2 3.6 6.1 2.5]\n",
            " [6.5 3.2 5.1 2. ]\n",
            " [6.4 2.7 5.3 1.9]\n",
            " [6.8 3.  5.5 2.1]\n",
            " [5.7 2.5 5.  2. ]\n",
            " [5.8 2.8 5.1 2.4]\n",
            " [6.4 3.2 5.3 2.3]\n",
            " [6.5 3.  5.5 1.8]\n",
            " [7.7 3.8 6.7 2.2]\n",
            " [7.7 2.6 6.9 2.3]\n",
            " [6.  2.2 5.  1.5]\n",
            " [6.9 3.2 5.7 2.3]\n",
            " [5.6 2.8 4.9 2. ]\n",
            " [7.7 2.8 6.7 2. ]\n",
            " [6.3 2.7 4.9 1.8]\n",
            " [6.7 3.3 5.7 2.1]\n",
            " [7.2 3.2 6.  1.8]\n",
            " [6.2 2.8 4.8 1.8]\n",
            " [6.1 3.  4.9 1.8]\n",
            " [6.4 2.8 5.6 2.1]\n",
            " [7.2 3.  5.8 1.6]\n",
            " [7.4 2.8 6.1 1.9]\n",
            " [7.9 3.8 6.4 2. ]\n",
            " [6.4 2.8 5.6 2.2]\n",
            " [6.3 2.8 5.1 1.5]\n",
            " [6.1 2.6 5.6 1.4]\n",
            " [7.7 3.  6.1 2.3]\n",
            " [6.3 3.4 5.6 2.4]\n",
            " [6.4 3.1 5.5 1.8]\n",
            " [6.  3.  4.8 1.8]\n",
            " [6.9 3.1 5.4 2.1]\n",
            " [6.7 3.1 5.6 2.4]\n",
            " [6.9 3.1 5.1 2.3]\n",
            " [5.8 2.7 5.1 1.9]\n",
            " [6.8 3.2 5.9 2.3]\n",
            " [6.7 3.3 5.7 2.5]\n",
            " [6.7 3.  5.2 2.3]\n",
            " [6.3 2.5 5.  1.9]\n",
            " [6.5 3.  5.2 2. ]\n",
            " [6.2 3.4 5.4 2.3]\n",
            " [5.9 3.  5.1 1.8]]\n",
            "\n",
            "target의 type : <class 'numpy.ndarray'>\n",
            "\n",
            "target의 shape : (150,)\n",
            "[0 0 0 0 0 0 0 0 0 0 0 0 0 0 0 0 0 0 0 0 0 0 0 0 0 0 0 0 0 0 0 0 0 0 0 0 0\n",
            " 0 0 0 0 0 0 0 0 0 0 0 0 0 1 1 1 1 1 1 1 1 1 1 1 1 1 1 1 1 1 1 1 1 1 1 1 1\n",
            " 1 1 1 1 1 1 1 1 1 1 1 1 1 1 1 1 1 1 1 1 1 1 1 1 1 1 2 2 2 2 2 2 2 2 2 2 2\n",
            " 2 2 2 2 2 2 2 2 2 2 2 2 2 2 2 2 2 2 2 2 2 2 2 2 2 2 2 2 2 2 2 2 2 2 2 2 2\n",
            " 2 2]\n"
          ]
        }
      ]
    },
    {
      "cell_type": "markdown",
      "metadata": {
        "id": "bV3sb_DL5VWw"
      },
      "source": [
        "# Model Selection 모듈\n",
        "\n",
        "#### 학습/테스트 데이터 세트 분리 - train_test_split()\n",
        "\n",
        "테스트 데이터 세트를 이용하지 않고 학습 데이터 세트로만 학습하고 예측해보자"
      ]
    },
    {
      "cell_type": "code",
      "metadata": {
        "colab": {
          "base_uri": "https://localhost:8080/"
        },
        "id": "U0IwUzjl8DjY",
        "outputId": "1c17b9f6-d970-4a13-9112-3cb6aab54e44"
      },
      "source": [
        "from sklearn.datasets import load_iris\n",
        "from sklearn.tree import DecisionTreeClassifier\n",
        "from sklearn.metrics import accuracy_score\n",
        "\n",
        "iris = load_iris()\n",
        "dt_clf = DecisionTreeClassifier()\n",
        "train_data = iris.data\n",
        "train_label = iris.target\n",
        "dt_clf.fit(train_data, train_label)\n",
        "\n",
        "# 예측 수행\n",
        "pred = dt_clf.predict(train_data)\n",
        "print(accuracy_score(train_label, pred))"
      ],
      "execution_count": 10,
      "outputs": [
        {
          "output_type": "stream",
          "name": "stdout",
          "text": [
            "1.0\n"
          ]
        }
      ]
    },
    {
      "cell_type": "markdown",
      "metadata": {
        "id": "aiddVw4P8rTI"
      },
      "source": [
        "정확도 100%\n",
        "\n",
        "위 결과가 나온 이유는 이미 학습한 학습 데이터 세트를 기반으로 예측했기 때문이다. 따라서 예측을 수행하는 데이터 세트는 학습을 수행한 학습용 데이터 세트가 아닌 전용의 테스트 데이터 세트여야 한다.\n",
        "\n",
        "#### train_test_split 파라미터\n",
        "\n",
        "* test_size : 전체 데이터에서 테스트 데이터 세트 비율 결정\n",
        "* train_size : 전체 데이터에서 학습용 데이터 세트 비율 결정. test_size를 사용하면 안써도 된다.\n",
        "* shuffle : 데이터를 분리하기 전에 데이터를 미리 섞을지 결정. 디폴트는 True. 데이터를 분산시켜 좀 더 효율적인 학습 및 테스트 데이터 세트를 만든다.\n",
        "* random_state : 호출할 때마다 동일한 학습/테스트용 데이터 세트를 생성하기 위해 주어지는 난수값. \n",
        "\n",
        "train_test_split()의 반환값은 튜플 형태다. 순차적으로 학습/테스트용 데이터의 피처 데이터 세트, 학습/테스트용 레이블 데이터 세트가 반환된다.  "
      ]
    },
    {
      "cell_type": "code",
      "metadata": {
        "colab": {
          "base_uri": "https://localhost:8080/"
        },
        "id": "1YQJBzzE94Mf",
        "outputId": "e5888bc1-f8a5-4589-a387-e373e123e76e"
      },
      "source": [
        "from sklearn.datasets import load_iris\n",
        "from sklearn.tree import DecisionTreeClassifier\n",
        "from sklearn.metrics import accuracy_score\n",
        "from sklearn.model_selection import train_test_split\n",
        "\n",
        "dt_clf = DecisionTreeClassifier()\n",
        "iris_data = load_iris()\n",
        "\n",
        "X_train, X_test, y_train, y_test = train_test_split(iris_data.data, iris_data.target, test_size=0.3, random_state=121)\n",
        "\n",
        "dt_clf.fit(X_train, y_train)\n",
        "pred = dt_clf.predict(X_test)\n",
        "print(accuracy_score(y_test, pred))"
      ],
      "execution_count": 11,
      "outputs": [
        {
          "output_type": "stream",
          "name": "stdout",
          "text": [
            "0.9555555555555556\n"
          ]
        }
      ]
    },
    {
      "cell_type": "markdown",
      "metadata": {
        "id": "yMFhp3bG-j7Y"
      },
      "source": [
        "#### 교차 검증\n",
        "\n",
        "알고리즘을 학습시키는학습 데이터와 이에 대한 예측 성능을 평가하기 위한 별도의 테스트용 데이터가 필요하다. 하지만 이것 역시 과적합(Overfitting)에 취약한 약점을 가질 수 있다.\n",
        "\n",
        "과적합은 모델이 학습 데이터에만 과도하게 최적화되어, 실제 예측을 다른 데이터로 수행할 경우, 예측 성능이 과도하게 떨어지는 것을 말한다.\n",
        "\n",
        "그런데 고정된 학습 데이터와 테스트 데이터로 평가하면 테스트 데이터에만 최적의 성능을 발휘할 수 있도록 편향되게 모델을 유도하는 경향이 생기게 된다.\n",
        "\n",
        "결국 해당 테스트 데이터에만 과적합되는 학습 모델이 만들어져 다른 테스트용 데이터가 들어올 경우에는 성능이 저하된다. 이런 문제점을 개선하기 위해 교차 검증을 이용해 더 다양한 학습과 평가를 수행\n",
        "\n",
        "1. 학습 데이터를 다시 분할하여 학습 데이터와 학습된 모델의 성능을 일차 평가하는 검증 데이터로 나눈다.\n",
        "\n",
        "2. 분할 -> 학습 데이터 세트와 검증 데이터 세트\n",
        "\n",
        "3. 모든 학습/검증 과정이 완료된 후 최종적으로 성능 평가하기 위한 데이터 세트(테스트 데이터 세트)"
      ]
    },
    {
      "cell_type": "markdown",
      "metadata": {
        "id": "Gh0zhMHBA1NG"
      },
      "source": [
        "#### K 폴드 교차 검증\n",
        "\n",
        "K 폴드 교차 검증은 가장 보편적으로 사용되는 교차 검증 기법이다. 먼저 K개의 데이터 폴드 세트를 만들어서 K번만큼 각 폴드 세트에 학습과 검증 평가를 반복적으로 수행하는 방법이다.\n",
        "\n",
        "예) 5 폴드 교차 검증\n",
        "\n",
        "![image.png](data:image/png;base64,iVBORw0KGgoAAAANSUhEUgAAAXMAAAEWCAYAAACUg3d7AAAgAElEQVR4Ae2di3dV1b3v939wxx33nnMzek97Lq21pT6xaknVKrEIBBCMRVvkjSAQ5GGICAF5hXfkESKPkIRgDaI9YMUGn6H1QVCxoa0V22NLi7bGCsdYXzkV5XfHb+79W2vuueeaa+29Q5q9880Ya8y55vzNx/rO3/ysuedeOytG+IMCUAAKQIGcVyCW81eAC4ACUAAKQAECzOEEUAAKQIE8UEDB/Cydpb93/he1f/hnav974uC4HGYan4utbiPxdEKpy1VGt5G4hFyO43Lo9eg2enrUuF5e6tfTpO2o9QXZmXXa6pX29TqilNPtJa6X0+O2fE6LYiNlJdTL6HFbfjpt2OqSOiUMswnLz6Y/trptaeeyjaD2RJ+obXM9Zl3meVBdeltmPEod0rbYSmjWFXRuszfT+FwOqUdsJOR0PS52ZhjFxixj1i11SCj5+rmW1vHpe/TF2c+925CC+Rdnv6DX3jlCB48/QAeP78YBDeAD8AH4QA/3gba3f0H/febTVJi/+lYLPXKsGgc0gA/AB+ADOeADrX86SJ9+9jFgjhsXbtzwAfhALvsAYJ4Dd9xcdjD0HYCED3SPDwDmgDk+QsMH4AN54AOAeR4MIlY+3bPygc7QuSf7AGAOmPesVVlbNT10dBPtObqRHm7bnHHf9v4yXsfeX2ZeB0/ch45upD2vZNeXIADw9XH9fGRzrUH1I7133XwAc8A8Y2B2FSwafrGG1u29m7Y+sYx2PbeWlu6cRXetn0Q7nl6RUd8eenUjbdi3kOaum6TqZVhm0leG+OLtpTRnzQSqfbYyozr0dhnYO1tW0crdd9GWx5dQ4wtraX71HVS+YQrVHVqVdf16W4j3LpDzeAPmgPk5hQgDjFfJe1/d5IeJ+MOJVfPKB8po0C3XUOnyMbTp0UVUMvkGuuK6i2j1j8uS+sZ17Xl5A+14agWtfrCMqn5yDzX8YrWqW4fXgy/dpwD87e9dSHcs+iE9eOQ+VQ+n73imku5vXko1zUtVqMe3Pbmcdr+4jqRfDxxeT0PHDKBLr+pLax8qT+qL3p4Z55tA9eP30rq982nX82u9cqzBsvrZVDSykGauGKPav274d+iqwd+m+/5jgWdn1ofz3gfmTMYcMAfMzxlEGJ7rHrqbZq0aR9OXjqbpyxLH0tE0s3IsMcT3vLKBFm2fQRf3/waNmTOCNvzHQrrJAnPeLtn25DJVT9HI/tT/+kvoqkGX0Y3jr6dF20oVhGUCMLznrJ5APsyr1DZG1U8W0E2TbqCrh1xO143oT0U3FcaPkfFQ1bW9lLjfXJeC+W0JmO+JDvOG59bQlIpb6cbx36eqR+7x9H3o1U20cOt06nfVt2ji3TdTzc+WkIL5IMBcxg5h5jcuwBww92DT1ROJV82T5v+ALrzi6/Ttay+iq4svp2uGXk7XFF9OA0b2V6vTH7dWBcJ8lbYy39myUtV1SWFfuu7G7ygY/rB0qFrBXzPkcgV02U4JgvmS2jvpkv7fJK7jB1MH021zRiQdt1fcSmv2lKsbTDYw3/nsSrp56iC6suhiWrFrjrqR8GqdV/13b5pCl363L2COedfl8w4wh1N1uVPJTWHnoZV0y/RiuuCKr9PtC2+hyt13qWPlA3fRqgfL6P7mJcSr1aCVucCcIb20bhZ95/pLaOAPrlL74AxGBvyctRPosmsuoJETv0/cHrcdBPN7a++ky6+7SK38Nz+2mHgFrR+Nz6+lppc3eF9GZroy3/7Uchp623V04ZXn0z3Vd9CPj1TR8oY5VLpiDN044Xo6/5I+gDnmXZfPO8AcTtXlTmXC/PJrL1Iwtj6x0VYdCnPed+ZticuvvVB9McqrXG6D6+N97psmDVSgr2ycGwrzKwZcrG4w/EWk9DMojMP8uvieecRtFu7Txv0VVDiwHxV85V9owt03qy83b18wir439Aq66DvfoH//+pcAc8y7UP8L8sugdMAcTtXlTiXOJitzgbmkq8cGX9lATS/fp44FW6bRRVeen7JnLitz/tJy+LgitUWzcf9Cb+XM9TW9dB/dWTlW7bnPXjMhFOa8jz7o1mtoSd0sWv/IfO/gLyB5Rc2raF718yqdn6bhL2Z5W2RtRJjzyn7efbfTt759Hv3rv/0v+u6gy2j9w/fQpp8uouUNs2n8vJtUHvbMM98bFj9CmKwhYA6YdyvMecuEH0Mce9dItTUyYsL19N0bLqP/2+f/BML8/oNL6fqSQnVsfyr5cUVeCfPN4ILL41s5PMFd2yxs96X/968K/pd97wKSo//3L6VJ80fRvTtm0i3ThlDx6Gvphluupj59v6y2S6LAXFblg2+9Rj2hwlsq37ikD91wyzXqaRW+eS28H1+AAsLJEO4qPQBzwLxbYc5bJCsa59KICd+n7w27Ir71cOX5VPDl/+2EOT958v2br0p59pwByoBkSPOXrWEwv6Twm9Tvqgvoh6XDaHx5iTomlN9MkxeMosU7ZqpHB/kGw48PXjv8SvrK+V+KBHO+ro2PVqjHKi+7+gK6s3KcOud2vvqtLxM/gcMr8/mbp+JpFsy5czLnAHM41jlxLIaqbZuF4cvbGPx89+afLlLbDzOWjaa+/b4WCHPe/hjyo2vpuuFX0pbH76WH2/yVDa/0+QdG/GUjP6ceBvMrrruYRk0rph1PV3q/vuQ6+Fen/PgjP13DP17idu77yQL11A3fAMJW5lsO3Kv27r997YU0sfxm4k8QvJ207YllNOmeUXTN0CtoztqJ6gvRwoGX0tRFt6pn3fFooj+WXbVC7a31AOaAebfC3JxoDPewp1nqf76afjRzmPqSk59IYUhKPfz4Iz+fzk+0VGydEQ7zARfTrTOGRvrFZTpfgPINhz8Z8PPztc9UqhsD95Gvj5+Y4f1//lXq6qZ56ske/vHQ1oPL8Jw55p/ny+LTmYaAOZypy5zJdEJZmfOXjvyzeP4xzgOt6xXctj6xlDY9WkG1z64MhTl/yVm+cYoC9i0zij0Q84qaH3fkX1BeX/Jd9SMc7oNrz5yfZgmCOf8/GH5yhr/85F+BpvNoIv8LAb7p8KcO/ZODaMJP3ZStn6S2WfjHQlz3jmdW0NDbBqgvWfmXr2KLEKv1THwAMAfMzxlEdh5apR4D/Oq3vkIDR11Fo+8cTreWDlX7yvy8+IAR/Wnuuom0aJv9F6DyNAuvbmsev5eGjRmgfoA0Zu4IWrLzTgX4QaOupov7f1NtscgvN4Ngzj8a4l9f8o+WZq4Yq7Zn+P+u3LlyHN2x+Ec0fl4JlUwZpOra/cK6tGAeNvn4U8Ml3+2rtm2qDyxWmv/48Hq6d3up+kTB/58mrA7kA/IuHwDMAfNzBhFe5TI0+ZeQDFz+YvA711+qvvTkxwN5hbysYXYozNmBeRXOv87kJ0W++s1/o29c+lX6+kX/ThdecT7xF5j8GCFDn22DYM6/xuTHJPnJmfMv7qP26fte9jXq++2vqccF+deh/Hw4/8CJ+57Oytw1ybjvt80eQf/zX/6H+sEQPzHDaa4yyAO40/UBwBwwP2dQYWAxZPlRRAYx/58S3k7gRw15JcpPgETZMxen5i8p+YvJu9ZPVvvTvJrm1TZvbwjI2dYGc07nX4wu2jqDZq8erz4RzNtwO83ffAct3DpD/ahpdVM58S9Ddz23Ru3LZwtz7hN/oaoeR7z6W+qG8c1+X1WfMPi5dgAdwBbf7ooQMAfMzxnMozpo0heg+/x/tCXbLLZ6GIT8XwhteUEw92y1p2G8NIsfZApzhjj3oaZ5Cc1aOY6uGHAR9R94Kc1eM57Gzh1J/a7+lvoRFH9S4Jta0HW4+oY83AhMHwDMLZPYFAnn53bi8JMd/EvJ2xfcon4KL/810QVz15iEwjzimGcCc/4FKT/SyHvxw8YWqa0l/m5g4f3T1NYNfyrhRxV564kBP2bOSPXpgp+GwUr93PqZy2fyIQ8wjzix82Gwe+o18DPnDD/+l7j8uN6Y2SPUj3Z4eyaTPvPTL/M3TVVfsM5aNd77l7bp1sVg5n8Uxj9uYkBHKc+PJTKg5buBcWU30fqH56uVOpfnxyp5u4d/PFQ8+jr1Xx+vHXal+hUr34SitAEbQN/mA4A5YP5PBwj/50QGJ/9vc14N85t4FlTfoaBnc9qwNK6P9775Pxbys918HlbGls8rZf5vhwzeqG8C4j3yJbUzae7aibT2obvValx/Lp7b4W0Y/h8u/Ljigprp6r8p8j/nMu1sfUIaQB7kA4A5YJ4R6IIcqivSGXZ8ZFuXqiPi/nhQW5n0xSsToW2xVX2FL2Y95kHj2BvSAXNMIEwg+AB8IA98ADDPg0HsDasOXCO2F+ADbh8AzAFzrMrgA/CBPPABwDwPBhErFveKBfpAn97gA4A5YI5VGXwAPpAHPgCY58Eg9oZVB64Rq2v4gNsHAmF+7C/P009/U4sDGsAH4APwgRzwgVdOPkOdn31C8hfjyFk6S//1ybt08v3f4YAGeeEDf37/d9T2p9/Q86//kl5581f05nvH8+K6MEfBKPGBUx//lT7/4oywnBTMvTNEoECeKPDF2bP00JN/ppmrX6FNTW/QO+99midXhsuAAnYFAHO7LkjNcQU+/+IsrW54na4c8wRNW/ky/fHtj3L8itB9KOBWADB364PcHFVAwbz+t4B5jo4fup2+AoB5+pqhRA4oAJjnwCChi12qAGDepXKisp6iAGDeU0YC/eguBQDz7lIa7XSrAoB5t8qNxnqAAoB5DxgEdKHrFQDMu15T1NizFQDMe/b4oHcZKgCYZygciuWsAoB5zg4dOu5SADB3qYO8fFQAMM/HUcU1kQnzP7z9IVSBAnmtAGCe18Pbey7uH599QX997xN6/Y8f0GtvdtCvf/8+lW9sU8+Zj604TE8e/qtK57wTf/mIPvnU/xl071EJV5rPCgDm+Ty6vejaPvr0DD15+B26e1MbTat8maaueImKZx6iK257goqmPEPjF7fSHStepukrX6bdj/+R3nu/sxepg0vtDQoA5r1hlHvBNX525gt68dh7NHFJK/Uf+6SCOIPcPAbNaKGfPH2SPun8vBeogkvsTQoA5r1ptPP8Wt893Umb9/yOBkx5JgXiDHWGfPmGX9If3vqQzua5Fri83qcAYN77xjxvr/jM5/HV+bhFh60wHzbr57S/5S3i/XX8QYF8UwAwz7cR7eXXc7rjv6l6z+/ou+OfSgJ64bgn6Z7Nx+jtv/n/zL+XS4XLzzMFAPM8G9Defjn8f8yP/PoU3bbwRfUki+yZj5zzC7Uq50cW8QcF8lEBwDwfR7WXX1PHh5/Rlod+R9fdHt87v2rCU7Rwy6/oj3/5CHvlvdw38vnyAfN8Ht1eem1nz56lo6+fpklLj6gvPUvueo72PfsWfYonWHqpR/SOywbMe8c497qr/PCTz+j+h39P/KXngupj9J8nP6QvsMXS6/ygN11wEsx5RYMDGuSDDzC4j/72NC3d/mvaf+gt+vDjz+DbmN955QPmjUrB/De/+Q09/PDDOKBBHvnAXqpvbKIFK3bQpppG2rt3bx5dG+YqePUwHT58mD791H9RuYJ5Q30dLRg9iOqnF+MI0GDRbYNozi03QJ8Afdh31k0crDTafPuQHqTTMKqfPrTH9GfOqBuIfQlzLZg1zKLyeWXqBsw3YRypGmzcuJGqq6vp9OnT3gI9xh+pd9XX0d5Zw+jU+hIcARrsnzOUtk0thj4B+rDvvFRxo9Lot8tGQiebTutKaNvUIbR/DuaaizV7Zw2lxoa6vNoS6eqty1/96le0e/fuVJg3ajA/vb6EcKRqIDCHNqnaiCYvLYrD/PVlI+FDlnnEANNhLrohTPYphvnuhnoiPEjqrbrNyK9//WvAPNOJA5gnTzibjoC5WyPA3K2P+BRgbqI79Rwwt6yWxIHCQsA8fCIC5m6NAHO3PjIHAfNUeJspgDlgfk63PwBzN6wAc7c+gLmJ7OBzwBwwB8yz8AGBTaYhYA6YB+M5vRzAPIuJjG2W8ImIlblbI8DcrY/cJLHNEg52wBwwx8o8Cx8Q2GQaAuaAeTimo1kA5llMZKzMwyciVuZujQBztz5yk8TKPBzogDlgjpV5Fj4gsMk0BMwB83BMR7MAzLOYyFiZh09ErMzdGgHmbn3kJomVeTjQAXPAHCvzLHxAYJNpCJgD5uGYjmYBmGcxkbEyD5+IWJm7NQLM3frITRIr83CgA+aAOVbmWfiAwCbTEDAHzMMxHc0CMM9iImNlHj4RsTJ3awSYu/WRmyRW5uFAB8wBc6zMs/ABgU2mIWAOmIdjOpoFYJ7FRMbKPHwiYmXu1ggwd+sjN0mszMOBDpgD5liZZ+EDAptMQ8AcMA/HdDQLwDyLiYyVefhExMrcrRFg7tZHbpJYmYcDHTAHzLEyz8IHBDaZhoA5YB6O6WgWgHkWExkr8/CJiJW5WyPA3K2P3CSxMg8HuhXmXKyhvo5WjR9Cj901zDsOJOISSp55zul6WlDcVV7qkLIc6oetrNjqZW1pkq/XIXYS6jacJukScv7aCYNp4ehBnj5SRmwkDEvnfLEx41yH1COhzUZPM+2i1C3lTVszXermUD/ETs/ntNppxUqjB2YOTdFJyuih1MlpEpdQ7PQ2zLjNVrcx65VzCcVWP9frNONsF8VW7CTU22EfWjvRn2vnog29XWlbQum/2Eio90O30cuZ6ZInoZ4fFNdtdRtOl7yV4wfT0iX30qFDh3AEaNDY2Ehbt25NfqEzw7y19TDV3l9Nu7bxscVxiI2ELlvJkzollHRbaNYbVkbsw+z0ttKx5XLxNlif7TVRy6ZjF68/mu5+f9z2ul06fdHLcTzokD5L3fGwbmtco3pnuUzbCOqLni790dNc8XTs2VaOsDqlXgl9e/ah+Fzz03ydpf7Ucr4NlxM7idvqMtOkTFjdUqfYSTmzPv1cbKSMnpd+nPXZsWMHMbBw2DWor6+nJ598kj7++GNvGR/zYmfPEvGh3oiNMEUH6BPuG6IR/Miula4PNLJrlMQfj06IRFDAh3kEY5hAASgABaBAz1QAMO+Z44JeQQEoAAXSUgAwT0suGEMBKAAFeqYCgHnPHBf0CgpAASiQlgKAeVpywRgKQAEo0DMVAMx75rigV1AACkCBtBQAzNOSC8ZQAApAgZ6pAGDeM8cFvYICUAAKpKUAYJ6WXDCGAlAACvRMBQDznjku6BUUgAJQIC0FAPO05IIxFIACUKBnKgCY98xxQa+gABSAAmkpAJinJReMoQAUgAI9UwEF8w8++IDeeustOnnyJA5oAB+AD8AHcsAHTp06RZ9//rl3Z1Ewf+KJg1S15G6qWzmf6lbekwg5rh9mupxzqB96GT0u9pKml5G4mSfnZij2ep1mXD/Xy7vS9TyOyzGf7ltyN61ZLBpxfX5esk6Sp7cpcSnDoaTpoaRLKHl6OYmbeXJuhmKv12nG9XOzvHmu1yfl4mk1y+crjbat4DKSJ3H93KzTPI/Xl7nGepvSrl6n5JvthqWbddjKm2lSJp6+5t57aPPmzbR7924cARps3LiR1tzrGgvJS9bWPqfc42H3U67XLCfnZptyrodiy2GUuqSszd5evnrZfNr74AP097//3Yf52bNnaVd9HW2dWkyvLh5Bv0wcEpdQ0jm0pUm+LU/SzFDKZBJmWpeUkzb5XNJcYe0dxbR6/GDPVsrbQqlH8lxtiE3UUK9b4hJGrUPspByHEjfz5Dws5PKPzh1GqycMpqfLh3v1Sb1d1Qb3Q+rU+2RL0/OD4rZykiZhUFkz3bTnc0mT+JopI+jBBx+kN998k/7whz/gsGjQ0NBAayYN87QL0tnU1rRL51yvK51yNluzLjnXbW1pkm/LkzQO+fjJ7KG0fd2y5DcNMcwb6+to76xhxO8olPfwIUzWQt4BCo2SdRE/YV1eqriRtk0tpteXjYQvWeYSa7T9zhJ6+umniOcd/uwKPP74Ado+fQRYZPEhnm/sR88vuJEaqpYD5gKgdEKBeTplepstXuhsv9GJH8RhfjM9/fTTgLmd4yr18ccfB8wDQC6+BJiHCCRC2ULA3A0q1gwwd2sEmDsIrmUB5m4/4rkGmAPm5/SjK2DunoSAuUZsRxQwd/sRYJ4FyFk8rMzDHQwwd2sEmDsIrmUB5m4/AswB83O6KmcHA8zdkxAw14jtiALmbj8CzAFzwDxLH+BJlM0BmDsIrmUB5uF+hj3zLCYjtlnCHQwrc7dGgLlGbEcUMHf7EVbmWYCcxQPMwx0MMHdrBJg7CK5lAeZuPwLMAfOstgiibC8A5u5JCJhrxHZEAXO3HwHmgDlgnqUPRLmhuWwAcwfBtSzAHDA/p7DCNku4g2Fl7tYIMNeI7YgC5m4/wso8y1UZYB7uYIC5WyPA3EFwLQswd/sRYA6Yn9NPLuxggLl7EgLmGrEdUcDc7UeAOWAOmGfpAzyJsjkAcwfBtSzAPNzP8Jx5FpMR2yzhDoaVuVsjwFwjtiMKmLv9CCvzLEDO4gHm4Q4GmLs1AswdBNeyAHO3HwHmgHlWWwRRthcAc/ckBMw1YjuigLnbjwBzwBwwz9IHotzQXDaAuYPgWhZgDpifU1hhmyXcwbAyd2sEmGvEdkQBc7cfOVfm/ELnB2cOo7+suYn+uuYmL+T4X9eUGGnx82Q7Py1exlbOluaXk7alPVv9vo3fRz/NXZdfb9zOL2erK66Dfv0PzxpKNVOKE9qYdbjb9tsyy51rTfzrMPugX5vkSahrb0sTLc08/oZ9y5RiOrZkRJIP+XbBOvk2Nk1sY5Ral9QhYdh1iJ2EUTWR69frl7SwumpKS6i5uZk+/fRT6uzsTDrMNP1c4hJyWYlLaNan2+h5Yi+hzU7Pk7KZpqVbbv/+/VQz7UbFHl9Pf7zj42TzCVuaXi4e9+tM9TU9z4+Hl7P5jviEzU/kGuzlUvtl1tUyfzjVm+8A5Rvkw3v30tIZY2h7+XjaUT7eC/W4lzdvPO2YN04d2xNxyWN7OSRNQq+ueePi9UtotJliL/3R7bW42Etoa4f7q/rKdXGfpc6gthPXp9stmzGWFtwxJqmsV5euCdep9U+vQ/oounl5mr3YeHm2voq9hEHXkUj36mJ7va+GFoFtm+NtlJP6188epzTaNNdox+if2CeFZr9Cri2lr2IvYUI3sdNDjrMOKi2CvfTTs0/0VdVhaGG2I2XFBxdMH0+rVq2ixsZGHAEaVK5YQQumxTnh6anrzGMm46fND7b17MXn9LHiNMt4p5RL2Ki6DHsZz5R2pG2xlzCRbrNPqovt9b7q1yt1a3WtnTWWams20fvvv+99xolx7OTJk3TkyBE6cqQ1d4/WiH2PamfRojVq2ah2ljbO+RhE7ZtpZ547+p6xTlHbyNQu03JB12rWZ55by/E8O0JxjeLx+NxDPFmH1oRGEee1VesIZSONWYR6Mm0/i3K///3v6R//+EcyzL0zRKAAFIACUCAnFVAr85zsOToNBaAAFIACngKAuScFIlAACkCB3FUAMM/dsUPPoQAUgAKeAoC5JwUiUAAKQIHcVQAwz92xQ8+hABSAAp4CgLknBSJQAApAgdxVADDP3bFDz6EAFIACngKAuScFIlAACkCB3FUAMM/dsUPPoQAUgAKeAoC5JwUiUAAKQIHcVQAwz92xQ8+hABSAAp4CgLknBSJQAApAgdxVADDP3bFDz6EAFIACngI+zM+eJeKDcFg1gD7hvqH8x/MtRIIUgC+5fQn6uPVhRlvmmoL5q6++Srsa6qkRR6AGrE9DfV1gPrSrp1319dTQ0ICXLgS8dIFfSMH6sE7wl2AN+M1nDdDI6SPsQy0tz9Inn3ziLRkUzBlSS8YOpodmDcURoMHycYOp/IeDoE+APuw71bcPoQUzp9CDDz5I/B5HHKkaLJxfTuxLvXmu7XX4EOuyZMygrOdaWBu5rv/GyUOoevUyOn36tA/zs2fPUmN9He2dNYz4hbOut4v35jy80DncN/iFzvVrF9E777zjORgivgI813bVbqP9c4ZjrjlYwyDeNrUYLHJoxO/bbTDfAQqYh0OKb2KAebhOgLkPblsMMA/3IZ5rgHm4ToC5404X9qkDMA93MMDchnA/DTAP9yHAPJpGgDlgfk4/ugLmPrhtMcA8GqiwMg/XCTAHzAFzG2W7KQ0wD4cUVubRNALMAXPAvJvAbWsGMI8GKqzMw3UCzAFzwNxG2W5KA8zDIYWVeTSNAHPAHDDvJnDbmgHMo4EKK/NwnQBzwBwwt1G2m9IA83BIYWUeTSPAHDAHzLsJ3LZmAPNooMLKPFwnwBwwB8xtlO2mNMA8HFJYmUfTCDAHzAHzbgK3rRnAPBqosDIP1wkwB8wBcxtluykNMA+HFFbm0TQCzAFzwLybwG1rBjCPBiqszMN1AswBc8DcRtluSgPMwyGFlXk0jQBzwBww7yZw25oBzKOBCivzcJ0Ac8AcMLdRtpvSAPNwSGFlHk0jwBwwB8y7Cdy2ZgDzaKDCyjxcJ8AcMAfMbZTtpjTAPBxSWJlH0wgwB8wB824Ct60ZwDwaqLAyD9fJCnN2On6h85oJQ+hnZcOpOcoxbzg18yG2epzTzHOxk9DM18/1eJS6bDZ6HRw3z6UfaYTrJw6hRbcNsl9zum3o/TH7b9Zl66NeXo+bddnOw+ozy0Spf95w5Tt104tpyV3T6bHHHqPnnnuOnn/+eRyaBqzJssUVxL7kzR0Zjyg6R7UVOz3Mpn69Ho5zXXp9elzyzTJB55a6Vk8Y7M81qVtCqcc8l3RbaGkjSf8odZk2+rke5/bNc7NPZr5+znH93CxbFp9rO+4oppo1xgudGeYvvvgibd+ykRpqNlLD/f+ko2ZD97SdbjsJ++3VG2jr5n+SNv+sMTHbdWlXs5F2btlIW2u2UENDAzU2NuKwaLBt69boc82ltzk2eXS+jedadY7MtX/GGNVspNotG+ngzx6njz/+2PsQGOMYf/z7/PPP/ePMmdS4njU3j6gAABdiSURBVCa2kiahpHMoaRKG5UWx020kboZBbZt2ch5kL/0VOwklPahcFDvdRuJmGLV+KRdkL/0VOwklPaic2Elos3Pl6fUjHjyfXBq68mzjoessZSUMyzPt9HOJS2hrO2qe9MNlLza2dsLy9Hr18npct5G4GdrsxcbWB5u9zc5VR9S8hN0XX3zhgZwjCuZJKTiBAlAACkCBnFMAMM+5IUOHoQAUgAKpCgDmqZogBQpAASiQcwoA5jk3ZOgwFIACUCBVAcA8VROkQAEoAAVyTgHAPOeGDB2GAlAACqQqAJinaoIUKAAFoEDOKQCY59yQocNQAApAgVQFAPNUTZACBaAAFMg5BQDznBsydBgKQAEokKoAYJ6qCVKgABSAAjmnAGCec0OGDkMBKAAFUhUAzFM1QQoUgAJQIOcUAMxzbsjQYSgABaBAqgIK5u+99x4dP/564jgeErKd2JhlbOfp2Ep5Cc2ykp5OaNahn+txrtM8t7XDNjjcGui6uTR15el15ErcdT2uvHSuz1WPmaefc9w819vV8/R0jgflBaXbyqRj+zodf93sg+3crNM818u48nQ7V9xVh5nnOnflcft6vsRTw7fffpvOnDnjUV3B/LGf/pRWlZdS7eKZOAI0WF1eSpXLl+GFC5YXLsiLKGpqamj5wnLaUgE/CppLy+6aQWvunoF5FjDPWLdV82bQsjJoFORDnL7hnlJ6oL6WPvjgAx/m6r2E9XVUN30ovbF8pPP4XSJfQrbX42Hl082PWrduJ3EJg/poy9fTzL7uLh1K92+6j959913r8be//S0lXU/T41KHLU3yznXoatuWZ0sz+3j48GHadM90emHhjcqPRE8JdU31NIlLqI+ZLU2vxxbXy2SSL2X0eiQuIdtIXEI9Teow06omDabdM/y5ZisbNc3Whq2sbpdJXK9TyoelSb6EXE7iEuppepxfP3jfpCFJPmRrV+qRUK/DlhYlX9qxhXqdtvxs0vS6JS6hrd7Hy4ZR7frldPr06WSYN9bX0d5Zw+hUFi885rdq5/Oxf+4waqzdxu9l8sRDJFmBN954g3YumU2vLxuZ176QqZ/z/No2dQjtn4O55tIQL3QOZ6n1hc68MgfMw8UDzJPBbTsDzN1+BJi79RHAA+bhOgHmWXx6AMxt+E5OA8zdkxAwd+sDmEfTh3UCzAHzZPp28Rlg7p6MgLlbH8A8mj6AeRYgZ/GwMg8nP2DunoyAuVsfwDyaPoA5YB5O4ywtAHP3ZATM3foA5tH0AcwB8yxRHV4cMHdPRsDcrQ9gHk0fwBwwD6dxlhaAuXsyAuZufQDzaPoA5oB5lqgOLw6YuycjYO7WBzCPpg9gDpiH0zhLC8DcPRkBc7c+gHk0fQBzwDxLVIcXB8zdkxEwd+sDmEfTBzAHzMNpnKUFYO6ejIC5Wx/APJo+gDlgniWqw4sD5u7JCJi79QHMo+kDmAPm4TTO0gIwd09GwNytD2AeTR/AHDDPEtXhxQFz92QEzN36AObR9AHMAfNwGmdpAZi7JyNg7tYHMI+mD2AOmGeJ6vDigLl7MgLmbn0A82j6AOaAeTiNs7QAzN2TETB36wOYR9MHMAfMs0R1eHHA3D0ZAXO3PoB5NH0A82xhPif+2jh+MxP+UhVgXeIwn6VeG8fgksmJMK4FYB7NJ+RNQ/Ahu16sS+DLKXbV11HD9KH0+xUj6T9xWDV4oHQobd28gU6dOoXDosF7771HR44coc33zKDDC2+EL1nmEc+vDZMGE/sS5lowa+qnF9OGSUOs8xB8Gql8p9n2QmdeYz366H5aNW861S6aQTtxWDVYPW8arVi2lHbvbqTdu3fjsGhQU1NDy+4poy0L4EvmPOK5xcfSOXcQ+xLmWjBrVpZNo6Vz74BGASxm37nv7mm0e+d2+uCDD7yPyTGOvfvuu/Taa6/hgAbwAfgAfCBHfODkyZN05syZZJh7Z4hAASgABaBATiqgVuY52XN0GgpAASgABTwFAHNPCkSgABSAArmrAGCeu2OHnkMBKAAFPAUAc08KRKAAFIACuasAYJ67Y4eeQwEoAAU8BQBzTwpEoAAUgAK5qwBgnrtjh55DASgABTwFAHNPCkSgABSAArmrAGCeu2OHnkMBKAAFPAUAc08KRKAAFIACuasAYJ67Y4eeQwEoAAU8BQBzTwpEoAAUgAK5qwBgnrtjh55DASgABTwFPJjzm2JwQAP4AHwAPpAbPuBRPBFRMG9tbaWdO3fihQuWFy7IiyhYnx33b6Fd2/iothxBeS57sx6xtdVlS5PytjxJk1BsObSlmfnmOZeRsnqen1a3tZq211RTvaeRlNHtbWmSb+uXbq/HpV1bmitP7CXsyralLmlfP4+nsT6196emp/qU9I9DiUs581zS423Y7aUes6yk63VI3Janp5l1SftSXg+DbFPTWZ/tSiMzT845lLi0YUtz5en2Zl1czpYm6bY8W5rYSz8kZFs5JE3CoHo43y/Dc+3Jg8308ccfe0yP8V14165dtGHDBvr5z3+OI0CDzZs3U8W44XTgrmE4AjTYOa2YFo4eRD+eORQaBWi0cPQNtHbCYOgToA/Pr5XjByk/wlwLZs22qUNoy5pldPr06WSYNzY20s9+9jNsszi2mp566inafucPiF+misOuwUsVN9K2qcXeC52hU6pOPAn3zRkGH3LMI/2FzvChVB9iTQJf6KzD3MM8IkkKPJ2AOd40b39jOOvy0iIf5tApVSeehAzz/QmYQ6NUjVgTgTn0sevDugDmSXhO7wQwD3YsmXSAuVsjwNytj/gRYB6uE2CeHr+TrAHzcAcDzN0aAeZufQDzaPpgZZ6E5vRPAPNwRwPM3RoB5m59APNo+gDm6fM7qQRgHu5ogLlbI8DcrQ9gHk0fwDwJzemfAObhjgaYuzUCzN36AObR9AHM0+d3UgnAPNzRAHO3RoC5Wx/APJo+gHkSmtM/AczDHQ0wd2sEmLv1Acyj6QOYp8/vpBKAebijAeZujQBztz6AeTR9APMkNKd/ApiHOxpg7tYIMHfrA5hH0wcwT5/fSSUA83BHA8zdGgHmbn0A82j6AOZJaE7/BDAPdzTA3K0RYO7WBzCPpg9gnj6/k0oA5uGOBpi7NQLM3foA5tH0AcyT0Jz+CWAe7miAuVsjwNytD2AeTR/APH1+J5UAzMMdDTB3awSYu/UBzKPpA5gnoTn9E8A83NEAc7dGgLlbH8A8mj6Aefr8TioBmIc7GmDu1ggwd+sDmEfTBzBPQnP6J4B5uKMB5m6NAHO3PoB5NH0iwxxv5ra/mRuvjbO/vooBJQdeG+drIZqYIV4bF66RvJzC1A7nvnaBL6fgFzqvXbuWDh48iCNAg6r162n+2OH0yOxh9MjsoQGhLc+WJuXTzcvEnsvYytnSXP0Kt6+ZMoTu/uENVDe9WNPIVs6Wll3b0a8x3ba7sl/DlD6V4wfTI7OkXgnT7Vcm9lzGVs6W5upXuvbp1bV0zCCa/6NBjr7mxnX4nLDpJdcQlCeameEw5Tubbx9C1auNFzrzhsMrr7xCDPTdu3fjCNCgoaGB6ut2UmM9H7XxsM4IbXmcZtrJuW5v1qnn6fZe3NK2mafqSPTZlidpEkofbH229ccrF9dkV10t1e+spV16eVu5pPyI1yFtSejsa6JOvR2vXJrj5yqn1y/90e29uN8f1qeB/ciS56VFykvzOtQ4JHwhSl+9PoT0VeryQs1e6pDQppeelrBrSPiRmmtSVkL9OiRNQpUnWlv8Svqo23txi306eZbr8DhhzZOxsOilX4f0QcJEHs+1Z595hj755BNvzzgmMWyv2LdXoAt0gQ/AB3qiDwi7JfRgLgkIoQAUgAJQIPcUAMxzb8zQYygABaBAigKAeYokSIACUAAK5J4CgHnujRl6DAWgABRIUQAwT5EECVAACkCB3FMAMM+9MUOPoQAUgAIpCgDmKZIgAQpAASiQewoA5rk3ZugxFIACUCBFAcA8RRIkQAEoAAVyTwHAPPfGDD2GAlAACqQoAJinSIIEKAAFoEDuKQCY596YocdQAApAgRQFAPMUSZAABaAAFMg9BQDz3Bsz9BgKQAEokKIAYJ4iCRKgABSAArmnAGCee2OGHkMBKAAFUhQAzFMkQQIUgAJQIPcUAMxTxqydmucWUdmBdi2njWoGFlHNUS0pEe3s6KCOTkk/Qc3rqqj5TaL2A2VUNLeZ9FrEKizsOFJHVQ2t1BFmaOYfqaRYrJJa9XRbmp7P8Y86qMO/CDM32vmZzkQdHXT8UAsdPxWtGL3ZTFXrmulERHNqb6aygWXUnKawNk1tacHdaKemUTEq2WNp2Lv2eGm/3mC/CW5HcnxfkpTswpBxUdfQQZ4rZ9dY5NIyfzrfbqOWo+0R209XG9ucjtzFnDHMY5jHJ1LRwCJSR/8+FIsVUN8BiXNO12DbVu2n9y2IUcGF/nnN0VaqjMWo8og5ruYE9+3a95RQbFRTIMz19rw+JvqTWvY41U0soskNx80OEB2tiV8fX4+6xj5UKNc8sIbaIsC8dXnM2dfURi0pXju+Br5VB7VWl1IJ92tiJe17Q0OGVy5hrWDtay/aeDfXt5uoJFZCTW/7tUeJpWpKZEuj9haqK58c13RiGdUdEnibY621alyDX69NC61cwLXGFw1m2Q5qWV5CJctb0rvJe30z69P6wVFl59bV6rOer5kLIKN+66mvqa+Zb9jxQg2VjmJfmEyV+49roDevJQ5r8RUv9Oa3345fe/7F8hjmyYPVsX8yxWL9qOpYcnrSGU/kxQnojCqlqj1tiYljOo+UMp3Et7M5p5RKDTuppTxGseXxNXVK2c5WqjgvRn0Wt2oOnVqLNcWbzNZcoo5mKiuIUSxWSJVHNMgGmMcnvX7DSHxi8drxNYhX0UltqwqpYGwTnThD1PFCJRUWjKZ9AmOvXKLBMFiH5Wv9Vp+OBDYXFlCsoK9/46tuS4X52/todEEhVRyMA7zz7Waq6F9Aox/h8/hYy00+6VOacQ3++JlaaJ2zRd+soyLvRmWWPUFNNxVQwU1N9k8xqg/pjEtyB6LMD3XTT/hocumws2TtFGwVaP3542sWr6vzaNxPmv5ERB2tVOmNA+eb2vj12HsSlm8vlWupvQPmp5qp7NIYFQ4oooJRNXT8I8swdbZQRUEBlT6S+KjX0UZVQ2JU3MAbAKbzJMqrMjEqWNCSgGzcrk//IipieAStzPkjbftxaj3UQi3qaFL9Kz0Q31gxHdvS2+SkMydoX3kJFfYvpKKBhVTYfzJVHkxsXOiT3FupxIu3H6qikvMKqHhDGx0/UEqFBUVUxjewM8nVJ50Z4PLyvHRDq45mKo0VUd2bYhm/cfXb0BZP8Mol8sNgHZYvzUQITZ3bHxlNMQOWJx4oodjYfdSegLltm+VEQzHFYsXeNap61Y2jkPpYP9HFO8dbDCeOiQ+0UPOGEopdWkVxZQwdw67H1FHsvXRXfW1U1T9G/S7tRwXTmwNX/tnCPFU7H7LJY9FBzdNjVFTrb751Pl3m0MavRy47OQzLT7bO1bP8hvmZDmrbX0HFBQVUtJg/nnZS66oiKjivhKoOnaBOHVoKOv2o0tsX76TmO2MUh44GaW2/Vk30IcVU7K1q/QmT7JyGe3S0Ut26Gmo6GJ/IdVP6Uqx/JbUlFsY+DIqoqDoBPaMK/VTBZJS2YvsTb0Uk4OJNZr/EiT2TqfC8Aur7o0ra95q2M9/eSnXlxdSHQTSdAWb5s9SnrLx0XwOVfrSSCox9fHV9CpDy8V7b5w+DdVh+Spc7qK16cvxG17+QCidWUWtiP98co44DpRow4hW1retHMQW4ACB81EoVl/aj4iH94p8+eA3vbbEZWhh9O3Ggiqoa9sVv6PsrqTgmnwLY0O5zRhX+qae/n6RiXnpAX86coKaJfeJ9T6yAi1bZv69RMD+PFwyp22BF2rwweuB9qokO8zaqLDC2NdW4j6Z9yinNawkYG68jYfmeYU5H8hfm7ftockEfKuQ9Wh1Y/KmNv3SbWER9CybTPu2Luo4Xqmhy/77xffUL+1Lx9DpqU6t403mITuwvpcJYodq2OfHIZOrDq9r9dVSRWIn5E9rlHx10vHY0FRSMpjptHzlaWb/edGFOZzqTb2R+VYlYJ3XYPr1wrgcHPtH2KtV+PUPZ0CrJPl590vWZ+WrSGt9tDKyhGvlOY0BfKvC2IhLddQRKmyFViXHspLYNxRQbUqe2KlQ/ZOuFP7V81EJlBQU0+oET6pNWx7E6te1SeZTvsnEgJG2z8Ke34QXx1exHrVQ5oID6jKqifdXyfYmhRVA/23k7J0aFC/T98IhlpU6lo7bNUl2jvrSPf49iGZfOdmrdU0kl58Wo8M4m/9PqqRaqGFBABQMmU83B40mf0rpsZa59z8PfTzHkk3zC9CG+xqSbuKlN8tjIzaam2v8+SdoRufIxzF+YZzxaibt47XHq6Oig9jdaqeWNfclfgJ5po5pRk6nmmL/H3PHaPtp3rNmzS3ZOszOd1H6kjsrUpCmjfbwvqP25y2qGEk3ZZimhsv36Nou28tUmkjh9UOh96SjtcGjCV/K8dGOite+j0QZ8W5cXUMGq7thmsazINChYdT7Fn07iX4CWTK+ipqPyySW1Lt6TLynXnsQ5004te1qolbdm1BaboYVoJeGp49S8roT6xPpQSbV8PyOZIWXFTEJPf0lIhF66Ud+bTVRWXkfNb8j16eXYP5uoanoVtWg39S6DudeUr2nyWLTTvrHGk0NHKqmgoDJgC8qvx6s6KRKWn2Scsyd5CnPjSRb+WKhWdOaKr4iKpvD2RKr95PIqqlqX+Bh8rMlbcYeNNO+D8vaN+1GrNqqZWEo1B09Y9yeTHTusxZD8U8ep5dBxox1jYutVaLDTk724BwcvJR7x0s26ef+zgAqXJ768/VOTWu16X0R75RL1Bbaf+DQRmG/0J3HatsH/8pWTTjwwmgoS+9Lp6ZwGEDrlUU/344AdB8to8vImarXuZ5k62q/PSzV1lAwvPc36pLwWhj3NErwlGKSdn26OBW95FfSvpFZ1MzlBTWMLqFC+Z0lZufv1aN1V0U613grON+1z+TxPYW4ZkogQ4C2YunVlNNnbF5xMZby/feRE0kdO1YJrlev6AjTRPTU5LHvipmMTOR5NVHVp2x1ev/V9zZrEikZ0cUzsMJ0UHLSP89zecP0RSEvdH7VRzY/6Ut/+RdT3wmIqO+B/sZWy0lftW266A0uo7jXz47ZcjyM8c4Kal4+mvhcWUhFvoQ33Pwml6sz1WPqvqg8Cgkt79xeg8WqDnps3+xHyaKI5LvwILi9UuhDmDpVDsuLayRaVfBIsO9DmPbufOhad1FadGDfe8tQ/AaWMkb1+bqeklh/nDRq7kG7nWDZgrg1Y5wsV1If3r4+1a3vKnRTfO+1DFS/42ypaMWs01TlTzQI/tnoru0SZLn80MQ4K9dSNCf8096S9q8oUGl45ryZ3xLjZHN9aRAWJ7y7cBVNz7WNkQjS1XPSUCHUZ16PXLZ/y4mkhjybqBfW4p6/el9RPogLYlNB4AkqvOvu4D1n7WAS1oF9LkI2e7rejp+ZbHDDXRjT+NEMFtZjbiB0tVHFpjOTRQa1IYDSKcwbCPLDWDDK8yayXdUwGB1z0GlLiXjuOulMKOfbgbbacZvSv8419VDbE2F8NKmuk28cozf4bdSafRqjLuJ7k8l1wlum4JDV9ruDvQ9Y+Fkmd0E4i6KpZY2WeJEYenESaNB10fH8lTVbPaie2KdQvRs1foIXrEeXn/GF7kEk/TAlv0m6htoLMbZawyZn+z+X5CZn4vwSI1x2579n+nP8MPyNdSDW8BZPmn/+ze71gmDamlnpZMx5Bi4BfgXor5GxXxpmOi3kp5+hcfs4fZb74XcDP+X0t/FjvWZn714xY3ijQTk0TC2ly4lHCvLksXAgUyEABwDwD0VAECkABKNDTFADMe9qIoD9QAApAgQwUAMwzEA1FoAAUgAI9TYH/DydJudl1lHfoAAAAAElFTkSuQmCC)"
      ]
    },
    {
      "cell_type": "markdown",
      "metadata": {
        "id": "aFaqBsG7CFUP"
      },
      "source": [
        "5개의 폴드된 데이터 세트를 학습과 검증을 위한 데이터 세트로 변경하면서 5번 평가 수행한 뒤, 이 5개의 평가를 평균한 결과를 가지고 예측 성능을 평가한다.\n",
        "\n",
        "먼저 데이터 세트를 5등분한다. 그리고 첫 번째 반복에는 처음부터 4개 등분을 학습 데이터 세트, 마지막 5번째 등분 하나를 검증 데이터 세트로 설정하고 학습 데이터 세트에서 학습 수행, 검증 데이터 세트에서 평가를 수행한다. 이후 돌아가면서 반복 수행합니다. 5개의 예측 평가를 구했으면 이를 평균하여 K 폴드 평가 결과로 반영하면 된다.\n",
        "\n",
        "사이킷런에서는 K 폴드 교차 검증 프로세스를 구현하기 위해 KFold와 StratifiedKFold 클래스를 제공한다."
      ]
    },
    {
      "cell_type": "code",
      "metadata": {
        "colab": {
          "base_uri": "https://localhost:8080/"
        },
        "id": "fJ-oOSnlDMMd",
        "outputId": "3fec3e96-7fdd-475a-f395-40d9a33e9ee6"
      },
      "source": [
        "from sklearn.datasets import load_iris\n",
        "from sklearn.tree import DecisionTreeClassifier\n",
        "from sklearn.metrics import accuracy_score\n",
        "from sklearn.model_selection import KFold\n",
        "import numpy as np\n",
        "\n",
        "iris = load_iris()\n",
        "features = iris.data\n",
        "label = iris.target\n",
        "dt_clf = DecisionTreeClassifier(random_state=156)\n",
        "\n",
        "# 5개의 폴드 세트로 분리하는 KFold 객체와 폴드 세트별 정확도를 담을 리스트 객체 생성\n",
        "kfold = KFold(n_splits=5) # 학습용 데이터 세트 120(4/5), 테스트 데이터 세트 30(1/5)\n",
        "cv_accuracy = []\n",
        "print('붓꽃 데이터 크기 :',features.shape[0])"
      ],
      "execution_count": 12,
      "outputs": [
        {
          "output_type": "stream",
          "name": "stdout",
          "text": [
            "붓꽃 데이터 크기 : 150\n"
          ]
        }
      ]
    },
    {
      "cell_type": "code",
      "metadata": {
        "colab": {
          "base_uri": "https://localhost:8080/"
        },
        "id": "pZT5dvwtGBoF",
        "outputId": "14e82beb-43ec-4307-a45e-8614eb4a57f4"
      },
      "source": [
        "n_iter = 0\n",
        "\n",
        "# KFold 객체의 split()를 호출하면 폴드 별 학습용, 검증용 테스트의 로우 인덱스를 array로 반환\n",
        "for train_index, test_index, in kfold.split(features):\n",
        "    # kfold.split()으로 반환된  인덱스를 이용해 학습용 검증용 테스트 데이터 추출\n",
        "    X_train, X_test = features[train_index], features[test_index]\n",
        "    y_train, y_test = label[train_index], label[test_index]\n",
        "    # 학습 및 예측\n",
        "    dt_clf.fit(X_train, y_train)\n",
        "    pred = dt_clf.predict(X_test)\n",
        "    n_iter += 1\n",
        "    # 반복 시마다 정확도 측정\n",
        "    accuracy = np.round(accuracy_score(y_test, pred), 4)\n",
        "    train_size = X_train.shape[0]\n",
        "    test_size = X_test.shape[0]\n",
        "    print('\\n#{0} 교차 검증 정확도 :{1}, 학습 데이터 크기 : {2}, 검증 데이터 크기 :{3}'.format(n_iter, accuracy, train_size, test_size))\n",
        "    print('\\n{0} 검증 데이터 세트 인덱스 :{1}'.format(n_iter, test_index))\n",
        "    cv_accuracy.append(accuracy)\n",
        "\n",
        "# 개별 iteration별 정확도를 합하여 평균 정확도 계산\n",
        "print('\\n## 평균 검증 정확도 :',np.mean(cv_accuracy))"
      ],
      "execution_count": 13,
      "outputs": [
        {
          "output_type": "stream",
          "name": "stdout",
          "text": [
            "\n",
            "#1 교차 검증 정확도 :1.0, 학습 데이터 크기 : 120, 검증 데이터 크기 :30\n",
            "\n",
            "1 검증 데이터 세트 인덱스 :[ 0  1  2  3  4  5  6  7  8  9 10 11 12 13 14 15 16 17 18 19 20 21 22 23\n",
            " 24 25 26 27 28 29]\n",
            "\n",
            "#2 교차 검증 정확도 :0.9667, 학습 데이터 크기 : 120, 검증 데이터 크기 :30\n",
            "\n",
            "2 검증 데이터 세트 인덱스 :[30 31 32 33 34 35 36 37 38 39 40 41 42 43 44 45 46 47 48 49 50 51 52 53\n",
            " 54 55 56 57 58 59]\n",
            "\n",
            "#3 교차 검증 정확도 :0.8667, 학습 데이터 크기 : 120, 검증 데이터 크기 :30\n",
            "\n",
            "3 검증 데이터 세트 인덱스 :[60 61 62 63 64 65 66 67 68 69 70 71 72 73 74 75 76 77 78 79 80 81 82 83\n",
            " 84 85 86 87 88 89]\n",
            "\n",
            "#4 교차 검증 정확도 :0.9333, 학습 데이터 크기 : 120, 검증 데이터 크기 :30\n",
            "\n",
            "4 검증 데이터 세트 인덱스 :[ 90  91  92  93  94  95  96  97  98  99 100 101 102 103 104 105 106 107\n",
            " 108 109 110 111 112 113 114 115 116 117 118 119]\n",
            "\n",
            "#5 교차 검증 정확도 :0.7333, 학습 데이터 크기 : 120, 검증 데이터 크기 :30\n",
            "\n",
            "5 검증 데이터 세트 인덱스 :[120 121 122 123 124 125 126 127 128 129 130 131 132 133 134 135 136 137\n",
            " 138 139 140 141 142 143 144 145 146 147 148 149]\n",
            "\n",
            "## 평균 검증 정확도 : 0.9\n"
          ]
        }
      ]
    },
    {
      "cell_type": "markdown",
      "metadata": {
        "id": "6gR2fVMrJyXl"
      },
      "source": [
        "#### Stratified K 폴드\n",
        "\n",
        "Stratified K 폴드는 불균형한(imbalanced) 분포도를 가진 레이블(결정 클래스) 데이터 집합을 위한 K 폴드 방식. 불균형한 분포도를 가진 레이블 데이터 집합은 특정 레이블 값이 특이하게 많거나 매우적어서 값의 분포가 한쪽으로 치우는 것을 말한다. \n",
        "\n",
        "Stratified K 폴드는 K 폴드가 레이블 데이터 집합이 원본 데이터 집합의 레이블 분포를 학습 및 테스트 세트에 제대로 분배하지 못하는 경우의 문제를 해결해준다. 이를 위해 Stratified K 폴드는 원본 데이터의 레이블 분포를 먼저 고려한 뒤 이 분포와 동일하게 학습과 검증 데이터 세트를 분배한다.\n",
        "\n",
        "먼저 K 폴드의 문제점을 확인해보자\n"
      ]
    },
    {
      "cell_type": "code",
      "metadata": {
        "colab": {
          "base_uri": "https://localhost:8080/"
        },
        "id": "dzLw8yn2_aU-",
        "outputId": "7360402e-ef9b-4e2a-a01c-83264796dcc4"
      },
      "source": [
        "import pandas as pd\n",
        "iris = load_iris()\n",
        "iris_df = pd.DataFrame(data=iris.data, columns=iris.feature_names)\n",
        "iris_df['label']=iris.target\n",
        "iris_df['label'].value_counts()"
      ],
      "execution_count": 14,
      "outputs": [
        {
          "output_type": "execute_result",
          "data": {
            "text/plain": [
              "2    50\n",
              "1    50\n",
              "0    50\n",
              "Name: label, dtype: int64"
            ]
          },
          "metadata": {},
          "execution_count": 14
        }
      ]
    },
    {
      "cell_type": "code",
      "metadata": {
        "colab": {
          "base_uri": "https://localhost:8080/"
        },
        "id": "AmyqeDgGAFd8",
        "outputId": "c6f67421-c13b-4525-8256-3dab52bbc8a4"
      },
      "source": [
        "# KFold를 생성하고, 각 교차 검증 시마다 생성되는 학습/검증 레이블 데이터 값의 분포도 확인\n",
        "kfold=KFold(n_splits=3)\n",
        "n_iter = 0\n",
        "for train_index, test_index in kfold.split(iris_df):\n",
        "    n_iter += 1\n",
        "    label_train = iris_df['label'].iloc[train_index]\n",
        "    label_test = iris_df['label'].iloc[test_index]\n",
        "    print('## 교차 검증 :', n_iter)\n",
        "    print('학습 레이블 데이터 분포:\\n', label_train.value_counts())\n",
        "    print('검증 레이블 데이터 분포:\\n', label_test.value_counts())"
      ],
      "execution_count": 15,
      "outputs": [
        {
          "output_type": "stream",
          "name": "stdout",
          "text": [
            "## 교차 검증 : 1\n",
            "학습 레이블 데이터 분포:\n",
            " 2    50\n",
            "1    50\n",
            "Name: label, dtype: int64\n",
            "검증 레이블 데이터 분포:\n",
            " 0    50\n",
            "Name: label, dtype: int64\n",
            "## 교차 검증 : 2\n",
            "학습 레이블 데이터 분포:\n",
            " 2    50\n",
            "0    50\n",
            "Name: label, dtype: int64\n",
            "검증 레이블 데이터 분포:\n",
            " 1    50\n",
            "Name: label, dtype: int64\n",
            "## 교차 검증 : 3\n",
            "학습 레이블 데이터 분포:\n",
            " 1    50\n",
            "0    50\n",
            "Name: label, dtype: int64\n",
            "검증 레이블 데이터 분포:\n",
            " 2    50\n",
            "Name: label, dtype: int64\n"
          ]
        }
      ]
    },
    {
      "cell_type": "markdown",
      "metadata": {
        "id": "O4i-XkKgg7GY"
      },
      "source": [
        "교차 검증 시마다 3개의 폴드 세트로 만들어지는 학습 레이블과 검증 레이블이 완전히 다른 값으로 추출되었다. 첫 번째 교차 검증에서는 학습 레이블이 1, 2 값이 각각 50개가 추출되었고, 검증 레이블 0값이 50개 추출되었다. 학습 레이블이 1, 2 밖에 없어 제대로된 학습을 하지 못하고, 학습 모델은 절대 0을 예측하지 못한다.\n",
        "\n",
        "StratifiedKFold는 이렇게 KFold로 분할된 레이블 데이터 세트가 전체 레이블 값의 분포도를 반여하지 못하는 문제를 해결해준다. 이번에는 동일한 데이터 분할을 StratifiedKFold로 수행하고 학습/검증 레이블 데이터의 분포도를 확인해보자."
      ]
    },
    {
      "cell_type": "code",
      "metadata": {
        "colab": {
          "base_uri": "https://localhost:8080/"
        },
        "id": "FfonjHEcjUcw",
        "outputId": "1a7a3ab9-389a-4f5f-9a74-8fd7ad31afaf"
      },
      "source": [
        "# StratifiedKFold는 레이블 데이터 분포도에 따라 학습/검증 데이터를 나누기 때문에\n",
        "# split() 메서드 인자로 피처 데이터 세트와 레이블 데이터 세트가 필요하다\n",
        "from sklearn.model_selection import StratifiedKFold\n",
        "\n",
        "skf = StratifiedKFold(n_splits=3)\n",
        "n_iter=0\n",
        "for train_index, test_index in skf.split(iris_df, iris_df['label']): \n",
        "    n_iter+=1\n",
        "    label_train=iris_df['label'].iloc[train_index]\n",
        "    label_test=iris_df['label'].iloc[test_index]\n",
        "    print('## 교차 검증 :', n_iter)\n",
        "    print('학습 레이블 데이터 분포:\\n', label_train.value_counts())\n",
        "    print('검증 레이블 데이터 분포:\\n', label_test.value_counts())"
      ],
      "execution_count": 16,
      "outputs": [
        {
          "output_type": "stream",
          "name": "stdout",
          "text": [
            "## 교차 검증 : 1\n",
            "학습 레이블 데이터 분포:\n",
            " 2    34\n",
            "1    33\n",
            "0    33\n",
            "Name: label, dtype: int64\n",
            "검증 레이블 데이터 분포:\n",
            " 1    17\n",
            "0    17\n",
            "2    16\n",
            "Name: label, dtype: int64\n",
            "## 교차 검증 : 2\n",
            "학습 레이블 데이터 분포:\n",
            " 1    34\n",
            "2    33\n",
            "0    33\n",
            "Name: label, dtype: int64\n",
            "검증 레이블 데이터 분포:\n",
            " 2    17\n",
            "0    17\n",
            "1    16\n",
            "Name: label, dtype: int64\n",
            "## 교차 검증 : 3\n",
            "학습 레이블 데이터 분포:\n",
            " 0    34\n",
            "2    33\n",
            "1    33\n",
            "Name: label, dtype: int64\n",
            "검증 레이블 데이터 분포:\n",
            " 2    17\n",
            "1    17\n",
            "0    16\n",
            "Name: label, dtype: int64\n"
          ]
        }
      ]
    },
    {
      "cell_type": "code",
      "metadata": {
        "colab": {
          "base_uri": "https://localhost:8080/"
        },
        "id": "B_XhOKAQlsbg",
        "outputId": "09fab372-5254-45e5-bcd0-9d69827608a5"
      },
      "source": [
        "dt_clf = DecisionTreeClassifier(random_state=156)\n",
        "\n",
        "skfold = StratifiedKFold(n_splits=3)\n",
        "n_iter = 0\n",
        "cv_accuracy = []\n",
        "\n",
        "# StratifiedKFold의 split() 호출 시 반드시 레이블 데이터 세트도 추가 입력 필요\n",
        "for train_index, test_index in skfold.split(features, label):\n",
        "    # split()으로 반환된 인덱스를 이용해 학습용, 검증용 테스트 데이터 추출\n",
        "    X_train, X_test = features[train_index], features[test_index]\n",
        "    y_train, y_test = label[train_index], label[test_index]\n",
        "    # 학습 및 예측\n",
        "    dt_clf.fit(X_train, y_train)\n",
        "    pred = dt_clf.predict(X_test)\n",
        "\n",
        "    # 반복 시마다 정확도 측정\n",
        "    n_iter += 1\n",
        "    accuracy = np.round(accuracy_score(y_test, pred), 4)\n",
        "    train_size = X_train.shape[0]\n",
        "    test_size = X_test.shape[0]\n",
        "    print('\\n#{0} 교차 검증 정확도 : {1}, 학습 데이터 크기 : {2}, 검증 데이터 크기 : {3}'.format(n_iter, accuracy, train_size, test_size))\n",
        "    print('#{0} 검증 세트 인덱스 : {1}'.format(n_iter, test_index))\n",
        "    cv_accuracy.append(accuracy)\n",
        "# 교차 검증별 정확도 및 평균 정확도 계산\n",
        "print('\\n## 교차 검증별 정확도 :', np.round(cv_accuracy, 4))\n",
        "print('## 평균 검증 정확도 :', np.mean(cv_accuracy))"
      ],
      "execution_count": 17,
      "outputs": [
        {
          "output_type": "stream",
          "name": "stdout",
          "text": [
            "\n",
            "#1 교차 검증 정확도 : 0.98, 학습 데이터 크기 : 100, 검증 데이터 크기 : 50\n",
            "#1 검증 세트 인덱스 : [  0   1   2   3   4   5   6   7   8   9  10  11  12  13  14  15  16  50\n",
            "  51  52  53  54  55  56  57  58  59  60  61  62  63  64  65  66 100 101\n",
            " 102 103 104 105 106 107 108 109 110 111 112 113 114 115]\n",
            "\n",
            "#2 교차 검증 정확도 : 0.94, 학습 데이터 크기 : 100, 검증 데이터 크기 : 50\n",
            "#2 검증 세트 인덱스 : [ 17  18  19  20  21  22  23  24  25  26  27  28  29  30  31  32  33  67\n",
            "  68  69  70  71  72  73  74  75  76  77  78  79  80  81  82 116 117 118\n",
            " 119 120 121 122 123 124 125 126 127 128 129 130 131 132]\n",
            "\n",
            "#3 교차 검증 정확도 : 0.98, 학습 데이터 크기 : 100, 검증 데이터 크기 : 50\n",
            "#3 검증 세트 인덱스 : [ 34  35  36  37  38  39  40  41  42  43  44  45  46  47  48  49  83  84\n",
            "  85  86  87  88  89  90  91  92  93  94  95  96  97  98  99 133 134 135\n",
            " 136 137 138 139 140 141 142 143 144 145 146 147 148 149]\n",
            "\n",
            "## 교차 검증별 정확도 : [0.98 0.94 0.98]\n",
            "## 평균 검증 정확도 : 0.9666666666666667\n"
          ]
        }
      ]
    },
    {
      "cell_type": "markdown",
      "metadata": {
        "id": "vqCebIBans_e"
      },
      "source": [
        "3개의 Stratified K 폴드로 교차 검증한 결과 평균 검증 정확도가 약 96.67%로 측정되었다. Stratified K 폴드의 경우 원본 데이터의 레이블 분포도 특성을 반영한 학습 및 검증 데이터 세트를 만들 수 있으므로 왜곡된 레이블 데이터 세트에서는 반드시 Stratified K 폴드를 이용해 교차 검증해야 한다.\n",
        "\n",
        "분류(Classification)에서의 교차 검증은 K 폴드가 아니라 Stratified K 폴드로 분할 되어야 한다. 회귀(Regression)에서는 Stratified K 폴드가 지원되지 않는다. 회귀의 결정값은 이산값 형태의 레이블이 아닌 연속된 숫자값이기 때문에 결정값별로 분포를 정하는 의미가 없다. "
      ]
    },
    {
      "cell_type": "markdown",
      "metadata": {
        "id": "VJ0vtK-aozv4"
      },
      "source": [
        "#### 교차 검증을 보다 간편하게 = cross_val_score()\n",
        "\n",
        "사이킷런은 교차 검증을 좀 더 편하게 수행할 수 있게 해주는 API를 제공한다. 대표적인 것이 cross_val_score()이다. \n",
        "\n",
        "KFold로 데이터를 학습하고 예측하는 코드를 보면 먼저 폴드 세트를 설정하고 for 루프에서 반복으로 학습 및 테스트 데이터의 인덱스를 추출한 뒤 반복적으로 학습과 예측을 수행하고 예측 성능을 반환했다.\n",
        "\n",
        "cross_val_score()는 이런 과정을 한꺼번에 해주는 API이다.\n",
        "\n",
        "    cross_val_score(estimator, X, y=None, scoring=None, cv=None, n_jobs=1, verbose=0, fit_params=None, pre_dispatch='2*n_jobs')\n",
        "\n",
        "이 중 estimator, X, y, scoring, cv가 주요 파라미터이다.\n",
        "\n",
        "estimator는 사이킷런의 분류 알고리즘 클래스인 Classifier 또는 회귀 알고리즘 클래스인 Regressor를 의미하고, X는 피처 데이터 세트, y는 레이블 데이터 세트, scoring은 예측 성능 평가 지표를 기술하며, cv는 교차 검증 폴드 수를 의미한다.\n",
        "\n",
        "cross_val_score() 수행후 반환 값은 scoring 파라미터로 지정된 성능 지표 측정값을 배열 형태로 반환한다. cross_val_score()는 classifier가 입력되면 Stratified K 폴드 방싱르로 레이블값의 분포에 따라 학습/테스트 세트를 분할한다.(회귀의 경우 Stratified K 폴드 방식으로 분할할 수 없으므로 K 폴드 방식으로 분할한다.)"
      ]
    },
    {
      "cell_type": "code",
      "metadata": {
        "colab": {
          "base_uri": "https://localhost:8080/"
        },
        "id": "m48qiKfJrLeu",
        "outputId": "7e314be8-0ada-4c19-9748-b1b27fc38aee"
      },
      "source": [
        "from sklearn.datasets import load_iris\n",
        "from sklearn.tree import DecisionTreeClassifier\n",
        "from sklearn.model_selection import cross_val_score, cross_validate\n",
        "\n",
        "iris_data = load_iris()\n",
        "dt_clf = DecisionTreeClassifier(random_state=156)\n",
        "\n",
        "data = iris_data.data\n",
        "label = iris_data.target\n",
        "\n",
        "# 성능 지표는 정확도(accuracy), 교차 검증 세트는 3개\n",
        "scores = cross_val_score(dt_clf, data, label, scoring='accuracy', cv=3)\n",
        "print('교차 검증별 정확도 :', np.round(scores, 4))\n",
        "print('평균 검증 정확도 :', np.round(np.mean(scores), 4))"
      ],
      "execution_count": 18,
      "outputs": [
        {
          "output_type": "stream",
          "name": "stdout",
          "text": [
            "교차 검증별 정확도 : [0.98 0.94 0.98]\n",
            "평균 검증 정확도 : 0.9667\n"
          ]
        }
      ]
    },
    {
      "cell_type": "markdown",
      "metadata": {
        "id": "QWET5CG8sffs"
      },
      "source": [
        "#### GridSearchCV - 교차 검증과 최적 하이퍼 파라미터 튜닝을 한번에\n",
        "\n",
        "하이퍼 파라미터는 머신러닝 알고리즘을 구성하는 주요 구성 요소이며, 이 값을 조정하여 알고리즘 예측 성능을 개선할 수 있다.\n",
        "\n",
        "사이킷런은 GridSearchCV API를 이용해 Classifier나 Regressor와 같은 알고리즘에 사용되는 하이퍼 파라미터를 순차적으로 입력하면서 편리하게 최적의 파라미터를 도출할 수 있는 방안을 제공한다.(Grid는 격차라는 뜻으로, 촘촘하게 파라미터를 입력하면서 테스트를 하는 방식)\n",
        "\n",
        "예를 들어 결정 트리 알고리즘의 여러 하이퍼 파라미터를 순차적으로 변경하면서 최고 성능을 가지는 파라미터 조합을 찾고자 한다면 아래와 같이 파라미터 집합을 만들어 순차적으로 적용하여 최적화할 수 있다.\n",
        "\n",
        "    grid_parameters = { 'max_depth' : [1, 2, 3],\n",
        "                        'min_samples_split' : [2, 3]\n",
        "                      }\n",
        "\n",
        "하이퍼 파라미터를 총 6회에 걸쳐 파라미터를 순차적으로 바꿔 실행하면서 최적의 파라미터와 수행 결과를 도출할 수 있다. for 루프로 모든 파라미터를 번갈아 입력하면서 학습시킨다.\n",
        "\n",
        "GridSearchCV는 교차 검증을 기반으로 이 하이퍼 파라미터의 최적값을 찾게 해준다. 즉, 데이터 세트를 cross-validation을 위한 학습/테스트 세트로 자동으로 분할한 뒤에 하이퍼 파라미터 그리드에 기술된 모든 파라미터를 순차적으로 적용해 최적의 파라미터를 찾을 수 있게 해준다.\n",
        "\n",
        "**GridSearchCV 클래스 주요 파라미터**\n",
        "\n",
        "* estimator : clssifier, regressor, pipeline\n",
        "* param_grid : key + 리스트 값을 가지는 딕셔너리가 주어진다. estimator의 튜닝을 위해 파라미터명과 사용될 여러 파라미터 값을 지정\n",
        "* scoring : 예측 성능을 측정할 평가 방법을 지정. 보통은 사이킷런의 성능 평가 지표를 지정하는 문자열(정확도의 경우 'accuracy')로 지정하나 별도의 성능 평가 지표 함수도 지정할 수 있다.\n",
        "* cv : 교차 검증을 위해 분할되는 학습/테스트 세트의 개수를 지정\n",
        "* refit : 디폴트가 True이며 True로 생성 시 가장 최적의 하이퍼 파라미터를 찾은 뒤 estimator 객체를 해당 하이퍼 파라미터로 재학습시킨다."
      ]
    },
    {
      "cell_type": "code",
      "metadata": {
        "id": "6gdTZbeFwXYN"
      },
      "source": [
        "from sklearn.datasets import load_iris\n",
        "from sklearn.tree import DecisionTreeClassifier\n",
        "from sklearn.model_selection import GridSearchCV\n",
        "\n",
        "iris_data = load_iris()\n",
        "X_train, X_test, y_train, y_test = train_test_split(iris_data.data, iris_data.target, test_size=0.2, random_state=121)\n",
        "\n",
        "dtree = DecisionTreeClassifier()\n",
        "\n",
        "### 파라미터를 딕셔너리 형태로 설정\n",
        "parameters = {'max_depth':[1, 2, 3], 'min_samples_split':[2, 3]}"
      ],
      "execution_count": 19,
      "outputs": []
    },
    {
      "cell_type": "code",
      "metadata": {
        "colab": {
          "base_uri": "https://localhost:8080/",
          "height": 235
        },
        "id": "y68L87L4wlYM",
        "outputId": "f4546adf-d591-4e76-8d6c-70b28a0ef0af"
      },
      "source": [
        "import pandas as pd\n",
        "\n",
        "# param_grid의 하이퍼 파라미터를 3개의 train, test set fold로 나누어 테스트 수행 설정\n",
        "### refit=True가 default. True이면 가장 좋은 파라미터 설정으로 재학습시킴\n",
        "grid_dtree = GridSearchCV(dtree, param_grid=parameters, cv=3, refit=True)\n",
        "\n",
        "# 붓꽃 학습 데이터로 param_grid의 하이퍼 파라미터를 순차적으로 학습/평가\n",
        "grid_dtree.fit(X_train, y_train)\n",
        "\n",
        "# GridSearchCV 결과를 추추해 DateFrame으로 변환\n",
        "scores_df = pd.DataFrame(grid_dtree.cv_results_)\n",
        "scores_df[['params', 'mean_test_score', 'rank_test_score', 'split0_test_score', 'split1_test_score', 'split2_test_score']]"
      ],
      "execution_count": 20,
      "outputs": [
        {
          "output_type": "execute_result",
          "data": {
            "text/html": [
              "<div>\n",
              "<style scoped>\n",
              "    .dataframe tbody tr th:only-of-type {\n",
              "        vertical-align: middle;\n",
              "    }\n",
              "\n",
              "    .dataframe tbody tr th {\n",
              "        vertical-align: top;\n",
              "    }\n",
              "\n",
              "    .dataframe thead th {\n",
              "        text-align: right;\n",
              "    }\n",
              "</style>\n",
              "<table border=\"1\" class=\"dataframe\">\n",
              "  <thead>\n",
              "    <tr style=\"text-align: right;\">\n",
              "      <th></th>\n",
              "      <th>params</th>\n",
              "      <th>mean_test_score</th>\n",
              "      <th>rank_test_score</th>\n",
              "      <th>split0_test_score</th>\n",
              "      <th>split1_test_score</th>\n",
              "      <th>split2_test_score</th>\n",
              "    </tr>\n",
              "  </thead>\n",
              "  <tbody>\n",
              "    <tr>\n",
              "      <th>0</th>\n",
              "      <td>{'max_depth': 1, 'min_samples_split': 2}</td>\n",
              "      <td>0.700000</td>\n",
              "      <td>5</td>\n",
              "      <td>0.700</td>\n",
              "      <td>0.7</td>\n",
              "      <td>0.70</td>\n",
              "    </tr>\n",
              "    <tr>\n",
              "      <th>1</th>\n",
              "      <td>{'max_depth': 1, 'min_samples_split': 3}</td>\n",
              "      <td>0.700000</td>\n",
              "      <td>5</td>\n",
              "      <td>0.700</td>\n",
              "      <td>0.7</td>\n",
              "      <td>0.70</td>\n",
              "    </tr>\n",
              "    <tr>\n",
              "      <th>2</th>\n",
              "      <td>{'max_depth': 2, 'min_samples_split': 2}</td>\n",
              "      <td>0.958333</td>\n",
              "      <td>3</td>\n",
              "      <td>0.925</td>\n",
              "      <td>1.0</td>\n",
              "      <td>0.95</td>\n",
              "    </tr>\n",
              "    <tr>\n",
              "      <th>3</th>\n",
              "      <td>{'max_depth': 2, 'min_samples_split': 3}</td>\n",
              "      <td>0.958333</td>\n",
              "      <td>3</td>\n",
              "      <td>0.925</td>\n",
              "      <td>1.0</td>\n",
              "      <td>0.95</td>\n",
              "    </tr>\n",
              "    <tr>\n",
              "      <th>4</th>\n",
              "      <td>{'max_depth': 3, 'min_samples_split': 2}</td>\n",
              "      <td>0.975000</td>\n",
              "      <td>1</td>\n",
              "      <td>0.975</td>\n",
              "      <td>1.0</td>\n",
              "      <td>0.95</td>\n",
              "    </tr>\n",
              "    <tr>\n",
              "      <th>5</th>\n",
              "      <td>{'max_depth': 3, 'min_samples_split': 3}</td>\n",
              "      <td>0.975000</td>\n",
              "      <td>1</td>\n",
              "      <td>0.975</td>\n",
              "      <td>1.0</td>\n",
              "      <td>0.95</td>\n",
              "    </tr>\n",
              "  </tbody>\n",
              "</table>\n",
              "</div>"
            ],
            "text/plain": [
              "                                     params  ...  split2_test_score\n",
              "0  {'max_depth': 1, 'min_samples_split': 2}  ...               0.70\n",
              "1  {'max_depth': 1, 'min_samples_split': 3}  ...               0.70\n",
              "2  {'max_depth': 2, 'min_samples_split': 2}  ...               0.95\n",
              "3  {'max_depth': 2, 'min_samples_split': 3}  ...               0.95\n",
              "4  {'max_depth': 3, 'min_samples_split': 2}  ...               0.95\n",
              "5  {'max_depth': 3, 'min_samples_split': 3}  ...               0.95\n",
              "\n",
              "[6 rows x 6 columns]"
            ]
          },
          "metadata": {},
          "execution_count": 20
        }
      ]
    },
    {
      "cell_type": "markdown",
      "metadata": {
        "id": "g-Hm2vj_0ZGv"
      },
      "source": [
        "**칼럼별 의미**\n",
        "* params : 수행할 때마다 적용된 개별 하이퍼 파라미터값\n",
        "* rank_test_score : 하이퍼 파라미터별로 성능이 좋은 score 순위를 나타낸다. 1이 가장 뛰어난 순위이며 이때 파라미터가 최적의 하이퍼 파라미터\n",
        "* mean_test_score : 개별 하이퍼 파라미터별로 CV의 폴딩 테스트 세트에 대해 총 수행한 평가 평균값"
      ]
    },
    {
      "cell_type": "markdown",
      "metadata": {
        "id": "w-O0Bp2h7R_p"
      },
      "source": [
        "GridSearchCV 객체의 fit()을 수행하면 최고 성능을 나타낸 하이퍼 파라미터의 값과 그때의 평가 결과 값이 각각 best_params_, best_score_ 속성에 기록된다."
      ]
    },
    {
      "cell_type": "code",
      "metadata": {
        "colab": {
          "base_uri": "https://localhost:8080/"
        },
        "id": "zSg1NV657jcv",
        "outputId": "c2a8f03d-12bc-4d26-87c3-816fb8ac1653"
      },
      "source": [
        "print('GridSearchCV 최적 파라미터 :',grid_dtree.best_params_)\n",
        "print('GridSearchCV 최고 정확도 :{0:.4f}'.format(grid_dtree.best_score_))"
      ],
      "execution_count": 21,
      "outputs": [
        {
          "output_type": "stream",
          "name": "stdout",
          "text": [
            "GridSearchCV 최적 파라미터 : {'max_depth': 3, 'min_samples_split': 2}\n",
            "GridSearchCV 최고 정확도 :0.9750\n"
          ]
        }
      ]
    },
    {
      "cell_type": "markdown",
      "metadata": {
        "id": "xZQZuJ4070sH"
      },
      "source": [
        "max_depth가 3, min_samples_split 2일 때 검증용 폴드 세트에서 평균 최고 정확도가 측정되었다. GridSearchCV 객체의 파라미터인 refit을 False로 설정한 적이 없으니 True로 실행되었을 것이다. 그러면 최적 성능을 나타내는 하이퍼 파라미터로 Esimator를 학습해 best_estimator_ 로 저장된다. 이미 작습된 best_estimator_를 이용하여 train_test_split()으로 분리한 테스트 데이터 세트에 대해 예측하고 성능을 평가해보자."
      ]
    },
    {
      "cell_type": "code",
      "metadata": {
        "colab": {
          "base_uri": "https://localhost:8080/"
        },
        "id": "CFHbtyya8Xoh",
        "outputId": "af9736c7-d266-4066-c442-e8925d2f7798"
      },
      "source": [
        "# GridSearchCV의 refit으로 이미 학습된 estimator 반환\n",
        "estimator = grid_dtree.best_estimator_\n",
        "pred = estimator.predict(X_test)\n",
        "print('테스트 데이터 세트 정확도 :{0:.4f}'.format(accuracy_score(y_test, pred)))"
      ],
      "execution_count": 22,
      "outputs": [
        {
          "output_type": "stream",
          "name": "stdout",
          "text": [
            "테스트 데이터 세트 정확도 :0.9667\n"
          ]
        }
      ]
    }
  ]
}