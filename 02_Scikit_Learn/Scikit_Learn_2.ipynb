{
  "nbformat": 4,
  "nbformat_minor": 0,
  "metadata": {
    "colab": {
      "name": "Scikit_Learn_2.ipynb",
      "provenance": [],
      "collapsed_sections": [
        "UsMAoMWNo7tc"
      ],
      "mount_file_id": "1EJW9PECyy7ZUfHMuk8ugYrazl_mZPgqC",
      "authorship_tag": "ABX9TyPVovX8r6Ro+/FbWV5ehIlm",
      "include_colab_link": true
    },
    "kernelspec": {
      "name": "python3",
      "display_name": "Python 3"
    },
    "language_info": {
      "name": "python"
    }
  },
  "cells": [
    {
      "cell_type": "markdown",
      "metadata": {
        "id": "view-in-github",
        "colab_type": "text"
      },
      "source": [
        "<a href=\"https://colab.research.google.com/github/hyeonjun/Python_ML_Complete_Guide/blob/main/02_Scikit_Learn/Scikit_Learn_2.ipynb\" target=\"_parent\"><img src=\"https://colab.research.google.com/assets/colab-badge.svg\" alt=\"Open In Colab\"/></a>"
      ]
    },
    {
      "cell_type": "markdown",
      "metadata": {
        "id": "UsMAoMWNo7tc"
      },
      "source": [
        "# 데이터 전처리\n",
        "\n",
        "데이터 처리 기본 사항\n",
        "\n",
        "1. 결손값(NaN, Null)은 허용되지 않는다. 이러한 결손값은 고정된 다른 값으로 변환해야 한다. 피처 값 중 Null 값이 얼마 되지 않으면 피처의 평균값 등으로 대체 할 수 있다. Null이 대부분이라면 해당 피처를 드롭하는 것이 좋다. 가장 결정이 힘든 경우는 Null 값이 일정 수준 이상(정확한 수치를 나타낼 수 없음)이 되는 경우다. 해당 피처의 중요도에 따라 상세히 검토하여 정밀한 대체 값을 선정해야한다.\n",
        "\n",
        "사이킷런의 머신러닝 알고리즘은 문자열 값을 입력값으로 허용하지 않는다. 그래서 문자열 값은 인코딩돼서 숫자형으로 변환해야 한다. 문자열 피처는 일반적으로 카테고리형 피처와 텍스트형 피처를 의미한다.\n",
        "\n",
        "카테고리형 피처는 코드값으로 표현하는 것이 더 이해하기 쉽다. 텍스트 피처는 피처 벡터화(feature vectorization) 등의 기법으로 벡터화하거나 불필요한 피처면 삭제하는 것이 좋다.\n",
        "\n",
        "식별자 피처의 경우 단순히 데이터 로우를 식별하는 용도로 사용되기 때문에 중요한 요소가 될 수 없으므로 인코딩하지 않고 삭제하는 것이 좋다.\n"
      ]
    },
    {
      "cell_type": "markdown",
      "metadata": {
        "id": "Hkuv0ra_uEmR"
      },
      "source": [
        "# 데이터 인코딩\n",
        "\n",
        "머신러닝을 위한 대표적인 인코딩 방식은 레이블 인코딩(Label encoding)과 원-핫 인코딩(One Hot encoding)이 있다.\n",
        "\n",
        "\n",
        "**레이블 인코딩(Label encoding)**\n",
        "\n",
        ": 카테고리 피처를 코드형 숫자값으로 변환하는 것\n",
        "\n",
        "예) 상품 구분이 TV, 냉장고, 전자레인지, 컴퓨터 등으로 있을 경우\n",
        "\n",
        "TV : 1, 냉장고 : 2, 전자레인지 : 3, 컴퓨터 : 4 ... 같은 숫자형으로 변환"
      ]
    },
    {
      "cell_type": "code",
      "metadata": {
        "colab": {
          "base_uri": "https://localhost:8080/"
        },
        "id": "_E4m7XYNjK26",
        "outputId": "b32f7737-1c90-4c81-fcfc-c35508f57a00"
      },
      "source": [
        "from sklearn.preprocessing import LabelEncoder\n",
        "\n",
        "items = ['TV','냉장고','전자렌지','컴퓨터','선풍기','선풍기','믹서','믹서']\n",
        "\n",
        "# LabelEncoder를 객체로 생성한 후, fit()과 transform()으로 레이블 인코딩 수행\n",
        "encoder = LabelEncoder()\n",
        "encoder.fit(items)\n",
        "labels = encoder.transform(items)\n",
        "print('인코딩 변환값 :',labels)"
      ],
      "execution_count": 1,
      "outputs": [
        {
          "output_type": "stream",
          "name": "stdout",
          "text": [
            "인코딩 변환값 : [0 1 4 5 3 3 2 2]\n"
          ]
        }
      ]
    },
    {
      "cell_type": "code",
      "metadata": {
        "colab": {
          "base_uri": "https://localhost:8080/"
        },
        "id": "qe10YeIPw-eg",
        "outputId": "b23684a9-a8db-4976-e753-6addb88b6320"
      },
      "source": [
        "# 문자열 값이 어떤 숫자값으로 인코딩됐는지 LabelEncoder 객체의 classes_ 속성값으로 확인\n",
        "print('인코딩 클래스 :',encoder.classes_)"
      ],
      "execution_count": 2,
      "outputs": [
        {
          "output_type": "stream",
          "name": "stdout",
          "text": [
            "인코딩 클래스 : ['TV' '냉장고' '믹서' '선풍기' '전자렌지' '컴퓨터']\n"
          ]
        }
      ]
    },
    {
      "cell_type": "code",
      "metadata": {
        "colab": {
          "base_uri": "https://localhost:8080/"
        },
        "id": "m0fFNsanxZ_O",
        "outputId": "f8af23fe-849a-4d77-b8aa-e7a38a66a020"
      },
      "source": [
        "# inverse_transform()을 통해 인코딩된 값을 다시 디코딩할 수 있다.\n",
        "print('디코딩 원본값 :',encoder.inverse_transform([4,5,2,0,1,1,3,3]))"
      ],
      "execution_count": 3,
      "outputs": [
        {
          "output_type": "stream",
          "name": "stdout",
          "text": [
            "디코딩 원본값 : ['전자렌지' '컴퓨터' '믹서' 'TV' '냉장고' '냉장고' '선풍기' '선풍기']\n"
          ]
        }
      ]
    },
    {
      "cell_type": "markdown",
      "metadata": {
        "id": "GsUdwmaTxvf-"
      },
      "source": [
        "**원-핫 인코딩(One-Hot Encoding)**\n",
        "\n",
        "피처 값의 유형에 따라 새로운 피처를 추가해 고유값에 해당하는 칼럼에만 1을 표시하고 나머지 칼럼에는 0을 표시하는 방식.\n",
        "\n",
        "행 형태로 되어 있는 피처의 고유 값을 열 형태로 차원 변환한 뒤, 고유 값에 해당하는 칼럼에만 1을 표시하고 나머지 칼럼에는 0을 표시한다."
      ]
    },
    {
      "cell_type": "code",
      "metadata": {
        "colab": {
          "base_uri": "https://localhost:8080/"
        },
        "id": "QGPeFOyM03rH",
        "outputId": "30524018-4672-4c73-9c53-38b612bafb02"
      },
      "source": [
        "from sklearn.preprocessing import OneHotEncoder\n",
        "import numpy as np\n",
        "\n",
        "items = ['TV','냉장고','전자렌지','컴퓨터','선풍기','선풍기','믹서','믹서']\n",
        "\n",
        "# 먼저 숫자값으로 변환을 위해 LabelEncoder로 변환\n",
        "encoder = LabelEncoder()\n",
        "encoder.fit(items)\n",
        "labels = encoder.transform(items)\n",
        "# 2차원 데이터로 변환\n",
        "labels = labels.reshape(-1, 1)\n",
        "labels"
      ],
      "execution_count": 4,
      "outputs": [
        {
          "output_type": "execute_result",
          "data": {
            "text/plain": [
              "array([[0],\n",
              "       [1],\n",
              "       [4],\n",
              "       [5],\n",
              "       [3],\n",
              "       [3],\n",
              "       [2],\n",
              "       [2]])"
            ]
          },
          "metadata": {},
          "execution_count": 4
        }
      ]
    },
    {
      "cell_type": "code",
      "metadata": {
        "colab": {
          "base_uri": "https://localhost:8080/"
        },
        "id": "LWGPVy2n4AR9",
        "outputId": "62a51aca-1aa1-4565-a787-0380c348d16d"
      },
      "source": [
        "# 원-핫 인코딩 적용\n",
        "oh_encoder = OneHotEncoder()\n",
        "oh_encoder.fit(labels)\n",
        "oh_labels = oh_encoder.transform(labels)\n",
        "print('원-핫 인코딩 데이터')\n",
        "print(oh_labels.toarray())\n",
        "print('원-핫 인코딩 데이터 차원')\n",
        "print(oh_labels.shape)"
      ],
      "execution_count": 5,
      "outputs": [
        {
          "output_type": "stream",
          "name": "stdout",
          "text": [
            "원-핫 인코딩 데이터\n",
            "[[1. 0. 0. 0. 0. 0.]\n",
            " [0. 1. 0. 0. 0. 0.]\n",
            " [0. 0. 0. 0. 1. 0.]\n",
            " [0. 0. 0. 0. 0. 1.]\n",
            " [0. 0. 0. 1. 0. 0.]\n",
            " [0. 0. 0. 1. 0. 0.]\n",
            " [0. 0. 1. 0. 0. 0.]\n",
            " [0. 0. 1. 0. 0. 0.]]\n",
            "원-핫 인코딩 데이터 차원\n",
            "(8, 6)\n"
          ]
        }
      ]
    },
    {
      "cell_type": "code",
      "metadata": {
        "colab": {
          "base_uri": "https://localhost:8080/",
          "height": 297
        },
        "id": "qjTiYAQj8MMk",
        "outputId": "7d0716de-2ecf-44cd-ff06-2d3c522975a0"
      },
      "source": [
        "import pandas as pd\n",
        "oh_df = pd.DataFrame(oh_labels.toarray(), index=items ,columns=encoder.classes_)\n",
        "oh_df"
      ],
      "execution_count": 6,
      "outputs": [
        {
          "output_type": "execute_result",
          "data": {
            "text/html": [
              "<div>\n",
              "<style scoped>\n",
              "    .dataframe tbody tr th:only-of-type {\n",
              "        vertical-align: middle;\n",
              "    }\n",
              "\n",
              "    .dataframe tbody tr th {\n",
              "        vertical-align: top;\n",
              "    }\n",
              "\n",
              "    .dataframe thead th {\n",
              "        text-align: right;\n",
              "    }\n",
              "</style>\n",
              "<table border=\"1\" class=\"dataframe\">\n",
              "  <thead>\n",
              "    <tr style=\"text-align: right;\">\n",
              "      <th></th>\n",
              "      <th>TV</th>\n",
              "      <th>냉장고</th>\n",
              "      <th>믹서</th>\n",
              "      <th>선풍기</th>\n",
              "      <th>전자렌지</th>\n",
              "      <th>컴퓨터</th>\n",
              "    </tr>\n",
              "  </thead>\n",
              "  <tbody>\n",
              "    <tr>\n",
              "      <th>TV</th>\n",
              "      <td>1.0</td>\n",
              "      <td>0.0</td>\n",
              "      <td>0.0</td>\n",
              "      <td>0.0</td>\n",
              "      <td>0.0</td>\n",
              "      <td>0.0</td>\n",
              "    </tr>\n",
              "    <tr>\n",
              "      <th>냉장고</th>\n",
              "      <td>0.0</td>\n",
              "      <td>1.0</td>\n",
              "      <td>0.0</td>\n",
              "      <td>0.0</td>\n",
              "      <td>0.0</td>\n",
              "      <td>0.0</td>\n",
              "    </tr>\n",
              "    <tr>\n",
              "      <th>전자렌지</th>\n",
              "      <td>0.0</td>\n",
              "      <td>0.0</td>\n",
              "      <td>0.0</td>\n",
              "      <td>0.0</td>\n",
              "      <td>1.0</td>\n",
              "      <td>0.0</td>\n",
              "    </tr>\n",
              "    <tr>\n",
              "      <th>컴퓨터</th>\n",
              "      <td>0.0</td>\n",
              "      <td>0.0</td>\n",
              "      <td>0.0</td>\n",
              "      <td>0.0</td>\n",
              "      <td>0.0</td>\n",
              "      <td>1.0</td>\n",
              "    </tr>\n",
              "    <tr>\n",
              "      <th>선풍기</th>\n",
              "      <td>0.0</td>\n",
              "      <td>0.0</td>\n",
              "      <td>0.0</td>\n",
              "      <td>1.0</td>\n",
              "      <td>0.0</td>\n",
              "      <td>0.0</td>\n",
              "    </tr>\n",
              "    <tr>\n",
              "      <th>선풍기</th>\n",
              "      <td>0.0</td>\n",
              "      <td>0.0</td>\n",
              "      <td>0.0</td>\n",
              "      <td>1.0</td>\n",
              "      <td>0.0</td>\n",
              "      <td>0.0</td>\n",
              "    </tr>\n",
              "    <tr>\n",
              "      <th>믹서</th>\n",
              "      <td>0.0</td>\n",
              "      <td>0.0</td>\n",
              "      <td>1.0</td>\n",
              "      <td>0.0</td>\n",
              "      <td>0.0</td>\n",
              "      <td>0.0</td>\n",
              "    </tr>\n",
              "    <tr>\n",
              "      <th>믹서</th>\n",
              "      <td>0.0</td>\n",
              "      <td>0.0</td>\n",
              "      <td>1.0</td>\n",
              "      <td>0.0</td>\n",
              "      <td>0.0</td>\n",
              "      <td>0.0</td>\n",
              "    </tr>\n",
              "  </tbody>\n",
              "</table>\n",
              "</div>"
            ],
            "text/plain": [
              "       TV  냉장고   믹서  선풍기  전자렌지  컴퓨터\n",
              "TV    1.0  0.0  0.0  0.0   0.0  0.0\n",
              "냉장고   0.0  1.0  0.0  0.0   0.0  0.0\n",
              "전자렌지  0.0  0.0  0.0  0.0   1.0  0.0\n",
              "컴퓨터   0.0  0.0  0.0  0.0   0.0  1.0\n",
              "선풍기   0.0  0.0  0.0  1.0   0.0  0.0\n",
              "선풍기   0.0  0.0  0.0  1.0   0.0  0.0\n",
              "믹서    0.0  0.0  1.0  0.0   0.0  0.0\n",
              "믹서    0.0  0.0  1.0  0.0   0.0  0.0"
            ]
          },
          "metadata": {},
          "execution_count": 6
        }
      ]
    },
    {
      "cell_type": "code",
      "metadata": {
        "colab": {
          "base_uri": "https://localhost:8080/",
          "height": 297
        },
        "id": "5DVvBHil_WUK",
        "outputId": "6af32929-a09a-4e9e-cb20-759ebd038194"
      },
      "source": [
        "df = pd.DataFrame({'item':['TV','냉장고','전자렌지','컴퓨터','선풍기','선풍기','믹서','믹서']})\n",
        "pd.get_dummies(df)"
      ],
      "execution_count": 7,
      "outputs": [
        {
          "output_type": "execute_result",
          "data": {
            "text/html": [
              "<div>\n",
              "<style scoped>\n",
              "    .dataframe tbody tr th:only-of-type {\n",
              "        vertical-align: middle;\n",
              "    }\n",
              "\n",
              "    .dataframe tbody tr th {\n",
              "        vertical-align: top;\n",
              "    }\n",
              "\n",
              "    .dataframe thead th {\n",
              "        text-align: right;\n",
              "    }\n",
              "</style>\n",
              "<table border=\"1\" class=\"dataframe\">\n",
              "  <thead>\n",
              "    <tr style=\"text-align: right;\">\n",
              "      <th></th>\n",
              "      <th>item_TV</th>\n",
              "      <th>item_냉장고</th>\n",
              "      <th>item_믹서</th>\n",
              "      <th>item_선풍기</th>\n",
              "      <th>item_전자렌지</th>\n",
              "      <th>item_컴퓨터</th>\n",
              "    </tr>\n",
              "  </thead>\n",
              "  <tbody>\n",
              "    <tr>\n",
              "      <th>0</th>\n",
              "      <td>1</td>\n",
              "      <td>0</td>\n",
              "      <td>0</td>\n",
              "      <td>0</td>\n",
              "      <td>0</td>\n",
              "      <td>0</td>\n",
              "    </tr>\n",
              "    <tr>\n",
              "      <th>1</th>\n",
              "      <td>0</td>\n",
              "      <td>1</td>\n",
              "      <td>0</td>\n",
              "      <td>0</td>\n",
              "      <td>0</td>\n",
              "      <td>0</td>\n",
              "    </tr>\n",
              "    <tr>\n",
              "      <th>2</th>\n",
              "      <td>0</td>\n",
              "      <td>0</td>\n",
              "      <td>0</td>\n",
              "      <td>0</td>\n",
              "      <td>1</td>\n",
              "      <td>0</td>\n",
              "    </tr>\n",
              "    <tr>\n",
              "      <th>3</th>\n",
              "      <td>0</td>\n",
              "      <td>0</td>\n",
              "      <td>0</td>\n",
              "      <td>0</td>\n",
              "      <td>0</td>\n",
              "      <td>1</td>\n",
              "    </tr>\n",
              "    <tr>\n",
              "      <th>4</th>\n",
              "      <td>0</td>\n",
              "      <td>0</td>\n",
              "      <td>0</td>\n",
              "      <td>1</td>\n",
              "      <td>0</td>\n",
              "      <td>0</td>\n",
              "    </tr>\n",
              "    <tr>\n",
              "      <th>5</th>\n",
              "      <td>0</td>\n",
              "      <td>0</td>\n",
              "      <td>0</td>\n",
              "      <td>1</td>\n",
              "      <td>0</td>\n",
              "      <td>0</td>\n",
              "    </tr>\n",
              "    <tr>\n",
              "      <th>6</th>\n",
              "      <td>0</td>\n",
              "      <td>0</td>\n",
              "      <td>1</td>\n",
              "      <td>0</td>\n",
              "      <td>0</td>\n",
              "      <td>0</td>\n",
              "    </tr>\n",
              "    <tr>\n",
              "      <th>7</th>\n",
              "      <td>0</td>\n",
              "      <td>0</td>\n",
              "      <td>1</td>\n",
              "      <td>0</td>\n",
              "      <td>0</td>\n",
              "      <td>0</td>\n",
              "    </tr>\n",
              "  </tbody>\n",
              "</table>\n",
              "</div>"
            ],
            "text/plain": [
              "   item_TV  item_냉장고  item_믹서  item_선풍기  item_전자렌지  item_컴퓨터\n",
              "0        1         0        0         0          0         0\n",
              "1        0         1        0         0          0         0\n",
              "2        0         0        0         0          1         0\n",
              "3        0         0        0         0          0         1\n",
              "4        0         0        0         1          0         0\n",
              "5        0         0        0         1          0         0\n",
              "6        0         0        1         0          0         0\n",
              "7        0         0        1         0          0         0"
            ]
          },
          "metadata": {},
          "execution_count": 7
        }
      ]
    },
    {
      "cell_type": "markdown",
      "metadata": {
        "id": "XFnB0lqi_jGz"
      },
      "source": [
        "# 피처 스케일링과 정규화\n",
        "\n",
        "서로 다른 변수의 값 범위를 일정한 수준으로 맞추는 작업을 피처 스케일링(feature scaling)이라고 한다. 대표적인 방법으로는 표준화(Standardization)와 정규화(Normalization)가 있다.\n",
        "\n",
        "표준화는 데이터의 피처 각각이 평균이 0이고 분산이 1인 가우시안 정규 분포를 가진 값으로 변환하는 것을 의미한다. 표준화를 통해 변환될 피처 x에 대해 새로운 i번째 데이터를 xi_new라고 하면 이 값은 원래 값에서 피처 x의 평균을 뺀 값을 피처 x의 표준편차로 나눈 값으로 계산할 수 있다.\n",
        "\n",
        "![image.png](data:image/png;base64,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)"
      ]
    },
    {
      "cell_type": "markdown",
      "metadata": {
        "id": "gA2pOwAuHZoh"
      },
      "source": [
        "일반적으로 정규화는 서로 다른 피처의 크기를 통일하기 위해 크기를 변환해주는 개념이다. 즉, 개별 데이터의 크기를 모두 똑같은 단위로 변경하는 것이다.\n",
        "\n",
        "새로운 데이터 xi_new는 원래 값에서 피처 x의 최소값을 뺀 값을 피처 x의 최대값과 최소값의 차이로 나눈 값으로 변환할 수 있다.\n",
        "\n",
        "![image.png](data:image/png;base64,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)"
      ]
    },
    {
      "cell_type": "markdown",
      "metadata": {
        "id": "-mrM-MoMgk6i"
      },
      "source": [
        "사이킷런의 Normalizer 모듈과 일반적인 정규화는 차이가 있다. 사이킷런의 Nomalizer 모듈은 선형대수에서의 정규화 개념이 적용되었으며, 개별 벡터의 크기를 맞추기 위해 변환하는 것을 의미.\n",
        "\n",
        "개별 벡터를 모든 피처 벡터의 크기로 나눈다. 세 개의 피처 x, y, z 가 있다고 할 때 새로운 데이터 xi_new는 원래 값에서 세 개의 피처의 i번체 피처 값에 해당하는 크기를 합한 값으로 나눈 값이다.\n",
        "\n",
        "![image.png](data:image/png;base64,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)"
      ]
    },
    {
      "cell_type": "markdown",
      "metadata": {
        "id": "NNWHy5QxlMep"
      },
      "source": [
        "사이킷런에서 제공하는 대표적인 피처 스캐일링 클래스인 StandardScaler와 MinMaxScaler를 알아보자.\n",
        "\n",
        "# StandardScaler\n",
        "\n",
        "개별 피처를 평균이 0이고, 분산이 1인 값으로 변환.\n",
        "\n",
        "사이킷런에서 구현한 RBF 커널을 이용하는 서포트 벡터 머신(Support Vector Machine)이나 선형 회귀(Linear Regression), 로지스틱 회귀(Logistic Regression)는 데이터가 가우시안 분포를 가지고 있다고 가정하고 구현되었기 때문에 표준화를 적용하는 것은 예측 성능 향상에 중요한 요소가 될 수 있다."
      ]
    },
    {
      "cell_type": "code",
      "metadata": {
        "colab": {
          "base_uri": "https://localhost:8080/"
        },
        "id": "6117JA4u_WQC",
        "outputId": "eddf4425-4561-4103-b6b3-9916faf5b0a1"
      },
      "source": [
        "from sklearn.datasets import load_iris\n",
        "import pandas as pd\n",
        "iris = load_iris()\n",
        "iris_data = iris.data\n",
        "iris_df = pd.DataFrame(data=iris_data, columns=iris.feature_names)\n",
        "\n",
        "print('feature 들의 평균값')\n",
        "print(iris_df.mean())\n",
        "print('\\nfeature 들의 분산 값')\n",
        "print(iris_df.var())"
      ],
      "execution_count": 8,
      "outputs": [
        {
          "output_type": "stream",
          "name": "stdout",
          "text": [
            "feature 들의 평균값\n",
            "sepal length (cm)    5.843333\n",
            "sepal width (cm)     3.057333\n",
            "petal length (cm)    3.758000\n",
            "petal width (cm)     1.199333\n",
            "dtype: float64\n",
            "\n",
            "feature 들의 분산 값\n",
            "sepal length (cm)    0.685694\n",
            "sepal width (cm)     0.189979\n",
            "petal length (cm)    3.116278\n",
            "petal width (cm)     0.581006\n",
            "dtype: float64\n"
          ]
        }
      ]
    },
    {
      "cell_type": "code",
      "metadata": {
        "colab": {
          "base_uri": "https://localhost:8080/"
        },
        "id": "nt_RDAH1mjT_",
        "outputId": "92e25cb9-ac1b-4929-a601-777450539d9b"
      },
      "source": [
        "# StandardScaler\n",
        "from sklearn.preprocessing import StandardScaler\n",
        "\n",
        "# StandardScaler 객체 생성\n",
        "scaler = StandardScaler()\n",
        "# StandardScaler로 데이터 세트 변환. fit()과 transform() 호출\n",
        "scaler.fit(iris_df)\n",
        "iris_scaled = scaler.transform(iris_df)\n",
        "\n",
        "# transform() 시 스케일 변환된 데이터 세트가 Numpy ndarray로 반환돼 이를 DataFrame으로 변환\n",
        "iris_df_scaled = pd.DataFrame(data=iris_scaled, columns=iris.feature_names)\n",
        "print('feature 들의 평균 값')\n",
        "print(iris_df_scaled.mean())\n",
        "print('\\nfeature 들의 분산 값')\n",
        "print(iris_df_scaled.var())"
      ],
      "execution_count": 9,
      "outputs": [
        {
          "output_type": "stream",
          "name": "stdout",
          "text": [
            "feature 들의 평균 값\n",
            "sepal length (cm)   -1.690315e-15\n",
            "sepal width (cm)    -1.842970e-15\n",
            "petal length (cm)   -1.698641e-15\n",
            "petal width (cm)    -1.409243e-15\n",
            "dtype: float64\n",
            "\n",
            "feature 들의 분산 값\n",
            "sepal length (cm)    1.006711\n",
            "sepal width (cm)     1.006711\n",
            "petal length (cm)    1.006711\n",
            "petal width (cm)     1.006711\n",
            "dtype: float64\n"
          ]
        }
      ]
    },
    {
      "cell_type": "markdown",
      "metadata": {
        "id": "6dyDETVhnrHv"
      },
      "source": [
        "모든 컬럼 값의 평균이 0에 가까운, 분산은 1에 가까운 값으로 변환되었다."
      ]
    },
    {
      "cell_type": "markdown",
      "metadata": {
        "id": "m0Hw7bH0nv0V"
      },
      "source": [
        "# MinMaxScaler\n",
        "\n",
        "MinMaxScaler는 데이터값을 0과 1사이의 범위값으로 변환한다(음수값이 있으면 -1에서 1값으로 변환). 데이터 분포가 가우시간 분포가 아닐 경우에 Min, Max Scale을 적용해 볼 수  있다."
      ]
    },
    {
      "cell_type": "code",
      "metadata": {
        "colab": {
          "base_uri": "https://localhost:8080/"
        },
        "id": "7J6vRiWrqcFO",
        "outputId": "5ef5459e-12de-4db0-ed67-05c5ced9fa64"
      },
      "source": [
        "from sklearn.preprocessing import MinMaxScaler\n",
        "\n",
        "# MinMaxScaler 객체 생성\n",
        "scaler = MinMaxScaler()\n",
        "#MinMaxScaler로 데이터 세트 변환. fit()과 transform() 호출\n",
        "scaler.fit(iris_df)\n",
        "iris_scaled = scaler.transform(iris_df)\n",
        "\n",
        "# transform() 시 스케일 변환된 데이터 세트가 Numpy ndarray로 반환돼 이를 DataFrame으로 변환\n",
        "iris_df_scaled = pd.DataFrame(data=iris_scaled, columns=iris.feature_names)\n",
        "print('feature 들의 최소값')\n",
        "print(iris_df_scaled.min())\n",
        "print('feature 들의 최대값')\n",
        "print(iris_df_scaled.max())"
      ],
      "execution_count": 10,
      "outputs": [
        {
          "output_type": "stream",
          "name": "stdout",
          "text": [
            "feature 들의 최소값\n",
            "sepal length (cm)    0.0\n",
            "sepal width (cm)     0.0\n",
            "petal length (cm)    0.0\n",
            "petal width (cm)     0.0\n",
            "dtype: float64\n",
            "feature 들의 최대값\n",
            "sepal length (cm)    1.0\n",
            "sepal width (cm)     1.0\n",
            "petal length (cm)    1.0\n",
            "petal width (cm)     1.0\n",
            "dtype: float64\n"
          ]
        }
      ]
    },
    {
      "cell_type": "markdown",
      "metadata": {
        "id": "Cz7LRIFHrTLN"
      },
      "source": [
        "모든 피처에 0에서 1사이의 값으로 변환되는 스케일링 적용됐음을 알 수 있다."
      ]
    },
    {
      "cell_type": "markdown",
      "metadata": {
        "id": "6LpphlX0rYMN"
      },
      "source": [
        "#### 학습 데이터와 테스트 데이터의 스케일링 변환 시 유의점\n",
        "\n",
        "StandardScaler나 MinMaxScaler와 같은 Scaler 객체를 이용해 데이터의 스케일링 변환 시 fit(), transform(), fit_transform() 메소드를 이용한다.\n",
        "\n",
        "일반적으로 fit()은 데이터 변환을 위한 기준 정보 설정(예를 들어 데이터 세트의 최대값/최소값 설정)을 적용하며 transform()은 이렇게 설정된 정보를 이용해 데이터를 변환한다. 그리고 fit_transform()은 fit()과 transform()을 한번에 적용하는 기능을 수행한다.\n",
        "\n",
        "---\n",
        "\n",
        "<br/>\n",
        "\n",
        "**학습 데이터와 테스트 데이터에 fit()과 transform() 적용 시 주의사항**\n",
        "\n",
        "Scaler 객체를 이용해 학습 데이터 세트로 fit()과 transform()을 적용하면 테스트 데이터 세트로는 다시 fit()을 수행하지 않고 학습 데이터 세트로 fit()을 수행한 결과를 이용해 transform() 변환을 적용해야한다.\n",
        "\n",
        "즉, 학습 데이터로 fit()이 적용된 스케일링 기준 정보를 그대로 테스트 데이터에 적용해야하며, 그렇지 않고 테스트 데이터로 다시 새로운 스케일링 기준 정보를 만들게 되면 학습 데이터와 테스트 데이터의 스케일링 기준 정보가 서로 달라지기 때문에 올바른 예측 결과를 도출하지 못한다."
      ]
    },
    {
      "cell_type": "code",
      "metadata": {
        "colab": {
          "base_uri": "https://localhost:8080/"
        },
        "id": "Hl29wkQNSAMZ",
        "outputId": "991e538c-2302-41a1-b705-6832a96ba57b"
      },
      "source": [
        "from sklearn.preprocessing import MinMaxScaler\n",
        "import numpy as np\n",
        "\n",
        "# 학습 데이터는 0부터 10까지, 테스트 데이터는 0부터 5까지 값을 가지는 데이트 세트로 생성\n",
        "# Saler 클래스의 fit(), transform()은 2차원 이상 데이터만 가능하므로 reshape(-1, 1)로 차원 변경\n",
        "train_array = np.arange(0, 11).reshape(-1, 1)\n",
        "test_array = np.arange(0,6).reshape(-1, 1)\n",
        "\n",
        "# MinMaxScaler 객체에 별도의 feature_ragne 파라미터 값을 지정하지 않으면 0~1 값으로 변환\n",
        "scaler = MinMaxScaler()\n",
        "\n",
        "# fit() 하게 되면 train_array 데이터의 최솟값이 0이, 최댓값이 10으로 설정\n",
        "scaler.fit(train_array)\n",
        "\n",
        "# 1/10 scale로 train_array 데이터 변환함. 원본 10->1 로 변환됨\n",
        "train_scaled = scaler.transform(train_array)\n",
        "\n",
        "print('원본 train_array 데이터 :',np.round(train_array.reshape(-1), 2))\n",
        "print('Scale된 train_array 데이터 :',np.round(train_scaled.reshape(-1), 2))"
      ],
      "execution_count": 11,
      "outputs": [
        {
          "output_type": "stream",
          "name": "stdout",
          "text": [
            "원본 train_array 데이터 : [ 0  1  2  3  4  5  6  7  8  9 10]\n",
            "Scale된 train_array 데이터 : [0.  0.1 0.2 0.3 0.4 0.5 0.6 0.7 0.8 0.9 1. ]\n"
          ]
        }
      ]
    },
    {
      "cell_type": "code",
      "metadata": {
        "colab": {
          "base_uri": "https://localhost:8080/"
        },
        "id": "ozGb7W_JT0lY",
        "outputId": "da6f8d15-24cb-49cd-9c24-e28c4a83255f"
      },
      "source": [
        "# 테스트 데이터 세트를 변환하는데, fit()을 호출하여 스케일링 기준 정보를 다시 적용한 뒤 transform()을 수행\n",
        "scaler.fit(test_array)\n",
        "\n",
        "# 1/5 scale로 test_array 데이터 변환. 원본 5->1로 변환\n",
        "test_scaled = scaler.transform(test_array)\n",
        "\n",
        "# test_array의 scale 변환 출력\n",
        "print('원본 test_array 데이터 :',np.round(test_array.reshape(-1), 2))\n",
        "print('Scale된 test_array 데이터 :',np.round(test_scaled.reshape(-1), 2))"
      ],
      "execution_count": 12,
      "outputs": [
        {
          "output_type": "stream",
          "name": "stdout",
          "text": [
            "원본 test_array 데이터 : [0 1 2 3 4 5]\n",
            "Scale된 test_array 데이터 : [0.  0.2 0.4 0.6 0.8 1. ]\n"
          ]
        }
      ]
    },
    {
      "cell_type": "markdown",
      "metadata": {
        "id": "K9GCfJM2Xg4Z"
      },
      "source": [
        "test_array의 Scale된 결과값을 보면 train_array의 Scale된 결과값과 맞지 않다. 테스트 데이터의 경우는 최소값 0, 최대값 5이므로 1/5로 스케일링된다.\n",
        "\n",
        "즉, 테스트 데이터의 1의 스케일링 변환으로 0.2가 되었는데 학습 데이터의 경우 1이 0.1이므로 데이터 값이 맞지 않다.\n",
        "\n",
        "따라서 테스트 데이터에 fit()을 적용해선 안되고 학습 데이터로 이미 fit()이 적용된 Scaler 객체를 이용하여 tranform()으로 변환해야 한다."
      ]
    },
    {
      "cell_type": "code",
      "metadata": {
        "colab": {
          "base_uri": "https://localhost:8080/"
        },
        "id": "yJO8dAGiYN9I",
        "outputId": "1f0a90ff-80af-4424-ebcc-c0a0b9fcf740"
      },
      "source": [
        "scaler = MinMaxScaler()\n",
        "scaler.fit(train_array)\n",
        "train_scaled = scaler.transform(train_array)\n",
        "print('원본 train_array 데이터 :',np.round(train_array.reshape(-1), 2))\n",
        "print('Scale된 train_array 데이터 :',np.round(train_scaled.reshape(-1), 2))\n",
        "\n",
        "test_scaled = scaler.transform(test_array)\n",
        "print('\\n원본 test_array 데이터 :',np.round(test_array.reshape(-1), 2))\n",
        "print('Scale된 test_array 데이터 :',np.round(test_scaled.reshape(-1), 2))"
      ],
      "execution_count": 13,
      "outputs": [
        {
          "output_type": "stream",
          "name": "stdout",
          "text": [
            "원본 train_array 데이터 : [ 0  1  2  3  4  5  6  7  8  9 10]\n",
            "Scale된 train_array 데이터 : [0.  0.1 0.2 0.3 0.4 0.5 0.6 0.7 0.8 0.9 1. ]\n",
            "\n",
            "원본 test_array 데이터 : [0 1 2 3 4 5]\n",
            "Scale된 test_array 데이터 : [0.  0.1 0.2 0.3 0.4 0.5]\n"
          ]
        }
      ]
    },
    {
      "cell_type": "markdown",
      "metadata": {
        "id": "h9M2leddYp44"
      },
      "source": [
        "fit_transform()을 적용할 때도 마찬가지다. fit_transform()은 fit()과 transform()을 순차적으로 수행하는 메소드이므로 학습 데이터에서는 사용할 수 있지만, 테스트 데이터에서는 절대 사용하면 안된다.\n",
        "\n",
        "1. 가능하다면 전체 데이터의 스케일링 변환을 적용한 뒤 학습과 테스트 데이터로 분리\n",
        "2. 1번이 안된다면 테스트 데이터 변환 시에는 fit()이나 fit_transform()을 적용하지 않고 학습 데이터로 이미 fit()된 Scaler 객체를 이용하여 transform()으로 변환"
      ]
    },
    {
      "cell_type": "markdown",
      "metadata": {
        "id": "Nb_N7cV8ZMxY"
      },
      "source": [
        "# 사이킷런으로 수행하는 타이타닉 생존자 예측\n",
        "\n",
        "* Passengerid : 탑승자 데이터 일련번호\n",
        "\n",
        "* survived : 생존 여부, 0 = 사망, 1 = 생존\n",
        "\n",
        "* pclass : 티켓의 선실 등급, 1 = 일등석, 2 = 이등석, 3 = 삼등석\n",
        "\n",
        "* sex : 탑승자 성별\n",
        "\n",
        "* name : 탑승자 이름\n",
        "\n",
        "* Age : 탑승자 나이\n",
        "\n",
        "* sibsp : 같이 탑승한 형제자매 또는 배우자 인원수\n",
        "\n",
        "* parch : 같이 탑승한 부모님 또는 어린이 인원수\n",
        "\n",
        "* ticket : 티켓 번호\n",
        "\n",
        "* fare : 요금\n",
        "\n",
        "* cabin : 선실 번호\n",
        "\n",
        "* embarked : 중간 정착 항구 C = Cherbourg, Q = Queenstown, S = Southampton"
      ]
    },
    {
      "cell_type": "code",
      "metadata": {
        "colab": {
          "base_uri": "https://localhost:8080/",
          "height": 359
        },
        "id": "qbSqVTaKYpRh",
        "outputId": "68d0e1fe-2fee-4e13-cab3-5f0077c464c4"
      },
      "source": [
        "import numpy as np\n",
        "import pandas as pd\n",
        "import matplotlib.pyplot as plt\n",
        "import seaborn as sns\n",
        "%matplotlib inline\n",
        "\n",
        "titanic_df = pd.read_csv('/content/drive/MyDrive/파이썬_머신러닝_완벽가이드/02_Scikit_Learn/titanic_train.csv')\n",
        "titanic_df.head(10)"
      ],
      "execution_count": 14,
      "outputs": [
        {
          "output_type": "execute_result",
          "data": {
            "text/html": [
              "<div>\n",
              "<style scoped>\n",
              "    .dataframe tbody tr th:only-of-type {\n",
              "        vertical-align: middle;\n",
              "    }\n",
              "\n",
              "    .dataframe tbody tr th {\n",
              "        vertical-align: top;\n",
              "    }\n",
              "\n",
              "    .dataframe thead th {\n",
              "        text-align: right;\n",
              "    }\n",
              "</style>\n",
              "<table border=\"1\" class=\"dataframe\">\n",
              "  <thead>\n",
              "    <tr style=\"text-align: right;\">\n",
              "      <th></th>\n",
              "      <th>PassengerId</th>\n",
              "      <th>Survived</th>\n",
              "      <th>Pclass</th>\n",
              "      <th>Name</th>\n",
              "      <th>Sex</th>\n",
              "      <th>Age</th>\n",
              "      <th>SibSp</th>\n",
              "      <th>Parch</th>\n",
              "      <th>Ticket</th>\n",
              "      <th>Fare</th>\n",
              "      <th>Cabin</th>\n",
              "      <th>Embarked</th>\n",
              "    </tr>\n",
              "  </thead>\n",
              "  <tbody>\n",
              "    <tr>\n",
              "      <th>0</th>\n",
              "      <td>1</td>\n",
              "      <td>0</td>\n",
              "      <td>3</td>\n",
              "      <td>Braund, Mr. Owen Harris</td>\n",
              "      <td>male</td>\n",
              "      <td>22.0</td>\n",
              "      <td>1</td>\n",
              "      <td>0</td>\n",
              "      <td>A/5 21171</td>\n",
              "      <td>7.2500</td>\n",
              "      <td>NaN</td>\n",
              "      <td>S</td>\n",
              "    </tr>\n",
              "    <tr>\n",
              "      <th>1</th>\n",
              "      <td>2</td>\n",
              "      <td>1</td>\n",
              "      <td>1</td>\n",
              "      <td>Cumings, Mrs. John Bradley (Florence Briggs Th...</td>\n",
              "      <td>female</td>\n",
              "      <td>38.0</td>\n",
              "      <td>1</td>\n",
              "      <td>0</td>\n",
              "      <td>PC 17599</td>\n",
              "      <td>71.2833</td>\n",
              "      <td>C85</td>\n",
              "      <td>C</td>\n",
              "    </tr>\n",
              "    <tr>\n",
              "      <th>2</th>\n",
              "      <td>3</td>\n",
              "      <td>1</td>\n",
              "      <td>3</td>\n",
              "      <td>Heikkinen, Miss. Laina</td>\n",
              "      <td>female</td>\n",
              "      <td>26.0</td>\n",
              "      <td>0</td>\n",
              "      <td>0</td>\n",
              "      <td>STON/O2. 3101282</td>\n",
              "      <td>7.9250</td>\n",
              "      <td>NaN</td>\n",
              "      <td>S</td>\n",
              "    </tr>\n",
              "    <tr>\n",
              "      <th>3</th>\n",
              "      <td>4</td>\n",
              "      <td>1</td>\n",
              "      <td>1</td>\n",
              "      <td>Futrelle, Mrs. Jacques Heath (Lily May Peel)</td>\n",
              "      <td>female</td>\n",
              "      <td>35.0</td>\n",
              "      <td>1</td>\n",
              "      <td>0</td>\n",
              "      <td>113803</td>\n",
              "      <td>53.1000</td>\n",
              "      <td>C123</td>\n",
              "      <td>S</td>\n",
              "    </tr>\n",
              "    <tr>\n",
              "      <th>4</th>\n",
              "      <td>5</td>\n",
              "      <td>0</td>\n",
              "      <td>3</td>\n",
              "      <td>Allen, Mr. William Henry</td>\n",
              "      <td>male</td>\n",
              "      <td>35.0</td>\n",
              "      <td>0</td>\n",
              "      <td>0</td>\n",
              "      <td>373450</td>\n",
              "      <td>8.0500</td>\n",
              "      <td>NaN</td>\n",
              "      <td>S</td>\n",
              "    </tr>\n",
              "    <tr>\n",
              "      <th>5</th>\n",
              "      <td>6</td>\n",
              "      <td>0</td>\n",
              "      <td>3</td>\n",
              "      <td>Moran, Mr. James</td>\n",
              "      <td>male</td>\n",
              "      <td>NaN</td>\n",
              "      <td>0</td>\n",
              "      <td>0</td>\n",
              "      <td>330877</td>\n",
              "      <td>8.4583</td>\n",
              "      <td>NaN</td>\n",
              "      <td>Q</td>\n",
              "    </tr>\n",
              "    <tr>\n",
              "      <th>6</th>\n",
              "      <td>7</td>\n",
              "      <td>0</td>\n",
              "      <td>1</td>\n",
              "      <td>McCarthy, Mr. Timothy J</td>\n",
              "      <td>male</td>\n",
              "      <td>54.0</td>\n",
              "      <td>0</td>\n",
              "      <td>0</td>\n",
              "      <td>17463</td>\n",
              "      <td>51.8625</td>\n",
              "      <td>E46</td>\n",
              "      <td>S</td>\n",
              "    </tr>\n",
              "    <tr>\n",
              "      <th>7</th>\n",
              "      <td>8</td>\n",
              "      <td>0</td>\n",
              "      <td>3</td>\n",
              "      <td>Palsson, Master. Gosta Leonard</td>\n",
              "      <td>male</td>\n",
              "      <td>2.0</td>\n",
              "      <td>3</td>\n",
              "      <td>1</td>\n",
              "      <td>349909</td>\n",
              "      <td>21.0750</td>\n",
              "      <td>NaN</td>\n",
              "      <td>S</td>\n",
              "    </tr>\n",
              "    <tr>\n",
              "      <th>8</th>\n",
              "      <td>9</td>\n",
              "      <td>1</td>\n",
              "      <td>3</td>\n",
              "      <td>Johnson, Mrs. Oscar W (Elisabeth Vilhelmina Berg)</td>\n",
              "      <td>female</td>\n",
              "      <td>27.0</td>\n",
              "      <td>0</td>\n",
              "      <td>2</td>\n",
              "      <td>347742</td>\n",
              "      <td>11.1333</td>\n",
              "      <td>NaN</td>\n",
              "      <td>S</td>\n",
              "    </tr>\n",
              "    <tr>\n",
              "      <th>9</th>\n",
              "      <td>10</td>\n",
              "      <td>1</td>\n",
              "      <td>2</td>\n",
              "      <td>Nasser, Mrs. Nicholas (Adele Achem)</td>\n",
              "      <td>female</td>\n",
              "      <td>14.0</td>\n",
              "      <td>1</td>\n",
              "      <td>0</td>\n",
              "      <td>237736</td>\n",
              "      <td>30.0708</td>\n",
              "      <td>NaN</td>\n",
              "      <td>C</td>\n",
              "    </tr>\n",
              "  </tbody>\n",
              "</table>\n",
              "</div>"
            ],
            "text/plain": [
              "   PassengerId  Survived  Pclass  ...     Fare Cabin  Embarked\n",
              "0            1         0       3  ...   7.2500   NaN         S\n",
              "1            2         1       1  ...  71.2833   C85         C\n",
              "2            3         1       3  ...   7.9250   NaN         S\n",
              "3            4         1       1  ...  53.1000  C123         S\n",
              "4            5         0       3  ...   8.0500   NaN         S\n",
              "5            6         0       3  ...   8.4583   NaN         Q\n",
              "6            7         0       1  ...  51.8625   E46         S\n",
              "7            8         0       3  ...  21.0750   NaN         S\n",
              "8            9         1       3  ...  11.1333   NaN         S\n",
              "9           10         1       2  ...  30.0708   NaN         C\n",
              "\n",
              "[10 rows x 12 columns]"
            ]
          },
          "metadata": {},
          "execution_count": 14
        }
      ]
    },
    {
      "cell_type": "code",
      "metadata": {
        "colab": {
          "base_uri": "https://localhost:8080/"
        },
        "id": "_Xty7WJEayp2",
        "outputId": "118097e2-ba71-4c30-e448-b6861aaf0571"
      },
      "source": [
        "print('\\n ### 학습 데이터 정도 ### \\n')\n",
        "print(titanic_df.info())"
      ],
      "execution_count": 15,
      "outputs": [
        {
          "output_type": "stream",
          "name": "stdout",
          "text": [
            "\n",
            " ### 학습 데이터 정도 ### \n",
            "\n",
            "<class 'pandas.core.frame.DataFrame'>\n",
            "RangeIndex: 891 entries, 0 to 890\n",
            "Data columns (total 12 columns):\n",
            " #   Column       Non-Null Count  Dtype  \n",
            "---  ------       --------------  -----  \n",
            " 0   PassengerId  891 non-null    int64  \n",
            " 1   Survived     891 non-null    int64  \n",
            " 2   Pclass       891 non-null    int64  \n",
            " 3   Name         891 non-null    object \n",
            " 4   Sex          891 non-null    object \n",
            " 5   Age          714 non-null    float64\n",
            " 6   SibSp        891 non-null    int64  \n",
            " 7   Parch        891 non-null    int64  \n",
            " 8   Ticket       891 non-null    object \n",
            " 9   Fare         891 non-null    float64\n",
            " 10  Cabin        204 non-null    object \n",
            " 11  Embarked     889 non-null    object \n",
            "dtypes: float64(2), int64(5), object(5)\n",
            "memory usage: 83.7+ KB\n",
            "None\n"
          ]
        }
      ]
    },
    {
      "cell_type": "markdown",
      "metadata": {
        "id": "WC5RLK9NbFie"
      },
      "source": [
        "RangeIndex : DataFrame 인덱스의 범위, 891개의 로우\n",
        "\n",
        "칼럼 수는 12개\n",
        "\n",
        "2개의 칼럼이 float64 타입, 5개의 칼럼이 int64 타입, 5개의 칼럼이 object 타입.\n",
        "\n",
        "Age, Cabin, Embarked 칼럼은 각각 714개, 204개, 889개의 Not Null 값을 가지고 있으므로 각각 177개, 608개, 2개의 Null값(NaN)을 가지고 있다.\n",
        "\n"
      ]
    },
    {
      "cell_type": "code",
      "metadata": {
        "colab": {
          "base_uri": "https://localhost:8080/"
        },
        "id": "IYKRBKTycOz2",
        "outputId": "803b9706-99db-4200-a94b-b30b57c614c7"
      },
      "source": [
        "# Null값에 대해 Age의 경우 평균 나이, 나머지 칼럼은 'N'으로 변경\n",
        "titanic_df['Age'].fillna(titanic_df['Age'].mean(), inplace=True)\n",
        "titanic_df['Cabin'].fillna('N', inplace=True)\n",
        "titanic_df['Embarked'].fillna('N', inplace=True)\n",
        "print('데이터 세트 Null 값 개수')\n",
        "print(titanic_df.isnull().sum())"
      ],
      "execution_count": 16,
      "outputs": [
        {
          "output_type": "stream",
          "name": "stdout",
          "text": [
            "데이터 세트 Null 값 개수\n",
            "PassengerId    0\n",
            "Survived       0\n",
            "Pclass         0\n",
            "Name           0\n",
            "Sex            0\n",
            "Age            0\n",
            "SibSp          0\n",
            "Parch          0\n",
            "Ticket         0\n",
            "Fare           0\n",
            "Cabin          0\n",
            "Embarked       0\n",
            "dtype: int64\n"
          ]
        }
      ]
    },
    {
      "cell_type": "code",
      "metadata": {
        "colab": {
          "base_uri": "https://localhost:8080/"
        },
        "id": "BJjEeuhoc84G",
        "outputId": "620049e5-6c95-4342-9345-8d1f34e5147b"
      },
      "source": [
        "# 남아있는 문자열 피처인 Sex, Cabin, Embarked의 값 분류\n",
        "print('Sex 값 분포 :\\n', titanic_df['Sex'].value_counts())\n",
        "print('\\nCabin 값 분포 :\\n', titanic_df['Cabin'].value_counts())\n",
        "print('\\nEmbarked 값 분포 :\\n', titanic_df['Embarked'].value_counts())"
      ],
      "execution_count": 17,
      "outputs": [
        {
          "output_type": "stream",
          "name": "stdout",
          "text": [
            "Sex 값 분포 :\n",
            " male      577\n",
            "female    314\n",
            "Name: Sex, dtype: int64\n",
            "\n",
            "Cabin 값 분포 :\n",
            " N              687\n",
            "B96 B98          4\n",
            "G6               4\n",
            "C23 C25 C27      4\n",
            "F33              3\n",
            "              ... \n",
            "C106             1\n",
            "D50              1\n",
            "D46              1\n",
            "C111             1\n",
            "D9               1\n",
            "Name: Cabin, Length: 148, dtype: int64\n",
            "\n",
            "Embarked 값 분포 :\n",
            " S    644\n",
            "C    168\n",
            "Q     77\n",
            "N      2\n",
            "Name: Embarked, dtype: int64\n"
          ]
        }
      ]
    },
    {
      "cell_type": "markdown",
      "metadata": {
        "id": "vVPxq71Ddyu-"
      },
      "source": [
        "Cabin(선실)의 경우 N이 687건으로 가장 많은 것도 특이하지만, 속성값이 제대로 정리 되지 않았다. 예를 들어 'C23 C25 C27'과 같이 여러 Cabin이 한꺼번에 표시된 것이 4건이 된다. Cabin의 경우 선실 번호 중 선실 등급을 나타내는 첫 번째 알파벳이 중요해 보인다."
      ]
    },
    {
      "cell_type": "code",
      "metadata": {
        "colab": {
          "base_uri": "https://localhost:8080/"
        },
        "id": "6Eok2vofeh7P",
        "outputId": "abf69b58-17a3-4502-c72b-4a7784d38e89"
      },
      "source": [
        "titanic_df['Cabin'] = titanic_df['Cabin'].str[:1]\n",
        "titanic_df['Cabin'].head(3)"
      ],
      "execution_count": 18,
      "outputs": [
        {
          "output_type": "execute_result",
          "data": {
            "text/plain": [
              "0    N\n",
              "1    C\n",
              "2    N\n",
              "Name: Cabin, dtype: object"
            ]
          },
          "metadata": {},
          "execution_count": 18
        }
      ]
    },
    {
      "cell_type": "markdown",
      "metadata": {
        "id": "e09YgpnPfGqd"
      },
      "source": [
        "먼저 어떤 유형의 승객이 생존 확률이 높았는지 확인해봐야한다."
      ]
    },
    {
      "cell_type": "code",
      "metadata": {
        "colab": {
          "base_uri": "https://localhost:8080/"
        },
        "id": "aE4-XqhifiUt",
        "outputId": "e8366303-4689-4d24-d359-affe33e9a3b4"
      },
      "source": [
        "# 성별이 생존 확률에 어떤 영향을 미쳤는지, 성별에 따른 생존자 수를 비교해보자.\n",
        "titanic_df.groupby(['Sex', 'Survived'])['Survived'].count()"
      ],
      "execution_count": 19,
      "outputs": [
        {
          "output_type": "execute_result",
          "data": {
            "text/plain": [
              "Sex     Survived\n",
              "female  0            81\n",
              "        1           233\n",
              "male    0           468\n",
              "        1           109\n",
              "Name: Survived, dtype: int64"
            ]
          },
          "metadata": {},
          "execution_count": 19
        }
      ]
    },
    {
      "cell_type": "markdown",
      "metadata": {
        "id": "eqpp_iBDfxrV"
      },
      "source": [
        "남성보다 여성이 훨씬 더 높은 확률도 생존했다.\n",
        "\n",
        "Seaborn 패키지를 사용하여 데이터의 시각화를 해보자"
      ]
    },
    {
      "cell_type": "code",
      "metadata": {
        "colab": {
          "base_uri": "https://localhost:8080/",
          "height": 297
        },
        "id": "n_GJE2sMgA-l",
        "outputId": "17795f0e-c47d-48a1-8474-8eb91857cef3"
      },
      "source": [
        "sns.barplot(x='Sex', y='Survived', data=titanic_df)"
      ],
      "execution_count": 20,
      "outputs": [
        {
          "output_type": "execute_result",
          "data": {
            "text/plain": [
              "<matplotlib.axes._subplots.AxesSubplot at 0x7fd0ba339850>"
            ]
          },
          "metadata": {},
          "execution_count": 20
        },
        {
          "output_type": "display_data",
          "data": {
            "image/png": "[encoded data removed]",
            "text/plain": [
              "<Figure size 432x288 with 1 Axes>"
            ]
          },
          "metadata": {
            "needs_background": "light"
          }
        }
      ]
    },
    {
      "cell_type": "markdown",
      "metadata": {
        "id": "gNmfzwORgHu1"
      },
      "source": [
        "부자와 가난한 사람 간의 생존 확률에 대해서 확인해보자. 부를 측정할 수 있는 속성으로 적당한 것은 객실 등급일 것이다. 일등실, 이등실, 마지막으로 삼등실에 따라 생존 확률을 살펴보자."
      ]
    },
    {
      "cell_type": "code",
      "metadata": {
        "colab": {
          "base_uri": "https://localhost:8080/",
          "height": 297
        },
        "id": "dv-kdPyQgWJl",
        "outputId": "ad45d6eb-b67a-4b2e-f21b-06145df52376"
      },
      "source": [
        "sns.barplot(x='Pclass', y='Survived', hue='Sex', data=titanic_df)"
      ],
      "execution_count": 21,
      "outputs": [
        {
          "output_type": "execute_result",
          "data": {
            "text/plain": [
              "<matplotlib.axes._subplots.AxesSubplot at 0x7fd0ba22c650>"
            ]
          },
          "metadata": {},
          "execution_count": 21
        },
        {
          "output_type": "display_data",
          "data": {
            "image/png": "[encoded data removed]",
            "text/plain": [
              "<Figure size 432x288 with 1 Axes>"
            ]
          },
          "metadata": {
            "needs_background": "light"
          }
        }
      ]
    },
    {
      "cell_type": "markdown",
      "metadata": {
        "id": "NfWPQMv5iPzW"
      },
      "source": [
        "여성의 경우 일, 이등실에 따른 생존 확률 차이는 크지않지만, 삼등실의 경우 생존 확률이 상대적으로 많이 떨어진다.\n",
        "\n",
        "남성의 경우 일등실의 생존 확률이 이, 삼등실의 생존 확률보다 월등히 높다.\n",
        "\n",
        "이번에는 나이에 다른 생존확률을 확인해보자.\n",
        "\n",
        "나이의 경우 값 종류가 많기 때문에 범위별로 분류해 카테고리 값을 할당하자."
      ]
    },
    {
      "cell_type": "code",
      "metadata": {
        "colab": {
          "base_uri": "https://localhost:8080/",
          "height": 389
        },
        "id": "9_-mXgKzg729",
        "outputId": "0ce8cda8-9984-4910-be39-3a66cbbd1c70"
      },
      "source": [
        "# age에 따른 구분값을 반환하는 함수 설정.\n",
        "def get_category(age):\n",
        "    cat = ''\n",
        "    if age <= -1: cat = 'Unknown'\n",
        "    elif age <= 5: cat = 'Baby'\n",
        "    elif age <= 12: cat = 'Child'\n",
        "    elif age <= 18: cat = 'Teenager'\n",
        "    elif age <= 25: cat = 'Student'\n",
        "    elif age <= 35: cat = 'Young Adult'\n",
        "    elif age <= 60: cat = 'Adult'\n",
        "    else: cat = 'Elderly'\n",
        "    return cat\n",
        "\n",
        "# 막대그래프의 크기 figure를 더 크게 설정\n",
        "plt.figure(figsize=(10, 6))\n",
        "\n",
        "# X축의 값을 순차적으로 표시하기 위한 설정\n",
        "group_names = ['Unknown', 'Baby', 'Child', 'Teenager', 'Student', 'Young Adult', 'Adult', 'Elderly']\n",
        "\n",
        "# get_category(X)는 입력값으로 'Age' 칼럼 값을 받아서 해당하는 cat 반환\n",
        "titanic_df['Age_cat'] = titanic_df['Age'].apply(lambda x:get_category(x))\n",
        "sns.barplot(x='Age_cat', y='Survived', hue='Sex', data=titanic_df, order=group_names)\n",
        "titanic_df.drop('Age_cat', axis=1, inplace=True)"
      ],
      "execution_count": 22,
      "outputs": [
        {
          "output_type": "display_data",
          "data": {
            "image/png": "[encoded data removed]",
            "text/plain": [
              "<Figure size 720x432 with 1 Axes>"
            ]
          },
          "metadata": {
            "needs_background": "light"
          }
        }
      ]
    },
    {
      "cell_type": "markdown",
      "metadata": {
        "id": "1avdkMyVjHJU"
      },
      "source": [
        "Sex, Age, Pclass 등이 중요하게 생존을 좌우하는 피처임을 어느 정도 확인할 수 있었다.\n",
        "\n",
        "이제 남아있는 문자열 카테고리 피처를 숫자형 카테고리 피처로 변환해보자. 인코딩은 사이킷런의 LabelEncoder 클래스를 이용하여 레이블 인코딩을 적용한다. LabelEncoder 객체는 카테고리 값의 유형 수에 따라 0 ~ (카테고리 유형 수-1)까지의 숫자 값으로 변환한다."
      ]
    },
    {
      "cell_type": "code",
      "metadata": {
        "colab": {
          "base_uri": "https://localhost:8080/",
          "height": 204
        },
        "id": "-KIa_j1tj2xk",
        "outputId": "4a0f1b50-9ca1-48ee-b4ee-15afcd16bee8"
      },
      "source": [
        "from sklearn import preprocessing\n",
        "\n",
        "def encode_features(dataDF):\n",
        "    features = ['Cabin', 'Sex', 'Embarked']\n",
        "    for f in features:\n",
        "        le = preprocessing.LabelEncoder()\n",
        "        le = le.fit(dataDF[f])\n",
        "        dataDF[f] = le.transform(dataDF[f])\n",
        "    return dataDF\n",
        "\n",
        "titanic_df = encode_features(titanic_df)\n",
        "titanic_df.head()"
      ],
      "execution_count": 23,
      "outputs": [
        {
          "output_type": "execute_result",
          "data": {
            "text/html": [
              "<div>\n",
              "<style scoped>\n",
              "    .dataframe tbody tr th:only-of-type {\n",
              "        vertical-align: middle;\n",
              "    }\n",
              "\n",
              "    .dataframe tbody tr th {\n",
              "        vertical-align: top;\n",
              "    }\n",
              "\n",
              "    .dataframe thead th {\n",
              "        text-align: right;\n",
              "    }\n",
              "</style>\n",
              "<table border=\"1\" class=\"dataframe\">\n",
              "  <thead>\n",
              "    <tr style=\"text-align: right;\">\n",
              "      <th></th>\n",
              "      <th>PassengerId</th>\n",
              "      <th>Survived</th>\n",
              "      <th>Pclass</th>\n",
              "      <th>Name</th>\n",
              "      <th>Sex</th>\n",
              "      <th>Age</th>\n",
              "      <th>SibSp</th>\n",
              "      <th>Parch</th>\n",
              "      <th>Ticket</th>\n",
              "      <th>Fare</th>\n",
              "      <th>Cabin</th>\n",
              "      <th>Embarked</th>\n",
              "    </tr>\n",
              "  </thead>\n",
              "  <tbody>\n",
              "    <tr>\n",
              "      <th>0</th>\n",
              "      <td>1</td>\n",
              "      <td>0</td>\n",
              "      <td>3</td>\n",
              "      <td>Braund, Mr. Owen Harris</td>\n",
              "      <td>1</td>\n",
              "      <td>22.0</td>\n",
              "      <td>1</td>\n",
              "      <td>0</td>\n",
              "      <td>A/5 21171</td>\n",
              "      <td>7.2500</td>\n",
              "      <td>7</td>\n",
              "      <td>3</td>\n",
              "    </tr>\n",
              "    <tr>\n",
              "      <th>1</th>\n",
              "      <td>2</td>\n",
              "      <td>1</td>\n",
              "      <td>1</td>\n",
              "      <td>Cumings, Mrs. John Bradley (Florence Briggs Th...</td>\n",
              "      <td>0</td>\n",
              "      <td>38.0</td>\n",
              "      <td>1</td>\n",
              "      <td>0</td>\n",
              "      <td>PC 17599</td>\n",
              "      <td>71.2833</td>\n",
              "      <td>2</td>\n",
              "      <td>0</td>\n",
              "    </tr>\n",
              "    <tr>\n",
              "      <th>2</th>\n",
              "      <td>3</td>\n",
              "      <td>1</td>\n",
              "      <td>3</td>\n",
              "      <td>Heikkinen, Miss. Laina</td>\n",
              "      <td>0</td>\n",
              "      <td>26.0</td>\n",
              "      <td>0</td>\n",
              "      <td>0</td>\n",
              "      <td>STON/O2. 3101282</td>\n",
              "      <td>7.9250</td>\n",
              "      <td>7</td>\n",
              "      <td>3</td>\n",
              "    </tr>\n",
              "    <tr>\n",
              "      <th>3</th>\n",
              "      <td>4</td>\n",
              "      <td>1</td>\n",
              "      <td>1</td>\n",
              "      <td>Futrelle, Mrs. Jacques Heath (Lily May Peel)</td>\n",
              "      <td>0</td>\n",
              "      <td>35.0</td>\n",
              "      <td>1</td>\n",
              "      <td>0</td>\n",
              "      <td>113803</td>\n",
              "      <td>53.1000</td>\n",
              "      <td>2</td>\n",
              "      <td>3</td>\n",
              "    </tr>\n",
              "    <tr>\n",
              "      <th>4</th>\n",
              "      <td>5</td>\n",
              "      <td>0</td>\n",
              "      <td>3</td>\n",
              "      <td>Allen, Mr. William Henry</td>\n",
              "      <td>1</td>\n",
              "      <td>35.0</td>\n",
              "      <td>0</td>\n",
              "      <td>0</td>\n",
              "      <td>373450</td>\n",
              "      <td>8.0500</td>\n",
              "      <td>7</td>\n",
              "      <td>3</td>\n",
              "    </tr>\n",
              "  </tbody>\n",
              "</table>\n",
              "</div>"
            ],
            "text/plain": [
              "   PassengerId  Survived  Pclass  ...     Fare  Cabin  Embarked\n",
              "0            1         0       3  ...   7.2500      7         3\n",
              "1            2         1       1  ...  71.2833      2         0\n",
              "2            3         1       3  ...   7.9250      7         3\n",
              "3            4         1       1  ...  53.1000      2         3\n",
              "4            5         0       3  ...   8.0500      7         3\n",
              "\n",
              "[5 rows x 12 columns]"
            ]
          },
          "metadata": {},
          "execution_count": 23
        }
      ]
    },
    {
      "cell_type": "code",
      "metadata": {
        "id": "ZMpoEupFkxGb"
      },
      "source": [
        "from sklearn.preprocessing import LabelEncoder\n",
        "\n",
        "# Null 처리 함수\n",
        "def fillna(df):\n",
        "    df['Age'].fillna(df['Age'].mean(),inplace=True)\n",
        "    df['Cabin'].fillna('N',inplace=True)\n",
        "    df['Embarked'].fillna('N',inplace=True)\n",
        "    df['Fare'].fillna(0,inplace=True)\n",
        "    return df\n",
        "\n",
        "# 머신러닝 알고리즘에 불필요한 속성 제거\n",
        "def drop_features(df):\n",
        "    df.drop(['PassengerId','Name','Ticket'],axis=1,inplace=True)\n",
        "    return df\n",
        "\n",
        "# 레이블 인코딩 수행. \n",
        "def format_features(df):\n",
        "    df['Cabin'] = df['Cabin'].str[:1]\n",
        "    features = ['Cabin','Sex','Embarked']\n",
        "    for feature in features:\n",
        "        le = LabelEncoder()\n",
        "        le = le.fit(df[feature])\n",
        "        df[feature] = le.transform(df[feature])\n",
        "    return df\n",
        "\n",
        "# 앞에서 설정한 Data Preprocessing 함수 호출\n",
        "def transform_features(df):\n",
        "    df = fillna(df)\n",
        "    df = drop_features(df)\n",
        "    df = format_features(df)\n",
        "    return df"
      ],
      "execution_count": 24,
      "outputs": []
    },
    {
      "cell_type": "markdown",
      "metadata": {
        "id": "Zntx06ycmc2b"
      },
      "source": [
        "데이터 전처리를 수행하는 transform_features() 함수를 만들었다. 이 함수를 이용해 다시 원본 데이터를 가공해보자. 원본 CSV 파일을 다시 로딩하고 타이타닉 생존자 데이터 세트의 레이블인 Survived 속성만 별도 분리해 클래스 결정값 데이터 세트로 만들자. "
      ]
    },
    {
      "cell_type": "code",
      "metadata": {
        "id": "LFUmwPTmmzAC"
      },
      "source": [
        "# 원본 데이터를 재로딩하고, 피처 데이터 세트와 레이블 데이터 세트 추출\n",
        "titanic_df = pd.read_csv('/content/drive/MyDrive/파이썬_머신러닝_완벽가이드/02_Scikit_Learn/titanic_train.csv')\n",
        "y_titanic_df = titanic_df['Survived']\n",
        "X_titanic_df = titanic_df.drop('Survived',axis=1)\n",
        "\n",
        "X_titanic_df = transform_features(X_titanic_df)"
      ],
      "execution_count": 25,
      "outputs": []
    },
    {
      "cell_type": "markdown",
      "metadata": {
        "id": "XJfIta3snJUT"
      },
      "source": [
        "내려받은 학습 데이터 세트를 기반으로 해서 train_test_split() API를 이용하여 별도의 테스트 데이터 세트를 추출한다."
      ]
    },
    {
      "cell_type": "code",
      "metadata": {
        "id": "kZ9EBkbxnPdr"
      },
      "source": [
        "from sklearn.model_selection import train_test_split\n",
        "X_train, X_test, y_train, y_test=train_test_split(X_titanic_df, y_titanic_df, test_size=0.2, random_state=11)"
      ],
      "execution_count": 26,
      "outputs": []
    },
    {
      "cell_type": "code",
      "metadata": {
        "colab": {
          "base_uri": "https://localhost:8080/"
        },
        "id": "Xszbw8VQnwwa",
        "outputId": "c5ca440b-b6a8-49c8-da9a-b401519165a5"
      },
      "source": [
        "from sklearn.tree import DecisionTreeClassifier\n",
        "from sklearn.ensemble import RandomForestClassifier\n",
        "from sklearn.linear_model import LogisticRegression\n",
        "from sklearn.metrics import accuracy_score\n",
        "\n",
        "# 결정트리, Random Forest, 로지스틱 회귀를 위한 사이킷런 Classifier 클래스 생성\n",
        "dt_clf = DecisionTreeClassifier(random_state=11)\n",
        "rf_clf = RandomForestClassifier(random_state=11)\n",
        "lr_clf = LogisticRegression(solver='liblinear')\n",
        "\n",
        "# DecisionTreeClassifier 학습/예측/평가\n",
        "dt_clf.fit(X_train , y_train)\n",
        "dt_pred = dt_clf.predict(X_test)\n",
        "print('DecisionTreeClassifier 정확도: {0:.4f}'.format(accuracy_score(y_test, dt_pred)))\n",
        "\n",
        "# RandomForestClassifier 학습/예측/평가\n",
        "rf_clf.fit(X_train , y_train)\n",
        "rf_pred = rf_clf.predict(X_test)\n",
        "print('RandomForestClassifier 정확도:{0:.4f}'.format(accuracy_score(y_test, rf_pred)))\n",
        "\n",
        "# LogisticRegression 학습/예측/평가\n",
        "lr_clf.fit(X_train , y_train)\n",
        "lr_pred = lr_clf.predict(X_test)\n",
        "print('LogisticRegression 정확도: {0:.4f}'.format(accuracy_score(y_test, lr_pred)))"
      ],
      "execution_count": 27,
      "outputs": [
        {
          "output_type": "stream",
          "name": "stdout",
          "text": [
            "DecisionTreeClassifier 정확도: 0.7877\n",
            "RandomForestClassifier 정확도:0.8547\n",
            "LogisticRegression 정확도: 0.8659\n"
          ]
        }
      ]
    },
    {
      "cell_type": "markdown",
      "metadata": {
        "id": "Hn4kaDHVqgYo"
      },
      "source": [
        "3개의 알고리즘 중 LogisticRegression이 타 알고리즘에 비해 높은 정확도를 나타내고 있다. 아직 최적화 작업을 수행하지 않았고, 데이터 양도 충분하지 않기 때문에 어떤 알고리즘이 가장 성능이 좋다고 평가할 수는 없다.\n",
        "\n",
        "이번에는 교차 검증을 위한 사이킷런 model_selection 패키지의 KFold 클래스, cross_val_score(), GridSearchCV 클래스를 사용한다."
      ]
    },
    {
      "cell_type": "code",
      "metadata": {
        "id": "jOdkZVbNrEGa"
      },
      "source": [
        "from sklearn.model_selection import KFold\n",
        "\n",
        "def exec_kfold(clf, folds=5):\n",
        "    # 폴드 세트를 5개인 KFold 객체를 생성, 폴드 수만큼 예측 결과 저장을 위한 리스트 객체 생성\n",
        "    kfold = KFold(n_splits=folds)\n",
        "    scores = []\n",
        "\n",
        "    # KFold 교차 검증 수행\n",
        "    for iter_count, (train_index, test_index) in enumerate(kfold.split(X_titanic_df)):\n",
        "        # X_titanic_df 데이터에서 교차 검증별로 학습과 검증 데이터를 가리키는 index 생성\n",
        "        X_train, X_test = X_titanic_df.values[train_index], X_titanic_df.values[test_index]\n",
        "        y_train, y_test = y_titanic_df.values[train_index], y_titanic_df.values[test_index]\n",
        "        # Classifier 학습, 예측, 정확도 계산\n",
        "        clf.fit(X_train, y_train)\n",
        "        predictions = clf.predict(X_test)\n",
        "        accuracy = accuracy_score(y_test, predictions)\n",
        "        scores.append(accuracy)\n",
        "        print(\"교차 검증 {0} 정확도 : {1:.4f}\".format(iter_count, accuracy))\n",
        "    \n",
        "    # 5개 fold에서의 평균 정확도 계산\n",
        "    mean_score = np.mean(scores)\n",
        "    print('평균 정확도 : {0:.4f}'.format(mean_score))"
      ],
      "execution_count": 28,
      "outputs": []
    },
    {
      "cell_type": "code",
      "metadata": {
        "colab": {
          "base_uri": "https://localhost:8080/"
        },
        "id": "0MgRd-sIxeDx",
        "outputId": "1a799bd5-3cbd-4b88-990d-348251279bdb"
      },
      "source": [
        "# exec_kfold 호출\n",
        "print('### DecisionTreeClassifier ###')\n",
        "exec_kfold(dt_clf, folds=5)"
      ],
      "execution_count": 29,
      "outputs": [
        {
          "output_type": "stream",
          "name": "stdout",
          "text": [
            "### DecisionTreeClassifier ###\n",
            "교차 검증 0 정확도 : 0.7542\n",
            "교차 검증 1 정확도 : 0.7809\n",
            "교차 검증 2 정확도 : 0.7865\n",
            "교차 검증 3 정확도 : 0.7697\n",
            "교차 검증 4 정확도 : 0.8202\n",
            "평균 정확도 : 0.7823\n"
          ]
        }
      ]
    },
    {
      "cell_type": "markdown",
      "metadata": {
        "id": "bZoi37kitDhb"
      },
      "source": [
        "이번에는 교차 검증을 cross_val_score() API를 이용해 수행 - StratifiedKFold"
      ]
    },
    {
      "cell_type": "code",
      "metadata": {
        "colab": {
          "base_uri": "https://localhost:8080/"
        },
        "id": "4d1VQHyktHXY",
        "outputId": "9eb5c277-3ebb-4d4c-9c57-635d848c2271"
      },
      "source": [
        "from sklearn.model_selection import cross_val_score\n",
        "\n",
        "scores = cross_val_score(dt_clf, X_titanic_df, y_titanic_df, cv=5)\n",
        "for iter_count, accuracy in enumerate(scores):\n",
        "    print(\"교차 검증 {0} 정확도 : {1:.4f}\".format(iter_count, accuracy))\n",
        "print(\"평균 정확도 : {0:.4f}\".format(np.mean(scores)))"
      ],
      "execution_count": 30,
      "outputs": [
        {
          "output_type": "stream",
          "name": "stdout",
          "text": [
            "교차 검증 0 정확도 : 0.7430\n",
            "교차 검증 1 정확도 : 0.7753\n",
            "교차 검증 2 정확도 : 0.7921\n",
            "교차 검증 3 정확도 : 0.7865\n",
            "교차 검증 4 정확도 : 0.8427\n",
            "평균 정확도 : 0.7879\n"
          ]
        }
      ]
    },
    {
      "cell_type": "markdown",
      "metadata": {
        "id": "5SiN8fVzt0F5"
      },
      "source": [
        "마지막으로 GridSearchCV를 이용해 DecisionTreeClassifier의 최적 하이퍼 파라미터를 찾고 예측 성능을 측정해보자. CV는 5개의 폴드 세트를 지정하고 하이퍼 파라미터는 max_depth, min_samples_split, min_samples_leaf를 변경하면서 성능을 측정한다. 최적 하이퍼 파라미터와 그때의 예측을 출력하고, 최적 하이퍼 파라미터로 학습된 Estimator를 이용해 예측 수행."
      ]
    },
    {
      "cell_type": "code",
      "metadata": {
        "colab": {
          "base_uri": "https://localhost:8080/"
        },
        "id": "VZT8s0sgumeR",
        "outputId": "6a00d17d-5c89-4ae3-9f05-2249bddff760"
      },
      "source": [
        "from sklearn.model_selection import GridSearchCV\n",
        "\n",
        "parameters = {'max_depth':[2, 3, 5, 10], 'min_samples_split':[2, 3, 5], 'min_samples_leaf':[1, 5, 8]}\n",
        "\n",
        "grid_dclf = GridSearchCV(dt_clf, param_grid=parameters, scoring='accuracy', cv=5)\n",
        "grid_dclf.fit(X_train, y_train)\n",
        "\n",
        "print('GridSearchCV 최적 하이퍼 파라미터 : ',grid_dclf.best_params_)\n",
        "print('GridSearchCV 최고 정확도 : {0:.4f}'.format(grid_dclf.best_score_))\n",
        "best_dclf = grid_dclf.best_estimator_\n",
        "\n",
        "# GridSearchCV의 최적 하이퍼 파라미터로 학습된 Estimator로 예측 및 평가 수행\n",
        "dpredictions = best_dclf.predict(X_test)\n",
        "accuracy = accuracy_score(y_test, dpredictions)\n",
        "print('테스트 세트에서의 DecisionTreeClassifier 정확도 : {0:.4f}'.format(accuracy))"
      ],
      "execution_count": 31,
      "outputs": [
        {
          "output_type": "stream",
          "name": "stdout",
          "text": [
            "GridSearchCV 최적 하이퍼 파라미터 :  {'max_depth': 3, 'min_samples_leaf': 5, 'min_samples_split': 2}\n",
            "GridSearchCV 최고 정확도 : 0.7992\n",
            "테스트 세트에서의 DecisionTreeClassifier 정확도 : 0.8715\n"
          ]
        }
      ]
    },
    {
      "cell_type": "markdown",
      "metadata": {
        "id": "ypuBpk7E2O92"
      },
      "source": [
        "# 정리\n",
        "\n",
        "#### 머신러닝 애플리케이션 순서\n",
        "\n",
        "1. 데이터 가공 및 변환 과정의 전처리 작업\n",
        "\n",
        "2. 데이터를 학습 데이터와 테스트 데이터로 데이터 세트 분리 작업\n",
        "\n",
        "3. 학습 데이터를 기반으로 머신러닝 알고리즘을 적용해 모델을 학습\n",
        "\n",
        "4. 학습된 모델을 기반으로 테스트 데이터에 대한 예측 수행\n",
        "\n",
        "5. 예측된 결과값을 실제 결과값과 비교해 모델에 대한 평가 수행\n",
        "\n",
        "<br/>\n",
        "\n",
        "#### 데이터 전처리 작업\n",
        "\n",
        "1. 오류 데이터의 보정이나 결손값(Null) 처리 등의 다양한 데이터 클렌징 작업\n",
        "\n",
        "        DataFrame['칼럼명'].fillna(데이터, inplace=True/False)\n",
        "        titanic_df.isnull().sum() # 데이터 세트 Null 값 개수 확인\n",
        "\n",
        "2. 레이블 인코딩이나 원-핫 인코딩과 같은 인코딩 작업\n",
        "\n",
        "        from sklearn.preprocessing import LabelEncoder\n",
        "        from sklearn.preprocessing import OneHotEncoder\n",
        "\n",
        "![image.png](data:image/png;base64,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)\n",
        "\n",
        "3. 데이터의 스케일링/정규화 작업\n",
        "\n",
        "        from sklearn.preprocessing import StandardScaler\n",
        "        from sklearn.preprocessing import MinMaxScaler\n",
        "\n",
        "StandardScaler : 개별 피처(칼럼 값)를 평균이 0에, 분산이 1에 가장 가까운 수치로 변환\n",
        "\n",
        "MinMaxScaler : 데이터 값을 0과 1사이의 범위값으로 변환(음수값이 있으면 -1 ~ 1 값)\n",
        "\n",
        "<br/>\n",
        "\n",
        "머신러닝 모델은 학습 데이터 세트로 학습한 뒤 반드시 별도의 테스트 데이터 세트로 평가해야 한다. 또한 테스트 데이터의 건수 부족이나 고정된 테스트 데이터 세트를 이용한 반복적인 모델의 학습과 평가는 해당 테스트 데이트 세트에만 치우친 빈약한 머신러닝 모델이 만들어질 가능성이 높다.\n",
        "\n",
        "이를 해결하기 위해 학습 데이터 세트를 학습 데이터와 검증 데이터로 구성된 여러 개의 폴드 세트로 분리형 교차 검증을 수행할 수 있다.\n",
        "\n",
        "<br/>\n",
        "\n",
        "사이킷런은 교차 검증을 지원하기 위해 KFold, StratifiedKFold, cross_val_score() 등의 다양한 클래스와 함수를 제공. 또한 머신러닝 모델의 최적의 하이퍼 파라미터를 교차 검증을 통해 추출하기 위해 GridSearchCV를 제공한다."
      ]
    }
  ]
}