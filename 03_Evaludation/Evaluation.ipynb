{
  "nbformat": 4,
  "nbformat_minor": 0,
  "metadata": {
    "colab": {
      "name": "Evaluation.ipynb",
      "provenance": [],
      "collapsed_sections": [],
      "mount_file_id": "1knJlNoBwFE-NVX_Qivf-ZPb1n2uYRrYR",
      "authorship_tag": "ABX9TyOAAzejADg8asKGxkXjObMi"
    },
    "kernelspec": {
      "name": "python3",
      "display_name": "Python 3"
    },
    "language_info": {
      "name": "python"
    }
  },
  "cells": [
    {
      "cell_type": "markdown",
      "metadata": {
        "id": "NlWgkAGq5Ddw"
      },
      "source": [
        "# 정확도 : 실제 데이터와 예측 데이터가 얼마나 같은지 판단하는 지표\n",
        "\n",
        "#### 분류의 성능 평가 지표\n",
        "\n",
        "* 정확도(Accuracy)\n",
        "* 오차행렬(Confusion Matrix)\n",
        "* 정밀도(Precision)\n",
        "* 재현율(Recall)\n",
        "* F1 스코어\n",
        "* ROC AUC\n",
        "\n",
        "분류는 결정 클래스 값 종류의 유형에 따라 긍정/부정과 같은 2개의 결과값만 가지는 이진 분류와 여러 개의 결정 클래스 값을 가지는 멀티 분류로 나뉠 수 있다.\n",
        "\n",
        "# 정확도(Accuacy)\n",
        "\n",
        "![image.png](data:image/png;base64,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)\n",
        "\n",
        "정확도는 직관적인 모델 예측 성능을 나타내는 평가 지표이다. 하지만 이진 분류의 경우 데이터의 구성에 따라 ML 모델의 성능을 왜곡할 수 있기 때문에 정확도 수치 하나만 가지고 성능을 평가하지 않는다. \n",
        "\n",
        "타이타닉 예제에서 여성의 생존률이 매우 높다. 그래서 특별한 알고리즘 없이 여성을 생존, 남성을 사망으로 분류해도 80% 정도 나올 수 있다."
      ]
    },
    {
      "cell_type": "code",
      "metadata": {
        "id": "oE9UMsDD3l3-"
      },
      "source": [
        "# 사이킷런의 BaseEstimator 클래스를 상속받아 아무런 학습을 하지 않고, 성별에 따라 생존자 예측하는 Classifier\n",
        "from sklearn.base import BaseEstimator\n",
        "import numpy as np\n",
        "\n",
        "class MyDummyClassifier(BaseEstimator):\n",
        "    # fit() 메서드는 아무것도 학습하지 않음\n",
        "    def fit(self, X, y=None):\n",
        "        pass\n",
        "    \n",
        "    # predict() 메서드는 단순히 Sex 피처가 1이면 0, 0이면 1로 예측\n",
        "    def predict(self, X):\n",
        "        pred = np.zeros((X.shape[0], 1))\n",
        "        for i in range(X.shape[0]):\n",
        "            if X['Sex'].iloc[i] == 1:\n",
        "                pred[i] = 0\n",
        "            else:\n",
        "                pred[i] = 1\n",
        "        return pred"
      ],
      "execution_count": 1,
      "outputs": []
    },
    {
      "cell_type": "code",
      "metadata": {
        "id": "v97h-wKgEIz7"
      },
      "source": [
        "import pandas as pd\n",
        "from sklearn.preprocessing import LabelEncoder\n",
        "\n",
        "# Null 처리 함수\n",
        "def fillna(df):\n",
        "    df['Age'].fillna(df['Age'].mean(),inplace=True)\n",
        "    df['Cabin'].fillna('N',inplace=True)\n",
        "    df['Embarked'].fillna('N',inplace=True)\n",
        "    df['Fare'].fillna(0,inplace=True)\n",
        "    return df\n",
        "\n",
        "# 머신러닝 알고리즘에 불필요한 속성 제거\n",
        "def drop_features(df):\n",
        "    df.drop(['PassengerId','Name','Ticket'],axis=1,inplace=True)\n",
        "    return df\n",
        "\n",
        "# 레이블 인코딩 수행. \n",
        "def format_features(df):\n",
        "    df['Cabin'] = df['Cabin'].str[:1]\n",
        "    features = ['Cabin','Sex','Embarked']\n",
        "    for feature in features:\n",
        "        le = LabelEncoder()\n",
        "        le = le.fit(df[feature])\n",
        "        df[feature] = le.transform(df[feature])\n",
        "    return df\n",
        "\n",
        "# 앞에서 설정한 Data Preprocessing 함수 호출\n",
        "def transform_features(df):\n",
        "    df = fillna(df)\n",
        "    df = drop_features(df)\n",
        "    df = format_features(df)\n",
        "    return df"
      ],
      "execution_count": 2,
      "outputs": []
    },
    {
      "cell_type": "code",
      "metadata": {
        "colab": {
          "base_uri": "https://localhost:8080/"
        },
        "id": "UyCi9Tl6AIaU",
        "outputId": "01ff151e-be04-40cd-b148-c30a613aa54d"
      },
      "source": [
        "# 예측 수행\n",
        "import pandas as pd\n",
        "from sklearn.model_selection import train_test_split\n",
        "from sklearn.metrics import accuracy_score\n",
        "\n",
        "# 원본 데이터 로딩, 데이터 가공, 학습 데이터/테스트 데이터 분할\n",
        "titanic_df = pd.read_csv('./titanic_train.csv')\n",
        "y_titanic_df = titanic_df['Survived']\n",
        "X_titanic_df = titanic_df.drop('Survived', axis=1)\n",
        "X_titanic_df = transform_features(X_titanic_df)\n",
        "X_train, X_test, y_train, y_test = train_test_split(X_titanic_df, y_titanic_df, test_size=0.2, random_state=0)\n",
        "\n",
        "myclf = MyDummyClassifier()\n",
        "myclf.fit(X_train, y_train)\n",
        "\n",
        "mypredictions = myclf.predict(X_test)\n",
        "print('Dummy Classifier의 정확도 : {0:.4f}'.format(accuracy_score(y_test, mypredictions)))"
      ],
      "execution_count": 3,
      "outputs": [
        {
          "output_type": "stream",
          "name": "stdout",
          "text": [
            "Dummy Classifier의 정확도 : 0.7877\n"
          ]
        }
      ]
    },
    {
      "cell_type": "markdown",
      "metadata": {
        "id": "xmyI_JahEyPK"
      },
      "source": [
        "이렇게 단순한 알고리즘으로 예측하더라도 데이터 구성에 따라 정확도가 78.77%로 꽤 높은 수치가 나왔다. 그렇기에 정확도를 평가 지표로 사용할 때는 매우 신중해야 한다.\n",
        "\n",
        "특히 정확도는 불균형한(imbalanced) 레이블 값 분포에서 ML 모델의 성능을 판단할 경우, 적합한 평가 지표가 아니다.\n",
        "\n",
        "예를 들어, 100개의 데이터가 있고 이 중 90개의 데이터 레이블이 0, 단 10개의 데이터 레이블이 1이라고 한다면 무조건 0으로 예측할 경우 정확도가 90%가 된다.\n",
        "\n",
        "MNIST 데이터 세트를 변환하여 불균형한 데이터 세트로 만든 뒤 정확도 지표 적용했을 때의 문제를 확인해보자."
      ]
    },
    {
      "cell_type": "code",
      "metadata": {
        "id": "pDplTjNzGshj"
      },
      "source": [
        "# 레이블 값이 7인 것만 True, 나머지는 False\n",
        "from sklearn.datasets import load_digits\n",
        "from sklearn.model_selection import train_test_split\n",
        "from sklearn.base import BaseEstimator\n",
        "from sklearn.metrics import accuracy_score\n",
        "import numpy as np\n",
        "import pandas as pd\n",
        "\n",
        "class MyFakeClassifier(BaseEstimator):\n",
        "    def fit(self, X, y):\n",
        "        pass\n",
        "    \n",
        "    # 입력값으로 들어오는 X 데이터 세트의 크기만큼 모두 0값으로 만들어서 반환\n",
        "    def predict(self, X):\n",
        "        return np.zeros((len(X), 1), dtype=bool)\n",
        "\n",
        "# 사이킷런의 내장 데이터 세트인 load_digits()를 이용해 MNIST 데이터 로딩\n",
        "digits = load_digits()\n",
        "\n",
        "# digits 번호가 7이면 True이고 이를 astype(int)로 1번 변환 나머지는 0\n",
        "y = (digits.target == 7).astype(int)\n",
        "X_train, X_test, y_train, y_test = train_test_split(digits.data, y, random_state=11)"
      ],
      "execution_count": 4,
      "outputs": []
    },
    {
      "cell_type": "code",
      "metadata": {
        "colab": {
          "base_uri": "https://localhost:8080/"
        },
        "id": "y1syP7U9H6-r",
        "outputId": "0f75c294-8f3a-4f92-e090-932b7f9185e5"
      },
      "source": [
        "# 불균형한 레이블 데이터 분포도 확인\n",
        "print('레이블 테스트 세트 크기 :',y_test.shape)\n",
        "print('테스트 세트 레이블 0과 1의 분포도')\n",
        "print(pd.Series(y_test).value_counts())\n",
        "\n",
        "# Dummy Classifier로 학습/에측/정확도 평가\n",
        "fakeclf = MyFakeClassifier()\n",
        "fakeclf.fit(X_train, y_train)\n",
        "fakepred = fakeclf.predict(X_test)\n",
        "print('모든 예측 0, 정확도 : {:.3f}'.format(accuracy_score(y_test, fakepred)))"
      ],
      "execution_count": 5,
      "outputs": [
        {
          "output_type": "stream",
          "name": "stdout",
          "text": [
            "레이블 테스트 세트 크기 : (450,)\n",
            "테스트 세트 레이블 0과 1의 분포도\n",
            "0    405\n",
            "1     45\n",
            "dtype: int64\n",
            "모든 예측 0, 정확도 : 0.900\n"
          ]
        }
      ]
    },
    {
      "cell_type": "markdown",
      "metadata": {
        "id": "V95VuHUlI1-R"
      },
      "source": [
        "단순히 0으로 모두 예측해도 450개 테스트 데이터 세트에 수행한 예측 정확도는 90%가 나온다. 특별한 알고리즘을 사용하지 않아도 90%의 정확도가 나온다는 것이 말이 안된다. 그래서 정확도가 가지는 분류 평가 지표로서 이러한 한계점을 극복하기 위해 여러 가지 분류 지표와 함계 적용해야 한다."
      ]
    },
    {
      "cell_type": "markdown",
      "metadata": {
        "id": "2xF4pPH13Teu"
      },
      "source": [
        "# 오차 행렬\n",
        "\n",
        "이진 분류에서 성능 지표로 잘 활용되는 오차행렬(confusion matrix, 혼동행렬)은 이진 분류의 예측 오류가 얼마인지, 어떠한 유형의 예측 오류가 발생하고 있는지를 함께 나타내는 지표이다.\n",
        "\n",
        "![image.png](data:image/png;base64,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)"
      ]
    },
    {
      "cell_type": "markdown",
      "metadata": {
        "id": "S-WUESpA4FH1"
      },
      "source": [
        "TN, FP, FN, TP는 예측 클래스와 실제 클래스의 Positive 결정 값(값 1)과 Negative 결정 값(값 0)의 결합에 따라 결정된다. \n",
        "\n",
        "* TN : 예측값을 Negative(값 0)로 예측했고 실제 값 역시 Negative(값 0).\n",
        "* FP : 예측값을 Positive(값 1)로 예측했으나 실제 값은 Negative(값 0).\n",
        "* FN : 예측값을 Negative(값 0)로 예측했으나 실제 값은 Positive(값 1).\n",
        "* TP : 예측값을 Positive(값 1)로 예측했고 실제 값 역시 Positive(값 1).\n",
        "\n",
        "    from sklearn.metrics import confusion_matrix"
      ]
    },
    {
      "cell_type": "code",
      "metadata": {
        "colab": {
          "base_uri": "https://localhost:8080/"
        },
        "id": "nDgkueRb5u7k",
        "outputId": "df3d28e2-4b6d-46a4-c5d5-99451f19ba97"
      },
      "source": [
        "from sklearn.metrics import confusion_matrix\n",
        "confusion_matrix(y_test, fakepred)"
      ],
      "execution_count": 6,
      "outputs": [
        {
          "output_type": "execute_result",
          "data": {
            "text/plain": [
              "array([[405,   0],\n",
              "       [ 45,   0]])"
            ]
          },
          "metadata": {},
          "execution_count": 6
        }
      ]
    },
    {
      "cell_type": "markdown",
      "metadata": {
        "id": "t2wbusv26CHV"
      },
      "source": [
        "TN=405, FP=0, FN=45, TP=0\n",
        "\n",
        "450건 데이터 중 무조건 Negative 0으로 예측해서 True가 된 결과 405건, FP는 Positive 1로 예측한 건수가 없으므로 0건, FN은 Positive 1인 건수 45건을 Negative로 예측해서 False가 된 결과 45건, TP는 Positive 1로 예측한 건수가 없으므로 0건 이다.\n",
        "\n",
        "TP, TN, FP, FN 값들을 조합하여 Classifier의 성능을 측정할 수 있는 주요 지표인 정확도(Accuracy), 정밀도(Precision), 재현율(Recall) 값을 알 수 있다.\n",
        "\n",
        "* 정확도 = 예측 결과와 실제 값이 동일한 건수 / 전체 데이터 수 (= (TN+TP)/(TN+TP+FN+FP))\n",
        "\n",
        "일반적으로 이러한 불균형한 레이블 클래스를 가지는 이진 분류 모델에서는 많은 데이터 중에서 중점적으로 찾아야하는 매우 적은 수의 결과값에 Positive를 설정해 1값을 부여하고, 그렇지 않은 경우 Negative로 0값을 부여하는 경우가 많다. 불균형한 이진 분류 데이터 세트에서는 Positive 데이터 건수가 매우 작기 때문에 데이터에 기반한 ML 알고리즘은 Positive보다는 Negative로 예측 정확도가 높아지는 경향이 발생한다."
      ]
    },
    {
      "cell_type": "markdown",
      "metadata": {
        "id": "W3IFn_8b-c4a"
      },
      "source": [
        "# 정밀도와 재현율\n",
        "\n",
        "정밀도와 재현율은 Positive 데이터 세트의 예측 성능에 좀 더 초점을 맞춘 평가 지표이다.\n",
        "\n",
        "위에서 만든 MyFakeClassifier는 Positive로 예측한 TP 값이 하나도 없기 때문에 정밀도와 재현율 값이 모두 0이다.\n",
        "\n",
        "* 정밀도 = TP / (FP+TP)\n",
        "* 재현율 = TP / (FN+TP)\n",
        "\n",
        "\n",
        "**정밀도는 예측을 Positive로 한 대상 중에서 실제 값이 Positive로 일치한 데이터의 비율**\n",
        "\n",
        "공식의 분모인 FP+TP는 **예측을 Positive로** 한 모든 데이터 건수이며, 공식의 분자인 TP는 예측과 실제 값이 Positive로 일치한 데이터 건수이다. Positive 예측 성능을 더욱 정밀하게 측정하기 위한 평가 지표로 양성 예측도라고 한다.\n",
        "\n",
        "**재현율은 실제 값이 Positive인 대상 중에서 예측과 실제 값이 Positive로 일치한 데이터의 비율**\n",
        "\n",
        "공식의 분모인 FN+TP는 **실제 값이 Positive인** 모든 데이터의 건수이며, 공식의 분자인 TP는 예측과 실제 값이 Positive로 일치한 데이터 건수이다. 민감도(Sensitivity) 또는 TPR(True Positive Rate)라고도 불린다.\n",
        "\n",
        "정밀도와 재현율 지표 중에 이진 분류 모델의 업무 특성에 따라서 특정 평가 지표가 더 중요한 지표로 간주될 수 있다. **재현율이 중요 지표인 경우는 실제 Positive 양성 데이터를 Negative로 잘못 판단하게 되면 업무상 큰 영향이 발생하는 경우이다.**\n",
        "\n",
        "예) 암 판단 모델 - 재현율이 훨씬 중요한 경우\n",
        "\n",
        "이유 : 실제 Positive인 암 환자를 Positive 양성이 아닌 Negative 음성으로 잘못 판단했을 경우 오류의 대가가 매우 심각하기 때문이다. 또한, 실제 Negative인 건강한 환자를 Positive로 예측한 경우 재검사 비용이 소모된다. ( + 보험 사기와 같은 금융 사기 적발 모델)\n",
        "\n",
        "**정밀도가 더 중요한 지표인 경우**\n",
        "\n",
        "예) 스팸메일 여부를 판단하는 모델\n",
        "\n",
        "실제 Positive인 스팸 메일을 Negative인 일반 메일로 분류하더라도 사용자가 불편함을 느끼는 정도이지만, 실제 Negative인 일반 메일을 Positive인 스팸 메일로 분류할 경우 메일을 아예 받지 못하는 경우가 발생.\n",
        "\n",
        "* 재현율이 상대적으로 더 중요한 지표인 경우 : 실제 Positive 양성인 데이터 예측을 Negative로 잘못 판단하게 되면 업무상 큰 영향이 발생하는 경우\n",
        "\n",
        "* 정밀도가 상대적으로 더 중요한 지표인 경우 : 실제 Negative 음성인 데이터 예측을 Positive로 잘못 판단하게 되면 업무상 큰 영향을 발생하는 경우\n",
        "\n",
        "가장 좋은 성능 평가는 재현율과 정밀도 모두 높은 수치를 얻는 것이다. 반면에 둘 중 어느 한 평가 지표만 매우 높고, 다른 수치는 매우 낮은 결과를 나타내는 경우는 바람직하지 않다.\n",
        "\n",
        "        from sklearn.metrics import accuracy_score, precision_score, recall_score, confusion_matrix\n",
        "\n"
      ]
    },
    {
      "cell_type": "code",
      "metadata": {
        "id": "yyoOo-sRFloN"
      },
      "source": [
        "from sklearn.metrics import accuracy_score, precision_score, recall_score, confusion_matrix\n",
        "\n",
        "def get_clf_eval(y_test, pred):\n",
        "    precision = precision_score(y_test, pred)\n",
        "    accuracy = accuracy_score(y_test, pred)\n",
        "    recall = recall_score(y_test, pred)\n",
        "    confusion = confusion_matrix(y_test, pred)\n",
        "    print('오차 행렬')\n",
        "    print(confusion)\n",
        "    print('정확도 : {0:.4f}, 정밀도 : {1:.4f}, 재현율 {2:.4f}'.format(accuracy, precision, recall))"
      ],
      "execution_count": 7,
      "outputs": []
    },
    {
      "cell_type": "code",
      "metadata": {
        "colab": {
          "base_uri": "https://localhost:8080/"
        },
        "id": "bMNxJQWFGWn7",
        "outputId": "5f8145f1-5383-48e5-d22e-aaf0693ed64d"
      },
      "source": [
        "import pandas as pd\n",
        "from sklearn.model_selection import train_test_split\n",
        "from sklearn.linear_model import LogisticRegression\n",
        "\n",
        "# 원본 데이터를 재로딩, 데이터 가공, 학습 데이터/테스트 데이터 분할\n",
        "titanic_df = pd.read_csv('./titanic_train.csv')\n",
        "y_titanic_df = titanic_df['Survived']\n",
        "X_titanic_df = titanic_df.drop('Survived', axis=1)\n",
        "X_titanic_df = transform_features(X_titanic_df)\n",
        "\n",
        "X_train, X_test, y_train, y_test = train_test_split(X_titanic_df, y_titanic_df, test_size=0.2, random_state=11)\n",
        "lr_clf = LogisticRegression()\n",
        "lr_clf.fit(X_train, y_train)\n",
        "pred = lr_clf.predict(X_test)\n",
        "get_clf_eval(y_test, pred)"
      ],
      "execution_count": 8,
      "outputs": [
        {
          "output_type": "stream",
          "name": "stdout",
          "text": [
            "오차 행렬\n",
            "[[104  14]\n",
            " [ 13  48]]\n",
            "정확도 : 0.8492, 정밀도 : 0.7742, 재현율 0.7869\n"
          ]
        },
        {
          "output_type": "stream",
          "name": "stderr",
          "text": [
            "/usr/local/lib/python3.7/dist-packages/sklearn/linear_model/_logistic.py:818: ConvergenceWarning: lbfgs failed to converge (status=1):\n",
            "STOP: TOTAL NO. of ITERATIONS REACHED LIMIT.\n",
            "\n",
            "Increase the number of iterations (max_iter) or scale the data as shown in:\n",
            "    https://scikit-learn.org/stable/modules/preprocessing.html\n",
            "Please also refer to the documentation for alternative solver options:\n",
            "    https://scikit-learn.org/stable/modules/linear_model.html#logistic-regression\n",
            "  extra_warning_msg=_LOGISTIC_SOLVER_CONVERGENCE_MSG,\n"
          ]
        }
      ]
    },
    {
      "cell_type": "markdown",
      "metadata": {
        "id": "OBQ5ZKQFIlSp"
      },
      "source": [
        "# 정밀도/재현율 트레이드오프\n",
        "\n",
        "분류하려는 업무상의 특성상 정밀도 또는 재현율이 특별히 강조돼야 할 경우 분류의 결정 임곗값(Threshold)을 조정해 정밀도 또는 재현율의 수치를 높일 수 있다. 하지만 정밀도와 재현율은 상호 보완적인 평가 지표이기 때문에 어느 한쪽을 강제로 높이면 다른 한쪽은 떨어지기 쉽다. 이를 정밀도/재현율의 트레이드오프(Trade-off)라고 부른다.\n",
        "\n",
        "사이킷런의 분류 알고리즘은 예측 데이터가 특정 레이블(Label, 결정 클래스 값)에 속하는지 계산하기 위해 먼저 개별 레이블별로 결정 확률을 구한다. 그리고 예측 확률이 큰 레이블값으로 예측학게 된다. 일반적으로 이진 분류에서는 이 임계값을 0.5, 50%로 정하고 이 기준 값보다 확률이 크면 Positivem, 작으면 Negative로 결정.\n",
        "\n",
        "<hr/><br/>\n",
        "\n",
        "사이킷런은 개별 데이터별로 예측 확률을 반환하는 메서드인 predict_proba()를 제공.\n",
        "\n",
        "![image.png](data:image/png;base64,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)"
      ]
    },
    {
      "cell_type": "code",
      "metadata": {
        "colab": {
          "base_uri": "https://localhost:8080/"
        },
        "id": "_xFN-ygoLpFH",
        "outputId": "a93abe59-5de6-4cf9-d503-8b6ea70dbdff"
      },
      "source": [
        "pred_proba = lr_clf.predict_proba(X_test)\n",
        "pred = lr_clf.predict(X_test)\n",
        "print('pred_proba 반환값 shape :',pred_proba.shape)\n",
        "print('pred_proba array에서 앞 3개만 샘플로 추출\\n')\n",
        "print(pred_proba[:3])\n",
        "\n",
        "# 예측 확률 array와 예측 결과값 array를 병합(concatenate)해 예측 확률과 결과값을 한눈에 확인\n",
        "pred_proba_result = np.concatenate([pred_proba, pred.reshape(-1, 1)], axis=1)\n",
        "print('두 개의 class 중에서 더 큰 확률을 클래스 값으로 예측\\n', pred_proba_result[:3])"
      ],
      "execution_count": 9,
      "outputs": [
        {
          "output_type": "stream",
          "name": "stdout",
          "text": [
            "pred_proba 반환값 shape : (179, 2)\n",
            "pred_proba array에서 앞 3개만 샘플로 추출\n",
            "\n",
            "[[0.46191519 0.53808481]\n",
            " [0.878675   0.121325  ]\n",
            " [0.87716185 0.12283815]]\n",
            "두 개의 class 중에서 더 큰 확률을 클래스 값으로 예측\n",
            " [[0.46191519 0.53808481 1.        ]\n",
            " [0.878675   0.121325   0.        ]\n",
            " [0.87716185 0.12283815 0.        ]]\n"
          ]
        }
      ]
    },
    {
      "cell_type": "markdown",
      "metadata": {
        "id": "Q7lWeEAuMn8H"
      },
      "source": [
        "반환 결과인 ndarray는 0과 1에 대한 확률을 나타내므로 첫 번째 컬럼과 두 번째 컬럼을 더하면 1이 된다. 두 개의 칼럼 중에서 더 큰 확률 값으로 predict() 메서드가 최종 예측을 하고 있다."
      ]
    },
    {
      "cell_type": "markdown",
      "metadata": {
        "id": "RFBkz1VmNKad"
      },
      "source": [
        "#### 사이킷런의 정밀도/재현율 트레이드오프 방식\n",
        "\n",
        "predict()는 predict_proba() 메서드가 반환하는 확률 값을 가진 ndarray에서 정해진 임계값을 만족하는 ndarray의 칼럼 위치를 최종 예측 클래스로 결정한다.\n",
        "\n",
        "이러한 구현을 위해 사이킷런의 Binarizer 클래스를 이용한다."
      ]
    },
    {
      "cell_type": "code",
      "metadata": {
        "colab": {
          "base_uri": "https://localhost:8080/"
        },
        "id": "_P7C7AP1NQeP",
        "outputId": "a6b6593a-2463-412d-9461-4878232d8e6e"
      },
      "source": [
        "from sklearn.preprocessing import Binarizer\n",
        "\n",
        "X = [[1, -1, 2],\n",
        "     [2, 0, 0],\n",
        "     [0, 1.1, 1.2]]\n",
        "\n",
        "# X의 개별 원소들이 threshold값보다 같거나 작으면 0, 크면 1을 반환\n",
        "binarizer = Binarizer(threshold=1.1)\n",
        "print(binarizer.fit_transform(X))"
      ],
      "execution_count": 10,
      "outputs": [
        {
          "output_type": "stream",
          "name": "stdout",
          "text": [
            "[[0. 0. 1.]\n",
            " [1. 0. 0.]\n",
            " [0. 0. 1.]]\n"
          ]
        }
      ]
    },
    {
      "cell_type": "markdown",
      "metadata": {
        "id": "rhiYjDASOSgd"
      },
      "source": [
        "Binarizer를 이용해 pred_proba 객체 변수에 분류 결정 임계값(threshold)을 0.4로 지정한 Binarizer 클래스를 적용하여 최종 예측값을 구하고, 이 최종 예측값에 대해 get_clf_eval() 함수를 적용해 평가 지표를 출력해보자."
      ]
    },
    {
      "cell_type": "code",
      "metadata": {
        "colab": {
          "base_uri": "https://localhost:8080/"
        },
        "id": "Bv426swuO6Yt",
        "outputId": "bab4208f-4a70-4e8f-b0a7-ee608c654dd6"
      },
      "source": [
        "from sklearn.preprocessing import Binarizer\n",
        "\n",
        "# Binarizer의 threshold 설정값. 분류 결정 임계값(default=0.5)\n",
        "custom_threshold = 0.4\n",
        "\n",
        "# predict_proba() 반환값의 두 번째 칼럼, 즉 positive 클래스 칼럼 하나만 추출해 Binarizer를 적용\n",
        "pred_proba_1 = pred_proba[:, 1].reshape(-1, 1)\n",
        "\n",
        "binarizer = Binarizer(threshold=custom_threshold).fit(pred_proba_1)\n",
        "custom_predict = binarizer.transform(pred_proba_1)\n",
        "get_clf_eval(y_test, custom_predict)\n",
        "\n",
        "# 오차 행렬\n",
        "# [[104  14]\n",
        "#  [ 13  48]]\n",
        "# 정확도 : 0.8492, 정밀도 : 0.7742, 재현율 0.7869"
      ],
      "execution_count": 11,
      "outputs": [
        {
          "output_type": "stream",
          "name": "stdout",
          "text": [
            "오차 행렬\n",
            "[[98 20]\n",
            " [10 51]]\n",
            "정확도 : 0.8324, 정밀도 : 0.7183, 재현율 0.8361\n"
          ]
        }
      ]
    },
    {
      "cell_type": "markdown",
      "metadata": {
        "id": "32NDdOEiQCCs"
      },
      "source": [
        "임계값을 낮추니 재현율이 올라가고 정밀도가 떨어졌다. 분류 결정 임계값은 Positive 예측값을 결정하는 확률의 기준이 된다. 확률이 0.5가 아닌 0.4부터 Positive로 예측하기 때문에 True 값이 더 많아졌다."
      ]
    },
    {
      "cell_type": "code",
      "metadata": {
        "colab": {
          "base_uri": "https://localhost:8080/"
        },
        "id": "rJA9PhnAQlON",
        "outputId": "67c33870-fe4b-4583-c172-0d9352b070cd"
      },
      "source": [
        "# 임계값 0.4 ~ 0.6까지 0.05씩 증가시키면서 평가지표 조사\n",
        "thresholds = [0.40, 0.45, 0.50, 0.55, 0.60]\n",
        "\n",
        "def get_eval_by_threshold(y_test, pred_proba_c1, thresholds):\n",
        "    # thresholds list 객체 내의 값을 차례로 iteration 하면서 Evaluation 수행\n",
        "    for th in thresholds:\n",
        "        binarizer = Binarizer(threshold=th).fit(pred_proba_c1)\n",
        "        predict = binarizer.transform(pred_proba_c1)\n",
        "        print('임계값 :',th)\n",
        "        get_clf_eval(y_test, predict)\n",
        "\n",
        "get_eval_by_threshold(y_test, pred_proba[:, 1].reshape(-1, 1), thresholds)"
      ],
      "execution_count": 12,
      "outputs": [
        {
          "output_type": "stream",
          "name": "stdout",
          "text": [
            "임계값 : 0.4\n",
            "오차 행렬\n",
            "[[98 20]\n",
            " [10 51]]\n",
            "정확도 : 0.8324, 정밀도 : 0.7183, 재현율 0.8361\n",
            "임계값 : 0.45\n",
            "오차 행렬\n",
            "[[103  15]\n",
            " [ 12  49]]\n",
            "정확도 : 0.8492, 정밀도 : 0.7656, 재현율 0.8033\n",
            "임계값 : 0.5\n",
            "오차 행렬\n",
            "[[104  14]\n",
            " [ 13  48]]\n",
            "정확도 : 0.8492, 정밀도 : 0.7742, 재현율 0.7869\n",
            "임계값 : 0.55\n",
            "오차 행렬\n",
            "[[109   9]\n",
            " [ 15  46]]\n",
            "정확도 : 0.8659, 정밀도 : 0.8364, 재현율 0.7541\n",
            "임계값 : 0.6\n",
            "오차 행렬\n",
            "[[112   6]\n",
            " [ 16  45]]\n",
            "정확도 : 0.8771, 정밀도 : 0.8824, 재현율 0.7377\n"
          ]
        }
      ]
    },
    {
      "cell_type": "markdown",
      "metadata": {
        "id": "2SH3w8FcS7b6"
      },
      "source": [
        "임계값 변화에 따른 평가 지표 값을 알아보았다. 사이킷런은 이와 유사한 precision_recall_curve() API를 제공.\n",
        "\n",
        "![image.png](data:image/png;base64,iVBORw0KGgoAAAANSUhEUgAAA4AAAACGCAYAAACMheTXAAAgAElEQVR4nO2dO5KqThvGH7/6LwUmmHIFsAKYxMjUDEJMJjM0mwRCyCY1muTACnAF1gRD76W/AFRU7rS3medXZdU5ozZ9ecF++71NpJQShBBCCCGEEEJ+Pf+7dwcIIYQQQgghhNwGKoCEEEIIIYQQ8kf4b/+PyWRyz34QQgghhBBCCFHMecTff01vEvLMTCYTyjQhhBBCCPmzVBn56AJKCCGEEEIIIX8EKoCEEEIIIYQQ8kegAkgIIYQQQgghfwQqgIQQQgghhBDyR6ACSAghhBBCCCF/BCqAhBBCCCGEEPJHoAJICHkoksCEaZowXReBGNuaQODm7blugNHN3ZTH67tI3HxtTBdBcqseqZoHgcRVKFsigOsmg/vykGO6MUngPmTfE3eCyaR43X2N1c6T2ufrY12vbt1E4GLwMhLyW5EFpX8S8iugTD8omS8NQBqOL/04a/iMIf2atxuJfekYhjQMRzr79mNHAo6MB3daHvqNLi+n35X2w8xiRxpF3/19Ez37nvmGBAzp+L6sm94hfTsSSweQxqDF6XhNBfNQS+wMl61jI9Ix+vXl8cd0J8bc61cidvrfw/kXr/TskXLYPGWxjLOKL9x6zgdcb8xzLPONs/XLpN/zfiXkN1G1H6YFkJCbIBCYE55CAoDm4TP2gWiJ5VdW85kXTHs1KiCSJD9ltzyE6SfmiLD7Gd3bUp88pFJCtrxiBzBe9eo2Evd4Ql166RMTgQA0K0SarjDdRvge3M1PxA4QLZeom96u/cr7di63Ol6NgZ2r7wDc0sn9kHkQSQDXLPW9zkppzXrKVsW1gjV283dYjZ96rjEdLxrArJGFi5eKB1rve/3BEAkSUazJtZ49QPM81d2/ug1b1zExzyyQo+e8JNtd5GLA9TTvE/nPxAbjp1LD23yH9SOZmQm5M1QACSE3R7PeMDcM+O/NW+gqTtx8Di8dum2XlBUNL3fZVQr87BretsIKpTGGc/KhsQqWBms2BZwYYdfpreyXhMx8GHAw679M9ZQ2q8d9ooUwi+EYZeW5xzwkLnR7A6yyQ9+z1Ss2tn6FQ5cEH0tg/qadXP+5x1Ri9EFHT+XgacgP8WqVrMO4ej57RALXNA/tmaaL3t7VVojYAeDE1euVetBaG+l1QYSVcpHBNxoOwHqhAd9bwJgC2XjFTXubA8sPPKv0EaIaKoCEkA4Um5/zk+ShrQULLDHHy4DvWuG5gmLAz45/66z09KWTZUTHcgtMX9Rut3r3047gKNiEJR9LbJ1Zi6WrJ1aILHZgwMBJFzULs0FKu0CwjmD4nwit47xrloc0dhDZ52tkIxrT/+QLkTFHWf97+jEp5RbKwT3Q4KUxnLPnzeE15MEjApi6Daw+D+18rgBbNx8qJrIzyQeWWwcrb+zzTyAwTawRI54DG1vHZIhiXEZ7w9yI8EUNkBAAVAAJITdGBCb05RTOdANbN+GO+FUX/zbYnm/Gr0Uny0i+QbzfHjeBqy8Bx8FuOXLTlLiwIwdxzcZ2u9RLCojb62RdU+myiAzfW+PUIrdHf4UBB3GjxbUf4mcHTF8uLCrPPKb+5JbuXgcd4h82dWP6kwgEiyXgZ2dKfojMB5aLx0j81J0Erh3BicNRB0YicWFOFviefyINLVheiDSL4SCCrU9gusHAZ1pumY2oARICgAogISXOXXz2p7DnLk39Tmdzl8XcMnQ4ud9b0k5cx4qMfsU1zL27VKV7Wbntmg24SBC45km/3cHHyhq8dLwr0V75i2WIMEzzWDVbh+kmAzY7Av82WzirN8XuTSMQP9hhivsYAAUC08bOiZGGIVKZwT9smnrO796K2LCZM/yspIAM2fRtsdRPLVn2IDOWjldji++qeMfsG9shTTaQfW8brFjPOab+5Apqn4OO3Jq8wmjj0K+hXsnX3uYwthv8G52pNhlnNet+IQSmjciJEVpVLsDtFup9vKu+BlZZirAsKJqFMM0Q+w4QLQdbSK2ZA+x+nkyxJuQ6UAEk5ECu5GS+AcBBLNNis5K7NGW+ARg+ssPfu5G7LObuT058FpNhhYfT+8heYI05PjMJKVOkmQ/j7DOVbccV7xSuRRuskB3cJVfARod5F9+iXLnWN7nyt1cWrDBF7BjYRjYWPfuVu5Ea2Nl6bkU8c9EctvEeSfaNrfEKHYBISskh8h5XxxDVbI4OhwVdBiISuKaOzTxDerDYHeV5G9nQzY5p2EUAU99bJjp8fjCXrnRVotw+Dxq8lYPIPrUmiyRXYoEItjJ3yTbL1zOO6YxOrs42oj4HHS3W5NE0JDG6RcyhCEz0VvqbDouGJmmJ7Ir4xHwOTmOnVboMCwSmjuU0RhZaqHYBbrFQJy4W6yLeNQ1hVcqVdrQG1h2OdGH7jaFfJeQ3QQWQkDM0bwUH57ECe2uT6mB64JAYwlkhDT1o+wtoXmkz3y8xSH7aHiMNrWN/NQvhp3+XQPjEXWAzjZGll5aivRLYs0V8LLdwVmkRE6XD/Pd24qJZtfEe0PFu2RD3LzsCtkvokwl0+zwDX1MM0eWhwuGwoGUgInBh5sfmSCtOJjQvzWMltxGWLSfnInFh6htM4+q27kGnebBCyGwOrI9uqbq9AZz4eACixF0yw7cC89tjjemMLq7OmQ+jOOhoRahxDWykLonR0Ni8nmhe2qr0V7PDj8rzuLokMKF1GjutSl72B0+F8jf4iWGFSNP0xBW2Fs1CmA6M9dZfoTyBMSFPyn/37gAhj4eFd9+AbruY7a1VyQeW8JFdcS/hKEu1mOArMuBXdVZ7w9xY4isJYV1/X3TACtPGzV/1+3UWhqO7kbQAIETm76AvdZjfcUlpVoAVQspQXXuqSVwsNrnLVOPeSfOQZi8IFnZ+cn7+WZEg+FhjuZsibmur4K6JbqrQPISph26rdS833Z486piyb2ynsw4b/gSubmPnZ0hv+Lx5Copn8eafgHd22CKCNSJjjuxhZVQgCT6wXu7yw6IuDwzVPUgSZLoOS3vYSSLkoaEFkJAK9lbAvG5QkZFv/kCxZk2IH+wqYpHKWSofHwvvlXFlAomr58p4SdHTvDyecBut75w978YXt0KktS5TZ2gWvMqT8wSuvsb3bA5nG2G9ONaaS9wJJqYJNyhsxomLyWSBzdTH7FmTOdbKVheuUQNRBWPG1B/xs2s/sBIJ3Emh/F3bmnxvF1AhkAQB3F5JlzR4nz6w1GEGxxhdkbhYLAH/8xreJmpIXB3r79c8Vm+M8tfXw6L0uvSw6MBDxM8S8hhQASSkktwKuF1+IFGW2vpGaC+Y1qUqH1wqQW0ZiC5xRnpVsp3kA/bOR1aRjMYKM/hjYkM6ddts2Zj03JAcGhYQIik2kYsbK+kWQpkitDyEWYzpNsKmqLxshRl8bBHtK5dbIWJni200tjhznuRETcKUM4bKVg92lX57zz2mHp3Bv+9pQ21IgWTvlnwrV+KbuYBWrbGJxeIDPy9veO96GLNH85BmMaabvIbpZDLBokiComrahBAQSYLAdQcm27rECiXS0Os31uqGml2NY6eIu2/4TN/EZF1dlwn55VABJKSGvRXQtiMY/vvNTtebuNx45tbJUyzMnC02o1PIXZHWOKOaGBUrbPjB12osXCq7nbZvWBqxMHNwaZ1dLLBYfOELL5h9ruBf0cp0mZymhJb3r/QHvM1PO6O/GsDobI5FVtmKORytMAyVrY79fpsb2FaeMjzrmHp3Bl54tDaey5My69BDUrXGKdI0hGdpwyx2RUzbQVb6KpEF1syBcZ4EplBOP35+8PIensaEq6J0ONGcYOz+btd1JVwI+YswBpCQWvLNcBSpqF2V1yBafiV4t4b8COdZAZf2AsHLJzxLQ+4OucCmwlpkhTG+JnlM3Of+R7+I89pgNSBOLt/4eL37Tc6xwhTNYYWi3bqWuN2ygzZhVFtSWy6cJ9+J/+4ZuvYyBTY/ELjCZvpeKJQnK5QPcVj257BCpPeIVy7ii13dRr2GZyGU95aKfSK3e/eDkMeAFkBCGrBmjgJrR9HWewxnt3f1Ker2JS5OagQ2uQ9aIbJ4io29zwq4wBorfMYO9mnhj+EuFkKZYYU1FoeU4Gt8v67weYOseG2cpiSvSzP/aFTVt6rIAnoL2lynurwalL9ykXe95I+aJ6fIS280n/bfj6vLljWDo6JGWw+uP6bryhP55WiPGhtbJsP31mlwXSbkb0EFkJBaBIL1Dv57zS9G38QDJ64+hQvV+carZROlWWHJFSzNXXpKbZzqdhqsMD35fOg9htUij9crpcOvfKmLg1GDhTDzYcBB/Ms3wuUi79neH1UEWCyniNO89MZ2OTDe8cpcX7YsvPu4qYv1c94vhOzJ4xDv+awQwRqRM6N1mpCCmymASWDCNE2YbsdixA2IwIWrqK1O10vcvO/mMTvePdvZkwSusjlVuT6/gyLb5LTB+nfn2lO/G4EkEaM3DDcvVSAa4ut6YeD1obwsv+DqS0zj48FF5hvAdonFVR8Y15iH8bKleStMN0PraT7mmIhaHq5MylXR8DI1ci+WmuRYup17v9wgKWsFAv82U8T8XSbkiCwo/fN6ZL40YEg/6/m1yr/G0hnQ1nAy6RuQxugLqmpn39yAOc1iGWcVXxi4Po/KMJmOpQNIANJw4hrZIyqIfUOimOv6lyJ5jB0Jw1ewnvn929pvJdcqUNb3bmSxUzmmqmdW5hvqnmVt9JiHm8hW5kvHiUc0IB9vTHchlg4cOXImlRI7pTm94Rq3NKRwnh5vziuJnV7zX7dume/IsctIyDNTtR+eFG9gMpmg+GdvRBLgY71EtA8VMQw4q8+KDGAJ3Mkar5UpjvOaQXVxDE587t7W1JYCRIIE5SKjAoGp43t1mWVQJC702tgfA/5JH+vb6dApXFZwbpiHtsD+iyQQV57TGzNGpgkhR4QQ0FhwmRBCCHk6qvbD411AExe6vQFWpZiR1XxAkgALYUt669MaXGOTRBR1zepiuPTuRUa1OlfAzIfRN/VxY2HUnjE3VojYAeDEvzZWiRByfaj8EUIIIb+HkQpgXoPM8E+tfZrlFUkChsZIVHNag2ts3aP6mk13VZKalLbWGmOEEEIIIYQQUs9IBTDD97amRpr+il5ZgWstX9dNBy+SBKKctCFxMZmYMB8wux0hhBBCCCGEjGGkAqjj1djiO6t4K/tGRX3qelrcFUNLtQto0c2fNXRdP2amskJk/rRf358NkUBBElJCCCGEEELIkzFSAdTgrRxEtgm3pFGIJIBpRzD8d6U1V9S6gOZY3if8M1Ol9lL/+dM0xy6SplhCfVmrSF62c0UiuyK+Ma9Vd1pg+BGLbxNCCCGEEEJUMT4JjBVCZnNgrR8UCX29wTTOkCpJJSkghECSBHBdE2ZwlyIyB04L8YawoMFLYzgw4GdVcYRhpRJ82c5VO11bq84KqxPuEEIIIYQQQn4f/ylpRfMQph7CTh+uz4ppzRwYto1J2QxlGDAwxXw+w/t7itNkdD0zbBJCCCGEEELIH0aNAtgZC6FssHVZIVLZTY1sbUsJAkJkyP594WuzQ7QFLWSEEEIIIYSQp2W8C+iBIhbONOEGyUUGzTyBiwnTdJUlIBnVzCHrqI7l9iwmz45gYIOF+4GPfwDe3hGml7GCnfooBESSIAlcuKZ5uF4T1syBcR63V/RLFft+Ba4L071cL0IIIYQQQsjvQ6EFUIOXZoCrY7n5wbt3ap3TvBTZi4uFvcMP0BzzJgKYDQlUjhjwsxSDQg2tELKztRFoVjd1zJwtbH2C5XkPDQOYTjF9nWH2+Y5QAwJTx3dL37pbQpupdKuFAcOYYjp/xew9REo3WkIIIYQQQv4Eil1ANby9Gljuat61Zpii5s2TD3pIpdfyoQTuZN27h9dBy5OpdNLZbmxrU6hMEkIIIYQQQp4bhS6gJbZL6Hco6k4IIYQQQgghpJ7rKICGj6yq7ADLDBBCCFGASFyYZh5XHigILE8CM2/PdRGMbC4JXGVtdUMgcPP+u27Qyc8kj8svH9Cayvvadg3Va3hzD5vimn3nvqqNxFUnf3mTAVx3aNksFWPK21E+rhty+/u4Gyf1m+++xurmSeUz+NGuWbdmInAxeAlHch0FkBAyjENyosndHgpPzWH+1G9mWxEBzErPhyI5lqrsV00U4+8lO0O+cyfKM6hZIdJ0hek2wuZnXFsAYHkp0s85EHUIU2jB8kJlbdWSBHAL5clNAC9Mka6miKJvZB2+rnnp2QFtHk8vRKIsUVvlNZAgEfkF8jX8xBxd1jCBW3d/HV46Jua4zWwXThVXrffcX6LBKtpQIzMJ3MU3ZmH3TOnqxwSoH9dtucl9PJR9feceazz2mVHHoHkSx+fAsR11z+CuDLnmPqmlGwSdn5X7mtvZWTZJzXvH69rFPX5+lSuA2tscxs1cQFkHMEflPHBO74oV0lI+BiuEzHwMSNg7Hs1DKjP4BmD42cnGN/ucA2sd5k20rKrR51ma6y9/lxmrpnQIcv7SLxRVHa+NXa9XGi7bAqC9YNrWP5EgcMuWrerM153aGoPlISyUp11XBbhhbg/zotuw9ZGWBbPhGroNWx+iqFkIKz2LSq/4Wk/Okhy5ycnhQ2NCtwKRBHDLc1Jn8bRmSmRGBGvs5u/NyfZGjgm4/bgaD9nOX6qetde+j69NWdEa8szoSt081T1z6p4DSua75bDoXDZ6XlPzPhH7QLTcYPw0anib77C+g4lZvQVQ85A2PqQHZu28wEIow5YHnEo0eKlEn8OW67azR+U83HpOSTVtm1rSyF1/sDW8VFxc0zyEnz4Qra9rmbRCSJn2e74M+c41scLq347MhwEHs179rFMahh6yJHB1G5vX1THMIVvhdWNDv1I5HRG4x02vee6mVC1vtVzMbQzHAIy9NaH8GiwQ+W9co6ImJWTqoddWoIPyqqRUUqUXhoUwK+bqVS/+1vE5nbjQ7Q2wOh4KZatXbGz9Slb3BB9LYP5Wml3VYyravO240GF/mb9ipzymi473Uw6ehpqDl72idRhXz2eGSIoSZnl7vUu5WSFiB0eL5djnQLeL1jz3iwPaWtnoigZ8bwFjCmTjn/ra2xxYftzcCkgXUEIIObCvZ3oFNzLtDXNji+8xvjZ/FoFgscTWmd31gCpxbUROjNSzjpsWzYKXxnAiGx+Kf8FFYELfvGKVlTbYuiL3ZhHAnNiIYACRfRU35RPldawrtBXm7lN1G0lVG0orRBY7MGDgZJ+oWZj1PlkSCNYRDP8ToXXslWZ5SGPntP6wKi+p5AuRMUdZ/1M7JuAu41LGtZWDe6HlzyEY8LOK8Q050BEBTN0GVp+Hdj5XgK3qGXRrkg8stw5Wo6xQAoFpYo0Y8RzY2DomY+uba2+YGxG+bqwBUgEkhBDyINS5D+pYbh3ENZuY7VIvfbYUT1FrNTpuSE+C8xs3qgI/O8CpNEFamDnA7kflrijBx3ILZ+Vhv8fWLA+fPrDUj30eYvQSgQtTXwJ+BpmmSLMY/hSIbL1waR0/DhGY0Jc4KK9SSsh89wizov3aNex10cu4oiFoqlwWkeF7a5xa4/borzDgIFacKE/87IDpy4USrG5MwD3G1Z38Pp32jWUR/7CpG9OfJD90g5+dKfkhMh9YLq4fa6uWBK4dwYmHe7mJxIU5WeB7/ok0tPLYxyyGgwi2PoHpdo8JPCW3ykY31gCpABJSprRhNN3z0+uz+IYTt5oi21kRE2ReuJKU39+33/Kw+OkWXyECF+bJprluAyfybF1nY3LdgQlArjVXlTFWNRN1/lnTRZCM8cov3Neu4ZZSbDBOD5j7yEXL+tUkEMoVHB3LLY4n83sL58V3zhWw40nveUZH8zSdY/c1a6TCfbCI6Wz64T6NuSx9rsX9KLSOwfntG9WmH+mBm84mki9EFS6v2tv8ZIPdK+xNJHDNCfQNMM8kUu+gWcILU2SxD8fYIlpWK2k9LoR/my0M/x1WeUo0C+++gW2FGbx2Dctff5vDiOx6973B8YVVbE8U7WHKto7XOqt/9o3t6D5WNbttsGKpGBNwj3F1J1dO+xryko8lts5KUYjSb6Beyc9zfWzwb9QjQl2yqQ4XQ2Dm3huhVeUC3Gyh3se66mtglaUIy0KiWQjTDLHvANFysHXUyk8Qb6pUUwEkpEwpCct293p2ej3Dd/n0uvTZyF5gjTk+szzONT1JRJLANXWsMS+1l2GFTePDItoAs89SIpFV7m5Q3pgdTtk/yxvmFV43lxu4xNVhb15P+hBPd4iG+uZcY64Kl5MNTmOsUDGeys9+zoCvzQO5G+UIEcBdnG8w+slF6/rVJBDKFZzcvcmJz9zkLr6TK2B5pjIHcSlmO8/oeHQxOigPfdas98QFMPUlpnH2EDGK1rsPI7JhlpO+iASBqWMJH++q+2i8onofu0N/Y2MCV18D8xhZGlZudDXLO25mNv9GbEY0vM0NbDcfJ5s8IQJ8LJsUlLZmu8WAydQDkrHWwEtXuipl+3CoUqlJafBWDiL71PVVJAFMOwIQwVbqKtl2EKFiTPcY1/4CXZLA2Ij6JrNLXNhRvYfBKJpiV28Ub3h+eNdJ6Rc/2NXN45A4+/ODm1Kyqe5eGEMQ+fN5GiMLLVS7ADcc/CUuFusi1jUNTw+0DmhHa+CYMI/tuGysvZEFpX8S8isYLtOZ9A1IJ656y5cGDOlnp59F5YdzYqf+/cw3JAxfZqd/rb9+7EicXL9mBL5xds1YOqhuM3ZqrtWJG81V5ksDjjy+09RWLJ0Oc3QtYgcSOHsZhnTi7PJzneWi6/rVrUfDOlW+V3O92Lnoc/c160cWO9LA5bxV9d1oWOzq/mUyyzIZx750HEMa/v79DrKTxdJ3jNL6GtLxY3n5lZFyGDsVzwZ5Ma+xUxp/7EiMmPOLS8WxjLPhN1LmO9JouQ8a1zB2Lu+lvq+qOWyleu1O5vr8vmma+8yXjoETmTGcK8hMw3NC+ZikvOG4epD50uiz5lnTnEl579+TKup/O7r1tdMz4+L3u+069ddu+q0bOoZOZLF0DNTI5JWu2dali73Z4Y1Rv5dtVO2HaQEkpA81iTyq44IAIMFXZMCvMQ1o3gpOH1cK6x3+2fVFUdunfLqmL8+dcHLXq2jtIkhOsxVaocqstCVUztVFkHTunlI3r/fmvAyETNOTOIr+cnHr9dtf79SVLvmKztavz5p1pHAnPbjbVB+5ntDkemnNnEu3QXOBxeIDPz8veH9PkXo9JrBwlzyub4qwnBRGFdas8tkg/m2wLVlYWk/zu2TPrHnp9jiXSs0LkUp5TN5S3AdCCIgkQRK4cM3cPbl6DqoywlYnuoidivvualkGe6J5CE9cm1OkYZ3MPFEppkccV/aNbUUMZDV5Vt+d/xgeBg9F8fu9qdiciGB9mWjooSjCJfIfkQaZvNLVR3sf3AYqgIQMoHOyB/GD9vKi/V0G9tcXgVmk4v48ut/Jy2KjQO7Cl61e8b1eF3U6zRFBy/372or4wa4iRuWYBOT8s0/MALm49fpdxHmIAOvdmZtjnzXrRO6m+P26QlbrbnPSy/ayOlZ46TaYpkjTEJ5nQbu4xqNswC28+8ByccwwJxIXeV6GZhe+02Zqymr0efVRoioUTj0PQD3Ehy4WC3x8feHnZYb3z9w9mQCAhfdRpZgetYTQ2HF1R/zsGg4Zyx9M4E5y5S+9ZuDfI7iACoEkCOD2ylapwcszTp24vB+eQZ8PcLBSQ+LqWH+/dj5ArGnktgdnd4idpQJIyAA6J3vo5CvfP2A9v36RJTDOH3JdepTH+BTWi+wTq9dvrPWBSWB69bVL514wrUthXUracfzsNbhiGYgyA+XipuuneVg5WyyL2gbi3wbT1dmPfp8164SF8MSi1lKzqyohzShGbFSFyDdaSQDXNZXEsmheimwOrAsFW18D80xVLd0r0apwpkjTFGEYwrOOCniX50Qey2Qjqklmsl2qSgCTJzlRkzDlZACtMWz6ZHyK/epDtyuNCbjZuDp0BP++py21QkvWofjKyh/QfD8oNztWrbGZezu8vOG906FaCc1DmsWYbuzi0HGCReGZoWLa9p4AgevCVFhH1Qol0tDrN9bLRpqfY7nLwcnB+2jvg9qY7+tABZCQPiQfWPbKMGZhVtpEn9PblaKoYzOzUFhfqvqSK4ataHng8qdvXCf98MC5qnI5qfts3bw+Pgrk4trrh33Sky8kIsHHpmpj1WfNBvWgpmbXMRFOH+vRabKBPhvVdkXUXORupV8/L5i9fzYnFujB3o0y31BUJ2/pTjeFWq1S3UYHK+7+k17avilT2Keqa4xSGFqT2IyVmSL5TqVLyZXGBNxgXJ07Ai88HuBUueIpsQ49LFVrXHg7dDwkvmzSOnHzTfsqkahxwy8U04+fH7y8h9dz0ywdTjQ/0+7r+VFXvuWaUAEkpIZo7Z78eIjEhWnnxW/7/F5aYQxnZ5+56+Xp//UGV4rLDGv767/nP3AHH/3TjISuWWV5yDd+56dsIgmwGJOVb99XhXM1Xeqn/SxiwswzM9chI+PFZ9cjLC9XLANxRj+5GLt+xxIGvbb1RRzferHGbv5eaRnrs2b3xgrPsqF23qi2KaISaeFWGnoWrEu/0gehfRx9lepmHlHh/N1oL9Obp5O/Kopd8ZRYh0g/qtzw5f55eeW1KKyYDpq8DCyEN3JRriYvm9PJdVkhVAAJqcGZz/C1WBx/TNbAvOwykrg4qa9W63qU14nZu+vt46PWWCFrcKVw4k/MvhquDw3e56l7xiT3z8hjACMbxzpuFkKZYYU1FuUfyPUGUwVuMErn6ryfRUzY57mJoHiwz7Eujf8LmK3gYIulbt52U1mcNB5c0VqLWfeRiw7r1zLH1nuucOZzVfStdV3ydO/bLRoKJPdYs760bv6GxBmS26FS4eygTCrxZ7we7RZoBSnwa5IHXZOrjuvWMazk96E9amzsngzf28uar9fmv9tejiJMGREAABmJSURBVJAn4sVCmFoI6963QkhZ++4Zubue5XX5fG6Fyq+RovEShXvGxUesFNKr6EOYwmrrQuLWb6ScuDpuQfVcdeknUGRktHAxrbJiTq6N5iG9nPS2L/WSi8Z5aZvjKlnpsi5WCClH9m0oVojM30H/Xl0hXoY8FxbCzMdO/8bqrqf1w7HCDP5Ox/fqSpmX86vg3V9j8U/Au1Gw6G3GRci1EBBJBli3zRZ6uHqwRuSsbr5noQWQEHLKTYPWCRmHSBI8Qcbtq9I50dJvR9w6/Xr/BF7NCCSJGO2+qXkrTDcfLR4IdageE6BqXEQdf+uZoeFlauReLjWeJLqde8fcPmpB4N9mivgOeysqgISU6eyqSDhX5BZoL9OKBAKncT5650yoeZKM+o2AAhe8E66fWOCiDqSiTHK33iB2ul4Rk2rXuRrq4+oW9kODl565arfOvYaXRvnTYdu6goyZFsLPV3z13s0OGVP+vduM6148SmmYEvtn4gCN5VrPDHXzpH6+rbAlgVTx6qWH9UjasneTPq/RLIIPfK/u49EwkTJ37plMJpDtfj6EPA2UaUIIIYQQ8pep2g/TAkgIIYQQQgghfwQqgIQQQgghhBDyR6ACSAghhBBCCCF/BCqAhBBCCCGEEPJHoAJICCGEEEIIIX8EKoCEEEIIIYQQ8kf4r/yfyWRyr34QchUo04QQQgghhBw5UQBZM438JlgHkBBCCCGE/GWqjCF0ASWEEEIIIYSQPwIVQEIIIYQQQgj5I1ABJIQQQgghhJA/AhVAQgghhBBCCPkjUAEkhBBCCCGEkD8CFUBCCCGEEEII+SNQASRkBElgwjRNmK6LQNy/nWdF3fgFAjdvy3UDDG1KJG7eH9NFkIxfEBG4N11flfL0rLI5dA1FEsA1J5hM9i8TbpAMlqXhqJFlQCBxn3cN3Y5rKAKztGb5upXHqvqeJoSQp0YWlP5JyK/gKjKdxTLOsrO/+dKAIf2s+is1DVX8aUg7l+1mcVbV+uMzdPyZLx3HkIbhSCcuvhw7EnBk3KeZi7/E0gGk0bNDsQMJoOL6sXRGr28NyuRSymeWzdFrGDsSMI5yJKWUWSwdAxKGf/X7KosdaRi5LPt74Rkgy5XEjoI1lLJSPlSQ+dJAfu+crlcmfaP/fZh/9fy+GNEWIYQ8KVX7YVoACbkggXtyklx66TZsXcfELJ3Iay+YVjbjVrcxmWAyOWujqZ3Obebt6rYO/ez0+66IBK5ZOp03a6wQXcZfheYhDFOsphF2Py2fbZg/fTKBm5Q/rOPVqG3oKCOnX4IVSsS+ARiv0IeMp77zauQSeG7ZVLaGFw3DtSM4cYrQ0o5/1iyEaQYfS3wk9d8exqkcaVaINF1huo3w3bGFC4tlnYXLmnW4vxpkrEk++lBav5O10jykWQynV2MCgdnQ16r7ghBCCF1ACbnEQigl5OGVb0qcuPS31IPW2kyIOP9iqa3iFffb5pTbzHyjus2TVwqvtYM3QAQwdRtYfR76lq2AjW6ebdQbaNjwm301CSusnq/MhwEHM6tzQwizGH6NcmG9TIHtEvpJf21E/Xp7eU0Vcgk8t2wqW8MzxA92td/X8DIFdj9j/LyrFJ9cjhwDMF73xwU9lNbEhW5vgFVWur9esbH17vfXCecyVvEaKh+HS4TIYgcGDLyen5BoFma9mtfgpS397XNfEELIH4EKICEtiGCNyIkRDt1YPi3F6fqI0/PkY4mtE59YVDQrxKcPROuO7VZu+HPlZ/qiZluX93OGXkusWXiZAojsS+XUjgDDR1bRZ1X8XbmsZtAaltFeMEWEr0rFSeBnN1Le6hQfzcJskOlbIFhHMPzPs/vLQxo7iOzzA5OxBxDq0DpZI/uRx/h1sIQSQgihAkhIIyLAYrkFojXcYjNxmWzgcTZWj0WCrwhwKkwq2tscxvYb2eCmvxDBwK60ybWHLkLiwo4cxDWa1Hapl9baxYV+oNKK1hXK5Slj1xAAYCGMHUS2eZhTAIULs44lfLyPVLbVKj4ZvrcG5m8VSqn+CgMO4iseQIxni6V+adUfch+LwETuaCAvLKG9vQQIIeQPQAWQkFoSuPoS8DNk8RQ7W4fpJoCXVlqjfh+Fe9Uo96kKNy8FJF+55SMtrcMgnUsEMO0IThzWWo4MPyutdf3nbsdfl8szVK6hFUJmc2BdUhgXa2CVIVPmRnip+Aw7vNDxamzxXXWKkn1jO6TJ1jjOwrqtBAN+dumuWXcf1yvxAv82Wxj+O05DNz18+ga2FRPU7UCAEEJ+L1QACakkgWvaiJwYqaflyRliB4hs6CY3DN2wMHO22Py7PIEX/zbYDk2SUlh7VmODHEUAs1CkruJGqTwGEKBcnnGNNdQ8hOW4sjRPClOWNpEkSMRQy9Kl4lOl9BxcOGsVLg3e6tJiKZJcIQYi2H3lr2sc5x1i6uqVeA1vcwPb5eLE5VMkuZXcqDiBerxDHUIIuS1UAAk5RyRwJzZ20xhZeVdZbLaNbQS7Y1ycNXNg1MWIXav7IsGjhL5Y7z6w1GGW6qiJxMViuYWzGrKJ3GdqHLdpE4kLU99gGmdIRyiSjetbGQM4xeAwMoVy2dr3K6FSNkevYRdrV122Ufv62SUPyX2aTNsVFkvd3gBOfCZ7v9sirHkpsniKjV2ah/X4+5sQQn4r/927A4Q8FgLBYg34NRsHK0QaA+a6Y3NWiFSGPa7friBob3MYSxuTtn26E0PeO0OI5iHNXuAu1tCXdv43w0GcyRN3rW4IBIX1S1pAnrL+1Kph+G1NJAg+1ljupoiztFMfGhN/9FpfC6EcnKJSrVzuv/OMsqlqDa0Qstf4HxTNQ5h66DaSEQcQe0SCBDosbUxDufvqUp9gWfFu631cgVbIswhM6N+r+z/7CCHkgaEFkJATNHhpirDp1NgKkV64QCnYWMHCexd3JM07iX2TsVNhbZKPswHSLIRpKT4tDRs27XXzKBCYOpbTsuJwmrK+PQYwgauv8T2bw9lGWC+OWQITd4KJacINCifKxMVkssBm6mOmMIZxuLXonnIJPI5s3nMNH8SsPphua6i9TKstw0pr6zWXb1BptRNCQCQJgsCFaepYDgqOJISQ3wUVQEJ6UJ1qXEfYZXMsAphtrmWPVMBdQRmIftRsUIssjJtz18cB7YcyRWh5CLMY022ETVE43goz+Ngi2lfftkLEzhbbaIO22vLHft5vfUfJ5Z373o/rreFlFtXzlwqXz6Pla3wSmIsBqFlDK+ymxD9Cbb0KN159uS2VZjGxWCyw+PoCMMPnZ1Zbu5MQQv4SVAAJ6UieanyHeUXR5U6pxs+tI38oRgcoLDS9N6i5xQerDGloqdtwXhSczhNJlNFfDcBZdS9afqf1HS2Xd+z7KBSvoXaRRfUapT3qLV+jrV7PuIZI4O7v/5bK9fVuvE1jTpGmKdIwhOdZGOW1SgghvwgqgIR0QQRYLAE/S+FVFF3eLj8eMgPjuGyFKspAHLHC/PT9kNyi0wZ1b/G59c4twcdyC0el/+c1eFK5BMbKZheeZA2fmPFraCGUbVa5/DnUbvwfqUwSQsgfggogIZ2piaeyZnCww0/LPqjdAlaTpr0tW6EdVZQcuF22wmemXA9MLwUHiWCNyDDyGnsdrWiD13c04+QSeG7ZVLOGJeWhaSwPzPOu4aXldhgWwixWpEwSQsjvhgogIV3QXjCt20wnX4g6JNtot4DlLksXnmCtbk4dXo8Qr/OAlOuBZfudowiwWE4Rp2lhReu2wR28vmNQIJej+v4AsqlmDS2EmQ8DDuInvY+eeQ3bECJBJ0OjZilSJgkh5HdzEwVQJC5c04RpuieFWis/exGIfxoTlCc76NaWKu5xTfJoWMhL2plnxYZdmHYEw39XUExYIEkELXUjGO/a9QVXX2K6rzO4L4y9XWIxOgPKNdb3FnIJPJdsXmkNxbVdVssYqKhfPpLHXcO2zKO6bkPXJ91jWhvorEwSQshvRhaU/jmOzJcGIAFIw8/Kb0jfOP9b1zZjGWeK2up6yYu/xNK5GBN5ZJTJdIksdqRh5PINQMJwpB93l4nYN47frX0Z8reKWdY6fkVjjx0Jw6+4j0t9iZ3KPlTd45lvdLr377W+Y+Xynn0fg9o1zH9XWuegRa6U00GWDx99wjVUTuwc9iBNL/6WE0L+ClX74UnxBiaTCYp/diNxDzERTnzmUy8SuLqN3UnR4ryO12ZeVci4qPHVVp/H8JGlHrTGtnpQGkMVp+NSdE1yM3rLNPnzCCGgMVXgU8M1JIQQQo5U7Yf/G9yaFSKLgYW9u3RVKdJz7zo3lgdme4M7MxArhJTh5d9FAFP/xoyB4oT8Kag4PD9cQ0IIIaSZUTGAmjXDVFVPCqoLGt/WYT/5WGLrzBTFzhBCCCGEEELIY6AgCcwWS/0yaHtIxuy8oDGw+jxmF+td0HgsiQs7chDX5IkupxyfTNyHrbFFCCGEEEIIIecoUAAN+NllWuj4sqIzgCYFSuDfZptnrSt58GiWh0/fwPY769HWQEQA047g7LPHVVBOOS5l/ecIIYQQQggh5NG4eR3AegUqLwa7XS7O0pkHWCy3MCpyYitVxkQAU18CfsYisYQQQgghhJBfyUMVgte8FFk8xcY+Wvb09QbT+LqZN0XiwtSvfx1CCCGEEEIIuScjFUAdr4a6GEAA0KwQqZR54V4nhkxThNaVlDKRIHBN6GtglXW7zvhC04QQQgghhBByH0YqgHn5hvP4v/1LpTVNCAGRJAgCF2aXmoGtJHD1Nb5nczjbCOvFMdto4k4wMU24QRFVmLiYTBbYTH3MLj1RCSGEEEIIIeQpeAwX0MS9sCDqyy0Q2cX/TSwWCyy+vgDM8PmZwTfGXtRCKFOElocwizHdRtj8FO+EGXxsEX3vPxoidrbYRhv8jL0sIYQQQgghhNyJ4YXgT0jgTmxEQO622ZBFpdKFsq4gey2KS0JcFK7PE9Isv48f0V8NwFmBIYKEEEIIIYSQZ0WRBdBCKNuscrm7aHuGzQTu3hLoNhd2uF08XoKP5RYO/T8JIYQQQgghT4xCF9DcajYeC2EWK1Im+1GuK6iXggxFsEZkGNjdsiA9IYQQQgghhCjmpjGAQiQQXfQnzVKkTPajXFcw22ugIsBiOUWcpkhjJ1cSzUC1Eyp5WgQC14RpmnDd4XIhAhemacJ0XXQ9YxBJANcsx87miYueUTaTwOw9/moUrUdSrIfpntQlHdyrAes78opK5gF4XtkcuoaP0PeiJ4rWUCBxVd1ft0UkLtyOaygC8yyXgHkyVtX3NCGEPDWyoPTP4cSONACJlpfhZ61NZb4h4cT172exzNqb6dH1037l13ekA8hyNzLf6DwGcl+UyHQFWexIwzCkYTjS38tG7EjAkZUSm8XS6XQPxNKBITuJVuxIwJBOXPpwFkvHgIThy6eUzsyXRtfxn33PcfL1OMxH03rUNXPxl3zd+t7rsbNf5/Pr91jfAfSWy/xLv0o2R6/hne+rQWvYldgZdn9dcC0B9g/7h9P1yqRvDPzNzWIZZ4raIoSQJ6VqP6zWAljU8JMtry7lIbSXKYxDFtDLl67b0PWJMpdMfeZcuoBGEXZ+duJqqnnp0TpI/hB5GRKBolZlusJ0G+G79XsANAvhxT0AJIkYeKqfwLUjOPFZ7UrNQphm8LHER3P47G0RCVyzdDpv1lghtBdMh7SveQjDFKtphF1bmt6KjMOHe34ywWnYsY7X2lu9PlbZCiVi3wCMV1w/aniEXALPKZvK1vAOfa+6ZkmOhqzhhcWyzsJlzTrcX6X+1L5GesGU1u9krTQPaRbD6dWYQGA29FW3Yev02iGEkHMeowxEFQqVyS5oVnjRdpZlle1rXqq0xiF5LBK3etOj23Zpg9lhY9mwUZ1MdNi2Dv3MTakT4gc7OJhVxsBqeJkCu58H2e6IAKZuA6vP4321Aja6iZYcT0ca5rH3AVDFfS6lhMx8GLVzWtlQY6yy9TIFtkvoJ/0tMiUPRJlc5o09r2wqW8Mzrt33SsUnlyPHAIzX/XFBD6U1caHbG2BVCl9YvWJj693vrxMuDwQuXnE/Fe3yEiGy2IEBA6/nJyRFRu7uNNciPrxSD/zFJoSQI4+rAD4AmsafjL+IFZ5vKg342fFvnZMP1W1UT15p/9Ii2gumiPBVucET+NmpypBbnK6POD1PPpbYOvGJRUWzQnz6QLTu2G7lPOaWAlWZgPN+ztBLd9AsvExRqldaetkRYPjIKvo8FGVymTf25LJ5yaA1LHPtvtcpPpqF2SDTt0CwjmD4n2f3l4c0dhDZ54r9uAMIlWidrJH9yGP8OlhCCSGEUAEkpAnxb4OtMcfbmD2rSBC45QQFx6QSp4kLum7QLISxg8g24SYnWQ7gmjqW8PGuOEPuMBJ8RYBTYVLR3uYwtt/IBjf9hQgGdqVNrj10d5u4sCMHcY0GVXYNn0xcXOgHTqzeStKCErkEfo9sjl3DG/VdreKT4XtrYF4lBPorDDiIFR5AqGeLpX5pgR5yH4vARO5oUPLgKSyhzNxNCCGXUAEkpBaBf5stnNXbCPehBK5uY/O6OlqDshVeNzZ0N4HmpcM2aFYImc2BdWlju1gDqwyZMnenwr1qVHsVbl4KSL5yy0fZTXyQziUCmHYEJw5rLUfl7MBS1n/udqiQS+C5ZbOEyjW8Sd8vFZ9hhxc6Xo0tvqtOUbJvbCv+3Eqja3DJuq2EUwt2231cr8Tn94Phv+M0dNPDp29gWzFB3Q4ECCHk90IFkJAaRLDAEnn9R7fGlejgZlW3KUq+EBk+Pj3ruHnULHifPozoa9zGQ/MQluNf0jx5RXmTKpIESafaK9fAwszZYvPv8vq5BWtgkpTC2rMaG4crApj6EjhL9KQMxTGAe5TIJfA7ZPMaa3j1vl8qPlVKT/saavBWlxZLkeQKMRDB7it/VpgnOauyat85pq5eic9rEG+XixOXT5EEWCy3pdjKLm0RQsjfgAogIZUk+Fhu4azSIp6m2pXIiW/g8tflVL4uK6J93yx41rsPLHWYpTpqInGxWG7hrIZsIveZGsdt2kTiwtQ3mMbViZ66Ys2c6mzFtTGAU4wLgXsguQTuKpuj1/DB76tOa1hhsdTtDeDEZ7L3iC6g6tC8FFk8xcYuzcN6/P1NCCG/FSqAhFwgEJg2IifOrQrFqfh2qcPsm1rPmsHZLrEoF5IWCYJFnrBC7xJnVZsEpdqScHq6fecseEVq9+lmfbCG6WtglfVMWgLgYl3OUtZ38kwrYt7yPpyl+6+hMfFHU7biizm3EI6yNiiUS+B5ZVPVGnZKhNPyeoTskucWS5kiDa2afo09gAAgVHgV5O6rqmIAgaIMipRHC2baTTYIIeQvQgWQkBMEEjdP+JCVNBTNSxE7wDZa90yNn6d5n38fFaCJvsb3PEYWWsPjrJ4JzUKYlsaZhqjfl9VtUAUCU8dyGkMe1uU0ZX27sSuBq6/xPZvD2UZYL45ZAhN3gomZJ0Ap/oDJZIHN1MdMYQzj8G2zarkEnlM277mGz55MxMJ7hwOIthq8amrrNZdvUGm1EyKvlRkELkxTx3JQcCQhhPwyZAEqqsQT8swMkunYkTB8mVW+mUnfgHTi838X34Mj48rvdb64dGBIv/rix174hgTQ/KodQx/yMappq+sVq/4YS8eANJy4sR+xA2nsJ69tPbJYOih9fj9W5/iN2IFEh/U4tulLo21d+rR3Org7yqWUjyebUvka3qbvRR8r2j4fR+81vJb8NcreLcjnw6jqeOy0jtcwDGk4jvT9WGZZQ1uEEPJLqdoP0wJISBkrbHDryk+tByWbEAHM4gS9OS15u4vWqWWm4nXtuK+BVBcyP4utuig+nlt8sMoa3NoGcFFwOk8kUUZ/NQBn1b0WnubVu4OOtaJdSy6B55VNxWt4m77XW75GW72uKX9Xo+TG3eLGPMyNN0WapkjDEJ5ngaV9CSEkhwogIbegiIVrLl4+NkZMNSrKQByxwgx5eE6fDaqFUN4jlqdItqLS//NReUrZ7MIfWsM7MT6Tq4VQ5s+FeroecIxUJgkh5A9BBZCQW6HpeG3c6HThNPHJdet0/X7K9cD0UnCQCNaIjLzUQrNV7Ei7hVNNGYir8MSyqWYNn/++Gix/bdlQ7aiipInKbKiXltth5DGtapRJQgj53VABJORhyJMVNG+kLISZDwMO4kfPTvgElLNSZvudowiwWE4Rp3mphe2y2wa33cKZu6Q9Z1b6x5VNNWv4/PfVYPl7gmyoQiToZGjULEXKJCGE/G6oABIyGAMVNYYb0PAyNY4Fni9eOnTbhj6ZYEhW/wNK0rQ/J+Ndu77g6ktM93UG94Wxt0ss+qfZPEMgScQNckn2lUvgd8nmldbwpvfVkDVs41by15+2zKO6bkPX22JUu9FZmSSEkN9MU4YYQp6Zm8r0TTPl1WcShNKMheppz7Q4MEvmOR3WI6vJIFiVITDzjU6ZA+MumSRVjbELN8/geFvZVLuGD3pf9VjDh5O/exA7HbKhMhMoIeTvULUfnhRvYDKZoPgnIb8CyjTpixACGlMFPjVcQ0IIIeRI1X6YCiD5tVCmCSGEEELIX6ZqP8wYQEIIIYQQQgj5I1ABJIQQQgghhJA/AhVAQgghhBBCCPkjUAEkhBBCCCGEkD8CFUBCCCGEEEII+SP8V/7PZDK5Vz8IuQqUaUIIIYQQ8lepyoj/X9ObhBBCCCGEEEJ+D3QBJYQQQgghhJA/wv8BOrEcGWzVuRAAAAAASUVORK5CYII=)\n",
        "\n",
        "precision_recall_curve()는 일반적으로 0.11 ~ 0.95 정도의 임계값을 담은 넘파이 ndarray와 이 임계값에 해당하는 정밀도 및 재현율 값을 담은 넘파이 ndarray를 반환한다."
      ]
    },
    {
      "cell_type": "code",
      "metadata": {
        "colab": {
          "base_uri": "https://localhost:8080/"
        },
        "id": "q_RWmbEjUV8y",
        "outputId": "b2222cc6-d05e-41e9-fc73-99a60e24590a"
      },
      "source": [
        "from sklearn.metrics import precision_recall_curve\n",
        "\n",
        "# 레이블 값이 1일 때의 예측 확률을 추출\n",
        "pred_proba_class1 = lr_clf.predict_proba(X_test)[:, 1]\n",
        "\n",
        "# 실제값 데이터 세트와 레이블 값이 1일 때의 예측 확률을 precision_recall_curve 인자로 입력\n",
        "precisions, recalls, thresholds = precision_recall_curve(y_test, pred_proba_class1)\n",
        "print('반환된 분류 결정 임계값 배열의 Shape :', thresholds.shape)\n",
        "\n",
        "# 반환된 임계값 배열 로우가 147건이므로 샘플로 10건만 추출하되, 임계값을 15 Step으로 추출\n",
        "thr_index = np.arange(0, thresholds.shape[0], 15)\n",
        "print('샘플 추출을 위한 임계값 배열의 index 10개 :',thr_index)\n",
        "print('샘플용 10개의 임계값 :', np.round(thresholds[thr_index], 2))\n",
        "\n",
        "# 15 step 단위로 추출된 임계값에 따른 정밀도와 재현율 값\n",
        "print('샘플 임계값별 정밀도 :', np.round(precisions[thr_index], 3))\n",
        "print('샘플 임계값별 재현율 :', np.round(recalls[thr_index], 3))"
      ],
      "execution_count": 13,
      "outputs": [
        {
          "output_type": "stream",
          "name": "stdout",
          "text": [
            "반환된 분류 결정 임계값 배열의 Shape : (143,)\n",
            "샘플 추출을 위한 임계값 배열의 index 10개 : [  0  15  30  45  60  75  90 105 120 135]\n",
            "샘플용 10개의 임계값 : [0.1  0.12 0.14 0.19 0.28 0.4  0.56 0.67 0.82 0.95]\n",
            "샘플 임계값별 정밀도 : [0.389 0.44  0.466 0.539 0.647 0.729 0.836 0.949 0.958 1.   ]\n",
            "샘플 임계값별 재현율 : [1.    0.967 0.902 0.902 0.902 0.836 0.754 0.607 0.377 0.148]\n"
          ]
        }
      ]
    },
    {
      "cell_type": "code",
      "metadata": {
        "colab": {
          "base_uri": "https://localhost:8080/",
          "height": 388
        },
        "id": "oE1Tkt0hW_aW",
        "outputId": "7b1ec767-09f1-4cbd-bf3d-97461d52c05e"
      },
      "source": [
        "import matplotlib.pyplot as plt\n",
        "import matplotlib.ticker as ticker\n",
        "%matplotlib inline\n",
        "\n",
        "def precision_recall_curve_plot(y_test, pred_proba_c1):\n",
        "    # threshold ndarray와 이 threshold에 따른 정밀도, 재현율 ndarray 추출\n",
        "    precisions, recalls, thresholds = precision_recall_curve(y_test, pred_proba_c1)\n",
        "\n",
        "    # X 축을 threshold값으로, Y축은 정밀도, 재현율 값으로 각각 Plot 수행. 정밀도는 점선으로 표시\n",
        "    plt.figure(figsize=(8, 6))\n",
        "    threshold_boundary = thresholds.shape[0]\n",
        "    plt.plot(thresholds, precisions[0:threshold_boundary], linestyle='-', label='precision')\n",
        "    plt.plot(thresholds, recalls[0:threshold_boundary], label='recall')\n",
        "\n",
        "    # threshold 값 X 축의 Scale을 0.1 단위로 변경\n",
        "    start, end = plt.xlim()\n",
        "    plt.xticks(np.round(np.arange(start, end, 0.1), 2))\n",
        "\n",
        "    # x축, y축 label과 legend, 그리고 grid 설정\n",
        "    plt.xlabel('Threshold value')\n",
        "    plt.ylabel('Precision and Recall value')\n",
        "    plt.legend()\n",
        "    plt.grid()\n",
        "    plt.show()\n",
        "\n",
        "precision_recall_curve_plot(y_test, lr_clf.predict_proba(X_test)[:, 1])"
      ],
      "execution_count": 14,
      "outputs": [
        {
          "output_type": "display_data",
          "data": {
            "image/png": "[encoded data removed]",
            "text/plain": [
              "<Figure size 576x432 with 1 Axes>"
            ]
          },
          "metadata": {
            "needs_background": "light"
          }
        }
      ]
    },
    {
      "cell_type": "markdown",
      "metadata": {
        "id": "GghQRfDaUUDp"
      },
      "source": [
        "추출된 임계값 샘플 10개에 해당하는 정밀도 값과 재현율 값을 살펴보면 임계값이 증가할수록 정밀도 값은 동시에 높아지고 재현율 값은 낮아짐을 알 수 있다."
      ]
    },
    {
      "cell_type": "markdown",
      "metadata": {
        "id": "hs07JoAbY0qd"
      },
      "source": [
        "# 정밀도와 재현율의 맹점\n",
        "\n",
        "Positive 예측의 임계값을 변경함에 따라 정밀도와 재현율의 수치가 변경된다. 임계값의 이러한 변경은 업무 환경에 맞게 두 개의 수치를 상호 보완할 수 있는 수준에서 적용돼야 한다. 그렇지 않고 단순히 하나의 성능 지표 수치를 높이기 위한 수단으로 사용해서는 안된다.\n",
        "\n",
        "<br/>\n",
        "\n",
        "#### 정밀도가 100%가 되는 방법\n",
        "\n",
        "확실한 기준이 되는 경우만 Positive로 예측하고 나머지는 Negative로 예측한다. 예를 들어 환자가 80세 이상이고 비만이며 이전에 암 진단을 받았고 암 세포의 크기가 상위 0.1% 이상이면 무조건 Positive, 다른 경우는 Negative로 예측.\n",
        "\n",
        "정밀도 = TP/(TP+FP) 이므로, 전체 환자 1000명 중 확실한 Positive 징후를 가진 환자가 1명이라고 할때 이 한명만 Positive로 예측하고 나머지는 모두 Negative 예측하더라도 FP는 0, TP는 1이 되므로 정밀도는 100%가 된다.\n",
        "\n",
        "<br/>\n",
        "\n",
        "#### 재현율이 100%가 되는 방법\n",
        "\n",
        "재현율 = TP/(TP+FN)이므로, 모든 환자를 Positive로 예측하면 1000명 중 양성인 사람이 30명 정도라도 TN이 수치에 포함되지 않고 FN은 아예 0이므로 30/(30+0)으로 100%가 된다.\n",
        "\n",
        "이렇게 숫자 놀음에 불과한 방법으로 한 쪽 수치를 극단적으로 수치 조작이 가능하다. 따라서 정밀도 또는 재현율 중 하나만 스코어가 좋고 다른 하나는 스코어가 나쁜 분류는 성능이 좋지 않은 분류로 간주할 수 있다. 그러므로 정밀도와 재현율의 수치가 적절하게 조합하여 분류의 종합적인 성능 평가에 사용될 수 있는 평가 지표가 필요하다."
      ]
    },
    {
      "cell_type": "markdown",
      "metadata": {
        "id": "DeWaEItji044"
      },
      "source": [
        "# F1 스코어\n",
        "\n",
        "F1 스코어(Score)는 정밀도와 재현율을 결합한 지표이다. F1 스코어는 정밀도와 재현율이 어느 한 쪽으로 치우치지 않는 수치를 나타낼 때 상대적으로 높은 값을 가진다.\n",
        "\n",
        "![image.png](data:image/png;base64,iVBORw0KGgoAAAANSUhEUgAAAe8AAABhCAYAAAD/RCnRAAAgAElEQVR4nOy9d3Bc53nv/9negG3AAoveAYIAAZJgL4IpFimSRUqOrHKl2LKUq9iJnMSZe5NMMs71z5PcxLm5ia8zk8j2xLaiFlO2JZtNEjsJkiBIoncQjQAWvewutrffH5pzDJAgWMQCSuczgyGxOGfPe9r7vO/zPs/3kcVisRgSEhISEhISDwzy+90ACQkJCQkJiVtDMt4SEhISEhIPGJLxlpCQkJCQeMCQjLeEhISEhMQDhmS8JSQkJCQkHjAk4y0hISEhIfGAIRlvCQkJCQmJBwzJeEtISEhISDxgSMZbQkJCQkLiAUMy3hISEhISEg8YkvGWkJCQkJB4wJCMt4SEhISExAOGZLwlJCQkJCQeMCTjLSEhISEh8YAhGW8JCQkJCYkHDOX9boCEhISEBIRCIeRyOQqF4rb2j0ajAMjl0pzsThIOh/H5fAQCAaLRKFqtFr1ej0KhIBAI4PP5CIfDyOVydDodOp0OmUx219slGW+JJUcoFEKhUEidkMTngkgkgsvl4siRIygUCkpKSigqKrql7zh37hz9/f0kJydTWVkpvTt3iHA4TF1dHT/60Y8YHBwkHA5TWVnJnj17yMzM5O2336aqqoqJiQny8/N59tln2bhxI2q1+q63TbrDEvedWCxGJBLB7XbT2dnJkSNHuHLlijiTkJD4LOP3+6mvr+e9997jnXfe4dy5c4RCoZvaNxaL4ff7OXToED/96U/54IMP6OjoIBKJ3OVWfz6QyWQYjUYKCgqQyWTU1dXR1NTEzMwMSqWSjIwMjEYjvb29nD9/nvHx8XvWb0kzb4n7RiwWw+l04nA4GB0dZWRkhLa2Nq5cucJXvvIV0tLSpBmExGeeaDSK2+1mamoKAK/XSywWu6l9hYHvzMwM4+Pj2Gw2Zmdn72ZzP1coFAry8/N56aWXiIuLo7e3F/jEqOv1enbt2oVcLmdwcJCRkZF72l9JxlvivhGLxejr6+PQoUOcP3+e7u5uWltbKSkpYc+ePTfdgUlIPMjo9Xq2bNnC4OAg8fHxrFu37qbdrnK5HIPBwO7duyksLCQtLY2Kigpp0HsHUSgUGAwGbDbbvPsik8nQaDTEx8ej0Wjuebsk4y1x35DJZFitVlauXElhYSGDg4P82Z/92f1uloTELRGLxYjFYjc0mLFYjGg0ilwunxfQpFAosFgsvPTSS8jlclQq1XWPAZ8YbOH/wvdUVlayefNm5HL5ou2IRCLIZLIH3rhHo1FkMtkNA8PmTgCut61wX273usy9N/cSyXhL3DdkMhlJSUnExcXh9/upqam5302S+IwwNTVFf38/PT09jI6OYjQaKS8vZ2JigoGBAeRyOXl5eSxfvhyj0UgsFsPlcnHx4kVGR0cJh8MkJSWRnJxMbW0tFouFVatWkZubKx6jr6+P2tpa+vv7USqVJCYm8vDDD5OUlDTPUPj9fhoaGmhpaWFmZgaA/Px8Vq5cSXp6unjc/v5+YrEYRUVFbNy4EaVSSSwWo6uri8bGRvr7+5HJZGRmZiKTyUhOTmblypW0trbicDgYHx/HZDKxdu1asrKyREPk8/lwOBxcuHCB8fFxZDIZWVlZrF27luTkZGQyGW63mytXrtDe3s7o6CgpKSnk5uYSDAapq6sDoLS0lKKiIhISEu7IPYpGo+IxBwcHmZ2d5aGHHmJ2dpb+/n5MJhO7du1Cq9WK5zEwMMCZM2dwOp2o1Wpyc3NZv349JpNJPF9hGeLcuXP09fXh9XrRaDSkpaXxyCOPoNPpAJienqalpYXa2lox0t9ut7N27Vqys7NRKn9rHhcbKNzMIOJuIBlvifuKVqtFq9Xi9/vvi+tJ4rPJ5OQkdXV1nDx5ktbWVoxGI+vXr8dqtRIKhXA6nRw6dIhNmzaxY8cOcnNzcblcnDlzhosXLxIOh0lJSSE5OZnBwUGmpqZ44okn2L17NyaTidraWvbv308sFsNqteJyuaiqqqK/v59HH32UFStWiEbxV7/6FW1tbcjlchISErh8+TJVVVVUVlayc+dOtFotJ0+e5MKFCygUCh555BHWrVuHQqHg9OnTVFdX4/P5yM3NJRaL0dDQwMjICCtWrKCwsJDGxkbq6uro6OggPT2dlJQUMjIykMvlTE5OUltby6lTp1CpVGRnZ+PxeLhw4QIXL15k9+7dFBUV4Xa7aW9v59ChQzQ2NlJYWEhGRgYmkwmlUsnExATnz59nw4YN7Nq1i6ysrE99j6LRKENDQ5w+fZrz588zOTlJZ2cncXFxjIyMMDMzQzAYFKPna2pqOHjwIGazmaSkJIaGhmhsbKS1tZXnnnsOm82GQqGgu7ub/fv309DQQEZGBiqVis7OTg4ePIjH42H79u3I5XKqqqrYu3cvVquV4uJivF4vZ86coaamhpdeeomCggL0ej1w87Pre2nEH2zfiYSEhMQCqNVqcUbd29tLc3MzTqeTpKQkysrKyM3Npa+vj3fffZejR48yOjqKSqXCbrfj8/no6OigqamJ8fFxLBYLfX199Pf3Mzk5SX9/P2+88QYnTpwQ16tXr15NOBzmF7/4BadOnWJqagqXy8Xx48d59913uXLlCgUFBWzcuJGUlBQuXbrE6dOnxVl7QkICU1NT9Pb2Mjo6SiQSIRQKcfToUS5duoRGo+Hhhx9m+/bt2Gw2JicncTgcyGQyEhISUCqVOBwOurq6cLlcwCdpTg0NDezfv5/a2loKCgp46KGH2Lx5M2azmXPnzvHWW2/R29tLNBolPj6euLg4GhsbOXv2LJ2dnajVaioqKigtLaWpqYn9+/dz6dKlG0ZUR6NRQqEQwWBw0e0MBgM6nY7x8XGam5u5ePEibrcbhUJBe3s7nZ2duFwu6uvref/996murqaoqIitW7eybNkyJiYm+M///E/q6uqYnZ1laGiIw4cP8+abbxIKhSgtLaWiogK9Xs/Zs2c5duwYExMTuFwumpqa+Pjjj5HJZFRUVLBp0yYMBgP79u1j3759OByOJZ3xIs28JZYcsVjsvrihJD47ZGVlkZSURCwWo6WlBb/fz3/7b/+NdevWoVKpmJqaQiaT8b3vfY8PP/yQjIwMHn/8cV555RVcLhdvvvkm8fHxPPXUU5jNZtGIqdVqzp49yy9/+Ut27tzJhg0bKCsrY2Zmhocffph//ud/pra2ltWrV2OxWPj+97/PyMgIjzzyCE8++SQajUZ06aakpGAymUhPT+f3f//3aWlpobGxEfjE+Pl8PoaGhojFYpjNZqLRKBqNhq1bt4puY5PJxFNPPUVcXBxdXV04nU7xGszMzHD06FEuXrzIww8/zFNPPSW6oNVqNePj47z++ussX76c3bt3U1lZicVi4Wc/+xmTk5OUl5fz4osvkpiYiNfr5ciRI7S3t9PY2Mjjjz+OWq1e8D2NxWKMj48zPj4OQF5eHhqN5pr1ZKVSycqVK4lGo7S3t9PR0cGyZcvYtWsXMpkMrVbLpk2biMViHD58mKqqKjZt2kRlZSVGoxG1Wk1PTw/Hjx/n5MmTFBQUUF9fzy9/+Uump6d5+eWXWbt2LX6/n/HxcQoLC0lOTkar1RIXF0d6err4WUJCAna7nfHxcfbt28evf/1rNm7cSGZmpnieS61Pkoy3xJJjqb0kEg8mgptTqVSi1+tRqVTis2U0GvniF7/Ij3/8Y5qbm7l06RI7duxAqVSK2yQkJLBmzRoSEhIoKytDpVLR1tbG+fPn8Xg8yOVy2tramJycJBwO4/F4iEaj9PT0UF9fT15eHhcvXqSoqIi0tDSMRiNKpZKdO3dSVlaGTqfDZDIt2HaZTIZSqSQuLo7jx49TW1vLuXPnSEhIoLKykmeffZaUlBQx+nkh49LU1ERTUxOxWIzVq1fPU27T6XTYbDYCgQCnT5+muLiYdevWidfKYrGQnp6O2WwWr6VWqyUWixEIBBZ1Ifv9fn7+85/z1ltvodVq+f73v8+yZctEF/RipKWlUVBQQEFBAdu2bcNgMFBVVUVHRwdOp5PZ2VmOHDmCWq0mFAoxOTmJUqmkvb2d4eFhWltbGRwcpKSkhPz8fPR6PfHx8Xz5y19mx44dWCwWUQHt2WefZefOnajVasbGxjhz5oy4vi8EBS7ljBfJeEssSZbySyPx4HG1YRNmdnK5HJfLxdTUFOFwWAxSEiKP1Wo1CoWCuLg4otEowWAQj8cjduyCezsWi2GxWHjllVdITk4mOTmZvr4+wuEwycnJWCwWcWCgVCpJTk4WI8MXcs0KaUgvvfQSWq2WQ4cOcejQIVQqFR999BE7d+7k6aefZsuWLdc958uXLzM6OopCobhGcnVuZLXH48Hv9xONRlEqlWRmZopyn3Ovm/D/m3k3fT4fU1NT6PX6G7qe57YlMTFRnFWrVCrkcjlTU1O43W7xmodCIWQyGbFYjMLCQl577TXsdjsJCQm43W5mZmaQy+XibF8mk6HT6dBoNCgUCvE8HA4H//Vf/0VjYyNGo5Hk5GQxoFDgZte5b+Xa3Ckk4y0hIfG5JBqNEovFUKlU81yjCxkswcAoFArRwOt0OvLz8yksLJy3vU6nw+v1MjY2Bnyy9ny14plSqSQajd7QsLlcLtauXUtRUZG47l5fX09VVRVWq5XVq1eL0dNXo9VqUalUhEIhAoHAvL8JAw/4JH1s7lKVMBi5evvFfp+LSqXiC1/4AkajEYVCQUZGxk3nrVssFgwGw7z7IJyHQqHAaDSyatUqDAYD8FvDKQywBGN9tTEVBkqRSAS5XE5zczPvv/8++/bto7y8nPXr15OVlUVXVxdVVVUMDg7icrnw+XwLtvPqwaCUKiYhISFxl5jb4QYCATo6OvD5fFitVpKSkhY0MFfnCRuNRjIzM1GpVPj9fiwWC8XFxfNmc06nk2g0KrqdJycnmZqaIhgMihkVLpdLTFkrKChY8LjBYJAPP/yQkpISnnjiCWKxGD09PRw8eJADBw7Q1taGz+e7rvHOyckhKSmJnp4eRkZGxIGC8N2CByElJQWz2YxMJiMcDospZ7disOeiVCqpqKigrKyMSCQiGuObQafTXXMfMjIysNvttLW1EQqFyM7OJiEhAblcTjAYFIMIBSEVi8XCxMQE4+PjmM1mFAoF0WgUj8dDXV0d+fn51NfXc/ToUSYmJti9ezebNm3CaDSKA4Hx8XGuXLlCQ0MDRqORoqKi657//fISStHmEhISn0mEGVgsFsPn8zE5OYnH4yEQCDA8PMwvfvEL3G43BQUFFBUVIZPJmJ6exuv1EolECAaDOJ1O3G434XAYAJvNJs7Srly5QkdHB+Pj44RCIdxuN2fPnuXkyZMMDw+Tk5NDRUUFLpeLy5cvMzg4iNfrJRAI0NzczOHDh6mpqcHr9eJyuQgEAoRCIXw+Hy6XC4/Hw8mTJzl16hSDg4MYjUZWrlzJ1q1bxVzvWCyG2+3G4/EQDocJh8N4vV48Hg+5ubksW7YMpVJJS0sL4+Pj+P1+ZmdncTgc9Pf3Y7PZ2LBhA+np6Xi9Xqanp8UULZ/Ph9vtxu/343a757XP6XQSDAava7iUSiU6nY64uLhFxVGE9ghR6cK5z5WIzcvLo7y8HIvFQmdnJx0dHczMzOD3+8VUs48//hin00lJSQnFxcX09fVRXV2Nw+HA7/fjcrlobm7m5z//Od3d3UxOTuJ2uzGZTOTm5qLX6/F6vczMzIieh87OTg4fPsypU6dwuVy4XK5rrrHwEwwGiUQi4r0Unpe7ieI73/nOd+76USQkbkA4HKavr4933nkHm83Gtm3bKCwsvO3yiBISoVCIzs5Ojh07RmtrK9FolISEBGQyGadOneKf//mfMZvNvPrqqzzxxBM4nU4+/vhjzp07R1dXFzKZDJPJxNTUFImJiWK5R7PZjFwu5/jx43R2diKXy0lPT+fSpUscOnSIrKwstmzZQmJiItnZ2Zw9e5auri68Xi9msxmPx8Mbb7yBTqdj9erVhEIhzpw5w9GjR3E4HCiVSiwWC3a7nb1799LW1kYsFiMnJwe3282vf/1rHA4HpaWlrFu3jpqaGi5cuEBtbS1utxuLxUJ8fDwZGRlYLBZmZmaoqqpCo9FgsVjo6enhV7/6FQcPHuSrX/0qTz75JDqdjpaWFo4ePSpuazab0Wg0hEIhLly4wLFjxxgcHEQul2M2mzEajej1+nliJrdCJBLh8uXLnD59mnPnzjE0NERaWhqhUIhIJILdbhcV5xISEgiHwxw6dIiOjg5SU1MJh8OcPHmSd955h2eeeYZly5aJXpHq6mpqa2sxGo0YjUba2tr4t3/7N8rLy1m7dq1ozC9fvkxOTg6JiYm0tLTw/vvvU1NTg9/vJyMjQwx0FAZSTU1NqNVq8TkaHR3l3LlzXLx4kZmZGSwWi5j7fyseh9thUeMtyMYJazY38wP3T3FG4sFC0DY/ePAgH374IefOnaO2tlZcp+vo6KCnp4eioqJ5gSYSEjdDOByms7OT8+fPi7PW7u5ujh49ytDQECtXruS1115j69atGAwGJicn+c1vfiO6kpOSkkT3cmFhoehW1Wg05Ofnk52djcFg4PLlyxw+fJjR0VF27NjBpk2bRDd8YmIiJSUlxMXFcfnyZU6ePElDQwPLly9n27ZtpKWl0d/fz+nTp9FqtaSnp2MymQiHw6xcuZLGxkaysrIwmUwcO3aMY8eOEY1G2b59O48++iharZYTJ04wMTFBXFwcKSkpaDQa9Ho9WVlZZGRkkJubS3p6Oj09PRw+fJj29nYSEhJ48sknefrpp0lJSWF6epq2tjba2tpIT08nOzsblUolpqedP38elUpFeno6FosFv99PZmYmCQkJt13+MhKJ0NLSQmtrK0qlUpwB+3w+tFotBQUF4ntvMBjIzMxkxYoVuN1uLl26xPnz55HJZDzzzDOsW7cOo9GIRqMhJSWFiooKgsEg3d3dnD17FofDwcaNG/niF79ISkqKeI7CDLu6uprh4WFKSkp48cUXCQaD2Gw2tmzZwvLly2loaMDj8ZCcnExiYiIqlQqlUsnMzAwOh0NUcNNoNASDQfLy8rBYLHdVhnbRIZMg/9fe3i4aZCHIYy5Cp6pUKrFarezYsWOePN9SRKhmNTY2Jgod2O12rFarZCTuEYLbzO12EwwGSU9P56tf/aqYxhIOh3G5XEtaKEHit8zMzDA8PMzExAShUAibzUZWVpYYSHSvmRusFBcXx7p167BarXg8HrRaLcnJyeTn5xMfHy/Olnbv3j3v/Reili0Wy7x+zm63s2PHDkpKShgeHsblcomGOiEhQdQnj4+PF2VI+/v7mZmZQa/XU1hYSHp6Okqlkvz8fHbv3g0g9rHCMV966SUxoG5kZIRQKCTO6O12O5FIhIceegifzyf2zYKSW3x8vHgsq9VKUVERY2Nj4rmnpqaKs1uLxcLKlSvFKHihHQaDAavVitFoFNsXi8VuORBtIRQKBQUFBRgMhnliLoLU7Ny0Pa1WS3Z2NmazmZycHHENPyUlheXLl8+TR01MTGTDhg2YzWZGR0fx+XyYTCYKCgpIS0tDoVCg0WjYsGEDVquV4eFhwuEwZrOZzMxMkpKSsFgsKBQKcYCm1+vnpcgJIkAymYz8/HyCweC8ttpstrv+zMtii6y2t7a2cvz4cc6ePUtrayuzs7OkpaWRlZU1z1USCoWYnp5maGiIwsJC/uzP/ow1a9YsWePd399PU1MTXV1dzM7OimkS2dnZrF+/nvLycsmA3wNisRgjIyP09vbi8/nECFIBn8+HUqlk/fr183J0JZYWoVCIiYkJTp8+LRoyYU20vLycTZs2kZeX96k6+lslFosxOzvL/v37+Zd/+RdisRg/+MEPWLVqlWgU7sSSjOCdFNKsFntGo9GoGO18dRrW9RAKichkMtGz+Wm8UOFw+I6d+/1EWFO+mUIsQjGY651zOBwWByTCdwn3aSn3OYvOvO12Oxs3bkSv11NTU8PY2BgbNmzgy1/+sqjUA5/Un21qauIXv/iFeAGW4kkLgSvHjh3j4sWLxGIx0tPTCQQCnDhxgmAwSGdnJ4mJidjt9ttey5G4OWQyGSkpKaSkpNzvpkjcJrFYjJmZGT7++GMOHz6MxWLBZrPh9/s5ePAgH3/8MS+99BLPPPMMOTk596xfcLvd9PX10dfXh8fjAT7Je7bb7SQnJ9+UYMjNIBjCmzGGNzI0CzH3e+9Ef/RZ6dNu9jxu5t4s9F0PwuBm0StgtVpRq9V4PB7cbjfJycls2LCBHTt2zDPe8ElEoMPhEPMml6LxjkQidHZ2cuTIETIyMvjGN75BVlYWkUiE//iP/+AnP/kJv/rVrzCZTLz22mtYrdb73WQJiSVNMBikp6eH//2//zevvvoqe/bsIS8vj8nJSdauXct3v/td/uu//gudTsfXv/71e1Z8pqGhgbfffpuPPvqIwcFBdDodf//3f88zzzzD008/TWlp6T1ph4TE3eKGwxen00l9fT3BYJCMjAwxIALmuxuEJP/09PQ7Nqq90whVbK5cuUJraysmk4k//uM/RqfTsWbNGjEqtK6uDqfTiclkeiBGYBIS9wuhfOPAwAD/9m//hslkwm63YzQa+cIXvsDrr79OS0sLzc3N+Hy+e2a8S0pK+OY3v8kLL7wguoqVSiUpKSnY7fZ70gYJibvJosY7FovhdDppbW0lFAqRk5NDSkoKMpkMn8/HRx99hF6vp6ioCJVKhcViISsra8kab5lMhsViEcsCzvUSpKWlYbPZ8Hq9YlpHNBqVjLeExCIIwTlCkQ2dTodSqRSDV1NTU2lvb2dmZobZ2VlMJtM98cqZTCYMBsM1wY5C2yQkHnQWfYojkQhTU1O0t7cTDofF1ACPx8PIyAi/+tWv2LhxI7m5uVitVrZs2UJaWtp1xfZvhkgkQjgcvq0IY6VSOS/o4GoUCgU5OTns2bMHt9tNeXm5aLwFYQBBZu9GwScSEg8CQkDVQpKXN0KQBF1sGUyn01FQUMDv//7vEx8fT1lZGWq1WqyKFQgEUCgU6HS6e5rud7Pr0BISDyqLGu9gMMjExATd3d2iglBbWxsdHR1cuXKF2tpadu7cSUJCAhaLRSzlBr/VDb6VFygWizE8PMzIyIgYZHIr2O12UlJSxLSGq5HL5aSkpPD888+L+ZpC6kNDQwOXL18mMTGRhx56SBRiWKytkUhEyj+WWNIIcpcDAwP4/f5b2lcQC8nJybmuBKdcLic1NZVvfetbyOVylEolcrkcr9dLR0cHvb29xMfHk5ube8NBvRBNvVQDXiUklhKLGm+Px8Pw8DADAwMoFAp+8IMf8K//+q/AJ6NyYSY+N8VHEGsR0q9uxU0WjUY5duwYhw4dore395ZP5tFHH2XPnj2sWrVq0e3mdkRCrnF1dTU9PT0UFBTw/PPPL2q8hX1mZmawWq1i9ZvFEGZAEhJ3ipsxcm63m6NHj/Lee++JhTLmslg1pLi4ONasWcMf/uEfkpGRcd1jyeXyeQGssViMyclJ3n33Xaanp9mxYwcPP/zwostpgsxnOBwmLi7umoDY6+0jvVMSDxpzq6h9GhY13g6Hg66uLrRaLTt27ODZZ58lLy+P4eFhjh8/zujoKFarVayQMzs7y9GjR6mvr+fKlSvk5uby53/+59ct2n41CoWCxx9/nC1bttzyLAHAbDZjsVhuaZ9gMChK4q1evZpXXnmF4uLiRXNS+/r6+PDDD9m7dy+7du3i6aefXrC4gIAgA9jb24vb7b6l9klILER8fDxr1qzBbDYvuoZrMpn44he/yIYNGwiFQrd0DGEJyWaz3dJMeHR0lBMnTvDee+/x2GOP8Xu/93tUVFQsuo/D4eA///M/aWxsZPXq1fzxH//xov2G1+tlaGiIhoYGqXysxAODTqcjIyOD8vLyT/1d133ro9Eow8PD9Pb2olKpWLNmDWvXriU7O5v29nbOnDlDcXGxOEMVhApCoRBOp5ORkRFRuehWsFqtmM3m23ohbzWPcmZmhtraWvbt20dZWRk7duxg7dq1N3T1Dw8Pc+nSJWpra0lKSmL79u3zSupdTTQaZWBggJqaGkZGRm7pnCQkFiI5OZmCggLi4+MXNd4KhQKLxYLRaFzwnVps5i2Ig9zKOzUxMcGJEyc4cOAAzz77rJiWpdVqF31HBgYGqKur4/z58ygUCoLB4KJr7X6/n8HBQU6cOCHNviUeGEwmE2vWrLm7xjscDjMyMkJ/fz8qlYry8nJsNhsajQabzca6deuw2+3YbDbgt8Xjly9fTnd3N319fbe1btXb28vIyAher/eW9ovFYtjtdlF790Y4nU4aGxs5cOAAWVlZbN++nfLycnw+H2fOnGHLli0YjcYFO66EhATKy8uZmppi06ZNJCQkLHosuVyO3W6ntLSUjIyMWzovCYmFMJlMNyU7GggEGBoaYnBwcJ4E5c2gUCgwmUwUFRVdo363ELOzs5w7d476+nqysrJ4/vnnKSwspK+vj97eXgoLC6+77m21Wlm5ciV6vZ6VK1feMGBUo9GQnJzMmjVrpJm3xAODXq+/Yzbgusbb5/PhcDgYHR3FYrFQWFhIXFwc8Elg2JNPPjlvrVcoQl9aWkpNTY2o7XsrxGIx+vv7qa2tZXx8/Jb3LS8vR6fT3dB4z87O0tzcTFVVFTMzM7z22mvk5eUBcOnSJd58802Ki4uv2zkWFBSInU1JSYmocXs9FAoFpaWlkjCExD0nEAjQ09PD+fPncblctzSg1mg0ZGRkkJGRsajxjkajBINBLl26xNmzZ1Gr1Tz11FOUlJQQDAY5fvw4LpdLzP9eqA2FhYU8//zzuN1u7HY7Wq120bYaDAaWL1/O8uXLb/p8JCQ+S1xjvIUo6snJSQYGBvB6vZSXl4tuL0En9mbEFm61upgQBBeJRJienr6lE4nFYqSmpt5whhCNRmlra+P9999nYGCA1157Db1ez9jYGC6Xi87OTjGwZ7EAHZvNJgkGy8YAACAASURBVHodJCSWKiqVCrvdTllZ2W1Fm5tMphu+64LK2g9+8AOysrKorKwkPj6eK1eu4PF4aGhoQK1WL1rbGSAnJ+eW2ich8VkgGg4QjkQJyzXoVHJu1mLOM97RaBSv18v58+epq6ujpaVFfOkuXLjA5OQkWVlZJCUl3fCLbzfVIzMzk5SUlNtax1IoFIvO+KPRKCMjI7zxxhv85je/YWZmhrNnz4rpXkIVHWGwIqWrSDzoaLVaCgsLycnJue04ksUivyORCH19ffzVX/0VZ8+e5fjx4+zdu1d8D4WCHV/60pduyxsnIfHZJsxY7V7O1LdwKunr/H+PpGPW3ZyI0Lytpqenqa6u5te//jXDw8P4/X5sNhvj4+O8//775Obm8ju/8zs3ZbxvF5VKdddecqGjmZmZwWAwXDOjiMViYuk4rVa7ZKuiXY8HoRLOg8xiAVdLFZlMhlqtvmsVvWZmZujo6MDhcGC1WsVc7bkkJSVht9sl4y3xmWNuiey5wZ1XpzFePwg6RtjnxD09zpguSPQWxtfzjLdSqSQhIYHVq1fPq08ai8WIxWIkJiY+0MU6hDq3jz/+OOvWrVtwG4PBQGFh4U0F6CwFIpEIs7OzDA8P43A4KCoqIiUl5YEbeCw1hOUjn8/H5cuXCYVCpKenk5qaer+btqRQqVSkp6fzwgsvXHdgExcXx/LlyyXjzSeBwFNTU/h8Psxm8y2rUQpxQRqNhoSEhHtaZlXit/j9fkZGRujs7GR8fBy5XE52djZr164lGo1SW1vL0NAQHo8HlUrFY489Rnx8/AL9spz4zApWkILWaEWruvl+e57xNplMrFu3jjVr1oifzXW13Uzt1KmpKVwuF4FAAJ/Px/j4OEajEb1ef981hYXi77m5udd1IQol/h4E4xeNRhkdHaWtrY329naampp44YUXSEpKeiDav5QJBoMMDw8zODjI0aNHAdi5c6dkvK/CaDSyatUqVqxYcd1tHqR36m4SjUaZnp5m3759YtW1NWvWEB8ff1P7B4NB+vr6OHjwIGazmXXr1rFs2bLP/XW9HwhZHCdOnODs2bNEo1F27drFypUrRcXO48eP09PTg1qtZv369RgMhgXulQJTzkYqcmBxJYRrucaa3k7NWfit6tiZM2fo6elhdnaW8fFxzp49S15eHvn5+Z9K8/xOcbvntxQJhUI0Nzezf/9+XC4Xvb29OJ1OKXXmDuB2u6murqa5uZmamhrS0tLw+Xz3u1lLErlcLs0Ab4JQKERvby/f/va3mZyc5JVXXiExMXHRgc9cXC4X7777Lm+88QZGo5GvfOUrFBQULMn+bG6Nis9i/JBarSYpKYmCggKOHj3K5OQkU1NTYoxHQUEB9fX1jI+PEwwGCQaDd7xfvmNT4Vgshs/no76+HplMRnFxMTKZjLq6OgBSU1OXhPH+LKFWq9m6dSvZ2dmcPn2akZERyXDfISwWC48//jiVlZWiR0lC4tMgVFpbt24dly9fJicnh+Tk5JveX61Ws2zZMvLy8khISCA7O/u+ezOvx+joKO3t7YyNjfHUU0/ds1Kw9wqtVktWVhZms5nq6mpqa2uBT7xMKpWK9evXi3VBWlpa7kob7tidl8lkGI1Gnn32WSKRiFjwQyaTYTKZblm2VOLGCLn1ZrP5Mzm6vZ8I0qAKhUIsYCMh8WkQCiP95V/+JU6nk5ycHMxm803vr9freeihh0hKSkKv15OVlbVkn8vp6Wm6u7sZGxtbMIjxQUeoD6/T6VCr1fO8H4JgmVarvauDqztqvNVqNcXFxXfqKyUk7itXd4xLtaP8vBMIBAiHw4RCISKRCGazmVAoRDgcBhAHYEIHG41Gxe19Ph8KhUJUdPP7/RiNxnnLALFYDKfTyeTkJKFQCJPJRGJi4oIqcIFAALfbjdPpJBAIEB8fj81mE3UylEolxcXFeL1eVCrVvIjkSCSC0+lkenpabAd8ElcQHx8vTpDKysoIhUKo1eprMiDC4TBer5exsTExe+bqXP1QKCReH5fLRUJCAgqFgtnZWVwul9jeT1NSNRgMMjs7e1vVIWOxGOFwmEAgILZXkMr1+XzEx8fPEwgTlmwdDgc+nw+DwXBdoZ9IJILb7WZ6ehqfz4dOpyM1NXWejn40GmVmZoaJiQkCgQA6nY6EhARMJtOCSxRCQPdCn99NlqbPRUJCQuIGCBkBFy5cYGhoCLfbjVwup7S0lOnpadGox2IxsrKyKCoqIi4ujomJCdra2hgYGMDtdpOYmIjZbMbn8zE0NER5eTlFRUUkJCTg8/lob2+nu7ubiYkJgsEgGo2G3NxcysvLRcMnCEs1NzczMjLC7OwsXq+XUCjEmjVrKC4uJhgM0tDQwNTUFLOzs+Tk5FBaWkpaWhrBYJDGxkYGBgZwOp34/X7UajWzs7OsXbuWZcuWMTY2Rm1tLeFwmEgkIgriCEbW6XTS399Pe3u7WABJq9WSlpZGcXExSUlJRKNRmpqaaG9vJxAIMDExwaZNm1AoFAwPD+N0OomLiyMrK4ucnBwSExPv+X11Op3z3M0GgwG9Xk8wGGRycpKkpCTWrl2LzWYjGAwyMjJCS0sLDocDt9uNRqMhKyuLiooKMSJfKJzV0tLC4OCg+HwoFAqysrJYuXIlSUlJBAIB+vr6uHDhArOzs0QiEXG5o7y8nOzsbDETSTD292tQLxlvibtGMBgkGo3eUDxHQuJ2EGZc7777Lh999BGDg4MYDAb27NnDxMQEsVgMl8vF6OgoJSUl/M//+T8pLS2lp6eHn/70pxw4cICZmRnKy8vJy8tjamqKEydO8OUvf5lvfOMbrFu3jp6eHr73ve/hcDjIyspCLpeLcT3f/e53eeihhzAajTidTk6ePMnPfvYzotEoaWlphMNh9u7dy7Zt2/iDP/gDZDIZ//AP/0Braysul4vnn3+eb3zjGyQnJ+NwOPjXf/1X3G43OTk5GAwG2tvbqamp4dVXX8VgMHD27Fn+8R//keHhYWw2Gy+++CJbt24VC7k0NDTwwQcfcObMGTZv3oxCoaC9vR2lUsnTTz/N7t27kclk/OY3v+GHP/whMzMzBAIBvva1r4kDhbi4OI4dO8aqVat4+eWX2b59+6eagd8OQ0NDfPDBB/zoRz9iamqKiooKLBYLMzMzDA4OotFo+Pd//3e2bNnC4OAg+/bt4xe/+AXFxcXI5XJ6enqYmpriT//0T9m1axd2u53Z2VkaGxv5h3/4B5xOJxkZGej1elpbW5mYmOC73/0uu3btYnR0lJ/+9Kf87Gc/Y+vWraSmpjI2Nsbly5eprKwUq05e3Z9dbchvVV30dpCMt8Rdo6GhgenpaTIyMqTlFIk7jlwux2Aw8Dd/8zesWLGCt956i66uLtLT03nttddIT09nbGyMjz76iO985zvEYjH+6I/+iI0bN/LXf/3XrF+/nn/6p3+it7eXZcuW8dWvfpWamhpcLhder5empiZ++MMfcuDAAf7pn/6JXbt2odFoqK6u5itf+Qo///nPxRlZXV0df/EXf0FZWRlf+cpXWL9+Pc3Nzfz617+mrq6O3t5ennnmGV5//XX279/P66+/LnbwbrebAwcOMDY2xpNPPskzzzyDQqHA6XTyp3/6p+j1elJTU3n++efZuHEjr732GsPDw/NcuE1NTfz4xz9mfHycv/u7v6OiogKlUkl3dzfvvfcef/u3f4vJZGLTpk1885vfpLy8nNdff53jx4/T3t7OH/zBH/DYY4/hcrmQy+UcO3aM6upqcUZ6LykoKOCP/uiP2Lx5M9/85jdpbm7miSeeYMuWLRw9epS6ujrRTX7w4EH+/d//naeeeooXX3wRu93O6dOn+f73v88//uM/kpqaitFopL6+nu9973t0dHTwv/7X/6KyspKmpiZaW1sZGBigu7ub0dFRRkZGqK2txePxsGLFCp5++mlCoRBvv/02b7/9NhaLheeee45ly5Yt6C5fLAX5TiMZ7wecuSkZc9fylErlfU8h6enpYWhoCJVK9cAZb0EhKRQKiSpKoVDohqUqJe4tMplMdHur1Wri4+PZtWsXeXl5GI1G4uLi2LJlCxUVFdTX11NXV0d5ebkoOKVUKsnIyGD16tVs376dN954g+TkZNLS0jhz5gwnT54kJSWFtLQ09Ho9crmc5ORkli9fTk9Pj1gy+f3338fhcPDyyy9TWlpKUlISK1as4Nvf/jZarZaNGzditVpRqVTiGquAkKkzODjI8ePHMRgMoh7Fnj17yMvLE0u/ZmRkkJ2dLa4lC5LWR48eZXh4mMLCQsrKyjCbzchkMnJycigoKCAWi/HLX/5SXD5ITU0Vg+VWrlxJcXExCQkJxGIxdDodXq+XwcFBHA7HosZ7dnZWXJq4+nMhRUqY4V9NXFzcgh45lUqFxWIhPT0du91ONBqlpKSE3/3d32Xbtm1MTEywevVqLl26xNGjR/F4PKxatQqj0YhKpSIpKYn8/Hzef/992tvbRXnv+vp6cQlCuAd/8Rd/wYULF9i5cycZGRnExcXx6quvsnPnTrZv3056ejper5cNGzbws5/9jI6ODoaHh1m2bJn4/F3vuZRm3hLXJRKJ0NnZSXV1Ne3t7aLrTK/Xk5ubS0FBwX1tn9frxe12L/jiLnW8Xi/t7e309/czODiI0+mkpqYGt9vNF77wBaxW630fHEl8giAAI6TppKamotPpxGwMu91OXl4ebW1t9PX1MTY2RlpamljTwGKxYLfbsdvtPPLII6hUKiYnJ8VSqjabjY8//pjm5mbgkzVZjUYjDuZGRkZobGwkGAyK68QKhYKEhAS+9KUviQVeVCrVvOA4Aa1Wy6pVqzh06BANDQ04HA5SUlLIzMzEarVSXFwsBqcpFAr0er1o/GOxGIFAgAsXLjA2Nsa6devmib5otVpMJhNqtZqTJ0/ywgsvUFhYiFKpFNtRUlJCenr6PJdvNBrF5/NdV9tAGHDs37+fgYGBa2pRjIyM0NfXx+zsLD/5yU+uMdKxWIzt27ezbNmya0RqBJlRlUoltj8xMZGsrCzy8/OJRCLEYjGGh4fp6+vD6/Vy7tw5uru7UalUzMzMMDU1hdlsJhgM0tvbS3t7Oz6fTxy4KZVKEhMTqayspLCwUDTcSqWSDRs2EIlEqK+vp7q6Gq/Xy8jICMFgELfbLRb4Wcw4Xz0rvxvBa5LxfoARXiCPx4PVamXTpk0YjUbcbveSEhR5EHPPBdlZp9NJXl4ewWAQrVbL5OSkGMUssfQRDLqgbuV2u3G5XKSlpYnbxMXFiaVKdTod8Mn9DwQCooGempqa583asGEDWq2W7OxspqenRXGkuLg4MbJbpVKRmZl5wzYKxnvPnj1UVVXR29vLxYsXOXnyJAUFBSQnJ5Obmyum2179PkUiERwOh9iGubO+WCwmClM5HA68Xu81htZms920ypuAECw4MzPD+Pj4Nd85PT0tBu1NTExckzIVi8Xwer03lUamUqlQKpXiwEepVOLz+fD7/fj9flG5Ti6Xi8cpKCigsLCQkpISxsfHmZqaEqtBCgMfpVKJ2WwWPRCxWAy3201bWxtVVVVipLlKpWJ6elq87lfrlt8vJOP9AKNUKikvLxfrhM8dOS+VWeGDaLgB4uPj2bJlC5s2bbrmHCS3+YODYGQE749gCOZisViu0aGIj48X9RNsNhv//b//dyoqKubNeD0eDwqFglOnTokGOxgMXjO4m52dRalUXleoRAi8e/rpp6msrKS9vZ3a2lrq6+upr6/n2LFj5Ofns2XLlnn7CMhkMrGQUiQSEZd5BK0N4TNh9i98vtB3LfT7QsjlcuLj43n55ZcX3L6hoYFTp04xPj7OX/7lX6LX6685xtX50QtdF+Hfq93QCoVCLLgTFxfH7/3e71FRUSEOQoTlBI1Gw5kzZ8S0vKmpKUKh0LxjCKlzwmz7//yf/0NXVxdf//rX2b17N2lpaXR0dHDw4EHgk/s5MzOz6IBHcptL3BCFQnHPo0E/Dwh63NK1fbARUoTa29vFKHC73Q78drA7tzKUgJAeZLPZaGtrE9PQBPd1JBLh2LFjZGZmkpiYSGlpqRiYNjk5Oa9jP3z4MOnp6ZSVlS3YxsnJSf7lX/6F+Ph4HnnkEb70pS/xxS9+kcnJSf7H//gfzM7O0t/fLxrvuYZBEAQRZpgul2vebDYcDjM9Pc3Y2BjFxcWYzWbxmZ5bDetqBLfvjQz59WRxhZmycM0WquC4mHETJiBCG66+R2q1mqysLPLy8hgdHaWrq4vS0lISEhIA8Hg8nDx5UoxryMnJIRgM0tLSgsvlmnd9urq66OnpEY13bW0tDz/8MI8++iglJSV4vV5R3jQWi3Hx4kX8fj+PPvrovPOae1+EGKS7iWS87wPCaM/lci0J98v10Gg06PX6RdO8YrEYs7OzRKPRBQUrwuEwfr9/3gszF4PBsKiBjEQieL1e/H7/AzuLvxMIa7NLVQ5zqeB0Ovnggw/40pe+RGpqKn19ffzmN7+hubmZ9evXs3btWhISEnC5XPh8PqLRKIFAAJfLhcfjQafTIZfL0Wg0rFy5khdeeIHvfe97vP/++1gsFtasWYPP5+PChQs0NzdjtVpZvnw5jzzyCB999BEHDhzAbrdjMpnQarWMjIxw7NgxNm/eTHFxMR6PB7fbLQaaBgIBgsEgoVCI6upqUlNTKSwsFNdfg8EgVqsVu91OKBRidnaWiYkJPB6PKDITFxfHo48+ypUrV+jq6uLIkSPs2LEDmUxGW1sbzc3NxMXF8bWvfY2cnByxWp6wdux0OnG73SgUinlu9UgkQjAYJBAI3LK86Y1SphYz3MI9cbvd4nkKha7gtwOGiooKHnvsMTGqv6CgAIPBgEwm4/Lly7z33nu88sorlJaW4vP5OHfuHLW1tVRXV2M2m0lKSmJiYoIf/ehHrF27lrS0NJRKJZFIRBy4R6NRhoaGOHbsmGjAe3t7AXj44YfFeyLcR7fbjUqlEu+z0G8J29zJAj1ST3Af8Pv99PX18eabbzI9PX2/m7MgCoWCVatWsX37drKzsxfcRihvuHfvXpxO5zUPZV1dHU6nk+HhYdrb2+f9TXD1Pffcc4tWQZuZmeHIkSNcuHDhttSaPgvI5XL0ej1/8id/Qnp6+v1uzpImFApx5coV3nrrLQwGA6OjozQ2NrJhwwZefPFFVq1axfj4OKdOneLUqVPodDqmpqY4ePAg/f39fPnLX8ZsNqNUKsnMzGTPnj1MTk7icDh46623OHnyJAqFApfLRVlZGbm5uVitVtavX8+3vvUtzp49y0cffURbWxsmkwmfz0deXh65ubl0d3dz+PBhWlpa0Ov1jI+Pc/ToUa5cuSK69k+fPs34+Lj4d7lczpo1a0hOTubs2bNUVVWJ6+9tbW385Cc/4ZVXXmHVqlU89dRTVFdX8+GHH9LQ0IBarRbV2l544QW2bdsm5nEfOnSIqakp0tPTqaqqwuPxYDKZGB0dpbe3F5PJxMTEBEePHsXr9bJjx457VnxmaGiI2tpaqqqqRENaU1NDJBKhsLCQ7du3o1arxYCziYkJTp06xd69ezlz5gxxcXGEw2GKiopIS0sTy1y/+uqrvPXWWxw7dozu7m5sNpuoepeTk0NOTg4ej4etW7cyNDTE3r17OX36NIFAAK/Xy4oVKxgdHRUV3Jqbm7l06RIOhwOFQkFfXx//8R//wcaNG2loaKC+vp5AIIDZbObnP/+5mPVwp95hyXjfB+bWil5KgWVzkcvlosjK9RDcWYIc5NUGWJgxezwenE7nvL/JZDKCweANA1ai0SjBYHBJX6u7zVwZSInF0Wg0FBQUMDw8zOzsLKFQiOLiYrZu3cpDDz2ExWKht7eXYDBIQkICjz/+uPgcCy5n4TobDAZKS0v5xje+wZEjR7hy5QrDw8PExcWRmprKli1bSE1NRSaTkZGRwde+9jXsdjuNjY1MTU0RDAbR6/Xs2LGD7OxsLl++jM/nw263i8fVarVEo1HKysrIzMzE5XLhdDpxuVzMzs6ybds2KisrsdlsDA4O4vP52Lhxo/j+CN67pKQkdu3aRVJSEtXV1UxOTqJWq9HpdOL5p6enEwqF8Hg8KJVK1qxZw9q1a8WBg5AZsmzZMoqLi4lGo2g0Gjwez7x19Fvhdp5ZwVsnk8nYvn27GP3udrvxer3idyoUCnJzc3nxxRcxm810dXUxOTlJMBjEbrfz2GOPkZGRgVKpxG6388QTT4jFsgQJWaPRyK5duyguLhYzSL72ta9x6tQpwuEwo6OjWCwWNmzYQH5+Pk1NTcTHx1NSUoJcLsfn87F69WpkMhmRSASPx4PP58PtdmO1WqmsrAQ+GVT6/f47Guwqi0k9gsSnRHihrn6x33rrLQYGBqioqGDXrl3X7CfklC6V4DqJB5e9e/fywx/+EIfDwYEDB8QKhkLNhbi4OHHbSCQiantfHZUtpJhdjc/nIxAIiDNBoWjN1dsKbmYhKEqr1c4LJrt6QCyXy0V5VSH9zOfzEQ6HxSh5pVIp6n0Hg8F5AWdyuXyehnckEsHv9xMKhcTUMo1GM8/tLbjp5wa1Cedy9VqtEK1/q7Pu5uZmzp07x/j4ON/61rfEKP6bQdCrmHuuc9PHFopcFwx+KBQSvXrXK9Y0dxlOeDbmbicMFITnQ6PRYDAYiEajYpCioFUvpI0J+wn3Y+59FtbK1Wr1PE32T4s085b41FwdSSog5LWq1errbiMhcSe4OrgqLi5ONDhXd+C3E4io0+nQarXi79ebgQoR0AsFgykUihsaMY1GM89Qzl07VqlUN5QZVigUGAyGa6LRF2rj3SQtLY3Nmzfj8XhuWRpZCHK72TYK12auUV/MQ6DX68X7sNB2crlcLAozdxu5XH6NoRd0zq/mVgYrt4tkvD+HRKNR0V09d+QvBJ0tNKP4vCNcnxt1RHOjdAXhEIm7gzDjOnToEMePH8fhcDAxMcH//b//l82bN7Np0yaysrLu2PFu5V5+mvt+J56Z+/3cxcfHi0sC9ypj407en8WU05YKkvH+nBGJRGhqaqKuro5YLEZJSQllZWV8/PHH9Pf3k5ycTEVFBfn5+fe7qUuG1tZWGhoaCIVCPP/88wuWgoRPjEl3dze1tbWEQiEeffRRrFbrknrhP2tEo1GcTidJSUns3LlTdGs6nc7PbYzEUkAQU5G4e0hX93NIJBKhra1NrLwkpFJUVVWRkJBAamqqZLznMDY2RmNjI4FAgOeee27Rbaenp2lqasLlcrF161asVus9auXnE4VCQVFREVlZWaIQh9PpFEVWpIGTxGcVyXgvMRYK/Fps/Wru36+339XrbitXrqSxsVGMutRqtTz22GNUV1czOzt7x6KadTodBoPhjq2vzV3XnBu0c7U4gvCZ8Ptct91cacOF3NpzxSCEvwtFJoSCL8KxhZ+5x7darZSUlDA1NXVN8NPciN0btfnqbSSuRSaToVQqWbdu3f1uioTEPUcy3ksMIWLx6k5f+Pzq9SPBGEWj0Xnu3LmyiFdXGJtbyGHuZzqdbp504KeluLgYu91OSkrKp/6uWCwmppYJ1yEQCFwTDStsIwQleb1eMTIYfqtZLuhYzx1YRKNR/H4/wWBQLDcpl8vJy8sjMzNznuysILARCoXQaDSirnJGRgZ2u12MeBUQUgNDoZCoOCW4FQOBgJhvqlAoxFQetVotuR4lJCQWROoZ7iOhUIiTJ0/S0dGBWq2mqKiI1tZW8vLyKCkpIT4+nvb2ds6ePcvIyAgZGRls3ryZ8vJyAHp7e6mpqaG1tRW9Xk9OTg6bNm0iISGBrq4u9u/fj9/vR6/Xs3r1ajZt2jQvZeZuU1hYKKa8fBpisRg9PT28/fbb1NXVERcXR2FhIV6vl+npaYqKinjsscdIS0vj//2//8fp06eJj48nOzuburo6nn/+eXbu3MnIyAgHDhwgEAgwOjpKSkoK27dvZ/v27YTDYX784x/T29srljm0Wq28/PLLHD9+nAMHDmA0GvnhD39IIBDg448/pq2tDYVCgd/vJz4+nvLycrHGcHx8PN/+9rfJycmhp6eHU6dO0dPTg0ajwel0UlpaypNPPolcLufv//7vuXDhAhaLhZUrVxKLxbhy5Qq7du1i27ZtJCYm3qE7IiEh8VlBSrC9jwizu4GBAfbt28epU6dobm6mqamJjo4O6urq+MlPfoLNZqOsrIyhoSHeeustxsfHuXz5Mm+++SYNDQ3k5eUB8Oabb9LU1ERbWxuHDh3i/PnzLFu2DLVaTXV1NYcOHbrGRTuXO+2q1el0YtTpp8VisZCZmYnf76etrY3S0lIefvhhiouL6e7u5p133iEajbJmzRoCgQD9/f0oFAry8/PRarW0trZy5MgROjs7qaysZMeOHQwMDHDixAlaW1t57733qKmpIS0tjfXr12M2m2lpaSEUCpGfn09cXBwdHR2Ew2G6u7tpb29HJpOxceNGNm7cSDQaRavVkpaWRmJiIp2dnfh8PhwOB1VVVdTU1PCFL3yBbdu2kZ+fT1dXF++88464jBEIBBgbGyM9PZ3Kykq0Wi3Nzc20trbegTshISHxWUOaed9H5HI5mZmZmEwmZmZmkMlklJeXY7PZcLlctLS0cPLkSVavXo3VamVsbIzOzk46Oztpa2ujoaGBVatWUVlZycDAAMPDwxgMBlQqFWazmdzcXDIyMpicnOTy5cu4XC727NnzqWfC9xqZTCbWNbbb7UxMTLBhwwZsNhsZGRkMDg5y7NgxnnvuOVatWkVKSgqjo6OsWLGCnJwcTCYTp0+fpra2VtQXNplMhMNhxsbGaG9vZ9++fUSjUVasWCHuJ0grJiUlUVxcTFdXl9im6elpXC4XKSkpWCwW0tLSSEtLQy6XU1JSItZ+7u7upqGhAZfLRWVlpZirKwywXnrpJTZv3swHH3xAJBJh06ZN5OfnU1NTw+DgICMjI7elbCUhIfHZriDPMgAABrpJREFURjLe9xHBKNlsNpKTkykrK6OyshK9Xi/OCOETAzA+Po5SqSQ/P1/U8jUYDBQVFZGZmUlmZiaFhYXEx8eLOdwqlYq+vj4mJyfxer24XC7C4bCo2DS3HQ+CcRDqEgsKV8Lgx2azMTExweXLl///9u7vpcn+j+P4001nm+l2Xds0nXPzR1ksCVLpB9VpSJhYBP0VQScdd9ZfIREUdBBUJ0F5YJhJIGourTHx96YmmMuuluO6Nr8HX64PU4L7Pri5dXfvB3gyL7e5C6739vm8936pXOaamhra29vp6urCsixev35NJpPB5XIxNjaGw+GgsbGRUCjEzs4OCwsLdHR0UFVVRTAYJBAIcOHCBcrLyzEMY8/Aj7q6OnRdZ3x8nHg8TiAQoK+vT72uxeNM0+k0Gxsbe6Y9uVwucrkcq6urmKapMoM9Hg8NDQ3qcez7kOIthNhPivcB29+1bDeT2Y1jbW1t3L59W81QdjgcWJbF48ePOXLkCC6XS13Yg8EgAOPj4zx79ozR0VGuX79Oc3Ozmj/+dxKCDuvE3N8VMLuDu7y8nJqaGtWY5vf71XaCw+HA5/Ph9/sJBoPcuXOHiooK1eyXSCRU4S3OEP5dVOTu7i6ZTIZbt27R09PD5OQkz58/58WLF4TDYY4fP66O2/+mqPi+7ef1u/+n+BghhPgd2fM+YPYFPJ/Pq1AEh8NBXV2dijQsKyujurqaQqHA0tIS09PTnDp1Su2pWpaFZVmMjIwwOTnJmzdvePfuHTdu3ODmzZs0NDSQz+dZX1/nyZMnrK+vY5qmKk52obK70w870zRV8MP79+9JJBK0tLRw+vRpFRBgxzzm83m1HREOh5mfn2dlZQXLshgdHWVwcJCfP3/S29vLly9f+Pz5M1tbWywvL/PgwQMWFhbIZDJqfrtpmqyvrzM8PMzXr1+5du0a9+7dIxAIqHNomqaKfOzo6ODkyZNkMhk2NjbIZrMkEglM0+TKlSt4PB51fKFQwDRNdW7sc/JPhhkIIf4bnPfv379/0E/iT2VZFmNjY7x69YpPnz6peb5erxdd19Wy98rKCtvb28zNzZFKpTh79iytra0sLi4yNzfH8vIyqVSKeDxOY2Mj+XyexcVFtre3qampIZVKMT09zeLiIuXl5bjdbj58+MD09DQ7OztomsbU1BSDg4Ok02mqqqoIhUJ/mbX9b0un04yNjZFMJqmvr2dmZoaJiQl0Xaevr4/W1lYGBgaIx+MYhoFhGPh8Pnw+H16vl8rKSnZ2dpiammJ5eZnNzU2CwSCxWIxoNEo2m2Vzc5PZ2VlWV1fRNI3W1laGhoZ4+/atChtwOp3Mz8+ztLTE1tYWa2trhMNhgsEgyWSSoaEhvn//TqFQIBKJ0NTUBEAikWBqaor5+Xmi0Si9vb1omsbDhw/5+PEjhmGwtrZGJpNhZGREvTFzu91EIhFZOhdCKLJsfsCcTiexWAxN04hEIlRWVlJWVoamaXR2dmIYBktLSxiGgdvtJhQKEQ6HcTgcXL16lZmZGSzLwjAMotEo9fX16LpOoVAgmUxiGAa1tbVcvnyZEydOEIlE8Hq9xGIxdF1H0zQcDgeVlZVcvHiRXC6nlugPm+IoQLvhrL29nZaWFjo7O3E6nei6Tk9PDwA+n4+KigrKysrwer10dXVx9OhRJiYm8Hg81NfX09bWxrFjx6irq6O/v59kMsmPHz8IBALqvPj9fi5duoTL5cLn89Hc3KxyoO1UolgsphoBu7u7OXfuHJqmoWkatbW1VFdXE4/HyefzdHR00N7ezpkzZ8jlcvj9fvWc7RCX7u5ucrkcuq7/5TaHEOLPI5GgB2h3d5dcLrdnWdQezlHc9JTNZkmlUrjdbhobG9Xv7Ii6TCbDr1+/aGpqUhf6bDZLOp3GNE1CoRAejwfLsnA6nXv2c+192f0xgC6X61AFlGSzWYaHhxkYGGB2dpZHjx4RiUTU6kDx9kNxg9f+YTR2mIU9vGb/yoK99G0Pf7H/pvgrdvaPvaRtD2ixJ6/Zr6392PbtlmWp+MXixy3ONC9uVCu+TWJThRDFpHiLQ69QKDA7O8vTp095+fIl3759o7+/n7t37+55MyOEEH8KWTYXh5697H3+/HlCoRCFQoHq6mqqqqoOzcqAEEL8m+STtygJdve4Pc8c/v/VuH8q9EQIIUqJFG8hhBCixMhmoRBCCFFipHgLIYQQJUaKtxBCCFFipHgLIYQQJUaKtxBCCFFipHgLIYQQJUaKtxBCCFFipHgLIYQQJUaKtxBCCFFipHgLIYQQJUaKtxBCCFFi/gcm++oN61OZEQAAAABJRU5ErkJggg==)"
      ]
    },
    {
      "cell_type": "markdown",
      "metadata": {
        "id": "QvguKwT7jtn2"
      },
      "source": [
        "예를 들어, A 예측 모델의 경우 정밀도가 0.9, 재현율이 0.1로 극단적인 차이가 나고, B 예측 모델은 정밀도 0.5, 재현율 0.5로 정밀도와 재현율이 큰 차이가 없다고 하자. A 예측 모델의 F1 스코어는 0.18, B 예측 모델의 F1 스코어는 0.5로, B 예측 모델이 A 모델에 비해 매우 우수한 F1 스코어를 가지게 된다.\n",
        "\n",
        "        from sklearn.metrics import f1_score"
      ]
    },
    {
      "cell_type": "code",
      "metadata": {
        "colab": {
          "base_uri": "https://localhost:8080/"
        },
        "id": "K1SjXz-akU9s",
        "outputId": "7159a94f-0288-4ed4-ec44-aef094d8cf16"
      },
      "source": [
        "from sklearn.metrics import f1_score\n",
        "f1 = f1_score(y_test, pred)\n",
        "print('F1 스코어 : {0:.4f}'.format(f1))"
      ],
      "execution_count": 15,
      "outputs": [
        {
          "output_type": "stream",
          "name": "stdout",
          "text": [
            "F1 스코어 : 0.7805\n"
          ]
        }
      ]
    },
    {
      "cell_type": "code",
      "metadata": {
        "colab": {
          "base_uri": "https://localhost:8080/"
        },
        "id": "7cHsdzGJklis",
        "outputId": "6d71ca4f-1ea1-4b2f-fda2-1c6c03289629"
      },
      "source": [
        "def get_clf_eval(y_test, pred):\n",
        "    confusion = confusion_matrix(y_test, pred)\n",
        "    accuracy = accuracy_score(y_test, pred)\n",
        "    precision = precision_score(y_test, pred)\n",
        "    recall = recall_score(y_test, pred)\n",
        "    # F1 스코어\n",
        "    f1 = f1_score(y_test, pred)\n",
        "    print('오차 행렬')\n",
        "    print(confusion)\n",
        "    # f1 score print 추가\n",
        "    print('정확도 : {0:.4f} 정밀도 {1:.4f} 재현율 {2:.4f} F1 {3:.4f}\\n'.format(accuracy, precision, recall, f1))\n",
        "\n",
        "thresholds = [0.4, 0.45, 0.50, 0.55, 0.60]\n",
        "pred_proba = lr_clf.predict_proba(X_test)\n",
        "get_eval_by_threshold(y_test, pred_proba[:, 1].reshape(-1, 1), thresholds)"
      ],
      "execution_count": 16,
      "outputs": [
        {
          "output_type": "stream",
          "name": "stdout",
          "text": [
            "임계값 : 0.4\n",
            "오차 행렬\n",
            "[[98 20]\n",
            " [10 51]]\n",
            "정확도 : 0.8324 정밀도 0.7183 재현율 0.8361 F1 0.7727\n",
            "\n",
            "임계값 : 0.45\n",
            "오차 행렬\n",
            "[[103  15]\n",
            " [ 12  49]]\n",
            "정확도 : 0.8492 정밀도 0.7656 재현율 0.8033 F1 0.7840\n",
            "\n",
            "임계값 : 0.5\n",
            "오차 행렬\n",
            "[[104  14]\n",
            " [ 13  48]]\n",
            "정확도 : 0.8492 정밀도 0.7742 재현율 0.7869 F1 0.7805\n",
            "\n",
            "임계값 : 0.55\n",
            "오차 행렬\n",
            "[[109   9]\n",
            " [ 15  46]]\n",
            "정확도 : 0.8659 정밀도 0.8364 재현율 0.7541 F1 0.7931\n",
            "\n",
            "임계값 : 0.6\n",
            "오차 행렬\n",
            "[[112   6]\n",
            " [ 16  45]]\n",
            "정확도 : 0.8771 정밀도 0.8824 재현율 0.7377 F1 0.8036\n",
            "\n"
          ]
        }
      ]
    },
    {
      "cell_type": "markdown",
      "metadata": {
        "id": "b9uDIZt2mPzU"
      },
      "source": [
        "F1 스코어는 임계값이 0.6일 때 가장 좋은 값을 보여준다. 하지만 재현율이 크게 감소하고 있어 주의해야한다."
      ]
    },
    {
      "cell_type": "markdown",
      "metadata": {
        "id": "YBLXHObimYZ0"
      },
      "source": [
        "# ROC 곡선과 AUC\n",
        "\n",
        "ROC 곡선과 이에 기반한 AUC 스코어는 이진 분류의 예측 성능 측정에 중요하게 사용되는 지표이다. ROC 곡선(Receiver Operation Characteristic Curve)은 수신자 판단 곡선으로 불린다. 일반적으로 의학 분야에서 많이 사용되지만, 머신러닝 이진 분류 모델의 예측 성능을 판단하는 중요한 평가 지표이기도 하다. ROC 곡선은 FPR(False Positive Rate)이 변할 때 TPR(True Positive Rate)이 어떻게 변하는지 나타내는 곡선이다. FPR을 X축으로, TPR을 Y축으로 잡으면 FPR의 변화에 따른 TPR의 변화가 곡선 형태로 나타낸다.\n",
        "\n",
        "TPR은 재현율(TP/(FN+TP))을 나타내며, 민감도로도 불린다. 민감도에 대응하는 지표 = TNR(True Negative Rate)이라고 불리는 특이성(Specificity)이 있다.\n",
        "\n",
        "* 민감도(TPR)는 실제값 Positive(양성)가 정확히 예측되어야 하는 수준을 나타낸다(질병이 있는 사람은 질병이 있는 것으로 양성 판정)\n",
        "\n",
        "* 특이성(TNR)은 실제값 Negative(음성)가 정확히 예측되어야 하는 수준을 나타낸다(질병이 없는 건강한 사람은 질병이 없는 것으로 음성 판정)\n",
        "\n",
        "TNR인 특이성은 TN / (FP+TN)이다. 그리고 ROC 곡선의 X 축인 FPR은 FP/(FP+TN)이므로 1-TNR(1-특이성)으로 표현된다.\n",
        "\n",
        "ROC 곡선은 FPR을 0부터 1까지 변경(임계값 변경)하면서 TPR의 변화값을 구한다. 분류 결정 임계값은 Positive 예측값을 결정하는 확률의 기준이기 때문에 FPR을 0으로 만들려면 임계값을 1로 지정한다. 임계값을 1로 지정하면 Positive 예측 깁준이 매우 높기 때문에 분류기(Classifier)가 임계값보다 높은 확률을 가진 데이터를 Positive로 예측할 수 없기 때문이다. 그래서 아예 Positive로 예측하지 않기 때문에 FP 값이 0이 되므로 FPR은 0이 된다.\n",
        "\n",
        "반대로 FPR을 1로 만드는 방법은 TN을 0으로 만들면 된다. TN을 0으로 만들려면 분류 결정 임계값을 0으로 지정한다. 그러면 분류기의 Positive 확률 기준이 매우 낮아져 모두 Positive로 예측하게 된다. 그러면 Negative 예측이 없기 때문에 TN이 0이 되고 FPR은 1이 된다.\n",
        "\n",
        "이렇게 임계값을 1부터 0까지 변화시키면서 FPR을 구하고 이 FPR 변화에 따른 TPR 값을 구하는 것이 ROC 곡선이다.\n",
        "\n",
        "사이킷런은 ROC 곡선을 구하기 위해 roc_curve() API를 제공한다.\n",
        "\n",
        "![image.png](data:image/png;base64,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)"
      ]
    },
    {
      "cell_type": "code",
      "metadata": {
        "colab": {
          "base_uri": "https://localhost:8080/"
        },
        "id": "k2V2sIrHqXOa",
        "outputId": "8c4832ca-d4da-4e94-f824-3464c9820de1"
      },
      "source": [
        "from sklearn.metrics import roc_curve\n",
        "\n",
        "# 레이블 값이 1일때의 예측 확률을 추출\n",
        "pred_proba_class1 = lr_clf.predict_proba(X_test)[:, 1]\n",
        "\n",
        "fprs, tprs, thresholds = roc_curve(y_test, pred_proba_class1)\n",
        "# 반환된 임계값 배열에서 샘플로 데이터를 추출하되, 임계값을 5 step으로 추출\n",
        "# thresholds[0]은 max(예측 확률)+1로 임의 설정됨. 이를 제외하기 위해 np.arange는 1부터 시작\n",
        "thr_index = np.arange(1, thresholds.shape[0], 5)\n",
        "print('샘플 추출을 위한 임계값 배열의 index: ', thr_index)\n",
        "print('샘플 index로 추출한 임계값: ', np.round(thresholds[thr_index], 3))\n",
        "\n",
        "# 5 Step 단위로 추출된 임계값에 따른 FPR< TPR 값\n",
        "print('샘플 임계값별 FPR: ', np.round(fprs[thr_index], 3))\n",
        "print('샘플 임계값별 TPR: ', np.round(tprs[thr_index], 3))"
      ],
      "execution_count": 17,
      "outputs": [
        {
          "output_type": "stream",
          "name": "stdout",
          "text": [
            "샘플 추출을 위한 임계값 배열의 index:  [ 1  6 11 16 21 26 31 36 41 46 51]\n",
            "샘플 index로 추출한 임계값:  [0.965 0.654 0.63  0.563 0.454 0.4   0.348 0.148 0.125 0.112 0.108]\n",
            "샘플 임계값별 FPR:  [0.    0.017 0.034 0.076 0.127 0.169 0.203 0.466 0.585 0.686 0.797]\n",
            "샘플 임계값별 TPR:  [0.033 0.639 0.721 0.754 0.803 0.836 0.885 0.902 0.934 0.967 0.984]\n"
          ]
        }
      ]
    },
    {
      "cell_type": "code",
      "metadata": {
        "colab": {
          "base_uri": "https://localhost:8080/",
          "height": 283
        },
        "id": "dppfxmwZsGdX",
        "outputId": "5280a1ec-b102-4909-cd25-51d64bd943ed"
      },
      "source": [
        "def roc_curve_plot(y_test, pred_proba_c1):\n",
        "    # 임계값에 따른 FPR, TPR 값을 반환받음\n",
        "    fprs, tprs, thresholds = roc_curve(y_test, pred_proba_c1)\n",
        "    # ROC 곡선을 그래프 곡선으로 그림\n",
        "    plt.plot(fprs, tprs, label='ROC')\n",
        "    # 가운데 대각선 직선을 그림\n",
        "    plt.plot([0, 1], [0, 1], 'k--', label='Random')\n",
        "\n",
        "    # FPR X축의 Scale을 0.1 단위로 변경, X, Y축 명 설정 등\n",
        "    start, end = plt.xlim()\n",
        "    plt.xticks(np.round(np.arange(start, end, 0.1), 2))\n",
        "    plt.xlim(0, 1)\n",
        "    plt.ylim(0, 1)\n",
        "    plt.xlabel('FPR(1-Sensitivity)')\n",
        "    plt.ylabel('TPR(Recall)')\n",
        "    plt.legend()\n",
        "\n",
        "roc_curve_plot(y_test, pred_proba[:, 1])"
      ],
      "execution_count": 18,
      "outputs": [
        {
          "output_type": "display_data",
          "data": {
            "image/png": "[encoded data removed]",
            "text/plain": [
              "<Figure size 432x288 with 1 Axes>"
            ]
          },
          "metadata": {
            "needs_background": "light"
          }
        }
      ]
    },
    {
      "cell_type": "markdown",
      "metadata": {
        "id": "yi6LZ9DkqWrJ"
      },
      "source": [
        "그래프를 보면 임계값이 1에 가까운 값에서 점점 작아지면서 FPR이 점점 커진다. 그리고 FPR이 조금씩 커질 때 TPR이 급격히 커짐을 알 수 있다.\n",
        "\n",
        "일반적으로 ROC 곡선 자체는 FPR과 TPR의 변화 값을 보는데 이용하며 분류의 성능 지표로 사용되는 것은 ROC 곡선 면적에 기반한 AUC 값으로 결정한다. AUC(Area Under Curve) 값은 ROC 곡선 밑의 면적을 구한 것으로서 일반적으로 1에 가까울수록 좋은 수치이다. AUC 수치가 커지려면 FPR이 작은 상태에서 얼마나 큰 TPR을 얻을 수 있느냐가 관건이다.\n",
        "\n",
        "가운데 직선에서 멀어지고 왼쪽 상단 모서리 쪽으로 가파르게 곡선이 이동할수록 직사각형에 가까운 곡선이 되며 면적이 1에 가까워진다. 가운데 대각선 직선은 랜덤 수준의(동전 던지기 수준) 이진 분류 AUC 값으로 0.5이다. 따라서 보통의 분류는 0.5이상의 AUC 값을 가진다."
      ]
    },
    {
      "cell_type": "code",
      "metadata": {
        "colab": {
          "base_uri": "https://localhost:8080/"
        },
        "id": "-0PH692MuUGv",
        "outputId": "9f2fdb6c-c5af-41fe-a079-3ca267b2d31a"
      },
      "source": [
        "from sklearn.metrics import roc_auc_score\n",
        "\n",
        "pred_proba = lr_clf.predict_proba(X_test)[:, 1]\n",
        "roc_score = roc_auc_score(y_test, pred_proba)\n",
        "print('ROC AUC 값 : {0:.4f}'.format(roc_score))"
      ],
      "execution_count": 19,
      "outputs": [
        {
          "output_type": "stream",
          "name": "stdout",
          "text": [
            "ROC AUC 값 : 0.9024\n"
          ]
        }
      ]
    },
    {
      "cell_type": "code",
      "metadata": {
        "colab": {
          "base_uri": "https://localhost:8080/"
        },
        "id": "t0l6tlsQuvLe",
        "outputId": "a7d970ee-8b51-4a61-bd00-7c236dfcef8d"
      },
      "source": [
        "def get_clf_eval(y_test, pred=None, pred_proba=None):\n",
        "    confusion = confusion_matrix(y_test, pred)\n",
        "    accuracy = accuracy_score(y_test, pred)\n",
        "    precision = precision_score(y_test, pred)\n",
        "    recall = recall_score(y_test, pred)\n",
        "    f1 = f1_score(y_test, pred)\n",
        "    # ROC AUC\n",
        "    roc_auc = roc_auc_score(y_test, pred_proba)\n",
        "    print('오차 행렬')\n",
        "    print(confusion)\n",
        "    # ROC AUC 추가\n",
        "    print('정확도 : {0:.4f} 정밀도 {1:.4f} 재현율 {2:.4f} F1 {3:.4f} AUC {4:.4f}\\n'.format(accuracy, precision, recall, f1, roc_auc))\n",
        "\n",
        "get_clf_eval(y_test, pred, pred_proba)"
      ],
      "execution_count": 20,
      "outputs": [
        {
          "output_type": "stream",
          "name": "stdout",
          "text": [
            "오차 행렬\n",
            "[[104  14]\n",
            " [ 13  48]]\n",
            "정확도 : 0.8492 정밀도 0.7742 재현율 0.7869 F1 0.7805 AUC 0.9024\n",
            "\n"
          ]
        }
      ]
    },
    {
      "cell_type": "markdown",
      "metadata": {
        "id": "n3j8tc1UwOn9"
      },
      "source": [
        "# 피마 인디언 당뇨병 예측\n",
        "\n",
        "피마 인디언 당뇨병(Pima Indian Diabetes) 데이터 세트를 이용해 당뇨병 여부를 판단하는 머신러닝 예측 모델을 수립하고, 평가 지표 적용.\n",
        "\n",
        "피마 인디언 당뇨병 데이터 세트 : https://www.kaggle.com/uciml/pima-indians-diabetes-database\n",
        "\n",
        "**피마 인디언 당뇨병 데이터 세트 구성**\n",
        "\n",
        "* Pregnancies : 임신 횟수\n",
        "* Glucose : 포도당 부하 검사 수치\n",
        "* BloodPressure : 혈압(mm Hg)\n",
        "* SkinThickness : 팔 삼두근 뒤쪽의 피하지방 측정값(mm)\n",
        "* Insulin : 혈청 인슐린(mu U/ml)\n",
        "* BMI : 체질량지수(체중(kg)/(키(m))^2)\n",
        "* DiabetesPedigreeFunction : 당뇨 검사 수치\n",
        "* Age : 나이\n",
        "* Outcome : 클래스 결정 값(0 또는 1)"
      ]
    },
    {
      "cell_type": "code",
      "metadata": {
        "colab": {
          "base_uri": "https://localhost:8080/",
          "height": 198
        },
        "id": "V260-B9SxxVN",
        "outputId": "4bb4d1e9-2024-4e30-e3bf-90a9850f9bfa"
      },
      "source": [
        "import numpy as np\n",
        "import pandas as pd\n",
        "import matplotlib.pyplot as plt\n",
        "%matplotlib inline\n",
        "\n",
        "from sklearn.model_selection import train_test_split\n",
        "from sklearn.metrics import accuracy_score, precision_score, recall_score, roc_auc_score\n",
        "from sklearn.metrics import f1_score, confusion_matrix, precision_recall_curve, roc_curve\n",
        "from sklearn.preprocessing import StandardScaler\n",
        "from sklearn.linear_model import LogisticRegression\n",
        "\n",
        "diabetes_data = pd.read_csv('./diabetes.csv')\n",
        "print(diabetes_data['Outcome'].value_counts())\n",
        "diabetes_data.head(3)"
      ],
      "execution_count": 21,
      "outputs": [
        {
          "output_type": "stream",
          "name": "stdout",
          "text": [
            "0    500\n",
            "1    268\n",
            "Name: Outcome, dtype: int64\n"
          ]
        },
        {
          "output_type": "execute_result",
          "data": {
            "text/html": [
              "<div>\n",
              "<style scoped>\n",
              "    .dataframe tbody tr th:only-of-type {\n",
              "        vertical-align: middle;\n",
              "    }\n",
              "\n",
              "    .dataframe tbody tr th {\n",
              "        vertical-align: top;\n",
              "    }\n",
              "\n",
              "    .dataframe thead th {\n",
              "        text-align: right;\n",
              "    }\n",
              "</style>\n",
              "<table border=\"1\" class=\"dataframe\">\n",
              "  <thead>\n",
              "    <tr style=\"text-align: right;\">\n",
              "      <th></th>\n",
              "      <th>Pregnancies</th>\n",
              "      <th>Glucose</th>\n",
              "      <th>BloodPressure</th>\n",
              "      <th>SkinThickness</th>\n",
              "      <th>Insulin</th>\n",
              "      <th>BMI</th>\n",
              "      <th>DiabetesPedigreeFunction</th>\n",
              "      <th>Age</th>\n",
              "      <th>Outcome</th>\n",
              "    </tr>\n",
              "  </thead>\n",
              "  <tbody>\n",
              "    <tr>\n",
              "      <th>0</th>\n",
              "      <td>6</td>\n",
              "      <td>148</td>\n",
              "      <td>72</td>\n",
              "      <td>35</td>\n",
              "      <td>0</td>\n",
              "      <td>33.6</td>\n",
              "      <td>0.627</td>\n",
              "      <td>50</td>\n",
              "      <td>1</td>\n",
              "    </tr>\n",
              "    <tr>\n",
              "      <th>1</th>\n",
              "      <td>1</td>\n",
              "      <td>85</td>\n",
              "      <td>66</td>\n",
              "      <td>29</td>\n",
              "      <td>0</td>\n",
              "      <td>26.6</td>\n",
              "      <td>0.351</td>\n",
              "      <td>31</td>\n",
              "      <td>0</td>\n",
              "    </tr>\n",
              "    <tr>\n",
              "      <th>2</th>\n",
              "      <td>8</td>\n",
              "      <td>183</td>\n",
              "      <td>64</td>\n",
              "      <td>0</td>\n",
              "      <td>0</td>\n",
              "      <td>23.3</td>\n",
              "      <td>0.672</td>\n",
              "      <td>32</td>\n",
              "      <td>1</td>\n",
              "    </tr>\n",
              "  </tbody>\n",
              "</table>\n",
              "</div>"
            ],
            "text/plain": [
              "   Pregnancies  Glucose  BloodPressure  ...  DiabetesPedigreeFunction  Age  Outcome\n",
              "0            6      148             72  ...                     0.627   50        1\n",
              "1            1       85             66  ...                     0.351   31        0\n",
              "2            8      183             64  ...                     0.672   32        1\n",
              "\n",
              "[3 rows x 9 columns]"
            ]
          },
          "metadata": {},
          "execution_count": 21
        }
      ]
    },
    {
      "cell_type": "markdown",
      "metadata": {
        "id": "NwM6veyeywuj"
      },
      "source": [
        "전체 768개의 데이터 중에서 Negative 값 0이 500개, Positive 값 1이 268개로 Negative가 상대적으로 많다."
      ]
    },
    {
      "cell_type": "code",
      "metadata": {
        "colab": {
          "base_uri": "https://localhost:8080/"
        },
        "id": "eyYEMeOuy_9j",
        "outputId": "0970ec2d-443e-4bfa-ae4d-f465fe6b15c8"
      },
      "source": [
        "# feature 타입과 Null 개수 확인\n",
        "diabetes_data.info()"
      ],
      "execution_count": 22,
      "outputs": [
        {
          "output_type": "stream",
          "name": "stdout",
          "text": [
            "<class 'pandas.core.frame.DataFrame'>\n",
            "RangeIndex: 768 entries, 0 to 767\n",
            "Data columns (total 9 columns):\n",
            " #   Column                    Non-Null Count  Dtype  \n",
            "---  ------                    --------------  -----  \n",
            " 0   Pregnancies               768 non-null    int64  \n",
            " 1   Glucose                   768 non-null    int64  \n",
            " 2   BloodPressure             768 non-null    int64  \n",
            " 3   SkinThickness             768 non-null    int64  \n",
            " 4   Insulin                   768 non-null    int64  \n",
            " 5   BMI                       768 non-null    float64\n",
            " 6   DiabetesPedigreeFunction  768 non-null    float64\n",
            " 7   Age                       768 non-null    int64  \n",
            " 8   Outcome                   768 non-null    int64  \n",
            "dtypes: float64(2), int64(7)\n",
            "memory usage: 54.1 KB\n"
          ]
        }
      ]
    },
    {
      "cell_type": "markdown",
      "metadata": {
        "id": "_brfGf-tzHGy"
      },
      "source": [
        "Null 값은 없으며 피처 타입은 모두 숫자형이다. 임신 횟수, 나이와 같은 숫자형 피처와 당뇨 검사 수치 피처로 구성된 특징으로 볼 때 별도의 피처 인코딩은 필요하지 않아 보인다.\n",
        "\n",
        "이제 로지스틱 회귀를 이용하여 예측 모델을 생성하자.\n",
        "\n",
        "\n",
        "* stratify: default=None. classification을 다룰 때 매우 중요한 옵션값이다. stratify 값을 target으로 지정해주면 각각의 class 비율(ratio)을 train / validation에 유지해준다. (한 쪽에 쏠려서 분배되는 것을 방지합니다) 만약 이 옵션을 지정해 주지 않고 classification 문제를 다룬다면, 성능의 차이가 많이 날 수 있다."
      ]
    },
    {
      "cell_type": "code",
      "metadata": {
        "colab": {
          "base_uri": "https://localhost:8080/"
        },
        "id": "0ZzJClkOzoua",
        "outputId": "4fa7258e-de07-4e6b-85d1-0c05d87c9643"
      },
      "source": [
        "# 피처 데이터 세트 X, 레이블 데이터 세트 y를 추출\n",
        "# 가장 끝 Outcome 칼럼이 레이블 값(클래스 결정 값)이다.\n",
        "X = diabetes_data.iloc[:, :-1]\n",
        "y = diabetes_data.iloc[:, -1]\n",
        "\n",
        "X_train, X_test, y_train, y_test = train_test_split(X, y, test_size=0.2, random_state=156, stratify=y)\n",
        "\n",
        "# 로지스틱 회귀로 학습, 예측 및 평가 수행\n",
        "lr_clf = LogisticRegression()\n",
        "lr_clf.fit(X_train, y_train)\n",
        "pred = lr_clf.predict(X_test)\n",
        "pred_proba = lr_clf.predict_proba(X_test)[:, 1]\n",
        "\n",
        "get_clf_eval(y_test, pred, pred_proba)"
      ],
      "execution_count": 23,
      "outputs": [
        {
          "output_type": "stream",
          "name": "stdout",
          "text": [
            "오차 행렬\n",
            "[[88 12]\n",
            " [23 31]]\n",
            "정확도 : 0.7727 정밀도 0.7209 재현율 0.5741 F1 0.6392 AUC 0.7919\n",
            "\n"
          ]
        },
        {
          "output_type": "stream",
          "name": "stderr",
          "text": [
            "/usr/local/lib/python3.7/dist-packages/sklearn/linear_model/_logistic.py:818: ConvergenceWarning: lbfgs failed to converge (status=1):\n",
            "STOP: TOTAL NO. of ITERATIONS REACHED LIMIT.\n",
            "\n",
            "Increase the number of iterations (max_iter) or scale the data as shown in:\n",
            "    https://scikit-learn.org/stable/modules/preprocessing.html\n",
            "Please also refer to the documentation for alternative solver options:\n",
            "    https://scikit-learn.org/stable/modules/linear_model.html#logistic-regression\n",
            "  extra_warning_msg=_LOGISTIC_SOLVER_CONVERGENCE_MSG,\n"
          ]
        }
      ]
    },
    {
      "cell_type": "markdown",
      "metadata": {
        "id": "pfDGnm_11vih"
      },
      "source": [
        "예측 정확도가 77.27%, 재현율은 57.41%로 측정되었다. 전체 데이터의 65%가 Negative이므로 정확도보다는 재현율 성능에 조금 더 초점을 맞춰보자. 먼저 정밀도 재현율 곡선을 보고 임계값별 정밀도와 재현율 값의 변화를 확인하자."
      ]
    },
    {
      "cell_type": "code",
      "metadata": {
        "colab": {
          "base_uri": "https://localhost:8080/",
          "height": 388
        },
        "id": "O4oPqdnq2EyA",
        "outputId": "a4577b3f-d1cc-45bc-e1d3-cb93e78d1837"
      },
      "source": [
        "pred_proba_c1 = lr_clf.predict_proba(X_test)[:, 1]\n",
        "precision_recall_curve_plot(y_test, pred_proba_c1)"
      ],
      "execution_count": 24,
      "outputs": [
        {
          "output_type": "display_data",
          "data": {
            "image/png": "[encoded data removed]",
            "text/plain": [
              "<Figure size 576x432 with 1 Axes>"
            ]
          },
          "metadata": {
            "needs_background": "light"
          }
        }
      ]
    },
    {
      "cell_type": "markdown",
      "metadata": {
        "id": "Vstj7ibB2t1R"
      },
      "source": [
        "재현율 곡선을 보면 임계값 0.42정도로 낮추면 정밀도와 재현율이 어느 정도 균형을 맞출 수 있을 것 같다. 하지만 두 개의 지표 모두 0.7이 안되는 낮은 값이다.\n",
        "\n",
        "원본 데이터 DataFrame의 describe()를 호출하여 피처값의 분포도를 확인해보자."
      ]
    },
    {
      "cell_type": "code",
      "metadata": {
        "colab": {
          "base_uri": "https://localhost:8080/",
          "height": 300
        },
        "id": "lQGnrTsN3AC4",
        "outputId": "a1ad02a6-f05a-49e2-8220-de243e7a35c1"
      },
      "source": [
        "diabetes_data.describe()"
      ],
      "execution_count": 25,
      "outputs": [
        {
          "output_type": "execute_result",
          "data": {
            "text/html": [
              "<div>\n",
              "<style scoped>\n",
              "    .dataframe tbody tr th:only-of-type {\n",
              "        vertical-align: middle;\n",
              "    }\n",
              "\n",
              "    .dataframe tbody tr th {\n",
              "        vertical-align: top;\n",
              "    }\n",
              "\n",
              "    .dataframe thead th {\n",
              "        text-align: right;\n",
              "    }\n",
              "</style>\n",
              "<table border=\"1\" class=\"dataframe\">\n",
              "  <thead>\n",
              "    <tr style=\"text-align: right;\">\n",
              "      <th></th>\n",
              "      <th>Pregnancies</th>\n",
              "      <th>Glucose</th>\n",
              "      <th>BloodPressure</th>\n",
              "      <th>SkinThickness</th>\n",
              "      <th>Insulin</th>\n",
              "      <th>BMI</th>\n",
              "      <th>DiabetesPedigreeFunction</th>\n",
              "      <th>Age</th>\n",
              "      <th>Outcome</th>\n",
              "    </tr>\n",
              "  </thead>\n",
              "  <tbody>\n",
              "    <tr>\n",
              "      <th>count</th>\n",
              "      <td>768.000000</td>\n",
              "      <td>768.000000</td>\n",
              "      <td>768.000000</td>\n",
              "      <td>768.000000</td>\n",
              "      <td>768.000000</td>\n",
              "      <td>768.000000</td>\n",
              "      <td>768.000000</td>\n",
              "      <td>768.000000</td>\n",
              "      <td>768.000000</td>\n",
              "    </tr>\n",
              "    <tr>\n",
              "      <th>mean</th>\n",
              "      <td>3.845052</td>\n",
              "      <td>120.894531</td>\n",
              "      <td>69.105469</td>\n",
              "      <td>20.536458</td>\n",
              "      <td>79.799479</td>\n",
              "      <td>31.992578</td>\n",
              "      <td>0.471876</td>\n",
              "      <td>33.240885</td>\n",
              "      <td>0.348958</td>\n",
              "    </tr>\n",
              "    <tr>\n",
              "      <th>std</th>\n",
              "      <td>3.369578</td>\n",
              "      <td>31.972618</td>\n",
              "      <td>19.355807</td>\n",
              "      <td>15.952218</td>\n",
              "      <td>115.244002</td>\n",
              "      <td>7.884160</td>\n",
              "      <td>0.331329</td>\n",
              "      <td>11.760232</td>\n",
              "      <td>0.476951</td>\n",
              "    </tr>\n",
              "    <tr>\n",
              "      <th>min</th>\n",
              "      <td>0.000000</td>\n",
              "      <td>0.000000</td>\n",
              "      <td>0.000000</td>\n",
              "      <td>0.000000</td>\n",
              "      <td>0.000000</td>\n",
              "      <td>0.000000</td>\n",
              "      <td>0.078000</td>\n",
              "      <td>21.000000</td>\n",
              "      <td>0.000000</td>\n",
              "    </tr>\n",
              "    <tr>\n",
              "      <th>25%</th>\n",
              "      <td>1.000000</td>\n",
              "      <td>99.000000</td>\n",
              "      <td>62.000000</td>\n",
              "      <td>0.000000</td>\n",
              "      <td>0.000000</td>\n",
              "      <td>27.300000</td>\n",
              "      <td>0.243750</td>\n",
              "      <td>24.000000</td>\n",
              "      <td>0.000000</td>\n",
              "    </tr>\n",
              "    <tr>\n",
              "      <th>50%</th>\n",
              "      <td>3.000000</td>\n",
              "      <td>117.000000</td>\n",
              "      <td>72.000000</td>\n",
              "      <td>23.000000</td>\n",
              "      <td>30.500000</td>\n",
              "      <td>32.000000</td>\n",
              "      <td>0.372500</td>\n",
              "      <td>29.000000</td>\n",
              "      <td>0.000000</td>\n",
              "    </tr>\n",
              "    <tr>\n",
              "      <th>75%</th>\n",
              "      <td>6.000000</td>\n",
              "      <td>140.250000</td>\n",
              "      <td>80.000000</td>\n",
              "      <td>32.000000</td>\n",
              "      <td>127.250000</td>\n",
              "      <td>36.600000</td>\n",
              "      <td>0.626250</td>\n",
              "      <td>41.000000</td>\n",
              "      <td>1.000000</td>\n",
              "    </tr>\n",
              "    <tr>\n",
              "      <th>max</th>\n",
              "      <td>17.000000</td>\n",
              "      <td>199.000000</td>\n",
              "      <td>122.000000</td>\n",
              "      <td>99.000000</td>\n",
              "      <td>846.000000</td>\n",
              "      <td>67.100000</td>\n",
              "      <td>2.420000</td>\n",
              "      <td>81.000000</td>\n",
              "      <td>1.000000</td>\n",
              "    </tr>\n",
              "  </tbody>\n",
              "</table>\n",
              "</div>"
            ],
            "text/plain": [
              "       Pregnancies     Glucose  ...         Age     Outcome\n",
              "count   768.000000  768.000000  ...  768.000000  768.000000\n",
              "mean      3.845052  120.894531  ...   33.240885    0.348958\n",
              "std       3.369578   31.972618  ...   11.760232    0.476951\n",
              "min       0.000000    0.000000  ...   21.000000    0.000000\n",
              "25%       1.000000   99.000000  ...   24.000000    0.000000\n",
              "50%       3.000000  117.000000  ...   29.000000    0.000000\n",
              "75%       6.000000  140.250000  ...   41.000000    1.000000\n",
              "max      17.000000  199.000000  ...   81.000000    1.000000\n",
              "\n",
              "[8 rows x 9 columns]"
            ]
          },
          "metadata": {},
          "execution_count": 25
        }
      ]
    },
    {
      "cell_type": "markdown",
      "metadata": {
        "id": "DDyIM3wM3ZyH"
      },
      "source": [
        "위 결과를 보면 min() 값이 0으로 되어있는 피처가 상당히 많은데, Glucose 피처를 보면 포도당 수치인데 min 값이 0인 것이 말이 되지 않는다. "
      ]
    },
    {
      "cell_type": "code",
      "metadata": {
        "colab": {
          "base_uri": "https://localhost:8080/",
          "height": 338
        },
        "id": "ECdEVQDf3wTH",
        "outputId": "bda919e1-adf4-4e3d-cda8-b85e9aa0e1c0"
      },
      "source": [
        "plt.hist(diabetes_data['Glucose'], bins=10)"
      ],
      "execution_count": 26,
      "outputs": [
        {
          "output_type": "execute_result",
          "data": {
            "text/plain": [
              "(array([  5.,   0.,   4.,  32., 156., 211., 163.,  95.,  56.,  46.]),\n",
              " array([  0. ,  19.9,  39.8,  59.7,  79.6,  99.5, 119.4, 139.3, 159.2,\n",
              "        179.1, 199. ]),\n",
              " <a list of 10 Patch objects>)"
            ]
          },
          "metadata": {},
          "execution_count": 26
        },
        {
          "output_type": "display_data",
          "data": {
            "image/png": "[encoded data removed]",
            "text/plain": [
              "<Figure size 432x288 with 1 Axes>"
            ]
          },
          "metadata": {
            "needs_background": "light"
          }
        }
      ]
    },
    {
      "cell_type": "markdown",
      "metadata": {
        "id": "uv8Enj_l3v7e"
      },
      "source": [
        "위 Glucose 피처의 히스토그램을 확인해보면 0 값이 일정 수준 존재하는 것을 알 수 있다. min() 값이 0으로 되어있는 피처에 대해 0 값의 건수 및 전체 데이터 건수 대비 몇 퍼센트 비율로 존재하는지 확인해봐야한다."
      ]
    },
    {
      "cell_type": "code",
      "metadata": {
        "colab": {
          "base_uri": "https://localhost:8080/"
        },
        "id": "yFBU_N3H4aUO",
        "outputId": "b6ddd5c6-6547-44ca-ffcd-31b34ecd4e60"
      },
      "source": [
        "# 0 값을 검사할 피처명 리스트\n",
        "# Pregnencies는 출산 횟수이므로 제외\n",
        "zero_features = ['Glucose', 'BloodPressure', 'SkinThickness', 'Insulin', 'BMI']\n",
        "\n",
        "# 전체 데이터 건수\n",
        "total_count = diabetes_data['Glucose'].count()\n",
        "\n",
        "# 피처별로 반복하면서 데이터 값이 0인 데이터 건수 출력. 퍼센트 계산\n",
        "for f in zero_features:\n",
        "    zero_count = diabetes_data[diabetes_data[f] == 0][f].count()\n",
        "    print('{0} 0 건수는 {1}, 퍼센트는 {2:.2f}%'.format(f, zero_count, 100 * zero_count/total_count))"
      ],
      "execution_count": 27,
      "outputs": [
        {
          "output_type": "stream",
          "name": "stdout",
          "text": [
            "Glucose 0 건수는 5, 퍼센트는 0.65%\n",
            "BloodPressure 0 건수는 35, 퍼센트는 4.56%\n",
            "SkinThickness 0 건수는 227, 퍼센트는 29.56%\n",
            "Insulin 0 건수는 374, 퍼센트는 48.70%\n",
            "BMI 0 건수는 11, 퍼센트는 1.43%\n"
          ]
        }
      ]
    },
    {
      "cell_type": "markdown",
      "metadata": {
        "id": "TSpxTjf45Nh1"
      },
      "source": [
        "SkinThickness와 Insulin 의 0 값은 각각 전체의 29.56%, 48.7%로 아주 많다. 전체 데이터 건수가 많지 않기 때문에 이들 데이터를 일괄적으로 삭제하는 것은 좋지 않다. 위 피처의 0 값을 평균값으로 대체해보자."
      ]
    },
    {
      "cell_type": "code",
      "metadata": {
        "colab": {
          "base_uri": "https://localhost:8080/"
        },
        "id": "XkiHgtvK5M1P",
        "outputId": "1067bf5a-ee5a-407e-dfa4-21462974ab22"
      },
      "source": [
        "# zero_features 리스트 내부에 저장된 개별 피처들에 대해서 0 값을 평균 값으로 대체\n",
        "mean_zero_features = diabetes_data[zero_features].mean()\n",
        "print(mean_zero_features)\n",
        "diabetes_data[zero_features] = diabetes_data[zero_features].replace(0, mean_zero_features)\n",
        "diabetes_data.describe"
      ],
      "execution_count": 28,
      "outputs": [
        {
          "output_type": "stream",
          "name": "stdout",
          "text": [
            "Glucose          120.894531\n",
            "BloodPressure     69.105469\n",
            "SkinThickness     20.536458\n",
            "Insulin           79.799479\n",
            "BMI               31.992578\n",
            "dtype: float64\n"
          ]
        },
        {
          "output_type": "execute_result",
          "data": {
            "text/plain": [
              "<bound method NDFrame.describe of      Pregnancies  Glucose  ...  Age  Outcome\n",
              "0              6    148.0  ...   50        1\n",
              "1              1     85.0  ...   31        0\n",
              "2              8    183.0  ...   32        1\n",
              "3              1     89.0  ...   21        0\n",
              "4              0    137.0  ...   33        1\n",
              "..           ...      ...  ...  ...      ...\n",
              "763           10    101.0  ...   63        0\n",
              "764            2    122.0  ...   27        0\n",
              "765            5    121.0  ...   30        0\n",
              "766            1    126.0  ...   47        1\n",
              "767            1     93.0  ...   23        0\n",
              "\n",
              "[768 rows x 9 columns]>"
            ]
          },
          "metadata": {},
          "execution_count": 28
        }
      ]
    },
    {
      "cell_type": "markdown",
      "metadata": {
        "id": "r597JMMp6J_U"
      },
      "source": [
        "0 값을 평균값으로 대체한 데이터 세트에 대해 피처 스케일링을 적용해 변환하자. 로지스틱 회귀의 경우 일반적으로 숫자 데이터에 스케일링을 적용하는 것이 좋다. 이후 다시 학습/테스트 데이터 세트로 나누고 로지스틱 회귀를 적용해 성능 평가 지표를 확인하자."
      ]
    },
    {
      "cell_type": "code",
      "metadata": {
        "colab": {
          "base_uri": "https://localhost:8080/"
        },
        "id": "e-w5OULz6Dbh",
        "outputId": "e7a76928-6996-4d07-c908-c4c97efa4e36"
      },
      "source": [
        "from sklearn.preprocessing import StandardScaler\n",
        "\n",
        "X = diabetes_data.iloc[:, :-1]\n",
        "y = diabetes_data.iloc[:, -1]\n",
        "\n",
        "# StandardScaler 클래스를 이용해 피처 데이터 세트에 일괄적으로 스케일링 적용\n",
        "scaler = StandardScaler( )\n",
        "X_scaled = scaler.fit_transform(X)\n",
        "\n",
        "X_train, X_test, y_train, y_test = train_test_split(X_scaled, y, test_size = 0.2, random_state = 156, stratify=y)\n",
        "\n",
        "# 로지스틱 회귀로 학습, 예측 및 평가 수행. \n",
        "lr_clf = LogisticRegression()\n",
        "lr_clf.fit(X_train , y_train)\n",
        "pred = lr_clf.predict(X_test)\n",
        "pred_proba = lr_clf.predict_proba(X_test)[:, 1]\n",
        "\n",
        "get_clf_eval(y_test , pred, pred_proba)"
      ],
      "execution_count": 29,
      "outputs": [
        {
          "output_type": "stream",
          "name": "stdout",
          "text": [
            "오차 행렬\n",
            "[[90 10]\n",
            " [21 33]]\n",
            "정확도 : 0.7987 정밀도 0.7674 재현율 0.6111 F1 0.6804 AUC 0.8433\n",
            "\n"
          ]
        }
      ]
    },
    {
      "cell_type": "markdown",
      "metadata": {
        "id": "KA9piub88tFb"
      },
      "source": [
        "데이터 변환과 스케일링을 통해 성능 수치가 일정 수준 개선되었다. 하지만 재현율 수치는 개선이 필요해보인다. 분류 결정 임계값을 변화시키면서 재현율 값의 성능 수치가 어느 정도나 개선되는지 확인해보자. 임계값을 0.3에서 0.5까지 0.03씩 변화시키며 재현율과 다른 평가 지표의 값 변화를 출력."
      ]
    },
    {
      "cell_type": "code",
      "metadata": {
        "id": "EMdTwU6N-37y"
      },
      "source": [
        "from sklearn.preprocessing import Binarizer\n",
        "\n",
        "def get_eval_by_threshold(y_test, pred_proba_c1, thresholds):\n",
        "    for custom_threshold in thresholds:\n",
        "        binarizer = Binarizer(threshold=custom_threshold).fit(pred_proba_c1)\n",
        "        custom_predict = binarizer.transform(pred_proba_c1)\n",
        "        print('임계값 :',custom_threshold)\n",
        "        get_clf_eval(y_test, custom_predict, pred_proba_c1)\n",
        "        print('===============================================')"
      ],
      "execution_count": 30,
      "outputs": []
    },
    {
      "cell_type": "code",
      "metadata": {
        "colab": {
          "base_uri": "https://localhost:8080/"
        },
        "id": "dyEooa8i9Hni",
        "outputId": "b6d90198-52e0-439d-842c-04cea22689a7"
      },
      "source": [
        "thresholds = [0.3, 0.33, 0.36, 0.39, 0.42, 0.45, 0.48, 0.5]\n",
        "pred_proba = lr_clf.predict_proba(X_test)\n",
        "get_eval_by_threshold(y_test, pred_proba[:, 1].reshape(-1, 1), thresholds)"
      ],
      "execution_count": 31,
      "outputs": [
        {
          "output_type": "stream",
          "name": "stdout",
          "text": [
            "임계값 : 0.3\n",
            "오차 행렬\n",
            "[[67 33]\n",
            " [11 43]]\n",
            "정확도 : 0.7143 정밀도 0.5658 재현율 0.7963 F1 0.6615 AUC 0.8433\n",
            "\n",
            "===============================================\n",
            "임계값 : 0.33\n",
            "오차 행렬\n",
            "[[72 28]\n",
            " [12 42]]\n",
            "정확도 : 0.7403 정밀도 0.6000 재현율 0.7778 F1 0.6774 AUC 0.8433\n",
            "\n",
            "===============================================\n",
            "임계값 : 0.36\n",
            "오차 행렬\n",
            "[[76 24]\n",
            " [15 39]]\n",
            "정확도 : 0.7468 정밀도 0.6190 재현율 0.7222 F1 0.6667 AUC 0.8433\n",
            "\n",
            "===============================================\n",
            "임계값 : 0.39\n",
            "오차 행렬\n",
            "[[78 22]\n",
            " [16 38]]\n",
            "정확도 : 0.7532 정밀도 0.6333 재현율 0.7037 F1 0.6667 AUC 0.8433\n",
            "\n",
            "===============================================\n",
            "임계값 : 0.42\n",
            "오차 행렬\n",
            "[[84 16]\n",
            " [18 36]]\n",
            "정확도 : 0.7792 정밀도 0.6923 재현율 0.6667 F1 0.6792 AUC 0.8433\n",
            "\n",
            "===============================================\n",
            "임계값 : 0.45\n",
            "오차 행렬\n",
            "[[85 15]\n",
            " [18 36]]\n",
            "정확도 : 0.7857 정밀도 0.7059 재현율 0.6667 F1 0.6857 AUC 0.8433\n",
            "\n",
            "===============================================\n",
            "임계값 : 0.48\n",
            "오차 행렬\n",
            "[[88 12]\n",
            " [19 35]]\n",
            "정확도 : 0.7987 정밀도 0.7447 재현율 0.6481 F1 0.6931 AUC 0.8433\n",
            "\n",
            "===============================================\n",
            "임계값 : 0.5\n",
            "오차 행렬\n",
            "[[90 10]\n",
            " [21 33]]\n",
            "정확도 : 0.7987 정밀도 0.7674 재현율 0.6111 F1 0.6804 AUC 0.8433\n",
            "\n",
            "===============================================\n"
          ]
        }
      ]
    },
    {
      "cell_type": "markdown",
      "metadata": {
        "id": "b1GuksJ7AISB"
      },
      "source": [
        "임계값 0.48이 전체적인 성능 평가 지표를 유지하면서 재현율을 약간 향상시키는 좋은 임계값으로 보인다. 임계값 0.48일 경우 정확도 : 0.7987 정밀도 0.7447 재현율 0.6481 F1 0.6931 AUC 0.8433이다.\n",
        "\n",
        "로지스틱 회귀 모델을 이용하여 임계값을 0.48로 낮춘 상태에서 다시 예측해보자. 사이킷런의 predict() 메서드는 임계값을 변환할 수 없으므로 별도 로직으로 구현해야 한다. Binarizer 클래스를 이용해 predict_proba()로 추출한 예측 결과 확률을 변환하여 변경된 임계값에 따른 예측 클래스 값을 구해보자."
      ]
    },
    {
      "cell_type": "code",
      "metadata": {
        "colab": {
          "base_uri": "https://localhost:8080/"
        },
        "id": "ok0w90xOAt9S",
        "outputId": "d7207dd8-0451-4f5a-82c8-b03b4bc1c12e"
      },
      "source": [
        "# 임계값 0.48로 설정한 Binarizer 생성\n",
        "binarizer = Binarizer(threshold=0.48)\n",
        "\n",
        "# 위에서 구한 lr_clf의 predict_proba() 예측 확률 array에서 1에 해당하는 칼럼값을 Binarizer 변환\n",
        "pred_048 = binarizer.fit_transform(pred_proba[:, 1].reshape(-1, 1))\n",
        "get_clf_eval(y_test, pred_048, pred_proba[:, 1])"
      ],
      "execution_count": 32,
      "outputs": [
        {
          "output_type": "stream",
          "name": "stdout",
          "text": [
            "오차 행렬\n",
            "[[88 12]\n",
            " [19 35]]\n",
            "정확도 : 0.7987 정밀도 0.7447 재현율 0.6481 F1 0.6931 AUC 0.8433\n",
            "\n"
          ]
        }
      ]
    }
  ]
}