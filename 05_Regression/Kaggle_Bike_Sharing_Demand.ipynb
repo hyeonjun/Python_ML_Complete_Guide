{
  "nbformat": 4,
  "nbformat_minor": 0,
  "metadata": {
    "colab": {
      "name": "Kaggle_Bike_Sharing_Demand.ipynb",
      "provenance": [],
      "collapsed_sections": [],
      "authorship_tag": "ABX9TyOvMGGpkfvl6nNajH1SSLO5"
    },
    "kernelspec": {
      "name": "python3",
      "display_name": "Python 3"
    },
    "language_info": {
      "name": "python"
    }
  },
  "cells": [
    {
      "cell_type": "markdown",
      "metadata": {
        "id": "lI3pYnHGl85W"
      },
      "source": [
        "# 자전거 대여 수요 예측\n",
        "\n",
        "https://www.kaggle.com/c/bike-sharing-demand/data\n",
        "\n",
        "해당 데이터 세트에는 2011년 1월부터 2012년 12월까지 날짜/시간, 기온, 습도, 풍속 등의 정보를 기반으로 1시간 간격 동안의 자전거 대여 횟수가 기재돼있다.\n",
        "\n",
        "* datatime : hourly date + timestamp\n",
        "* seasom : 1 = 봄, 2 = 여름, 3 = 가을, 4 = 겨울\n",
        "* holiday : 1 = 토, 일요일의 주말을 제외한 국경일 등의 휴일, 0 = 휴일이 아닌 날\n",
        "* workingday : 1 = 토, 일요일의 주말 및 휴일이 아닌 주중, 0 = 주말 및 휴일\n",
        "* weather : \n",
        "    * 1 = 맑음, 약간 구름 낀 흐림\n",
        "    * 2 = 안개, 안개 + 흐림\n",
        "    * 3 = 가벼운 눈, 가벼운 비 + 천둥\n",
        "    * 4 = 심한 눈/비, 천둥/번개\n",
        "* temp : 온도(섭씨)\n",
        "* atemp : 체감온도(섭씨)\n",
        "* humidity : 상대습도\n",
        "* windspeed : 풍속\n",
        "* casual : 사전에 등록되지 않은 사용자가 대여한 횟수\n",
        "* registered : 사전에 등록된 사용자가 대어한 횟수\n",
        "* count : 대여 횟수"
      ]
    },
    {
      "cell_type": "markdown",
      "metadata": {
        "id": "ezj924GPn62l"
      },
      "source": [
        "### 데이터 클렌징 및 가공\n"
      ]
    },
    {
      "cell_type": "code",
      "metadata": {
        "id": "wX4lz5gilzkD",
        "colab": {
          "base_uri": "https://localhost:8080/",
          "height": 162
        },
        "outputId": "c6bf1d91-50f6-4c62-cb1a-5cfbb9f767a6"
      },
      "source": [
        "import numpy as np\n",
        "import pandas as pd\n",
        "import seaborn as sns\n",
        "import matplotlib.pyplot as plt\n",
        "%matplotlib inline\n",
        "\n",
        "import warnings\n",
        "warnings.filterwarnings(\"ignore\", category=RuntimeWarning)\n",
        "\n",
        "bike_df = pd.read_csv(\"./bike_train.csv\")\n",
        "print(bike_df.shape)\n",
        "bike_df.head(3)"
      ],
      "execution_count": 1,
      "outputs": [
        {
          "output_type": "stream",
          "name": "stdout",
          "text": [
            "(10886, 12)\n"
          ]
        },
        {
          "output_type": "execute_result",
          "data": {
            "text/html": [
              "<div>\n",
              "<style scoped>\n",
              "    .dataframe tbody tr th:only-of-type {\n",
              "        vertical-align: middle;\n",
              "    }\n",
              "\n",
              "    .dataframe tbody tr th {\n",
              "        vertical-align: top;\n",
              "    }\n",
              "\n",
              "    .dataframe thead th {\n",
              "        text-align: right;\n",
              "    }\n",
              "</style>\n",
              "<table border=\"1\" class=\"dataframe\">\n",
              "  <thead>\n",
              "    <tr style=\"text-align: right;\">\n",
              "      <th></th>\n",
              "      <th>datetime</th>\n",
              "      <th>season</th>\n",
              "      <th>holiday</th>\n",
              "      <th>workingday</th>\n",
              "      <th>weather</th>\n",
              "      <th>temp</th>\n",
              "      <th>atemp</th>\n",
              "      <th>humidity</th>\n",
              "      <th>windspeed</th>\n",
              "      <th>casual</th>\n",
              "      <th>registered</th>\n",
              "      <th>count</th>\n",
              "    </tr>\n",
              "  </thead>\n",
              "  <tbody>\n",
              "    <tr>\n",
              "      <th>0</th>\n",
              "      <td>2011-01-01 00:00:00</td>\n",
              "      <td>1</td>\n",
              "      <td>0</td>\n",
              "      <td>0</td>\n",
              "      <td>1</td>\n",
              "      <td>9.84</td>\n",
              "      <td>14.395</td>\n",
              "      <td>81</td>\n",
              "      <td>0.0</td>\n",
              "      <td>3</td>\n",
              "      <td>13</td>\n",
              "      <td>16</td>\n",
              "    </tr>\n",
              "    <tr>\n",
              "      <th>1</th>\n",
              "      <td>2011-01-01 01:00:00</td>\n",
              "      <td>1</td>\n",
              "      <td>0</td>\n",
              "      <td>0</td>\n",
              "      <td>1</td>\n",
              "      <td>9.02</td>\n",
              "      <td>13.635</td>\n",
              "      <td>80</td>\n",
              "      <td>0.0</td>\n",
              "      <td>8</td>\n",
              "      <td>32</td>\n",
              "      <td>40</td>\n",
              "    </tr>\n",
              "    <tr>\n",
              "      <th>2</th>\n",
              "      <td>2011-01-01 02:00:00</td>\n",
              "      <td>1</td>\n",
              "      <td>0</td>\n",
              "      <td>0</td>\n",
              "      <td>1</td>\n",
              "      <td>9.02</td>\n",
              "      <td>13.635</td>\n",
              "      <td>80</td>\n",
              "      <td>0.0</td>\n",
              "      <td>5</td>\n",
              "      <td>27</td>\n",
              "      <td>32</td>\n",
              "    </tr>\n",
              "  </tbody>\n",
              "</table>\n",
              "</div>"
            ],
            "text/plain": [
              "              datetime  season  holiday  ...  casual  registered  count\n",
              "0  2011-01-01 00:00:00       1        0  ...       3          13     16\n",
              "1  2011-01-01 01:00:00       1        0  ...       8          32     40\n",
              "2  2011-01-01 02:00:00       1        0  ...       5          27     32\n",
              "\n",
              "[3 rows x 12 columns]"
            ]
          },
          "metadata": {},
          "execution_count": 1
        }
      ]
    },
    {
      "cell_type": "code",
      "metadata": {
        "colab": {
          "base_uri": "https://localhost:8080/"
        },
        "id": "-0pNSxElowDU",
        "outputId": "91bf7b91-a231-4176-ddfc-bd0d8c04500d"
      },
      "source": [
        "bike_df.info()"
      ],
      "execution_count": 2,
      "outputs": [
        {
          "output_type": "stream",
          "name": "stdout",
          "text": [
            "<class 'pandas.core.frame.DataFrame'>\n",
            "RangeIndex: 10886 entries, 0 to 10885\n",
            "Data columns (total 12 columns):\n",
            " #   Column      Non-Null Count  Dtype  \n",
            "---  ------      --------------  -----  \n",
            " 0   datetime    10886 non-null  object \n",
            " 1   season      10886 non-null  int64  \n",
            " 2   holiday     10886 non-null  int64  \n",
            " 3   workingday  10886 non-null  int64  \n",
            " 4   weather     10886 non-null  int64  \n",
            " 5   temp        10886 non-null  float64\n",
            " 6   atemp       10886 non-null  float64\n",
            " 7   humidity    10886 non-null  int64  \n",
            " 8   windspeed   10886 non-null  float64\n",
            " 9   casual      10886 non-null  int64  \n",
            " 10  registered  10886 non-null  int64  \n",
            " 11  count       10886 non-null  int64  \n",
            "dtypes: float64(3), int64(8), object(1)\n",
            "memory usage: 1020.7+ KB\n"
          ]
        }
      ]
    },
    {
      "cell_type": "markdown",
      "metadata": {
        "id": "5XZ-ZVxTo0hT"
      },
      "source": [
        "null 데이터는 없으며, 대부분 int 또는 float인데 datetime만 object형이다. datetime의 경우 년-월-일 시:분:초 문자 형식으로 되어있어 이를 가공해야한다.\n",
        "\n",
        "datetime을 분리하여 숫자형으로 만든다."
      ]
    },
    {
      "cell_type": "code",
      "metadata": {
        "colab": {
          "base_uri": "https://localhost:8080/",
          "height": 143
        },
        "id": "3s7dw8AgpOjM",
        "outputId": "f748a518-76de-430f-e553-0e9c65bbb5b9"
      },
      "source": [
        "# 문자열을 datetime 타입으로 변경\n",
        "bike_df['datetime'] = bike_df.datetime.apply(pd.to_datetime)\n",
        "\n",
        "# datetime 타입에서 년, 월, 일, 시간 추출\n",
        "bike_df['year'] = bike_df.datetime.apply(lambda x:x.year)\n",
        "bike_df['month'] = bike_df.datetime.apply(lambda x:x.month)\n",
        "bike_df['day'] = bike_df.datetime.apply(lambda x:x.day)\n",
        "bike_df['hour'] = bike_df.datetime.apply(lambda x:x.hour)\n",
        "bike_df.head(3)"
      ],
      "execution_count": 3,
      "outputs": [
        {
          "output_type": "execute_result",
          "data": {
            "text/html": [
              "<div>\n",
              "<style scoped>\n",
              "    .dataframe tbody tr th:only-of-type {\n",
              "        vertical-align: middle;\n",
              "    }\n",
              "\n",
              "    .dataframe tbody tr th {\n",
              "        vertical-align: top;\n",
              "    }\n",
              "\n",
              "    .dataframe thead th {\n",
              "        text-align: right;\n",
              "    }\n",
              "</style>\n",
              "<table border=\"1\" class=\"dataframe\">\n",
              "  <thead>\n",
              "    <tr style=\"text-align: right;\">\n",
              "      <th></th>\n",
              "      <th>datetime</th>\n",
              "      <th>season</th>\n",
              "      <th>holiday</th>\n",
              "      <th>workingday</th>\n",
              "      <th>weather</th>\n",
              "      <th>temp</th>\n",
              "      <th>atemp</th>\n",
              "      <th>humidity</th>\n",
              "      <th>windspeed</th>\n",
              "      <th>casual</th>\n",
              "      <th>registered</th>\n",
              "      <th>count</th>\n",
              "      <th>year</th>\n",
              "      <th>month</th>\n",
              "      <th>day</th>\n",
              "      <th>hour</th>\n",
              "    </tr>\n",
              "  </thead>\n",
              "  <tbody>\n",
              "    <tr>\n",
              "      <th>0</th>\n",
              "      <td>2011-01-01 00:00:00</td>\n",
              "      <td>1</td>\n",
              "      <td>0</td>\n",
              "      <td>0</td>\n",
              "      <td>1</td>\n",
              "      <td>9.84</td>\n",
              "      <td>14.395</td>\n",
              "      <td>81</td>\n",
              "      <td>0.0</td>\n",
              "      <td>3</td>\n",
              "      <td>13</td>\n",
              "      <td>16</td>\n",
              "      <td>2011</td>\n",
              "      <td>1</td>\n",
              "      <td>1</td>\n",
              "      <td>0</td>\n",
              "    </tr>\n",
              "    <tr>\n",
              "      <th>1</th>\n",
              "      <td>2011-01-01 01:00:00</td>\n",
              "      <td>1</td>\n",
              "      <td>0</td>\n",
              "      <td>0</td>\n",
              "      <td>1</td>\n",
              "      <td>9.02</td>\n",
              "      <td>13.635</td>\n",
              "      <td>80</td>\n",
              "      <td>0.0</td>\n",
              "      <td>8</td>\n",
              "      <td>32</td>\n",
              "      <td>40</td>\n",
              "      <td>2011</td>\n",
              "      <td>1</td>\n",
              "      <td>1</td>\n",
              "      <td>1</td>\n",
              "    </tr>\n",
              "    <tr>\n",
              "      <th>2</th>\n",
              "      <td>2011-01-01 02:00:00</td>\n",
              "      <td>1</td>\n",
              "      <td>0</td>\n",
              "      <td>0</td>\n",
              "      <td>1</td>\n",
              "      <td>9.02</td>\n",
              "      <td>13.635</td>\n",
              "      <td>80</td>\n",
              "      <td>0.0</td>\n",
              "      <td>5</td>\n",
              "      <td>27</td>\n",
              "      <td>32</td>\n",
              "      <td>2011</td>\n",
              "      <td>1</td>\n",
              "      <td>1</td>\n",
              "      <td>2</td>\n",
              "    </tr>\n",
              "  </tbody>\n",
              "</table>\n",
              "</div>"
            ],
            "text/plain": [
              "             datetime  season  holiday  workingday  ...  year  month  day  hour\n",
              "0 2011-01-01 00:00:00       1        0           0  ...  2011      1    1     0\n",
              "1 2011-01-01 01:00:00       1        0           0  ...  2011      1    1     1\n",
              "2 2011-01-01 02:00:00       1        0           0  ...  2011      1    1     2\n",
              "\n",
              "[3 rows x 16 columns]"
            ]
          },
          "metadata": {},
          "execution_count": 3
        }
      ]
    },
    {
      "cell_type": "markdown",
      "metadata": {
        "id": "CmhkN4LK2-Xo"
      },
      "source": [
        "이제 datetime 칼럼은 필요하지 않아 삭제한다. 그리고 casual 칼럼은 사전에 등록하지 않은 사용자의 대여 횟수이고, registered는 사전에 등록한 사용자 대여 횟수인데, casual+registered=count이므로 casual과 registered는 따로 필요하지 않아 삭제하는 것이 좋다."
      ]
    },
    {
      "cell_type": "code",
      "metadata": {
        "id": "RlaNJmry3T3A"
      },
      "source": [
        "bike_df.drop(['datetime', 'casual', 'registered'], axis=1, inplace=True)"
      ],
      "execution_count": 4,
      "outputs": []
    },
    {
      "cell_type": "markdown",
      "metadata": {
        "id": "dCwJ31H83ezA"
      },
      "source": [
        "### 성능 측정\n",
        "\n",
        "캐글에서 요구한 성능 평가 방법은 RMSLE(Root Mean Square Log Error)이다. 즉, 오류값의 로그에 대한 RMSE이다. 사이킷런에는 RMSLE를 제공하지 않아 직접 만들어야한다."
      ]
    },
    {
      "cell_type": "code",
      "metadata": {
        "id": "_u1evZPn3tMv"
      },
      "source": [
        "from sklearn.metrics import mean_squared_error, mean_absolute_error\n",
        "\n",
        "# log값 변환 시 NaN 등의 이슈로 log()가 아닌 log1p()를 이용해 RMSLE 계산\n",
        "def rmsle(y, pred):\n",
        "    log_y = np.log1p(y)\n",
        "    log_pred = np.log1p(pred)\n",
        "    squared_error = (log_y - log_pred) ** 2\n",
        "    rmsle = np.sqrt(np.mean(squared_error))\n",
        "    return rmsle\n",
        "\n",
        "# 사이킷런의 mean_square_error()를 이용해 RMSE 계산\n",
        "def rmse(y, pred):\n",
        "    return np.sqrt(mean_squared_error(y, pred))\n",
        "\n",
        "# MSE, RMSE, RMSLE를 모두 계산\n",
        "def evaluate_regr(y, pred):\n",
        "    rmsle_val = rmsle(y, pred)\n",
        "    rmse_val = rmse(y, pred)\n",
        "    # MAE는 사이킷런의 mean_absolute_error()로 계산\n",
        "    mae_val = mean_absolute_error(y, pred)\n",
        "    print(\"RMSLE : {0:.3f}, RMSE : {1:.3f}, MAE : {2:.3f}\".format(rmsle_val, rmse_val, mae_val))"
      ],
      "execution_count": 5,
      "outputs": []
    },
    {
      "cell_type": "markdown",
      "metadata": {
        "id": "AQBNLORD4zR4"
      },
      "source": [
        "    def rmsle(y, pred):\n",
        "        msle = mean_squared_log_error(y, pred)\n",
        "        rmsle = np.sqrt(mse)\n",
        "        return rmsle\n",
        "\n",
        "위와 같이 mean_squared_log_error()나 log() 함수를 이용하여 rmsle를 구하게 되면 데이터 값의 크기에 따라 오버플로/언더플로(overflow/underflow) 오류가 발생하기 쉽다.\n",
        "\n",
        "따라서 log()보다는 log1p()를 이용하는데, log1p()의 경우 1+log() 값으로 log 변환 값에 1을 더해 이러한 문제를 해결해준다. 그리고 log1p()로 변환된 값은 다시 넘파이의 expm1() 함수로 쉽게 원래 스케일로 복원될 수 있다."
      ]
    },
    {
      "cell_type": "markdown",
      "metadata": {
        "id": "VPdbk-du5h2_"
      },
      "source": [
        "### 로그 변환, 피처 인코딩과 모델 학습/예측/평가\n",
        "\n",
        "결과값이 정규 분포로 돼있는지 확인해야하며, 카테고리형 회귀 모델의 경우 원-핫 인코딩으로 피처를 인코딩 해야한다."
      ]
    },
    {
      "cell_type": "code",
      "metadata": {
        "colab": {
          "base_uri": "https://localhost:8080/"
        },
        "id": "fEFUXc1c5v6H",
        "outputId": "2a87d81a-7dde-405b-c546-c5be04d3c20b"
      },
      "source": [
        "# 사이킷런의 LinearRegression 객체를 이용해 회귀 예측\n",
        "from sklearn.model_selection import train_test_split, GridSearchCV\n",
        "from sklearn.linear_model import LinearRegression, Ridge, Lasso\n",
        "\n",
        "y_target = bike_df['count']\n",
        "X_features = bike_df.drop(['count'], axis=1, inplace=False)\n",
        "\n",
        "X_train, X_test, y_train, y_test = train_test_split(X_features, y_target, test_size=0.3, random_state=0)\n",
        "lr_reg = LinearRegression()\n",
        "lr_reg.fit(X_train, y_train)\n",
        "pred = lr_reg.predict(X_test)\n",
        "evaluate_regr(y_test, pred)"
      ],
      "execution_count": 6,
      "outputs": [
        {
          "output_type": "stream",
          "name": "stdout",
          "text": [
            "RMSLE : 1.165, RMSE : 140.900, MAE : 105.924\n"
          ]
        }
      ]
    },
    {
      "cell_type": "markdown",
      "metadata": {
        "id": "9ow2KE8J6fhf"
      },
      "source": [
        "RMSLE : 1.165, RMSE : 140.900, MAE : 105.924는 실제 Target 데이터 값인 대여 횟수(Count)를 감안하면 예측 오류로서는 비교적 큰 값이다. 실제값과 예측값이 어느 정도로 차이가 나는지 DataFrame의 칼럼으로 만들어 오류값이 가장 큰 순으로 5개를 확인"
      ]
    },
    {
      "cell_type": "code",
      "metadata": {
        "colab": {
          "base_uri": "https://localhost:8080/"
        },
        "id": "lqJZqrON6vLW",
        "outputId": "6056903e-166e-47c1-8dda-1a249d9b55d4"
      },
      "source": [
        "def get_top_error_data(y_test, pred, n_tops=5):\n",
        "    # DataFrame의 칼럼으로 실제 대여 횟수(count)와 예측값을 서로 비교할 수 있도록 생성\n",
        "    result_df = pd.DataFrame(y_test.values, columns=['real_count'])\n",
        "    result_df['predicted_count'] = np.round(pred)\n",
        "    result_df['diff'] = np.abs(result_df['real_count'] - result_df['predicted_count'])\n",
        "    \n",
        "    # 예측값과 실제값이 가장 큰 데이터순으로 출력\n",
        "    print(result_df.sort_values('diff', ascending=False)[:n_tops])\n",
        "\n",
        "get_top_error_data(y_test, pred, n_tops=5)"
      ],
      "execution_count": 7,
      "outputs": [
        {
          "output_type": "stream",
          "name": "stdout",
          "text": [
            "      real_count  predicted_count   diff\n",
            "1618         890            322.0  568.0\n",
            "3151         798            241.0  557.0\n",
            "966          884            327.0  557.0\n",
            "412          745            194.0  551.0\n",
            "2817         856            310.0  546.0\n"
          ]
        }
      ]
    },
    {
      "cell_type": "markdown",
      "metadata": {
        "id": "dXLsBq3G77bm"
      },
      "source": [
        "가장 큰 상위 5위 오류값은 546 ~ 568로 실제 값을 감안하면 예측 오류가 꽤 크다. 회귀에서 이렇게 큰 예측 오류가 발생할 경우 가장 먼저 살펴볼 것은 Target 값의 분포가 왜곡된 형태를 이루고 있는지 확인해야한다. Target 값의 분포는 정규 분포 형태가 가장 좋다. 그렇지 않고 왜곡된 경우에는 회귀 예측 성능이 저하되는 경우가 발생하기 쉽다."
      ]
    },
    {
      "cell_type": "code",
      "metadata": {
        "colab": {
          "base_uri": "https://localhost:8080/",
          "height": 283
        },
        "id": "Ns6CdzPY8TeG",
        "outputId": "1ddb52a2-193c-47c0-addc-d2f210a92bcc"
      },
      "source": [
        "y_target.hist()"
      ],
      "execution_count": 8,
      "outputs": [
        {
          "output_type": "execute_result",
          "data": {
            "text/plain": [
              "<matplotlib.axes._subplots.AxesSubplot at 0x7f5dda397cd0>"
            ]
          },
          "metadata": {},
          "execution_count": 8
        },
        {
          "output_type": "display_data",
          "data": {
            "image/png": "[encoded data removed]",
            "text/plain": [
              "<Figure size 432x288 with 1 Axes>"
            ]
          },
          "metadata": {
            "needs_background": "light"
          }
        }
      ]
    },
    {
      "cell_type": "markdown",
      "metadata": {
        "id": "-6z96AQ48ndO"
      },
      "source": [
        "0~200 사이의 count 칼럼 값이 정규 분포가 아닌 왜곡되어 있는 것을 알 수 있다.\n",
        "\n",
        "왜곡된 값을 정규 분포 형태로 바꾸는 방법 = log 적용"
      ]
    },
    {
      "cell_type": "code",
      "metadata": {
        "colab": {
          "base_uri": "https://localhost:8080/",
          "height": 283
        },
        "id": "dZHcuIO381L2",
        "outputId": "2a19f0c6-5e27-4b21-8870-0b61584a58e7"
      },
      "source": [
        "y_log_transform = np.log1p(y_target)\n",
        "y_log_transform.hist()"
      ],
      "execution_count": 9,
      "outputs": [
        {
          "output_type": "execute_result",
          "data": {
            "text/plain": [
              "<matplotlib.axes._subplots.AxesSubplot at 0x7f5dda293190>"
            ]
          },
          "metadata": {},
          "execution_count": 9
        },
        {
          "output_type": "display_data",
          "data": {
            "image/png": "[encoded data removed]",
            "text/plain": [
              "<Figure size 432x288 with 1 Axes>"
            ]
          },
          "metadata": {
            "needs_background": "light"
          }
        }
      ]
    },
    {
      "cell_type": "markdown",
      "metadata": {
        "id": "q0UWuvKw8-zG"
      },
      "source": [
        "로그로 Target 값을 변환한 후에는 원하는 정규 분포는 아니지만 왜곡 정도가 이전보다 많이 향상되었다. 다시 학습을 수행한다."
      ]
    },
    {
      "cell_type": "code",
      "metadata": {
        "colab": {
          "base_uri": "https://localhost:8080/"
        },
        "id": "V4EcyNul9Gd-",
        "outputId": "60e75523-e19e-4d65-fd78-f218c487104c"
      },
      "source": [
        "y_target_log = np.log1p(y_target)\n",
        "\n",
        "X_train, X_test, y_train, y_test = train_test_split(X_features, y_target_log, test_size=0.3, random_state=0)\n",
        "\n",
        "lr_reg = LinearRegression()\n",
        "lr_reg.fit(X_train, y_train)\n",
        "pred = lr_reg.predict(X_test)\n",
        "\n",
        "# 테스트 데이터 세트의 Target 값은 로그 변환됐으므로 다시 expm1을 이용해 원래 스케일로 변환\n",
        "y_test_exp = np.expm1(y_test)\n",
        "\n",
        "# 예측값 역시 로그 변환된 타깃 기반으로 학습돼 예측했으므로 다시 expm1로 스케일 변환\n",
        "pred_exp = np.expm1(pred)\n",
        "\n",
        "evaluate_regr(y_test_exp, pred_exp)"
      ],
      "execution_count": 10,
      "outputs": [
        {
          "output_type": "stream",
          "name": "stdout",
          "text": [
            "RMSLE : 1.017, RMSE : 162.594, MAE : 109.286\n"
          ]
        }
      ]
    },
    {
      "cell_type": "markdown",
      "metadata": {
        "id": "F9y1brO895ou"
      },
      "source": [
        "로그 변환 전 -> RMSLE : 1.165, RMSE : 140.900, MAE : 105.924\n",
        "\n",
        "로그 변환 후 -> RMSLE : 1.017, RMSE : 162.594, MAE : 109.286\n",
        "\n",
        "RMSLE는 줄었지만, RMSE는 오히려 더 늘어났다.\n",
        "\n",
        "각 피처의 회귀 계수값을 시각화해보자."
      ]
    },
    {
      "cell_type": "code",
      "metadata": {
        "colab": {
          "base_uri": "https://localhost:8080/",
          "height": 283
        },
        "id": "sDYy5AWm-GVu",
        "outputId": "988654ba-8e96-4ce3-855a-dcab212f983b"
      },
      "source": [
        "coef = pd.Series(lr_reg.coef_, index=X_features.columns)\n",
        "coef_sort = coef.sort_values(ascending=False)\n",
        "sns.barplot(x=coef_sort.values, y=coef_sort.index)"
      ],
      "execution_count": 11,
      "outputs": [
        {
          "output_type": "execute_result",
          "data": {
            "text/plain": [
              "<matplotlib.axes._subplots.AxesSubplot at 0x7f5dd9db2cd0>"
            ]
          },
          "metadata": {},
          "execution_count": 11
        },
        {
          "output_type": "display_data",
          "data": {
            "image/png": "[encoded data removed]",
            "text/plain": [
              "<Figure size 432x288 with 1 Axes>"
            ]
          },
          "metadata": {
            "needs_background": "light"
          }
        }
      ]
    },
    {
      "cell_type": "code",
      "metadata": {
        "colab": {
          "base_uri": "https://localhost:8080/"
        },
        "id": "IloYW7Xn-s9V",
        "outputId": "0567202c-89e7-4a2b-81cf-cb0a5c3711d9"
      },
      "source": [
        "bike_df['year'].value_counts()"
      ],
      "execution_count": 12,
      "outputs": [
        {
          "output_type": "execute_result",
          "data": {
            "text/plain": [
              "2012    5464\n",
              "2011    5422\n",
              "Name: year, dtype: int64"
            ]
          },
          "metadata": {},
          "execution_count": 12
        }
      ]
    },
    {
      "cell_type": "markdown",
      "metadata": {
        "id": "89b09Kd9-mNf"
      },
      "source": [
        "year 피처의 회귀 계수값이 독보적으로 큰 값을 가지고 있다. year는 2011년, 2012년 두 개의 값으로 돼 있다. year에 따라서 자전거 대여 횟수가 크게 영향을 받는다는 것은 말이 되지 않는다. year 피처는 연도를 뜻하므로 카테고리(Category)형 피처지만, 숫자형 값으로 되어있다. 사이킷런은 카테고리만을 위한 데이터 타입이 없으며, 모두 숫자형으로 변환해야 한다. 하지만 이처럼 숫자형 카테고리 값을 선형 회귀에 사용할 경우 회귀 계수를 연산할 때 이 숫자형 값에 크게 영향을 받는 경우가 발생할 수 있다. 따라서 선형 회귀에서는 이러한 피처 인코딩에 원-핫 인코딩을 적용해 변환해야한다.\n",
        "\n",
        "판다스의 get_dummies()를 이용해 year, month, day, hour, holiday, workingday, season, weather 칼럼을 모두 원-핫 인코딩한 후 다시 예측 성능을 확인한다."
      ]
    },
    {
      "cell_type": "code",
      "metadata": {
        "id": "I5EyY7Mw_sbX"
      },
      "source": [
        "X_features_ohe = pd.get_dummies(X_features, columns=['year', 'month','day', 'hour', 'holiday', 'workingday','season','weather'])"
      ],
      "execution_count": 13,
      "outputs": []
    },
    {
      "cell_type": "code",
      "metadata": {
        "colab": {
          "base_uri": "https://localhost:8080/"
        },
        "id": "yc4LjCDi_-nl",
        "outputId": "142df41e-c8e3-4fd9-a278-ef59c0d5e5bc"
      },
      "source": [
        "# 사이킷런의 선형 회귀 모델인 LinearRegression, Ridge, Lasso 모두 학습해 예측 성능확인\n",
        "X_train, X_test, y_train, y_test = train_test_split(X_features_ohe, y_target_log, test_size=0.3, random_state=0)\n",
        "\n",
        "def get_model_predict(model, X_train, X_test, y_train, y_test, is_expm1=False):\n",
        "    model.fit(X_train, y_train)\n",
        "    pred = model.predict(X_test)\n",
        "    if is_expm1 :\n",
        "        y_test = np.expm1(y_test)\n",
        "        pred = np.expm1(pred)\n",
        "    print('###',model.__class__.__name__,'###')\n",
        "    evaluate_regr(y_test, pred)\n",
        "\n",
        "# 모델별 평가 수행\n",
        "lr_reg = LinearRegression()\n",
        "ridge_reg = Ridge(alpha=10)\n",
        "lasso_reg = Lasso(alpha=0.01)\n",
        "\n",
        "for model in [lr_reg, ridge_reg, lasso_reg]:\n",
        "    get_model_predict(model,X_train, X_test, y_train, y_test,is_expm1=True)"
      ],
      "execution_count": 14,
      "outputs": [
        {
          "output_type": "stream",
          "name": "stdout",
          "text": [
            "### LinearRegression ###\n",
            "RMSLE : 0.590, RMSE : 97.688, MAE : 63.382\n",
            "### Ridge ###\n",
            "RMSLE : 0.590, RMSE : 98.529, MAE : 63.893\n",
            "### Lasso ###\n",
            "RMSLE : 0.635, RMSE : 113.219, MAE : 72.803\n"
          ]
        }
      ]
    },
    {
      "cell_type": "markdown",
      "metadata": {
        "id": "Z-IR3WgNA4MO"
      },
      "source": [
        "원-핫 인코딩을 적용하고 나서 선형 회귀의 예측 성능이 많이 향상되었다.\n",
        "\n",
        "원-핫 인코딩된 데이터 세트에서의 회귀 계수가 높은 피처를 다시 시각화해보자. 원-핫 인코딩으로 피처가 늘어났으므로 회귀 계수 상위 25개 피처를 추출."
      ]
    },
    {
      "cell_type": "code",
      "metadata": {
        "colab": {
          "base_uri": "https://localhost:8080/",
          "height": 296
        },
        "id": "zdzVi45qBHpN",
        "outputId": "39d02ddb-a434-4423-a91a-7ad527702b3b"
      },
      "source": [
        "coef = pd.Series(lr_reg.coef_ , index=X_features_ohe.columns)\n",
        "coef_sort = coef.sort_values(ascending=False)[:25]\n",
        "sns.barplot(x=coef_sort.values , y=coef_sort.index)"
      ],
      "execution_count": 15,
      "outputs": [
        {
          "output_type": "execute_result",
          "data": {
            "text/plain": [
              "<matplotlib.axes._subplots.AxesSubplot at 0x7f5dda31ae50>"
            ]
          },
          "metadata": {},
          "execution_count": 15
        },
        {
          "output_type": "display_data",
          "data": {
            "image/png": "[encoded data removed]",
            "text/plain": [
              "<Figure size 432x288 with 1 Axes>"
            ]
          },
          "metadata": {
            "needs_background": "light"
          }
        }
      ]
    },
    {
      "cell_type": "markdown",
      "metadata": {
        "id": "tnruLFtNB4Kd"
      },
      "source": [
        "이번에는 회귀 트리를 이용해 회귀 예측을 수행한다. target값의 로그 변환된 값과 원-핫 인코딩된 피처 데이터 세트를 그대로 이용해 랜덤포레스트, GBM, XGBoost, LightGBM을 순차적으로 성능 평가해본다.\n",
        "\n",
        "XGBoost의 경우 DataFrame이 학습/테스트 데이터로 입력될 경우 버전에 따라 오류가 발생할 수 있어 DataFrame의 values 속성을 이용해 넘파이 ndarray로 변환한다."
      ]
    },
    {
      "cell_type": "code",
      "metadata": {
        "colab": {
          "base_uri": "https://localhost:8080/"
        },
        "id": "o-PtanjzCSQd",
        "outputId": "66dad7eb-1187-4919-9efe-4aeafbf1f709"
      },
      "source": [
        "from sklearn.ensemble import RandomForestRegressor, GradientBoostingRegressor\n",
        "from xgboost import XGBRegressor\n",
        "from lightgbm import LGBMRegressor\n",
        "\n",
        "\n",
        "# 랜덤 포레스트, GBM, XGBoost, LightGBM model 별로 평가 수행\n",
        "rf_reg = RandomForestRegressor(n_estimators=500)\n",
        "gbm_reg = GradientBoostingRegressor(n_estimators=500)\n",
        "xgb_reg = XGBRegressor(n_estimators=500, objective='reg:squarederror')\n",
        "lgbm_reg = LGBMRegressor(n_estimators=500)\n",
        "\n",
        "for model in [rf_reg, gbm_reg, xgb_reg, lgbm_reg]:\n",
        "    # XGBoost의 경우 DataFrame이 입력될 경우 버전에 따라 오류 발생 가능. ndarray로 변환\n",
        "    get_model_predict(model,X_train.values, X_test.values, y_train.values, y_test.values,is_expm1=True)"
      ],
      "execution_count": 16,
      "outputs": [
        {
          "output_type": "stream",
          "name": "stdout",
          "text": [
            "### RandomForestRegressor ###\n",
            "RMSLE : 0.354, RMSE : 50.276, MAE : 31.121\n",
            "### GradientBoostingRegressor ###\n",
            "RMSLE : 0.330, RMSE : 53.335, MAE : 32.748\n",
            "### XGBRegressor ###\n",
            "RMSLE : 0.345, RMSE : 58.245, MAE : 35.768\n",
            "### LGBMRegressor ###\n",
            "RMSLE : 0.319, RMSE : 47.215, MAE : 29.029\n"
          ]
        }
      ]
    }
  ]
}