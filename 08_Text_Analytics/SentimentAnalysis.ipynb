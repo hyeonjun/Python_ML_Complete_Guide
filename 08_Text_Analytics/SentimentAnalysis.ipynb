{
  "nbformat": 4,
  "nbformat_minor": 0,
  "metadata": {
    "colab": {
      "name": "SentimentAnalysis.ipynb",
      "provenance": [],
      "collapsed_sections": [],
      "authorship_tag": "ABX9TyNtmYKiu7XtewHT5EBeU37T"
    },
    "kernelspec": {
      "name": "python3",
      "display_name": "Python 3"
    },
    "language_info": {
      "name": "python"
    }
  },
  "cells": [
    {
      "cell_type": "markdown",
      "source": [
        "# 감성 분석\n",
        "\n",
        "* 문서의 주관적인 감성/의견/감정/기분 등을 파악하기 위한 방법\n",
        "* 쇼셜 미디어, 여론조사, 온라인 리뷰, 피드백 등 다양한 분야에서 활용되고 있다.\n",
        "* 감성 분석은 문서 내 텍스트가 나타내는 여러 가지 주관적인 단어와 문맥을 기반으로 감성(Sentiment) 수치를 계산하는 방법을 이용.\n",
        "* 긍정 / 부정 지수로 구성 -> 합산하여 긍/부정 결정\n",
        "* 지도 학습 : 학습 데이터와 타깃 레이블 값을 기반으로 학습 수행. 이를 기반으로 다른 데이터의 감성 분석을 예측하는 방법 => 텍스트 기반의 분류와 거의 유사\n",
        "* 비지도 학습 : 'Lexicon'이라는 감성 어휘 사전 이용. 감성 분석을 위한 용어와 문맥에 대한 정보를 갖고 긍/부정적 감성 여부 판단.\n",
        "\n",
        "### 지도학습 기반 감성 분석 - IMDB 영화평\n",
        "* https://www.kaggle.com/c/word2vec-nlp-tutorial/data\n"
      ],
      "metadata": {
        "id": "mUrxbXqW6GiV"
      }
    },
    {
      "cell_type": "code",
      "execution_count": 1,
      "metadata": {
        "colab": {
          "base_uri": "https://localhost:8080/",
          "height": 143
        },
        "id": "4_DFICORzsHf",
        "outputId": "5a7ea243-aa87-444a-bd25-44c993b40714"
      },
      "outputs": [
        {
          "output_type": "execute_result",
          "data": {
            "text/html": [
              "\n",
              "  <div id=\"df-3b6109ff-f70c-4f4d-8599-24ff12b637d9\">\n",
              "    <div class=\"colab-df-container\">\n",
              "      <div>\n",
              "<style scoped>\n",
              "    .dataframe tbody tr th:only-of-type {\n",
              "        vertical-align: middle;\n",
              "    }\n",
              "\n",
              "    .dataframe tbody tr th {\n",
              "        vertical-align: top;\n",
              "    }\n",
              "\n",
              "    .dataframe thead th {\n",
              "        text-align: right;\n",
              "    }\n",
              "</style>\n",
              "<table border=\"1\" class=\"dataframe\">\n",
              "  <thead>\n",
              "    <tr style=\"text-align: right;\">\n",
              "      <th></th>\n",
              "      <th>id</th>\n",
              "      <th>sentiment</th>\n",
              "      <th>review</th>\n",
              "    </tr>\n",
              "  </thead>\n",
              "  <tbody>\n",
              "    <tr>\n",
              "      <th>0</th>\n",
              "      <td>\"5814_8\"</td>\n",
              "      <td>1</td>\n",
              "      <td>\"With all this stuff going down at the moment ...</td>\n",
              "    </tr>\n",
              "    <tr>\n",
              "      <th>1</th>\n",
              "      <td>\"2381_9\"</td>\n",
              "      <td>1</td>\n",
              "      <td>\"\\\"The Classic War of the Worlds\\\" by Timothy ...</td>\n",
              "    </tr>\n",
              "    <tr>\n",
              "      <th>2</th>\n",
              "      <td>\"7759_3\"</td>\n",
              "      <td>0</td>\n",
              "      <td>\"The film starts with a manager (Nicholas Bell...</td>\n",
              "    </tr>\n",
              "  </tbody>\n",
              "</table>\n",
              "</div>\n",
              "      <button class=\"colab-df-convert\" onclick=\"convertToInteractive('df-3b6109ff-f70c-4f4d-8599-24ff12b637d9')\"\n",
              "              title=\"Convert this dataframe to an interactive table.\"\n",
              "              style=\"display:none;\">\n",
              "        \n",
              "  <svg xmlns=\"http://www.w3.org/2000/svg\" height=\"24px\"viewBox=\"0 0 24 24\"\n",
              "       width=\"24px\">\n",
              "    <path d=\"M0 0h24v24H0V0z\" fill=\"none\"/>\n",
              "    <path d=\"M18.56 5.44l.94 2.06.94-2.06 2.06-.94-2.06-.94-.94-2.06-.94 2.06-2.06.94zm-11 1L8.5 8.5l.94-2.06 2.06-.94-2.06-.94L8.5 2.5l-.94 2.06-2.06.94zm10 10l.94 2.06.94-2.06 2.06-.94-2.06-.94-.94-2.06-.94 2.06-2.06.94z\"/><path d=\"M17.41 7.96l-1.37-1.37c-.4-.4-.92-.59-1.43-.59-.52 0-1.04.2-1.43.59L10.3 9.45l-7.72 7.72c-.78.78-.78 2.05 0 2.83L4 21.41c.39.39.9.59 1.41.59.51 0 1.02-.2 1.41-.59l7.78-7.78 2.81-2.81c.8-.78.8-2.07 0-2.86zM5.41 20L4 18.59l7.72-7.72 1.47 1.35L5.41 20z\"/>\n",
              "  </svg>\n",
              "      </button>\n",
              "      \n",
              "  <style>\n",
              "    .colab-df-container {\n",
              "      display:flex;\n",
              "      flex-wrap:wrap;\n",
              "      gap: 12px;\n",
              "    }\n",
              "\n",
              "    .colab-df-convert {\n",
              "      background-color: #E8F0FE;\n",
              "      border: none;\n",
              "      border-radius: 50%;\n",
              "      cursor: pointer;\n",
              "      display: none;\n",
              "      fill: #1967D2;\n",
              "      height: 32px;\n",
              "      padding: 0 0 0 0;\n",
              "      width: 32px;\n",
              "    }\n",
              "\n",
              "    .colab-df-convert:hover {\n",
              "      background-color: #E2EBFA;\n",
              "      box-shadow: 0px 1px 2px rgba(60, 64, 67, 0.3), 0px 1px 3px 1px rgba(60, 64, 67, 0.15);\n",
              "      fill: #174EA6;\n",
              "    }\n",
              "\n",
              "    [theme=dark] .colab-df-convert {\n",
              "      background-color: #3B4455;\n",
              "      fill: #D2E3FC;\n",
              "    }\n",
              "\n",
              "    [theme=dark] .colab-df-convert:hover {\n",
              "      background-color: #434B5C;\n",
              "      box-shadow: 0px 1px 3px 1px rgba(0, 0, 0, 0.15);\n",
              "      filter: drop-shadow(0px 1px 2px rgba(0, 0, 0, 0.3));\n",
              "      fill: #FFFFFF;\n",
              "    }\n",
              "  </style>\n",
              "\n",
              "      <script>\n",
              "        const buttonEl =\n",
              "          document.querySelector('#df-3b6109ff-f70c-4f4d-8599-24ff12b637d9 button.colab-df-convert');\n",
              "        buttonEl.style.display =\n",
              "          google.colab.kernel.accessAllowed ? 'block' : 'none';\n",
              "\n",
              "        async function convertToInteractive(key) {\n",
              "          const element = document.querySelector('#df-3b6109ff-f70c-4f4d-8599-24ff12b637d9');\n",
              "          const dataTable =\n",
              "            await google.colab.kernel.invokeFunction('convertToInteractive',\n",
              "                                                     [key], {});\n",
              "          if (!dataTable) return;\n",
              "\n",
              "          const docLinkHtml = 'Like what you see? Visit the ' +\n",
              "            '<a target=\"_blank\" href=https://colab.research.google.com/notebooks/data_table.ipynb>data table notebook</a>'\n",
              "            + ' to learn more about interactive tables.';\n",
              "          element.innerHTML = '';\n",
              "          dataTable['output_type'] = 'display_data';\n",
              "          await google.colab.output.renderOutput(dataTable, element);\n",
              "          const docLink = document.createElement('div');\n",
              "          docLink.innerHTML = docLinkHtml;\n",
              "          element.appendChild(docLink);\n",
              "        }\n",
              "      </script>\n",
              "    </div>\n",
              "  </div>\n",
              "  "
            ],
            "text/plain": [
              "         id  sentiment                                             review\n",
              "0  \"5814_8\"          1  \"With all this stuff going down at the moment ...\n",
              "1  \"2381_9\"          1  \"\\\"The Classic War of the Worlds\\\" by Timothy ...\n",
              "2  \"7759_3\"          0  \"The film starts with a manager (Nicholas Bell..."
            ]
          },
          "metadata": {},
          "execution_count": 1
        }
      ],
      "source": [
        "import pandas as pd\n",
        "\n",
        "review_df = pd.read_csv('/content/drive/MyDrive/파이썬_머신러닝_완벽가이드/08_Text_Analytics/labeledTrainData.tsv', header=0, sep='\\t', quoting=3)\n",
        "review_df.head(3)"
      ]
    },
    {
      "cell_type": "markdown",
      "source": [
        "* id : 각 데이터의 id\n",
        "* sentiment : 영화평(review)의 Sentiment 결과값(Target Label). 1은 긍정, 0은 부정\n",
        "* review : 영화평\n"
      ],
      "metadata": {
        "id": "AQqjN6-Z-6P1"
      }
    },
    {
      "cell_type": "code",
      "source": [
        "review_df['review'][0]"
      ],
      "metadata": {
        "colab": {
          "base_uri": "https://localhost:8080/",
          "height": 127
        },
        "id": "1Mod2Hz7_HeK",
        "outputId": "9b2a9f72-4cd6-4727-a7e0-c962b5a559d3"
      },
      "execution_count": 2,
      "outputs": [
        {
          "output_type": "execute_result",
          "data": {
            "application/vnd.google.colaboratory.intrinsic+json": {
              "type": "string"
            },
            "text/plain": [
              "'\"With all this stuff going down at the moment with MJ i\\'ve started listening to his music, watching the odd documentary here and there, watched The Wiz and watched Moonwalker again. Maybe i just want to get a certain insight into this guy who i thought was really cool in the eighties just to maybe make up my mind whether he is guilty or innocent. Moonwalker is part biography, part feature film which i remember going to see at the cinema when it was originally released. Some of it has subtle messages about MJ\\'s feeling towards the press and also the obvious message of drugs are bad m\\'kay.<br /><br />Visually impressive but of course this is all about Michael Jackson so unless you remotely like MJ in anyway then you are going to hate this and find it boring. Some may call MJ an egotist for consenting to the making of this movie BUT MJ and most of his fans would say that he made it for the fans which if true is really nice of him.<br /><br />The actual feature film bit when it finally starts is only on for 20 minutes or so excluding the Smooth Criminal sequence and Joe Pesci is convincing as a psychopathic all powerful drug lord. Why he wants MJ dead so bad is beyond me. Because MJ overheard his plans? Nah, Joe Pesci\\'s character ranted that he wanted people to know it is he who is supplying drugs etc so i dunno, maybe he just hates MJ\\'s music.<br /><br />Lots of cool things in this like MJ turning into a car and a robot and the whole Speed Demon sequence. Also, the director must have had the patience of a saint when it came to filming the kiddy Bad sequence as usually directors hate working with one kid let alone a whole bunch of them performing a complex dance scene.<br /><br />Bottom line, this movie is for people who like MJ on one level or another (which i think is most people). If not, then stay away. It does try and give off a wholesome message and ironically MJ\\'s bestest buddy in this movie is a girl! Michael Jackson is truly one of the most talented people ever to grace this planet but is he guilty? Well, with all the attention i\\'ve gave this subject....hmmm well i don\\'t know because people can be different behind closed doors, i know this for a fact. He is either an extremely nice but stupid guy or one of the most sickest liars. I hope he is not the latter.\"'"
            ]
          },
          "metadata": {},
          "execution_count": 2
        }
      ]
    },
    {
      "cell_type": "markdown",
      "source": [
        "HTML 형식에서 추출해 태그가 존재한다. 그래서 태그를 피처로 만들 필요가 없다. replace()로 태그를 공백으로 바꾼다."
      ],
      "metadata": {
        "id": "hDSmjBKY_TKa"
      }
    },
    {
      "cell_type": "code",
      "source": [
        "import re\n",
        "\n",
        "# <br> html 태그는 replace 함수로 공백으로 변환\n",
        "review_df['review'] = review_df['review'].str.replace('<br />', ' ')\n",
        "\n",
        "# 파이썬 정규 표현식 모듈인 re를 이용해 영어 문자열이 아닌 문자는 모두 공백으로 변환\n",
        "review_df['review'] = review_df['review'].apply(lambda x: re.sub(\"[^a-zA-Z]\", \" \", x))"
      ],
      "metadata": {
        "id": "KZRSSncJ_ul8"
      },
      "execution_count": 3,
      "outputs": []
    },
    {
      "cell_type": "code",
      "source": [
        "# 결정값 클래스인 sentiment 칼럼을 별도로 추출해 결정 값 데이터 세트를 만들고\n",
        "# 원본 데이터 세트에서 id와 sentiment 칼럼을 삭제해 피처 데이터 세트르 생성\n",
        "from sklearn.model_selection import train_test_split\n",
        "\n",
        "class_df = review_df['sentiment']\n",
        "feature_df = review_df.drop(['id', 'sentiment'], axis=1, inplace=False)\n",
        "\n",
        "X_train, X_test, y_train, y_test = train_test_split(feature_df, class_df, test_size=0.3, random_state=156)\n",
        "X_train.shape, X_test.shape"
      ],
      "metadata": {
        "colab": {
          "base_uri": "https://localhost:8080/"
        },
        "id": "OjlvVKWCAUsi",
        "outputId": "256ccb60-cd78-4e8d-827d-ba977888be35"
      },
      "execution_count": 4,
      "outputs": [
        {
          "output_type": "execute_result",
          "data": {
            "text/plain": [
              "((17500, 1), (7500, 1))"
            ]
          },
          "metadata": {},
          "execution_count": 4
        }
      ]
    },
    {
      "cell_type": "code",
      "source": [
        "# Count 벡터화, TF-IDF 벡터화를 각각 적용해 예측 성능 측정\n",
        "# Classifier는 LogisticRegression 이용\n",
        "from sklearn.feature_extraction.text import CountVectorizer, TfidfVectorizer\n",
        "from sklearn.pipeline import Pipeline\n",
        "from sklearn.linear_model import LogisticRegression\n",
        "from sklearn.metrics import accuracy_score, roc_auc_score"
      ],
      "metadata": {
        "id": "Igol1MRGBAsC"
      },
      "execution_count": 5,
      "outputs": []
    },
    {
      "cell_type": "code",
      "source": [
        "# Count 벡터화\n",
        "# 스톱 워드는 English, filtering, ngram은 (1, 2)로 설정해 CountVectorization 수행\n",
        "# LogisticRegression의 C는 10으로 설정\n",
        "pipeline = Pipeline([\n",
        "    ('cnt_vect', CountVectorizer(stop_words='english', ngram_range=(1,2) )),\n",
        "    ('lr_clf', LogisticRegression(C=10, solver='lbfgs', max_iter=1000))])\n",
        "\n",
        "# Pipeline 객체를 이용하여 fit(), predict()로 학습/예측 수행. \n",
        "# predict_proba()는 roc_auc때문에 수행.  \n",
        "pipeline.fit(X_train['review'], y_train)\n",
        "pred = pipeline.predict(X_test['review'])\n",
        "pred_probs = pipeline.predict_proba(X_test['review'])[:,1]\n",
        "\n",
        "print('예측 정확도는 {0:.4f}, ROC-AUC는 {1:.4f}'.format(accuracy_score(y_test ,pred),\n",
        "                                         roc_auc_score(y_test, pred_probs)))"
      ],
      "metadata": {
        "colab": {
          "base_uri": "https://localhost:8080/"
        },
        "id": "0snNW48NCNF7",
        "outputId": "36198038-de47-481a-b88c-2d9c3bd1aa3b"
      },
      "execution_count": 6,
      "outputs": [
        {
          "output_type": "stream",
          "name": "stdout",
          "text": [
            "예측 정확도는 0.8860, ROC-AUC는 0.9503\n"
          ]
        }
      ]
    },
    {
      "cell_type": "code",
      "source": [
        "# TF-IDF 벡터화\n",
        "# 스톱 워드는 English, filtering, ngram은 (1, 2)로 설정해 TF-IDF 벡터화 수행\n",
        "# LogisticRegression의 C는 10으로 설정\n",
        "pipeline = Pipeline([\n",
        "    ('tfidf_vect', TfidfVectorizer(stop_words='english', ngram_range=(1, 2))),\n",
        "     ('lr_clf', LogisticRegression(C=10, solver='lbfgs', max_iter=1000))])\n",
        "\n",
        "pipeline.fit(X_train['review'], y_train)\n",
        "pred = pipeline.predict(X_test['review'])\n",
        "pred_probs  = pipeline.predict_proba(X_test['review'])[:, 1]\n",
        "\n",
        "print('예측 정확도는 {0:.4f}, ROC-AUC는 {1:.4f}'.format(accuracy_score(y_test ,pred),\n",
        "                                         roc_auc_score(y_test, pred_probs)))"
      ],
      "metadata": {
        "colab": {
          "base_uri": "https://localhost:8080/"
        },
        "id": "KERh8f_aEHhR",
        "outputId": "79fb95ba-5c07-4a24-e3a9-d10b82002a1a"
      },
      "execution_count": 7,
      "outputs": [
        {
          "output_type": "stream",
          "name": "stdout",
          "text": [
            "예측 정확도는 0.8936, ROC-AUC는 0.9598\n"
          ]
        }
      ]
    },
    {
      "cell_type": "markdown",
      "source": [
        "### 비지도학습 기반 감성 분석 소개\n",
        "\n",
        "* Lexicon 기반 : 금정/부정 감성의 정도를 의미하는 수치(감성 지수)를 가짐\n",
        "* 감성 지수는 단어의 위치나 주변 단어, 문맥, POS(Part of Speech) 등을 참고해 결정\n",
        "* NLTK.WordNet : 어휘의 시맨틱(문맥상 의미) 분석을 제공. 각각의 품사(명사, 동사, 형용사, 부사 등)로 구성된 개별 단어를 Synset이라는 개념을 이용해 표현\n",
        "* NLTK 감성 사전의 예측 성능이 좋지 않아 일반적으로 다른 감성 사전 적용\n",
        "    * SentiWordNet : 긍/부정 감성 지수, 객관성 지수를 할당하여 최종 감성 지수를 계산. 이를 기반해 긍/부정 결정\n",
        "    * VADER : 주로 소셜 미디어의 텍스트에 대한 감성 분석을 제공. 비교적 빠른 시간에 뛰어난 분석 결과를 제공하여 대용량 데이터에 해당됨\n",
        "    * Pattern : 예측 성능 측면에서 뛰어남."
      ],
      "metadata": {
        "id": "obqGmjnBFh3_"
      }
    },
    {
      "cell_type": "code",
      "source": [
        "# SentiWordNet을 이용한 감성 분석\n",
        "import nltk\n",
        "nltk.download('all')"
      ],
      "metadata": {
        "colab": {
          "base_uri": "https://localhost:8080/"
        },
        "id": "-vb4HUGPG9nR",
        "outputId": "d0de1ec9-b1ac-4a5f-95aa-3907b317a731"
      },
      "execution_count": 8,
      "outputs": [
        {
          "output_type": "stream",
          "name": "stdout",
          "text": [
            "[nltk_data] Downloading collection 'all'\n",
            "[nltk_data]    | \n",
            "[nltk_data]    | Downloading package abc to /root/nltk_data...\n",
            "[nltk_data]    |   Package abc is already up-to-date!\n",
            "[nltk_data]    | Downloading package alpino to /root/nltk_data...\n",
            "[nltk_data]    |   Package alpino is already up-to-date!\n",
            "[nltk_data]    | Downloading package biocreative_ppi to\n",
            "[nltk_data]    |     /root/nltk_data...\n",
            "[nltk_data]    |   Package biocreative_ppi is already up-to-date!\n",
            "[nltk_data]    | Downloading package brown to /root/nltk_data...\n",
            "[nltk_data]    |   Package brown is already up-to-date!\n",
            "[nltk_data]    | Downloading package brown_tei to /root/nltk_data...\n",
            "[nltk_data]    |   Package brown_tei is already up-to-date!\n",
            "[nltk_data]    | Downloading package cess_cat to /root/nltk_data...\n",
            "[nltk_data]    |   Package cess_cat is already up-to-date!\n",
            "[nltk_data]    | Downloading package cess_esp to /root/nltk_data...\n",
            "[nltk_data]    |   Package cess_esp is already up-to-date!\n",
            "[nltk_data]    | Downloading package chat80 to /root/nltk_data...\n",
            "[nltk_data]    |   Package chat80 is already up-to-date!\n",
            "[nltk_data]    | Downloading package city_database to\n",
            "[nltk_data]    |     /root/nltk_data...\n",
            "[nltk_data]    |   Package city_database is already up-to-date!\n",
            "[nltk_data]    | Downloading package cmudict to /root/nltk_data...\n",
            "[nltk_data]    |   Package cmudict is already up-to-date!\n",
            "[nltk_data]    | Downloading package comparative_sentences to\n",
            "[nltk_data]    |     /root/nltk_data...\n",
            "[nltk_data]    |   Package comparative_sentences is already up-to-\n",
            "[nltk_data]    |       date!\n",
            "[nltk_data]    | Downloading package comtrans to /root/nltk_data...\n",
            "[nltk_data]    |   Package comtrans is already up-to-date!\n",
            "[nltk_data]    | Downloading package conll2000 to /root/nltk_data...\n",
            "[nltk_data]    |   Package conll2000 is already up-to-date!\n",
            "[nltk_data]    | Downloading package conll2002 to /root/nltk_data...\n",
            "[nltk_data]    |   Package conll2002 is already up-to-date!\n",
            "[nltk_data]    | Downloading package conll2007 to /root/nltk_data...\n",
            "[nltk_data]    |   Package conll2007 is already up-to-date!\n",
            "[nltk_data]    | Downloading package crubadan to /root/nltk_data...\n",
            "[nltk_data]    |   Package crubadan is already up-to-date!\n",
            "[nltk_data]    | Downloading package dependency_treebank to\n",
            "[nltk_data]    |     /root/nltk_data...\n",
            "[nltk_data]    |   Package dependency_treebank is already up-to-date!\n",
            "[nltk_data]    | Downloading package dolch to /root/nltk_data...\n",
            "[nltk_data]    |   Package dolch is already up-to-date!\n",
            "[nltk_data]    | Downloading package europarl_raw to\n",
            "[nltk_data]    |     /root/nltk_data...\n",
            "[nltk_data]    |   Package europarl_raw is already up-to-date!\n",
            "[nltk_data]    | Downloading package floresta to /root/nltk_data...\n",
            "[nltk_data]    |   Package floresta is already up-to-date!\n",
            "[nltk_data]    | Downloading package framenet_v15 to\n",
            "[nltk_data]    |     /root/nltk_data...\n",
            "[nltk_data]    |   Package framenet_v15 is already up-to-date!\n",
            "[nltk_data]    | Downloading package framenet_v17 to\n",
            "[nltk_data]    |     /root/nltk_data...\n",
            "[nltk_data]    |   Package framenet_v17 is already up-to-date!\n",
            "[nltk_data]    | Downloading package gazetteers to /root/nltk_data...\n",
            "[nltk_data]    |   Package gazetteers is already up-to-date!\n",
            "[nltk_data]    | Downloading package genesis to /root/nltk_data...\n",
            "[nltk_data]    |   Package genesis is already up-to-date!\n",
            "[nltk_data]    | Downloading package gutenberg to /root/nltk_data...\n",
            "[nltk_data]    |   Package gutenberg is already up-to-date!\n",
            "[nltk_data]    | Downloading package ieer to /root/nltk_data...\n",
            "[nltk_data]    |   Package ieer is already up-to-date!\n",
            "[nltk_data]    | Downloading package inaugural to /root/nltk_data...\n",
            "[nltk_data]    |   Package inaugural is already up-to-date!\n",
            "[nltk_data]    | Downloading package indian to /root/nltk_data...\n",
            "[nltk_data]    |   Package indian is already up-to-date!\n",
            "[nltk_data]    | Downloading package jeita to /root/nltk_data...\n",
            "[nltk_data]    |   Package jeita is already up-to-date!\n",
            "[nltk_data]    | Downloading package kimmo to /root/nltk_data...\n",
            "[nltk_data]    |   Package kimmo is already up-to-date!\n",
            "[nltk_data]    | Downloading package knbc to /root/nltk_data...\n",
            "[nltk_data]    |   Package knbc is already up-to-date!\n",
            "[nltk_data]    | Downloading package lin_thesaurus to\n",
            "[nltk_data]    |     /root/nltk_data...\n",
            "[nltk_data]    |   Package lin_thesaurus is already up-to-date!\n",
            "[nltk_data]    | Downloading package mac_morpho to /root/nltk_data...\n",
            "[nltk_data]    |   Package mac_morpho is already up-to-date!\n",
            "[nltk_data]    | Downloading package machado to /root/nltk_data...\n",
            "[nltk_data]    |   Package machado is already up-to-date!\n",
            "[nltk_data]    | Downloading package masc_tagged to /root/nltk_data...\n",
            "[nltk_data]    |   Package masc_tagged is already up-to-date!\n",
            "[nltk_data]    | Downloading package moses_sample to\n",
            "[nltk_data]    |     /root/nltk_data...\n",
            "[nltk_data]    |   Package moses_sample is already up-to-date!\n",
            "[nltk_data]    | Downloading package movie_reviews to\n",
            "[nltk_data]    |     /root/nltk_data...\n",
            "[nltk_data]    |   Package movie_reviews is already up-to-date!\n",
            "[nltk_data]    | Downloading package names to /root/nltk_data...\n",
            "[nltk_data]    |   Package names is already up-to-date!\n",
            "[nltk_data]    | Downloading package nombank.1.0 to /root/nltk_data...\n",
            "[nltk_data]    |   Package nombank.1.0 is already up-to-date!\n",
            "[nltk_data]    | Downloading package nps_chat to /root/nltk_data...\n",
            "[nltk_data]    |   Package nps_chat is already up-to-date!\n",
            "[nltk_data]    | Downloading package omw-1.4 to /root/nltk_data...\n",
            "[nltk_data]    |   Package omw-1.4 is already up-to-date!\n",
            "[nltk_data]    | Downloading package omw to /root/nltk_data...\n",
            "[nltk_data]    |   Package omw is already up-to-date!\n",
            "[nltk_data]    | Downloading package opinion_lexicon to\n",
            "[nltk_data]    |     /root/nltk_data...\n",
            "[nltk_data]    |   Package opinion_lexicon is already up-to-date!\n",
            "[nltk_data]    | Downloading package paradigms to /root/nltk_data...\n",
            "[nltk_data]    |   Package paradigms is already up-to-date!\n",
            "[nltk_data]    | Downloading package pil to /root/nltk_data...\n",
            "[nltk_data]    |   Package pil is already up-to-date!\n",
            "[nltk_data]    | Downloading package pl196x to /root/nltk_data...\n",
            "[nltk_data]    |   Package pl196x is already up-to-date!\n",
            "[nltk_data]    | Downloading package ppattach to /root/nltk_data...\n",
            "[nltk_data]    |   Package ppattach is already up-to-date!\n",
            "[nltk_data]    | Downloading package problem_reports to\n",
            "[nltk_data]    |     /root/nltk_data...\n",
            "[nltk_data]    |   Package problem_reports is already up-to-date!\n",
            "[nltk_data]    | Downloading package propbank to /root/nltk_data...\n",
            "[nltk_data]    |   Package propbank is already up-to-date!\n",
            "[nltk_data]    | Downloading package ptb to /root/nltk_data...\n",
            "[nltk_data]    |   Package ptb is already up-to-date!\n",
            "[nltk_data]    | Downloading package product_reviews_1 to\n",
            "[nltk_data]    |     /root/nltk_data...\n",
            "[nltk_data]    |   Package product_reviews_1 is already up-to-date!\n",
            "[nltk_data]    | Downloading package product_reviews_2 to\n",
            "[nltk_data]    |     /root/nltk_data...\n",
            "[nltk_data]    |   Package product_reviews_2 is already up-to-date!\n",
            "[nltk_data]    | Downloading package pros_cons to /root/nltk_data...\n",
            "[nltk_data]    |   Package pros_cons is already up-to-date!\n",
            "[nltk_data]    | Downloading package qc to /root/nltk_data...\n",
            "[nltk_data]    |   Package qc is already up-to-date!\n",
            "[nltk_data]    | Downloading package reuters to /root/nltk_data...\n",
            "[nltk_data]    |   Package reuters is already up-to-date!\n",
            "[nltk_data]    | Downloading package rte to /root/nltk_data...\n",
            "[nltk_data]    |   Package rte is already up-to-date!\n",
            "[nltk_data]    | Downloading package semcor to /root/nltk_data...\n",
            "[nltk_data]    |   Package semcor is already up-to-date!\n",
            "[nltk_data]    | Downloading package senseval to /root/nltk_data...\n",
            "[nltk_data]    |   Package senseval is already up-to-date!\n",
            "[nltk_data]    | Downloading package sentiwordnet to\n",
            "[nltk_data]    |     /root/nltk_data...\n",
            "[nltk_data]    |   Package sentiwordnet is already up-to-date!\n",
            "[nltk_data]    | Downloading package sentence_polarity to\n",
            "[nltk_data]    |     /root/nltk_data...\n",
            "[nltk_data]    |   Package sentence_polarity is already up-to-date!\n",
            "[nltk_data]    | Downloading package shakespeare to /root/nltk_data...\n",
            "[nltk_data]    |   Package shakespeare is already up-to-date!\n",
            "[nltk_data]    | Downloading package sinica_treebank to\n",
            "[nltk_data]    |     /root/nltk_data...\n",
            "[nltk_data]    |   Package sinica_treebank is already up-to-date!\n",
            "[nltk_data]    | Downloading package smultron to /root/nltk_data...\n",
            "[nltk_data]    |   Package smultron is already up-to-date!\n",
            "[nltk_data]    | Downloading package state_union to /root/nltk_data...\n",
            "[nltk_data]    |   Package state_union is already up-to-date!\n",
            "[nltk_data]    | Downloading package stopwords to /root/nltk_data...\n",
            "[nltk_data]    |   Package stopwords is already up-to-date!\n",
            "[nltk_data]    | Downloading package subjectivity to\n",
            "[nltk_data]    |     /root/nltk_data...\n",
            "[nltk_data]    |   Package subjectivity is already up-to-date!\n",
            "[nltk_data]    | Downloading package swadesh to /root/nltk_data...\n",
            "[nltk_data]    |   Package swadesh is already up-to-date!\n",
            "[nltk_data]    | Downloading package switchboard to /root/nltk_data...\n",
            "[nltk_data]    |   Package switchboard is already up-to-date!\n",
            "[nltk_data]    | Downloading package timit to /root/nltk_data...\n",
            "[nltk_data]    |   Package timit is already up-to-date!\n",
            "[nltk_data]    | Downloading package toolbox to /root/nltk_data...\n",
            "[nltk_data]    |   Package toolbox is already up-to-date!\n",
            "[nltk_data]    | Downloading package treebank to /root/nltk_data...\n",
            "[nltk_data]    |   Package treebank is already up-to-date!\n",
            "[nltk_data]    | Downloading package twitter_samples to\n",
            "[nltk_data]    |     /root/nltk_data...\n",
            "[nltk_data]    |   Package twitter_samples is already up-to-date!\n",
            "[nltk_data]    | Downloading package udhr to /root/nltk_data...\n",
            "[nltk_data]    |   Package udhr is already up-to-date!\n",
            "[nltk_data]    | Downloading package udhr2 to /root/nltk_data...\n",
            "[nltk_data]    |   Package udhr2 is already up-to-date!\n",
            "[nltk_data]    | Downloading package unicode_samples to\n",
            "[nltk_data]    |     /root/nltk_data...\n",
            "[nltk_data]    |   Package unicode_samples is already up-to-date!\n",
            "[nltk_data]    | Downloading package universal_treebanks_v20 to\n",
            "[nltk_data]    |     /root/nltk_data...\n",
            "[nltk_data]    |   Package universal_treebanks_v20 is already up-to-\n",
            "[nltk_data]    |       date!\n",
            "[nltk_data]    | Downloading package verbnet to /root/nltk_data...\n",
            "[nltk_data]    |   Package verbnet is already up-to-date!\n",
            "[nltk_data]    | Downloading package verbnet3 to /root/nltk_data...\n",
            "[nltk_data]    |   Package verbnet3 is already up-to-date!\n",
            "[nltk_data]    | Downloading package webtext to /root/nltk_data...\n",
            "[nltk_data]    |   Package webtext is already up-to-date!\n",
            "[nltk_data]    | Downloading package wordnet to /root/nltk_data...\n",
            "[nltk_data]    |   Package wordnet is already up-to-date!\n",
            "[nltk_data]    | Downloading package wordnet31 to /root/nltk_data...\n",
            "[nltk_data]    |   Package wordnet31 is already up-to-date!\n",
            "[nltk_data]    | Downloading package wordnet_ic to /root/nltk_data...\n",
            "[nltk_data]    |   Package wordnet_ic is already up-to-date!\n",
            "[nltk_data]    | Downloading package words to /root/nltk_data...\n",
            "[nltk_data]    |   Package words is already up-to-date!\n",
            "[nltk_data]    | Downloading package ycoe to /root/nltk_data...\n",
            "[nltk_data]    |   Package ycoe is already up-to-date!\n",
            "[nltk_data]    | Downloading package rslp to /root/nltk_data...\n",
            "[nltk_data]    |   Package rslp is already up-to-date!\n",
            "[nltk_data]    | Downloading package maxent_treebank_pos_tagger to\n",
            "[nltk_data]    |     /root/nltk_data...\n",
            "[nltk_data]    |   Package maxent_treebank_pos_tagger is already up-\n",
            "[nltk_data]    |       to-date!\n",
            "[nltk_data]    | Downloading package universal_tagset to\n",
            "[nltk_data]    |     /root/nltk_data...\n",
            "[nltk_data]    |   Package universal_tagset is already up-to-date!\n",
            "[nltk_data]    | Downloading package maxent_ne_chunker to\n",
            "[nltk_data]    |     /root/nltk_data...\n",
            "[nltk_data]    |   Package maxent_ne_chunker is already up-to-date!\n",
            "[nltk_data]    | Downloading package punkt to /root/nltk_data...\n",
            "[nltk_data]    |   Package punkt is already up-to-date!\n",
            "[nltk_data]    | Downloading package book_grammars to\n",
            "[nltk_data]    |     /root/nltk_data...\n",
            "[nltk_data]    |   Package book_grammars is already up-to-date!\n",
            "[nltk_data]    | Downloading package sample_grammars to\n",
            "[nltk_data]    |     /root/nltk_data...\n",
            "[nltk_data]    |   Package sample_grammars is already up-to-date!\n",
            "[nltk_data]    | Downloading package spanish_grammars to\n",
            "[nltk_data]    |     /root/nltk_data...\n",
            "[nltk_data]    |   Package spanish_grammars is already up-to-date!\n",
            "[nltk_data]    | Downloading package basque_grammars to\n",
            "[nltk_data]    |     /root/nltk_data...\n",
            "[nltk_data]    |   Package basque_grammars is already up-to-date!\n",
            "[nltk_data]    | Downloading package large_grammars to\n",
            "[nltk_data]    |     /root/nltk_data...\n",
            "[nltk_data]    |   Package large_grammars is already up-to-date!\n",
            "[nltk_data]    | Downloading package tagsets to /root/nltk_data...\n",
            "[nltk_data]    |   Package tagsets is already up-to-date!\n",
            "[nltk_data]    | Downloading package snowball_data to\n",
            "[nltk_data]    |     /root/nltk_data...\n",
            "[nltk_data]    |   Package snowball_data is already up-to-date!\n",
            "[nltk_data]    | Downloading package bllip_wsj_no_aux to\n",
            "[nltk_data]    |     /root/nltk_data...\n",
            "[nltk_data]    |   Package bllip_wsj_no_aux is already up-to-date!\n",
            "[nltk_data]    | Downloading package word2vec_sample to\n",
            "[nltk_data]    |     /root/nltk_data...\n",
            "[nltk_data]    |   Package word2vec_sample is already up-to-date!\n",
            "[nltk_data]    | Downloading package panlex_swadesh to\n",
            "[nltk_data]    |     /root/nltk_data...\n",
            "[nltk_data]    |   Package panlex_swadesh is already up-to-date!\n",
            "[nltk_data]    | Downloading package mte_teip5 to /root/nltk_data...\n",
            "[nltk_data]    |   Package mte_teip5 is already up-to-date!\n",
            "[nltk_data]    | Downloading package averaged_perceptron_tagger to\n",
            "[nltk_data]    |     /root/nltk_data...\n",
            "[nltk_data]    |   Package averaged_perceptron_tagger is already up-\n",
            "[nltk_data]    |       to-date!\n",
            "[nltk_data]    | Downloading package averaged_perceptron_tagger_ru to\n",
            "[nltk_data]    |     /root/nltk_data...\n",
            "[nltk_data]    |   Package averaged_perceptron_tagger_ru is already\n",
            "[nltk_data]    |       up-to-date!\n",
            "[nltk_data]    | Downloading package perluniprops to\n",
            "[nltk_data]    |     /root/nltk_data...\n",
            "[nltk_data]    |   Package perluniprops is already up-to-date!\n",
            "[nltk_data]    | Downloading package nonbreaking_prefixes to\n",
            "[nltk_data]    |     /root/nltk_data...\n",
            "[nltk_data]    |   Package nonbreaking_prefixes is already up-to-date!\n",
            "[nltk_data]    | Downloading package vader_lexicon to\n",
            "[nltk_data]    |     /root/nltk_data...\n",
            "[nltk_data]    |   Package vader_lexicon is already up-to-date!\n",
            "[nltk_data]    | Downloading package porter_test to /root/nltk_data...\n",
            "[nltk_data]    |   Package porter_test is already up-to-date!\n",
            "[nltk_data]    | Downloading package wmt15_eval to /root/nltk_data...\n",
            "[nltk_data]    |   Package wmt15_eval is already up-to-date!\n",
            "[nltk_data]    | Downloading package mwa_ppdb to /root/nltk_data...\n",
            "[nltk_data]    |   Package mwa_ppdb is already up-to-date!\n",
            "[nltk_data]    | \n",
            "[nltk_data]  Done downloading collection all\n"
          ]
        },
        {
          "output_type": "execute_result",
          "data": {
            "text/plain": [
              "True"
            ]
          },
          "metadata": {},
          "execution_count": 8
        }
      ]
    },
    {
      "cell_type": "code",
      "source": [
        "# WordNet 모듈을 임포드해서 'present' 단어에 대한 Synset을 추출.\n",
        "# WordNet의 Synset()는 파라미터로 지정된 단어에 대해 WordNEt에 등재된 모든 Synset 객체를 반환.\n",
        "from nltk.corpus import wordnet as wn\n",
        "\n",
        "term = 'present'\n",
        "\n",
        "synsets = wn.synsets(term)\n",
        "print('synsets() 반환 type :', type(synsets))\n",
        "print('synsets() 반환 값 개수 :', len(synsets))\n",
        "print('synsets() 반환 값 :', synsets)"
      ],
      "metadata": {
        "colab": {
          "base_uri": "https://localhost:8080/"
        },
        "id": "59J97rCvHLRx",
        "outputId": "cb549cd4-fb56-4023-e91c-365b7c40323e"
      },
      "execution_count": 9,
      "outputs": [
        {
          "output_type": "stream",
          "name": "stdout",
          "text": [
            "synsets() 반환 type : <class 'list'>\n",
            "synsets() 반환 값 개수 : 18\n",
            "synsets() 반환 값 : [Synset('present.n.01'), Synset('present.n.02'), Synset('present.n.03'), Synset('show.v.01'), Synset('present.v.02'), Synset('stage.v.01'), Synset('present.v.04'), Synset('present.v.05'), Synset('award.v.01'), Synset('give.v.08'), Synset('deliver.v.01'), Synset('introduce.v.01'), Synset('portray.v.04'), Synset('confront.v.03'), Synset('present.v.12'), Synset('salute.v.06'), Synset('present.a.01'), Synset('present.a.02')]\n"
          ]
        }
      ]
    },
    {
      "cell_type": "markdown",
      "source": [
        "synsets() 호출 시 반환되는 것은 여러 개의 Synset 객체를 가지는 리스트이다. 총 18개의 서로 다른 sementic을 가지는 synset 객체가 반환되었다. Synset('present.n.01')와 같이 Synset 객체의 파라미터 'present.n.01'은 POS 태그를 나타낸다.\n",
        "\n",
        "'present.n.01'에서 present는 의미, n은 명사 품사, 01은 present가 명사로서 가지는 의미가 여러가지 있어서 이를 구분하는 인덱스."
      ],
      "metadata": {
        "id": "VIiWyGteIAJq"
      }
    },
    {
      "cell_type": "code",
      "source": [
        "# synset 객체가 가지는 여러가지 속성\n",
        "# 정의(Definition), 부명제(Lemma) 등으로 시맨틱적 요소 표현\n",
        "for synset in synsets:\n",
        "    print('##### Synset name :', synset.name(), '#####')\n",
        "    print('POS :', synset.lexname())\n",
        "    print('Definition :', synset.definition())\n",
        "    print('Lemma :', synset.lemma_names())"
      ],
      "metadata": {
        "colab": {
          "base_uri": "https://localhost:8080/"
        },
        "id": "RCWI5n4tIcf6",
        "outputId": "a5aac32d-7abb-4337-a102-4a575cce8748"
      },
      "execution_count": 10,
      "outputs": [
        {
          "output_type": "stream",
          "name": "stdout",
          "text": [
            "##### Synset name : present.n.01 #####\n",
            "POS : noun.time\n",
            "Definition : the period of time that is happening now; any continuous stretch of time including the moment of speech\n",
            "Lemma : ['present', 'nowadays']\n",
            "##### Synset name : present.n.02 #####\n",
            "POS : noun.possession\n",
            "Definition : something presented as a gift\n",
            "Lemma : ['present']\n",
            "##### Synset name : present.n.03 #####\n",
            "POS : noun.communication\n",
            "Definition : a verb tense that expresses actions or states at the time of speaking\n",
            "Lemma : ['present', 'present_tense']\n",
            "##### Synset name : show.v.01 #####\n",
            "POS : verb.perception\n",
            "Definition : give an exhibition of to an interested audience\n",
            "Lemma : ['show', 'demo', 'exhibit', 'present', 'demonstrate']\n",
            "##### Synset name : present.v.02 #####\n",
            "POS : verb.communication\n",
            "Definition : bring forward and present to the mind\n",
            "Lemma : ['present', 'represent', 'lay_out']\n",
            "##### Synset name : stage.v.01 #####\n",
            "POS : verb.creation\n",
            "Definition : perform (a play), especially on a stage\n",
            "Lemma : ['stage', 'present', 'represent']\n",
            "##### Synset name : present.v.04 #####\n",
            "POS : verb.possession\n",
            "Definition : hand over formally\n",
            "Lemma : ['present', 'submit']\n",
            "##### Synset name : present.v.05 #####\n",
            "POS : verb.stative\n",
            "Definition : introduce\n",
            "Lemma : ['present', 'pose']\n",
            "##### Synset name : award.v.01 #####\n",
            "POS : verb.possession\n",
            "Definition : give, especially as an honor or reward\n",
            "Lemma : ['award', 'present']\n",
            "##### Synset name : give.v.08 #####\n",
            "POS : verb.possession\n",
            "Definition : give as a present; make a gift of\n",
            "Lemma : ['give', 'gift', 'present']\n",
            "##### Synset name : deliver.v.01 #####\n",
            "POS : verb.communication\n",
            "Definition : deliver (a speech, oration, or idea)\n",
            "Lemma : ['deliver', 'present']\n",
            "##### Synset name : introduce.v.01 #####\n",
            "POS : verb.communication\n",
            "Definition : cause to come to know personally\n",
            "Lemma : ['introduce', 'present', 'acquaint']\n",
            "##### Synset name : portray.v.04 #####\n",
            "POS : verb.creation\n",
            "Definition : represent abstractly, for example in a painting, drawing, or sculpture\n",
            "Lemma : ['portray', 'present']\n",
            "##### Synset name : confront.v.03 #####\n",
            "POS : verb.communication\n",
            "Definition : present somebody with something, usually to accuse or criticize\n",
            "Lemma : ['confront', 'face', 'present']\n",
            "##### Synset name : present.v.12 #####\n",
            "POS : verb.communication\n",
            "Definition : formally present a debutante, a representative of a country, etc.\n",
            "Lemma : ['present']\n",
            "##### Synset name : salute.v.06 #####\n",
            "POS : verb.communication\n",
            "Definition : recognize with a gesture prescribed by a military regulation; assume a prescribed position\n",
            "Lemma : ['salute', 'present']\n",
            "##### Synset name : present.a.01 #####\n",
            "POS : adj.all\n",
            "Definition : temporal sense; intermediate between past and future; now existing or happening or in consideration\n",
            "Lemma : ['present']\n",
            "##### Synset name : present.a.02 #####\n",
            "POS : adj.all\n",
            "Definition : being or existing in a specified place\n",
            "Lemma : ['present']\n"
          ]
        }
      ]
    },
    {
      "cell_type": "markdown",
      "source": [
        "* Synset('present.n.01')과 Synset('Present.n.02')는 명사지만 서로 다른 의미를 가진다.\n",
        "* Synset('present.n.01')은 POS가 noun.time이며 Definition을 살펴보면 '시간적인 의미로 현재'를 의미.\n",
        "* Synset('Present.n.02')은 POS가 noun.possession이며 Definition은 '선물'이다.\n",
        "\n",
        "WordNet은 어떤 어휘와 다른 어휘 간의 관계를 유사도로 나타낼 수 있다. synset 객체는 단어 간의 유사도를 나타내기 위해서 path_similarity() 메서드 제공.\n"
      ],
      "metadata": {
        "id": "D3eJ0VoWJTtZ"
      }
    },
    {
      "cell_type": "code",
      "source": [
        "# synset 객체를 단어별로 생성합니다. \n",
        "tree = wn.synset('tree.n.01')\n",
        "lion = wn.synset('lion.n.01')\n",
        "tiger = wn.synset('tiger.n.02')\n",
        "cat = wn.synset('cat.n.01')\n",
        "dog = wn.synset('dog.n.01')\n",
        "\n",
        "entities = [tree, lion, tiger, cat, dog]\n",
        "similarities = []\n",
        "entity_names = [entity.name().split('.')[0] for entity in entities]\n",
        "\n",
        "# 단어별 synset을 반복하면서 다른 단어의 synset과 유사도 측정\n",
        "for entity in entities:\n",
        "    similarity = [round(entity.path_similarity(compared_entity), 2) for compared_entity in entities]\n",
        "    similarities.append(similarity)\n",
        "\n",
        "# 개별 단어별 synset과 다른 언어의 synset과의 유사도를 DataFrame 형태로 저장\n",
        "similarity_df = pd.DataFrame(similarities, columns=entity_names, index=entity_names)\n",
        "similarity_df"
      ],
      "metadata": {
        "colab": {
          "base_uri": "https://localhost:8080/",
          "height": 206
        },
        "id": "UxWU734qK3QR",
        "outputId": "91f5ca65-45bd-4c09-ace9-b12c130c450c"
      },
      "execution_count": 11,
      "outputs": [
        {
          "output_type": "execute_result",
          "data": {
            "text/html": [
              "\n",
              "  <div id=\"df-b1f02379-c073-4c2e-9024-982d78fedd65\">\n",
              "    <div class=\"colab-df-container\">\n",
              "      <div>\n",
              "<style scoped>\n",
              "    .dataframe tbody tr th:only-of-type {\n",
              "        vertical-align: middle;\n",
              "    }\n",
              "\n",
              "    .dataframe tbody tr th {\n",
              "        vertical-align: top;\n",
              "    }\n",
              "\n",
              "    .dataframe thead th {\n",
              "        text-align: right;\n",
              "    }\n",
              "</style>\n",
              "<table border=\"1\" class=\"dataframe\">\n",
              "  <thead>\n",
              "    <tr style=\"text-align: right;\">\n",
              "      <th></th>\n",
              "      <th>tree</th>\n",
              "      <th>lion</th>\n",
              "      <th>tiger</th>\n",
              "      <th>cat</th>\n",
              "      <th>dog</th>\n",
              "    </tr>\n",
              "  </thead>\n",
              "  <tbody>\n",
              "    <tr>\n",
              "      <th>tree</th>\n",
              "      <td>1.00</td>\n",
              "      <td>0.07</td>\n",
              "      <td>0.07</td>\n",
              "      <td>0.08</td>\n",
              "      <td>0.12</td>\n",
              "    </tr>\n",
              "    <tr>\n",
              "      <th>lion</th>\n",
              "      <td>0.07</td>\n",
              "      <td>1.00</td>\n",
              "      <td>0.33</td>\n",
              "      <td>0.25</td>\n",
              "      <td>0.17</td>\n",
              "    </tr>\n",
              "    <tr>\n",
              "      <th>tiger</th>\n",
              "      <td>0.07</td>\n",
              "      <td>0.33</td>\n",
              "      <td>1.00</td>\n",
              "      <td>0.25</td>\n",
              "      <td>0.17</td>\n",
              "    </tr>\n",
              "    <tr>\n",
              "      <th>cat</th>\n",
              "      <td>0.08</td>\n",
              "      <td>0.25</td>\n",
              "      <td>0.25</td>\n",
              "      <td>1.00</td>\n",
              "      <td>0.20</td>\n",
              "    </tr>\n",
              "    <tr>\n",
              "      <th>dog</th>\n",
              "      <td>0.12</td>\n",
              "      <td>0.17</td>\n",
              "      <td>0.17</td>\n",
              "      <td>0.20</td>\n",
              "      <td>1.00</td>\n",
              "    </tr>\n",
              "  </tbody>\n",
              "</table>\n",
              "</div>\n",
              "      <button class=\"colab-df-convert\" onclick=\"convertToInteractive('df-b1f02379-c073-4c2e-9024-982d78fedd65')\"\n",
              "              title=\"Convert this dataframe to an interactive table.\"\n",
              "              style=\"display:none;\">\n",
              "        \n",
              "  <svg xmlns=\"http://www.w3.org/2000/svg\" height=\"24px\"viewBox=\"0 0 24 24\"\n",
              "       width=\"24px\">\n",
              "    <path d=\"M0 0h24v24H0V0z\" fill=\"none\"/>\n",
              "    <path d=\"M18.56 5.44l.94 2.06.94-2.06 2.06-.94-2.06-.94-.94-2.06-.94 2.06-2.06.94zm-11 1L8.5 8.5l.94-2.06 2.06-.94-2.06-.94L8.5 2.5l-.94 2.06-2.06.94zm10 10l.94 2.06.94-2.06 2.06-.94-2.06-.94-.94-2.06-.94 2.06-2.06.94z\"/><path d=\"M17.41 7.96l-1.37-1.37c-.4-.4-.92-.59-1.43-.59-.52 0-1.04.2-1.43.59L10.3 9.45l-7.72 7.72c-.78.78-.78 2.05 0 2.83L4 21.41c.39.39.9.59 1.41.59.51 0 1.02-.2 1.41-.59l7.78-7.78 2.81-2.81c.8-.78.8-2.07 0-2.86zM5.41 20L4 18.59l7.72-7.72 1.47 1.35L5.41 20z\"/>\n",
              "  </svg>\n",
              "      </button>\n",
              "      \n",
              "  <style>\n",
              "    .colab-df-container {\n",
              "      display:flex;\n",
              "      flex-wrap:wrap;\n",
              "      gap: 12px;\n",
              "    }\n",
              "\n",
              "    .colab-df-convert {\n",
              "      background-color: #E8F0FE;\n",
              "      border: none;\n",
              "      border-radius: 50%;\n",
              "      cursor: pointer;\n",
              "      display: none;\n",
              "      fill: #1967D2;\n",
              "      height: 32px;\n",
              "      padding: 0 0 0 0;\n",
              "      width: 32px;\n",
              "    }\n",
              "\n",
              "    .colab-df-convert:hover {\n",
              "      background-color: #E2EBFA;\n",
              "      box-shadow: 0px 1px 2px rgba(60, 64, 67, 0.3), 0px 1px 3px 1px rgba(60, 64, 67, 0.15);\n",
              "      fill: #174EA6;\n",
              "    }\n",
              "\n",
              "    [theme=dark] .colab-df-convert {\n",
              "      background-color: #3B4455;\n",
              "      fill: #D2E3FC;\n",
              "    }\n",
              "\n",
              "    [theme=dark] .colab-df-convert:hover {\n",
              "      background-color: #434B5C;\n",
              "      box-shadow: 0px 1px 3px 1px rgba(0, 0, 0, 0.15);\n",
              "      filter: drop-shadow(0px 1px 2px rgba(0, 0, 0, 0.3));\n",
              "      fill: #FFFFFF;\n",
              "    }\n",
              "  </style>\n",
              "\n",
              "      <script>\n",
              "        const buttonEl =\n",
              "          document.querySelector('#df-b1f02379-c073-4c2e-9024-982d78fedd65 button.colab-df-convert');\n",
              "        buttonEl.style.display =\n",
              "          google.colab.kernel.accessAllowed ? 'block' : 'none';\n",
              "\n",
              "        async function convertToInteractive(key) {\n",
              "          const element = document.querySelector('#df-b1f02379-c073-4c2e-9024-982d78fedd65');\n",
              "          const dataTable =\n",
              "            await google.colab.kernel.invokeFunction('convertToInteractive',\n",
              "                                                     [key], {});\n",
              "          if (!dataTable) return;\n",
              "\n",
              "          const docLinkHtml = 'Like what you see? Visit the ' +\n",
              "            '<a target=\"_blank\" href=https://colab.research.google.com/notebooks/data_table.ipynb>data table notebook</a>'\n",
              "            + ' to learn more about interactive tables.';\n",
              "          element.innerHTML = '';\n",
              "          dataTable['output_type'] = 'display_data';\n",
              "          await google.colab.output.renderOutput(dataTable, element);\n",
              "          const docLink = document.createElement('div');\n",
              "          docLink.innerHTML = docLinkHtml;\n",
              "          element.appendChild(docLink);\n",
              "        }\n",
              "      </script>\n",
              "    </div>\n",
              "  </div>\n",
              "  "
            ],
            "text/plain": [
              "       tree  lion  tiger   cat   dog\n",
              "tree   1.00  0.07   0.07  0.08  0.12\n",
              "lion   0.07  1.00   0.33  0.25  0.17\n",
              "tiger  0.07  0.33   1.00  0.25  0.17\n",
              "cat    0.08  0.25   0.25  1.00  0.20\n",
              "dog    0.12  0.17   0.17  0.20  1.00"
            ]
          },
          "metadata": {},
          "execution_count": 11
        }
      ]
    },
    {
      "cell_type": "markdown",
      "source": [
        "lion은 tree와의 유사도가 0.07로 가장 적고, tiger와는 유사도가 0.33으로 가장 큼."
      ],
      "metadata": {
        "id": "qm4435BjMIk4"
      }
    },
    {
      "cell_type": "code",
      "source": [
        "import nltk\n",
        "from nltk.corpus import sentiwordnet as swn\n",
        "\n",
        "senti_synsets = list(swn.senti_synsets('slow'))\n",
        "print('senti_synsets() 반환 type :', type(senti_synsets))\n",
        "print('senti_synsets() 반환 값 갯수:', len(senti_synsets))\n",
        "print('senti_synsets() 반환 값 :', senti_synsets)"
      ],
      "metadata": {
        "colab": {
          "base_uri": "https://localhost:8080/"
        },
        "id": "rqUZ2rgHMX9o",
        "outputId": "c10e6eb3-cab2-42c9-bedb-fd72d4bd3399"
      },
      "execution_count": 12,
      "outputs": [
        {
          "output_type": "stream",
          "name": "stdout",
          "text": [
            "senti_synsets() 반환 type : <class 'list'>\n",
            "senti_synsets() 반환 값 갯수: 11\n",
            "senti_synsets() 반환 값 : [SentiSynset('decelerate.v.01'), SentiSynset('slow.v.02'), SentiSynset('slow.v.03'), SentiSynset('slow.a.01'), SentiSynset('slow.a.02'), SentiSynset('dense.s.04'), SentiSynset('slow.a.04'), SentiSynset('boring.s.01'), SentiSynset('dull.s.08'), SentiSynset('slowly.r.01'), SentiSynset('behind.r.03')]\n"
          ]
        }
      ]
    },
    {
      "cell_type": "markdown",
      "source": [
        "SentiSynset 객체는 단어의 감성을 나타내는 감성 지수와 객관성을(감성과 반대) 나타내는 객관성 지수를 가지고 있다.\n",
        "\n",
        "* 감성 지수 = 긍정 감성 지수(1), 부정 감성 지수(0)"
      ],
      "metadata": {
        "id": "U-o76XZNMyDp"
      }
    },
    {
      "cell_type": "code",
      "source": [
        "import nltk\n",
        "from nltk.corpus import sentiwordnet as swn\n",
        "\n",
        "father = swn.senti_synset('father.n.01')\n",
        "print('father 긍정감성 지수 :', father.pos_score())\n",
        "print('father 부정감성 지수 :', father.neg_score())\n",
        "print('father 객관성 지수 :', father.obj_score())\n",
        "print()\n",
        "fabulous = swn.senti_synset('fabulous.a.01')\n",
        "print('fabulous 긍정감성 지수: ',fabulous .pos_score())\n",
        "print('fabulous 부정감성 지수: ',fabulous .neg_score())"
      ],
      "metadata": {
        "colab": {
          "base_uri": "https://localhost:8080/"
        },
        "id": "moV-mB7QNFoo",
        "outputId": "266bd2e2-dcb9-4f97-a512-dd35a561bf87"
      },
      "execution_count": 13,
      "outputs": [
        {
          "output_type": "stream",
          "name": "stdout",
          "text": [
            "father 긍정감성 지수 : 0.0\n",
            "father 부정감성 지수 : 0.0\n",
            "father 객관성 지수 : 1.0\n",
            "\n",
            "fabulous 긍정감성 지수:  0.875\n",
            "fabulous 부정감성 지수:  0.125\n"
          ]
        }
      ]
    },
    {
      "cell_type": "markdown",
      "source": [
        "father는 객관적인 단어로 객관성 지수가 1.0이고 긍정 감성/부정 감성 지수 모두 0이다.\n",
        "\n",
        "fabulous는 감성 단어로 긍정이 0.875, 부정이 0.125이다."
      ],
      "metadata": {
        "id": "zMkdW55INlXx"
      }
    },
    {
      "cell_type": "markdown",
      "source": [
        "#### SentiWordNet을 이용한 영화 감상평 감성 분석\n",
        "1. 문서(Document)를 문장(Sentence) 단위로 분해\n",
        "2. 다시 문장을 단어 단위로 토큰화한 후 품사 태깅\n",
        "3. 품사 태깅된 단어 기반으로 synset 객체와 senti_synset 객체를 생성\n",
        "4. Senti_synset에서 긍정 감성/ 부정 감성 지수를 구하고 이를 모두 합산해 특정 임계치 값 이상일 때 긍정 감성으로, 그렇지 않으면 부정 감성으로 결정"
      ],
      "metadata": {
        "id": "4kU5rFNyNyW4"
      }
    },
    {
      "cell_type": "code",
      "source": [
        "from nltk.corpus import wordnet as wn\n",
        "\n",
        "# 간단한 NLTK PennTreebank Tag를 기반으로 WordNet 기반의 품사 Tag로 변환\n",
        "def penn_to_wn(tag):\n",
        "    if tag.startswith('J'):\n",
        "        return wn.ADJ\n",
        "    elif tag.startswith('N'):\n",
        "        return wn.NOUN\n",
        "    elif tag.startswith('R'):\n",
        "        return wn.ADV\n",
        "    elif tag.startswith('V'):\n",
        "        return wn.VERB\n",
        "    return"
      ],
      "metadata": {
        "id": "XzusS4pvOW55"
      },
      "execution_count": 14,
      "outputs": []
    },
    {
      "cell_type": "markdown",
      "source": [
        "이제 문서를 문장 -> 단어 토큰 -> 품사 태깅 후에 SentiSynset 클래스를 생성하고 Polarity Score를 합산하는 함수를 생성. 각 단어의 긍정 감성 지수와 부정 감성 지수를 모두 합한 총 감성 지수가 0 이상일 경우 긍정, 그렇지 않으면 부정."
      ],
      "metadata": {
        "id": "K0fWGluqPAMI"
      }
    },
    {
      "cell_type": "code",
      "source": [
        "from nltk.stem import WordNetLemmatizer\n",
        "from nltk.corpus import sentiwordnet as swn\n",
        "from nltk import sent_tokenize, word_tokenize, pos_tag\n",
        "\n",
        "def swn_polarity(text):\n",
        "    # 감성 지수 초기화 \n",
        "    sentiment = 0.0\n",
        "    tokens_count = 0\n",
        "    \n",
        "    lemmatizer = WordNetLemmatizer()\n",
        "    raw_sentences = sent_tokenize(text)\n",
        "    # 분해된 문장별로 단어 토큰 -> 품사 태깅 후에 SentiSynset 생성 -> 감성 지수 합산 \n",
        "    for raw_sentence in raw_sentences:\n",
        "        # NTLK 기반의 품사 태깅 문장 추출  \n",
        "        tagged_sentence = pos_tag(word_tokenize(raw_sentence))\n",
        "        for word , tag in tagged_sentence:\n",
        "            \n",
        "            # WordNet 기반 품사 태깅과 어근 추출\n",
        "            wn_tag = penn_to_wn(tag)\n",
        "            if wn_tag not in (wn.NOUN , wn.ADJ, wn.ADV):\n",
        "                continue                   \n",
        "            lemma = lemmatizer.lemmatize(word, pos=wn_tag)\n",
        "            if not lemma:\n",
        "                continue\n",
        "            # 어근을 추출한 단어와 WordNet 기반 품사 태깅을 입력해 Synset 객체를 생성. \n",
        "            synsets = wn.synsets(lemma , pos=wn_tag)\n",
        "            if not synsets:\n",
        "                continue\n",
        "            # sentiwordnet의 감성 단어 분석으로 감성 synset 추출\n",
        "            # 모든 단어에 대해 긍정 감성 지수는 +로 부정 감성 지수는 -로 합산해 감성 지수 계산. \n",
        "            synset = synsets[0]\n",
        "            swn_synset = swn.senti_synset(synset.name())\n",
        "            sentiment += (swn_synset.pos_score() - swn_synset.neg_score())           \n",
        "            tokens_count += 1\n",
        "    \n",
        "    if not tokens_count:\n",
        "        return 0\n",
        "    \n",
        "    # 총 score가 0 이상일 경우 긍정(Positive) 1, 그렇지 않을 경우 부정(Negative) 0 반환\n",
        "    if sentiment >= 0 :\n",
        "        return 1\n",
        "    \n",
        "    return 0"
      ],
      "metadata": {
        "id": "4h0AaxQ3PMw5"
      },
      "execution_count": 15,
      "outputs": []
    },
    {
      "cell_type": "code",
      "source": [
        "review_df.head()"
      ],
      "metadata": {
        "colab": {
          "base_uri": "https://localhost:8080/",
          "height": 206
        },
        "id": "dbBcr5oFU2to",
        "outputId": "7b27ad93-d7b0-4b0f-af63-057a3107b2a8"
      },
      "execution_count": 16,
      "outputs": [
        {
          "output_type": "execute_result",
          "data": {
            "text/html": [
              "\n",
              "  <div id=\"df-f6755885-3f97-429e-aecd-daa6e8696de0\">\n",
              "    <div class=\"colab-df-container\">\n",
              "      <div>\n",
              "<style scoped>\n",
              "    .dataframe tbody tr th:only-of-type {\n",
              "        vertical-align: middle;\n",
              "    }\n",
              "\n",
              "    .dataframe tbody tr th {\n",
              "        vertical-align: top;\n",
              "    }\n",
              "\n",
              "    .dataframe thead th {\n",
              "        text-align: right;\n",
              "    }\n",
              "</style>\n",
              "<table border=\"1\" class=\"dataframe\">\n",
              "  <thead>\n",
              "    <tr style=\"text-align: right;\">\n",
              "      <th></th>\n",
              "      <th>id</th>\n",
              "      <th>sentiment</th>\n",
              "      <th>review</th>\n",
              "    </tr>\n",
              "  </thead>\n",
              "  <tbody>\n",
              "    <tr>\n",
              "      <th>0</th>\n",
              "      <td>\"5814_8\"</td>\n",
              "      <td>1</td>\n",
              "      <td>With all this stuff going down at the moment ...</td>\n",
              "    </tr>\n",
              "    <tr>\n",
              "      <th>1</th>\n",
              "      <td>\"2381_9\"</td>\n",
              "      <td>1</td>\n",
              "      <td>The Classic War of the Worlds   by Timothy ...</td>\n",
              "    </tr>\n",
              "    <tr>\n",
              "      <th>2</th>\n",
              "      <td>\"7759_3\"</td>\n",
              "      <td>0</td>\n",
              "      <td>The film starts with a manager  Nicholas Bell...</td>\n",
              "    </tr>\n",
              "    <tr>\n",
              "      <th>3</th>\n",
              "      <td>\"3630_4\"</td>\n",
              "      <td>0</td>\n",
              "      <td>It must be assumed that those who praised thi...</td>\n",
              "    </tr>\n",
              "    <tr>\n",
              "      <th>4</th>\n",
              "      <td>\"9495_8\"</td>\n",
              "      <td>1</td>\n",
              "      <td>Superbly trashy and wondrously unpretentious ...</td>\n",
              "    </tr>\n",
              "  </tbody>\n",
              "</table>\n",
              "</div>\n",
              "      <button class=\"colab-df-convert\" onclick=\"convertToInteractive('df-f6755885-3f97-429e-aecd-daa6e8696de0')\"\n",
              "              title=\"Convert this dataframe to an interactive table.\"\n",
              "              style=\"display:none;\">\n",
              "        \n",
              "  <svg xmlns=\"http://www.w3.org/2000/svg\" height=\"24px\"viewBox=\"0 0 24 24\"\n",
              "       width=\"24px\">\n",
              "    <path d=\"M0 0h24v24H0V0z\" fill=\"none\"/>\n",
              "    <path d=\"M18.56 5.44l.94 2.06.94-2.06 2.06-.94-2.06-.94-.94-2.06-.94 2.06-2.06.94zm-11 1L8.5 8.5l.94-2.06 2.06-.94-2.06-.94L8.5 2.5l-.94 2.06-2.06.94zm10 10l.94 2.06.94-2.06 2.06-.94-2.06-.94-.94-2.06-.94 2.06-2.06.94z\"/><path d=\"M17.41 7.96l-1.37-1.37c-.4-.4-.92-.59-1.43-.59-.52 0-1.04.2-1.43.59L10.3 9.45l-7.72 7.72c-.78.78-.78 2.05 0 2.83L4 21.41c.39.39.9.59 1.41.59.51 0 1.02-.2 1.41-.59l7.78-7.78 2.81-2.81c.8-.78.8-2.07 0-2.86zM5.41 20L4 18.59l7.72-7.72 1.47 1.35L5.41 20z\"/>\n",
              "  </svg>\n",
              "      </button>\n",
              "      \n",
              "  <style>\n",
              "    .colab-df-container {\n",
              "      display:flex;\n",
              "      flex-wrap:wrap;\n",
              "      gap: 12px;\n",
              "    }\n",
              "\n",
              "    .colab-df-convert {\n",
              "      background-color: #E8F0FE;\n",
              "      border: none;\n",
              "      border-radius: 50%;\n",
              "      cursor: pointer;\n",
              "      display: none;\n",
              "      fill: #1967D2;\n",
              "      height: 32px;\n",
              "      padding: 0 0 0 0;\n",
              "      width: 32px;\n",
              "    }\n",
              "\n",
              "    .colab-df-convert:hover {\n",
              "      background-color: #E2EBFA;\n",
              "      box-shadow: 0px 1px 2px rgba(60, 64, 67, 0.3), 0px 1px 3px 1px rgba(60, 64, 67, 0.15);\n",
              "      fill: #174EA6;\n",
              "    }\n",
              "\n",
              "    [theme=dark] .colab-df-convert {\n",
              "      background-color: #3B4455;\n",
              "      fill: #D2E3FC;\n",
              "    }\n",
              "\n",
              "    [theme=dark] .colab-df-convert:hover {\n",
              "      background-color: #434B5C;\n",
              "      box-shadow: 0px 1px 3px 1px rgba(0, 0, 0, 0.15);\n",
              "      filter: drop-shadow(0px 1px 2px rgba(0, 0, 0, 0.3));\n",
              "      fill: #FFFFFF;\n",
              "    }\n",
              "  </style>\n",
              "\n",
              "      <script>\n",
              "        const buttonEl =\n",
              "          document.querySelector('#df-f6755885-3f97-429e-aecd-daa6e8696de0 button.colab-df-convert');\n",
              "        buttonEl.style.display =\n",
              "          google.colab.kernel.accessAllowed ? 'block' : 'none';\n",
              "\n",
              "        async function convertToInteractive(key) {\n",
              "          const element = document.querySelector('#df-f6755885-3f97-429e-aecd-daa6e8696de0');\n",
              "          const dataTable =\n",
              "            await google.colab.kernel.invokeFunction('convertToInteractive',\n",
              "                                                     [key], {});\n",
              "          if (!dataTable) return;\n",
              "\n",
              "          const docLinkHtml = 'Like what you see? Visit the ' +\n",
              "            '<a target=\"_blank\" href=https://colab.research.google.com/notebooks/data_table.ipynb>data table notebook</a>'\n",
              "            + ' to learn more about interactive tables.';\n",
              "          element.innerHTML = '';\n",
              "          dataTable['output_type'] = 'display_data';\n",
              "          await google.colab.output.renderOutput(dataTable, element);\n",
              "          const docLink = document.createElement('div');\n",
              "          docLink.innerHTML = docLinkHtml;\n",
              "          element.appendChild(docLink);\n",
              "        }\n",
              "      </script>\n",
              "    </div>\n",
              "  </div>\n",
              "  "
            ],
            "text/plain": [
              "         id  sentiment                                             review\n",
              "0  \"5814_8\"          1   With all this stuff going down at the moment ...\n",
              "1  \"2381_9\"          1     The Classic War of the Worlds   by Timothy ...\n",
              "2  \"7759_3\"          0   The film starts with a manager  Nicholas Bell...\n",
              "3  \"3630_4\"          0   It must be assumed that those who praised thi...\n",
              "4  \"9495_8\"          1   Superbly trashy and wondrously unpretentious ..."
            ]
          },
          "metadata": {},
          "execution_count": 16
        }
      ]
    },
    {
      "cell_type": "code",
      "source": [
        "review_df['preds'] = review_df['review'].apply( lambda x : swn_polarity(x) )\n",
        "y_target = review_df['sentiment'].values\n",
        "preds = review_df['preds'].values"
      ],
      "metadata": {
        "id": "zwS_1ODBSmU_"
      },
      "execution_count": 17,
      "outputs": []
    },
    {
      "cell_type": "code",
      "source": [
        "from sklearn.metrics import accuracy_score, confusion_matrix, precision_score \n",
        "from sklearn.metrics import recall_score, f1_score, roc_auc_score\n",
        "import numpy as np\n",
        "\n",
        "print(confusion_matrix( y_target, preds))\n",
        "print(\"정확도:\", np.round(accuracy_score(y_target , preds), 4))\n",
        "print(\"정밀도:\", np.round(precision_score(y_target , preds),4))\n",
        "print(\"재현율:\", np.round(recall_score(y_target, preds), 4))"
      ],
      "metadata": {
        "colab": {
          "base_uri": "https://localhost:8080/"
        },
        "id": "iaTAIpA8TL0H",
        "outputId": "a003c316-b2b4-4456-93d9-2482db8e2ad4"
      },
      "execution_count": 18,
      "outputs": [
        {
          "output_type": "stream",
          "name": "stdout",
          "text": [
            "[[7668 4832]\n",
            " [3636 8864]]\n",
            "정확도: 0.6613\n",
            "정밀도: 0.6472\n",
            "재현율: 0.7091\n"
          ]
        }
      ]
    },
    {
      "cell_type": "markdown",
      "source": [
        "### VARDER를 이용한 감성 분석\n",
        "\n"
      ],
      "metadata": {
        "id": "QpOF9gTpTUHn"
      }
    },
    {
      "cell_type": "code",
      "source": [
        "from nltk.sentiment.vader import SentimentIntensityAnalyzer\n",
        "\n",
        "senti_analyzer = SentimentIntensityAnalyzer()\n",
        "senti_scores = senti_analyzer.polarity_scores(review_df['review'][0])\n",
        "print(senti_scores)"
      ],
      "metadata": {
        "colab": {
          "base_uri": "https://localhost:8080/"
        },
        "id": "6LtXKTbkTxaX",
        "outputId": "e120b302-b5bd-4c58-a66f-d012dd13d81d"
      },
      "execution_count": 19,
      "outputs": [
        {
          "output_type": "stream",
          "name": "stdout",
          "text": [
            "{'neg': 0.13, 'neu': 0.743, 'pos': 0.127, 'compound': -0.7943}\n"
          ]
        },
        {
          "output_type": "stream",
          "name": "stderr",
          "text": [
            "/usr/local/lib/python3.7/dist-packages/nltk/twitter/__init__.py:20: UserWarning: The twython library has not been installed. Some functionality from the twitter package will not be available.\n",
            "  warnings.warn(\"The twython library has not been installed. \"\n"
          ]
        }
      ]
    },
    {
      "cell_type": "markdown",
      "source": [
        "VADER를 이용하면 매우 쉽게 감성 분석을 수행할 수 있다.\n",
        "\n",
        "먼저 SentimentIntensityAnalyzer 객체를 생성한 뒤 문서별로 polarity_scores() 메서드를 호출해 감성 점수를 구한 뒤, 해당 문서의 감성 점수를 구하여 임계값 이상이면 긍정, 그렇지 않으면 부정.\n",
        "\n",
        "SentimentIntensityAnalyzer 객체의 polarity_scores() 메서드는 딕셔너리 형태의 감성 점수를 반환한다. 'neg'는 부정, 'neu'는 중립, 'pos'는 긍정 감성 지수, 그리고 compound는 neg, neu, pos score를 적절히 조합해 -1에서 1 사이의 감성 지수를 표현한 값이다.\n",
        "\n",
        "보통 0.1 이상이면 금정, 그 이하면 부정으로판단, 상황에 따라 임계값을 적절히 조절하여 예측 성능 조절한다."
      ],
      "metadata": {
        "id": "xh4DDX5MUJPg"
      }
    },
    {
      "cell_type": "code",
      "source": [
        "def vader_polarity(review,threshold=0.1):\n",
        "    analyzer = SentimentIntensityAnalyzer()\n",
        "    scores = analyzer.polarity_scores(review)\n",
        "    \n",
        "    # compound 값에 기반하여 threshold 입력값보다 크면 1, 그렇지 않으면 0을 반환 \n",
        "    agg_score = scores['compound']\n",
        "    final_sentiment = 1 if agg_score >= threshold else 0\n",
        "    return final_sentiment\n",
        "\n",
        "# apply lambda 식을 이용하여 레코드별로 vader_polarity( )를 수행하고 결과를 'vader_preds'에 저장\n",
        "review_df['vader_preds'] = review_df['review'].apply( lambda x : vader_polarity(x, 0.1) )\n",
        "y_target = review_df['sentiment'].values\n",
        "vader_preds = review_df['vader_preds'].values\n",
        "\n",
        "print(confusion_matrix( y_target, vader_preds))\n",
        "print(\"정확도:\", np.round(accuracy_score(y_target , vader_preds),4))\n",
        "print(\"정밀도:\", np.round(precision_score(y_target , vader_preds),4))\n",
        "print(\"재현율:\", np.round(recall_score(y_target, vader_preds),4))"
      ],
      "metadata": {
        "colab": {
          "base_uri": "https://localhost:8080/"
        },
        "id": "elSnB_TNWJZ_",
        "outputId": "494bc17c-1b62-43c6-a69e-04f511c832d9"
      },
      "execution_count": 20,
      "outputs": [
        {
          "output_type": "stream",
          "name": "stdout",
          "text": [
            "[[ 6736  5764]\n",
            " [ 1867 10633]]\n",
            "정확도: 0.6948\n",
            "정밀도: 0.6485\n",
            "재현율: 0.8506\n"
          ]
        }
      ]
    },
    {
      "cell_type": "markdown",
      "source": [
        "![image.png](data:image/png;base64,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)\n"
      ],
      "metadata": {
        "id": "Uty1pFaazyuA"
      }
    }
  ]
}