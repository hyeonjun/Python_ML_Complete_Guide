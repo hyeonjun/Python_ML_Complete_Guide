{
  "nbformat": 4,
  "nbformat_minor": 0,
  "metadata": {
    "colab": {
      "name": "Kaggle_Mercari_Price_Suggestion_Challenge.ipynb",
      "provenance": [],
      "mount_file_id": "1pEHTmDhsZyHXd3yLKTOrVMoJYiX1E1sf",
      "authorship_tag": "ABX9TyP0p0cgY108eYHKgJWSPhET"
    },
    "kernelspec": {
      "name": "python3",
      "display_name": "Python 3"
    },
    "language_info": {
      "name": "python"
    }
  },
  "cells": [
    {
      "cell_type": "markdown",
      "source": [
        "# Mercari Price Suggestion Challenge\n",
        "* 일본의 대형 온라인 쇼핑몰인 Mercari 사의 제품에 대해 가격을 예측하는 과제.\n",
        "* 데이터 세트는 제품에 대한 여러 속성 및 제품 설명 등의 텍스트 데이터로 구성.\n",
        "* https://www.kaggle.com/c/mercari-price-suggestion-challenge/data\n"
      ],
      "metadata": {
        "id": "dGZR4iMpSgUo"
      }
    },
    {
      "cell_type": "markdown",
      "source": [
        "# 데이터 로딩 및 전처리"
      ],
      "metadata": {
        "id": "VcS3IrTvUjof"
      }
    },
    {
      "cell_type": "code",
      "execution_count": 1,
      "metadata": {
        "colab": {
          "base_uri": "https://localhost:8080/",
          "height": 206
        },
        "id": "roUiOt2ZSObH",
        "outputId": "52d2e926-5290-4588-e8be-ef5ec5806539"
      },
      "outputs": [
        {
          "output_type": "stream",
          "name": "stdout",
          "text": [
            "(1482535, 8)\n"
          ]
        },
        {
          "output_type": "execute_result",
          "data": {
            "text/html": [
              "\n",
              "  <div id=\"df-af9dac6a-8f19-4cdb-bb06-cdca6e5f07c8\">\n",
              "    <div class=\"colab-df-container\">\n",
              "      <div>\n",
              "<style scoped>\n",
              "    .dataframe tbody tr th:only-of-type {\n",
              "        vertical-align: middle;\n",
              "    }\n",
              "\n",
              "    .dataframe tbody tr th {\n",
              "        vertical-align: top;\n",
              "    }\n",
              "\n",
              "    .dataframe thead th {\n",
              "        text-align: right;\n",
              "    }\n",
              "</style>\n",
              "<table border=\"1\" class=\"dataframe\">\n",
              "  <thead>\n",
              "    <tr style=\"text-align: right;\">\n",
              "      <th></th>\n",
              "      <th>train_id</th>\n",
              "      <th>name</th>\n",
              "      <th>item_condition_id</th>\n",
              "      <th>category_name</th>\n",
              "      <th>brand_name</th>\n",
              "      <th>price</th>\n",
              "      <th>shipping</th>\n",
              "      <th>item_description</th>\n",
              "    </tr>\n",
              "  </thead>\n",
              "  <tbody>\n",
              "    <tr>\n",
              "      <th>0</th>\n",
              "      <td>0</td>\n",
              "      <td>MLB Cincinnati Reds T Shirt Size XL</td>\n",
              "      <td>3</td>\n",
              "      <td>Men/Tops/T-shirts</td>\n",
              "      <td>NaN</td>\n",
              "      <td>10.0</td>\n",
              "      <td>1</td>\n",
              "      <td>No description yet</td>\n",
              "    </tr>\n",
              "    <tr>\n",
              "      <th>1</th>\n",
              "      <td>1</td>\n",
              "      <td>Razer BlackWidow Chroma Keyboard</td>\n",
              "      <td>3</td>\n",
              "      <td>Electronics/Computers &amp; Tablets/Components &amp; P...</td>\n",
              "      <td>Razer</td>\n",
              "      <td>52.0</td>\n",
              "      <td>0</td>\n",
              "      <td>This keyboard is in great condition and works ...</td>\n",
              "    </tr>\n",
              "    <tr>\n",
              "      <th>2</th>\n",
              "      <td>2</td>\n",
              "      <td>AVA-VIV Blouse</td>\n",
              "      <td>1</td>\n",
              "      <td>Women/Tops &amp; Blouses/Blouse</td>\n",
              "      <td>Target</td>\n",
              "      <td>10.0</td>\n",
              "      <td>1</td>\n",
              "      <td>Adorable top with a hint of lace and a key hol...</td>\n",
              "    </tr>\n",
              "  </tbody>\n",
              "</table>\n",
              "</div>\n",
              "      <button class=\"colab-df-convert\" onclick=\"convertToInteractive('df-af9dac6a-8f19-4cdb-bb06-cdca6e5f07c8')\"\n",
              "              title=\"Convert this dataframe to an interactive table.\"\n",
              "              style=\"display:none;\">\n",
              "        \n",
              "  <svg xmlns=\"http://www.w3.org/2000/svg\" height=\"24px\"viewBox=\"0 0 24 24\"\n",
              "       width=\"24px\">\n",
              "    <path d=\"M0 0h24v24H0V0z\" fill=\"none\"/>\n",
              "    <path d=\"M18.56 5.44l.94 2.06.94-2.06 2.06-.94-2.06-.94-.94-2.06-.94 2.06-2.06.94zm-11 1L8.5 8.5l.94-2.06 2.06-.94-2.06-.94L8.5 2.5l-.94 2.06-2.06.94zm10 10l.94 2.06.94-2.06 2.06-.94-2.06-.94-.94-2.06-.94 2.06-2.06.94z\"/><path d=\"M17.41 7.96l-1.37-1.37c-.4-.4-.92-.59-1.43-.59-.52 0-1.04.2-1.43.59L10.3 9.45l-7.72 7.72c-.78.78-.78 2.05 0 2.83L4 21.41c.39.39.9.59 1.41.59.51 0 1.02-.2 1.41-.59l7.78-7.78 2.81-2.81c.8-.78.8-2.07 0-2.86zM5.41 20L4 18.59l7.72-7.72 1.47 1.35L5.41 20z\"/>\n",
              "  </svg>\n",
              "      </button>\n",
              "      \n",
              "  <style>\n",
              "    .colab-df-container {\n",
              "      display:flex;\n",
              "      flex-wrap:wrap;\n",
              "      gap: 12px;\n",
              "    }\n",
              "\n",
              "    .colab-df-convert {\n",
              "      background-color: #E8F0FE;\n",
              "      border: none;\n",
              "      border-radius: 50%;\n",
              "      cursor: pointer;\n",
              "      display: none;\n",
              "      fill: #1967D2;\n",
              "      height: 32px;\n",
              "      padding: 0 0 0 0;\n",
              "      width: 32px;\n",
              "    }\n",
              "\n",
              "    .colab-df-convert:hover {\n",
              "      background-color: #E2EBFA;\n",
              "      box-shadow: 0px 1px 2px rgba(60, 64, 67, 0.3), 0px 1px 3px 1px rgba(60, 64, 67, 0.15);\n",
              "      fill: #174EA6;\n",
              "    }\n",
              "\n",
              "    [theme=dark] .colab-df-convert {\n",
              "      background-color: #3B4455;\n",
              "      fill: #D2E3FC;\n",
              "    }\n",
              "\n",
              "    [theme=dark] .colab-df-convert:hover {\n",
              "      background-color: #434B5C;\n",
              "      box-shadow: 0px 1px 3px 1px rgba(0, 0, 0, 0.15);\n",
              "      filter: drop-shadow(0px 1px 2px rgba(0, 0, 0, 0.3));\n",
              "      fill: #FFFFFF;\n",
              "    }\n",
              "  </style>\n",
              "\n",
              "      <script>\n",
              "        const buttonEl =\n",
              "          document.querySelector('#df-af9dac6a-8f19-4cdb-bb06-cdca6e5f07c8 button.colab-df-convert');\n",
              "        buttonEl.style.display =\n",
              "          google.colab.kernel.accessAllowed ? 'block' : 'none';\n",
              "\n",
              "        async function convertToInteractive(key) {\n",
              "          const element = document.querySelector('#df-af9dac6a-8f19-4cdb-bb06-cdca6e5f07c8');\n",
              "          const dataTable =\n",
              "            await google.colab.kernel.invokeFunction('convertToInteractive',\n",
              "                                                     [key], {});\n",
              "          if (!dataTable) return;\n",
              "\n",
              "          const docLinkHtml = 'Like what you see? Visit the ' +\n",
              "            '<a target=\"_blank\" href=https://colab.research.google.com/notebooks/data_table.ipynb>data table notebook</a>'\n",
              "            + ' to learn more about interactive tables.';\n",
              "          element.innerHTML = '';\n",
              "          dataTable['output_type'] = 'display_data';\n",
              "          await google.colab.output.renderOutput(dataTable, element);\n",
              "          const docLink = document.createElement('div');\n",
              "          docLink.innerHTML = docLinkHtml;\n",
              "          element.appendChild(docLink);\n",
              "        }\n",
              "      </script>\n",
              "    </div>\n",
              "  </div>\n",
              "  "
            ],
            "text/plain": [
              "   train_id  ...                                   item_description\n",
              "0         0  ...                                 No description yet\n",
              "1         1  ...  This keyboard is in great condition and works ...\n",
              "2         2  ...  Adorable top with a hint of lace and a key hol...\n",
              "\n",
              "[3 rows x 8 columns]"
            ]
          },
          "metadata": {},
          "execution_count": 1
        }
      ],
      "source": [
        "from sklearn.linear_model import Ridge, LogisticRegression\n",
        "from sklearn.model_selection import train_test_split, cross_val_score\n",
        "from sklearn.feature_extraction.text import CountVectorizer, TfidfVectorizer\n",
        "import pandas as pd\n",
        "\n",
        "mercari_df = pd.read_csv('/content/drive/MyDrive/파이썬_머신러닝_완벽가이드/08_Text_Analytics/mercari_price_suggestion_challenge/train.tsv', sep='\\t')\n",
        "print(mercari_df.shape)\n",
        "mercari_df.head(3)"
      ]
    },
    {
      "cell_type": "markdown",
      "source": [
        "### 데이터 세트 속성\n",
        "* train_id : 데이터 id\n",
        "* name : 제품명\n",
        "* item_condition_id : 판매자가 제공하는 제품 상태\n",
        "* category_name : 카테고리 명\n",
        "* brand_name : 브랜드 이름\n",
        "* price : 제품 가격. 예측을 위한 타깃 속성\n",
        "* shipping : 배송비 무료 여부. 1이면 무료(판매자가 지불), 0이면 유료(구매자 지불)\n",
        "* item_description : 제품에 대한 설명\n",
        "\n",
        "price가 예측해야할 타깃값이다. 회귀로 피처를 학습한 뒤 price를 예측하는 문제. Mercari Price Suggestion은 item_description과 같은 텍스트 형태의 비정형 데이터와 다른 정형 속성을 같이 적용해 회귀를 수행한다."
      ],
      "metadata": {
        "id": "72iExFk5TUUn"
      }
    },
    {
      "cell_type": "code",
      "source": [
        "mercari_df.info()"
      ],
      "metadata": {
        "colab": {
          "base_uri": "https://localhost:8080/"
        },
        "id": "I1VRTYhSVM2G",
        "outputId": "d43d255e-2b31-46f1-cc17-af632f9b816a"
      },
      "execution_count": 2,
      "outputs": [
        {
          "output_type": "stream",
          "name": "stdout",
          "text": [
            "<class 'pandas.core.frame.DataFrame'>\n",
            "RangeIndex: 1482535 entries, 0 to 1482534\n",
            "Data columns (total 8 columns):\n",
            " #   Column             Non-Null Count    Dtype  \n",
            "---  ------             --------------    -----  \n",
            " 0   train_id           1482535 non-null  int64  \n",
            " 1   name               1482535 non-null  object \n",
            " 2   item_condition_id  1482535 non-null  int64  \n",
            " 3   category_name      1476208 non-null  object \n",
            " 4   brand_name         849853 non-null   object \n",
            " 5   price              1482535 non-null  float64\n",
            " 6   shipping           1482535 non-null  int64  \n",
            " 7   item_description   1482531 non-null  object \n",
            "dtypes: float64(1), int64(3), object(4)\n",
            "memory usage: 90.5+ MB\n"
          ]
        }
      ]
    },
    {
      "cell_type": "markdown",
      "source": [
        "* brand_name 칼럼의 경우 매우 많은 Null을 가지고 있음. 가격에 영향을 미치는 중요 요인으로 판단되지만, 많은 데이터가 Null로 되어있다.\n",
        "* category_name은 약 6300 건의 null 데이터를 가지고 있다.\n",
        "* item_description의 null 값은 4건으로 미비하다."
      ],
      "metadata": {
        "id": "Wjk3uetJVTH-"
      }
    },
    {
      "cell_type": "code",
      "source": [
        "# Target 값인 price 칼럼의 데이터 분포도 확인\n",
        "# 회귀에서는 Target 값의 정규 분포도는 매우 중요.\n",
        "# 왜곡되어 있을 경우 로그를 씌워 변환 -> 대부분 정규 분포의 형태를 가지게 됨\n",
        "import matplotlib.pyplot as plt\n",
        "import seaborn as sns\n",
        "%matplotlib inline\n",
        "\n",
        "y_train_df = mercari_df['price']\n",
        "plt.figure(figsize=(6, 4))\n",
        "sns.distplot(y_train_df, kde=False)"
      ],
      "metadata": {
        "colab": {
          "base_uri": "https://localhost:8080/",
          "height": 365
        },
        "id": "jbZO7kV0VSjG",
        "outputId": "c6c7e7d7-9f79-4b20-f258-7d147b6e1371"
      },
      "execution_count": 3,
      "outputs": [
        {
          "output_type": "stream",
          "name": "stderr",
          "text": [
            "/usr/local/lib/python3.7/dist-packages/seaborn/distributions.py:2619: FutureWarning: `distplot` is a deprecated function and will be removed in a future version. Please adapt your code to use either `displot` (a figure-level function with similar flexibility) or `histplot` (an axes-level function for histograms).\n",
            "  warnings.warn(msg, FutureWarning)\n"
          ]
        },
        {
          "output_type": "execute_result",
          "data": {
            "text/plain": [
              "<matplotlib.axes._subplots.AxesSubplot at 0x7f8ca4fd2cd0>"
            ]
          },
          "metadata": {},
          "execution_count": 3
        },
        {
          "output_type": "display_data",
          "data": {
            "image/png": "[encoded data removed]",
            "text/plain": [
              "<Figure size 432x288 with 1 Axes>"
            ]
          },
          "metadata": {
            "needs_background": "light"
          }
        }
      ]
    },
    {
      "cell_type": "code",
      "source": [
        "# price 값이 적은 가격쪽에 왜곡되어 있다. 로그 값으로 변환하여 정규화\n",
        "import numpy as np\n",
        "\n",
        "y_train_df = np.log1p(y_train_df)\n",
        "sns.distplot(y_train_df, kde=False)"
      ],
      "metadata": {
        "colab": {
          "base_uri": "https://localhost:8080/",
          "height": 354
        },
        "id": "EY4ALkGiW_eo",
        "outputId": "da8591c1-09d1-46e2-a1eb-e694ee0dafe3"
      },
      "execution_count": 4,
      "outputs": [
        {
          "output_type": "stream",
          "name": "stderr",
          "text": [
            "/usr/local/lib/python3.7/dist-packages/seaborn/distributions.py:2619: FutureWarning: `distplot` is a deprecated function and will be removed in a future version. Please adapt your code to use either `displot` (a figure-level function with similar flexibility) or `histplot` (an axes-level function for histograms).\n",
            "  warnings.warn(msg, FutureWarning)\n"
          ]
        },
        {
          "output_type": "execute_result",
          "data": {
            "text/plain": [
              "<matplotlib.axes._subplots.AxesSubplot at 0x7f8ca4dfe810>"
            ]
          },
          "metadata": {},
          "execution_count": 4
        },
        {
          "output_type": "display_data",
          "data": {
            "image/png": "[encoded data removed]",
            "text/plain": [
              "<Figure size 432x288 with 1 Axes>"
            ]
          },
          "metadata": {
            "needs_background": "light"
          }
        }
      ]
    },
    {
      "cell_type": "code",
      "source": [
        "mercari_df['price'] = np.log1p(mercari_df['price'])\n",
        "mercari_df['price'].head(3)"
      ],
      "metadata": {
        "colab": {
          "base_uri": "https://localhost:8080/"
        },
        "id": "-ayOPoWiXlO3",
        "outputId": "e15dadcd-2bc0-4c1c-803c-736f17ad2f8d"
      },
      "execution_count": 5,
      "outputs": [
        {
          "output_type": "execute_result",
          "data": {
            "text/plain": [
              "0    2.397895\n",
              "1    3.970292\n",
              "2    2.397895\n",
              "Name: price, dtype: float64"
            ]
          },
          "metadata": {},
          "execution_count": 5
        }
      ]
    },
    {
      "cell_type": "code",
      "source": [
        "# shipping과 item_condition_id 값 확인\n",
        "print('Shipping 값 유형:\\n',mercari_df['shipping'].value_counts())\n",
        "print('item_condition_id 값 유형:\\n',mercari_df['item_condition_id'].value_counts())"
      ],
      "metadata": {
        "colab": {
          "base_uri": "https://localhost:8080/"
        },
        "id": "mV-CJwwxXws4",
        "outputId": "494c9c2e-b30d-4a6f-8dc1-681a6b32eeec"
      },
      "execution_count": 6,
      "outputs": [
        {
          "output_type": "stream",
          "name": "stdout",
          "text": [
            "Shipping 값 유형:\n",
            " 0    819435\n",
            "1    663100\n",
            "Name: shipping, dtype: int64\n",
            "item_condition_id 값 유형:\n",
            " 1    640549\n",
            "3    432161\n",
            "2    375479\n",
            "4     31962\n",
            "5      2384\n",
            "Name: item_condition_id, dtype: int64\n"
          ]
        }
      ]
    },
    {
      "cell_type": "markdown",
      "source": [
        "* Shipping 칼럼 : 배송비 유무. 값이 비교적 균일하다.\n",
        "* Item_condition_id : 판매자가 제공하는 제품 상태. 1, 2, 3 값이 주를 이루고 있다.\n",
        "* item_description : Null은 별로 없지만, 별도 값이 없는 경우 'No description yet' 값으로 되어있다."
      ],
      "metadata": {
        "id": "svTsPcU2YNiv"
      }
    },
    {
      "cell_type": "code",
      "source": [
        "boolean_cond = mercari_df['item_description']=='No description yet'\n",
        "mercari_df[boolean_cond]['item_description'].count()"
      ],
      "metadata": {
        "colab": {
          "base_uri": "https://localhost:8080/"
        },
        "id": "FbaVyPWtY37-",
        "outputId": "36278c25-1ec9-4321-fd58-dbf1431d3de7"
      },
      "execution_count": 7,
      "outputs": [
        {
          "output_type": "execute_result",
          "data": {
            "text/plain": [
              "82489"
            ]
          },
          "metadata": {},
          "execution_count": 7
        }
      ]
    },
    {
      "cell_type": "markdown",
      "source": [
        "* 'No description yet'의 경우도 Null과 마찬가리로 의미 있는 속성값으로 사용될 수 없으므로 적절한 값으로 변경해야 한다.\n",
        "\n",
        "category_name은 '/'로 분리된 카테고리를 하나의 문자열로 나타내고 있다. 'Men/Tops/T-shirts'는 대분류 'Men', 중분류 'Tops', 소분류 'T-shirts'로 나눌 수 있다. category_name은 텍스트이므로 피처 추출 시 tokenizer를 '/'로 하여 단어를 분리해 벡터화할 수도 있지만, category_name의 '/'를 기준으로 단얼르 토큰화하여 각각 별도의 피처로 저장하고 이를 이용해 알고리즘을 학습.\n",
        "\n",
        "* split_cat() 함수\n",
        "    * category_name이 Null이 아닌 경우 split('/')를 이용해 대, 중, 소분류를 분리.\n",
        "    * category_name이 Null일 경우 split() 함수가 Error를 발생하므로 이 Error를 except catch하여 대, 중, 소분류 모두 'Other Null' 값을 부여."
      ],
      "metadata": {
        "id": "dCeXezPNZV9e"
      }
    },
    {
      "cell_type": "code",
      "source": [
        "# apply lambda에서 호출되는 대, 중, 소분할 함수 생성, 대, 중, 소 값을 리스트로 반환\n",
        "def split_cat(category_name):\n",
        "    try:\n",
        "        return category_name.split('/')\n",
        "    except:\n",
        "        return ['Other_Null' , 'Other_Null' , 'Other_Null']\n",
        "\n",
        "# split_cat()을 apply lambda에서 호출해 대, 중, 소 칼럼을 mercary_df에 생성\n",
        "mercari_df['cat_dae'], mercari_df['cat_jung'], mercari_df['cat_so'] = zip(*mercari_df['category_name'].apply(lambda x: split_cat(x)))\n",
        "\n",
        "# 대분류만 값의 유형과 건수를 살펴보고, 중, 소 분류는 값의 유형이 많으므로 분류 개수만 추출\n",
        "print('대분류 유형 :\\n', mercari_df['cat_dae'].value_counts())\n",
        "print('중분류 갯수 :', mercari_df['cat_jung'].nunique())\n",
        "print('소분류 갯수 :', mercari_df['cat_so'].nunique())"
      ],
      "metadata": {
        "colab": {
          "base_uri": "https://localhost:8080/"
        },
        "id": "b0P54cSfasKv",
        "outputId": "798d2710-c5e8-4be4-b079-7ec76671b6eb"
      },
      "execution_count": 8,
      "outputs": [
        {
          "output_type": "stream",
          "name": "stdout",
          "text": [
            "대분류 유형 :\n",
            " Women                     664385\n",
            "Beauty                    207828\n",
            "Kids                      171689\n",
            "Electronics               122690\n",
            "Men                        93680\n",
            "Home                       67871\n",
            "Vintage & Collectibles     46530\n",
            "Other                      45351\n",
            "Handmade                   30842\n",
            "Sports & Outdoors          25342\n",
            "Other_Null                  6327\n",
            "Name: cat_dae, dtype: int64\n",
            "중분류 갯수 : 114\n",
            "소분류 갯수 : 871\n"
          ]
        }
      ]
    },
    {
      "cell_type": "markdown",
      "source": [
        "brand_name, category_name, item_description 칼럼의 Null 값은 일괄적으로 'Other Null'로 동일하게 변경."
      ],
      "metadata": {
        "id": "wXXBCe3icn4G"
      }
    },
    {
      "cell_type": "code",
      "source": [
        "mercari_df['brand_name'] = mercari_df['brand_name'].fillna(value='Other_Null')\n",
        "mercari_df['category_name'] = mercari_df['category_name'].fillna(value='Other_Null')\n",
        "mercari_df['item_description'] = mercari_df['item_description'].fillna(value='Other_Null')\n",
        "\n",
        "# 각 컬럼별로 Null 값 건수 확인\n",
        "mercari_df.isnull().sum()"
      ],
      "metadata": {
        "colab": {
          "base_uri": "https://localhost:8080/"
        },
        "id": "26a_2FwydhbF",
        "outputId": "b4427ae9-171f-4f9d-fc05-57239f3ed217"
      },
      "execution_count": 9,
      "outputs": [
        {
          "output_type": "execute_result",
          "data": {
            "text/plain": [
              "train_id             0\n",
              "name                 0\n",
              "item_condition_id    0\n",
              "category_name        0\n",
              "brand_name           0\n",
              "price                0\n",
              "shipping             0\n",
              "item_description     0\n",
              "cat_dae              0\n",
              "cat_jung             0\n",
              "cat_so               0\n",
              "dtype: int64"
            ]
          },
          "metadata": {},
          "execution_count": 9
        }
      ]
    },
    {
      "cell_type": "markdown",
      "source": [
        "### 피처 인코딩과 피처 벡터화\n",
        "* 선형 회귀의 경우 원-핫 인코딩 적용이 훨씬 선호되므로 인코딩할 피처는 모두 원-핫 인코딩을 적용.\n",
        "* 피처 벡터화의 경우는 비교적 짧은 텍스트의 경우 Count 기반의 벡터화, 긴 텍스트의 경우 TD-IDF 기반의 벡터화 적용."
      ],
      "metadata": {
        "id": "LB0MAGU-drCd"
      }
    },
    {
      "cell_type": "code",
      "source": [
        "# brand_name 칼럼 - 상품의 브랜드명\n",
        "print('brand name 의 유형 건수 :', mercari_df['brand_name'].nunique())\n",
        "print('brand name sample 5건 : \\n', mercari_df['brand_name'].value_counts()[:5])"
      ],
      "metadata": {
        "colab": {
          "base_uri": "https://localhost:8080/"
        },
        "id": "FcNqxskzfSHP",
        "outputId": "34a99287-c599-47ae-defd-3932463f220d"
      },
      "execution_count": 10,
      "outputs": [
        {
          "output_type": "stream",
          "name": "stdout",
          "text": [
            "brand name 의 유형 건수 : 4810\n",
            "brand name sample 5건 : \n",
            " Other_Null           632682\n",
            "PINK                  54088\n",
            "Nike                  54043\n",
            "Victoria's Secret     48036\n",
            "LuLaRoe               31024\n",
            "Name: brand_name, dtype: int64\n"
          ]
        }
      ]
    },
    {
      "cell_type": "markdown",
      "source": [
        "brand_name의 경우 대부분 명료한 문자열로 되어있다. 별도의 피처 벡터화 형태로 만들 필요없이 인코딩 변환을 적용."
      ],
      "metadata": {
        "id": "-RezleveftAl"
      }
    },
    {
      "cell_type": "code",
      "source": [
        "# name 칼럼 - 상품명\n",
        "print('name 의 종류 갯수 :', mercari_df['name'].nunique())\n",
        "print('name sample 7건 : \\n', mercari_df['name'][:7])"
      ],
      "metadata": {
        "colab": {
          "base_uri": "https://localhost:8080/"
        },
        "id": "JaHfjw8Rf24u",
        "outputId": "d46cf1ea-3ab4-471c-8768-af46faabaec9"
      },
      "execution_count": 11,
      "outputs": [
        {
          "output_type": "stream",
          "name": "stdout",
          "text": [
            "name 의 종류 갯수 : 1225273\n",
            "name sample 7건 : \n",
            " 0    MLB Cincinnati Reds T Shirt Size XL\n",
            "1       Razer BlackWidow Chroma Keyboard\n",
            "2                         AVA-VIV Blouse\n",
            "3                  Leather Horse Statues\n",
            "4                   24K GOLD plated rose\n",
            "5       Bundled items requested for Ruie\n",
            "6     Acacia pacific tides santorini top\n",
            "Name: name, dtype: object\n"
          ]
        }
      ]
    },
    {
      "cell_type": "markdown",
      "source": [
        "상품명은 name 속성의 경우 종류가 매우 많다. name 속성은 유형이 매우 많고, 적은 단어 위주의 텍스트 형태로 되어있으므로 Count 기반으로 피처 벡터화 변환 적용.\n",
        "\n",
        "* category_name 칼럼을 변환시킨 cat_dae, cat_jung, cat_so 칼럼 : 원-핫 인코딩 적용\n",
        "* shipping 칼럼 : 0, 1 두 가지 유형의 값을 가지고 있음, 원-핫 인코딩 적용\n",
        "* item_condition_id 칼럼 : 상품 상태로 1, 2, 3, 4, 5의 다섯 가지 유형의 값을 가지고 있음, 원-핫 인코딩 적용\n",
        "* item_description 칼럼 : 상품에 대한 간단 설명으로, 가장 긴 텍스트를 가지고 있음. TF-IDF로 피처 벡터화 후 인코딩 수행"
      ],
      "metadata": {
        "id": "aTRbvP-ugQHO"
      }
    },
    {
      "cell_type": "code",
      "source": [
        "pd.set_option('max_colwidth', 200)\n",
        "\n",
        "# item_description의 평균 문자열 개수\n",
        "print('item_description 평균 문자열 개수:',mercari_df['item_description'].str.len().mean())\n",
        "\n",
        "mercari_df['item_description'][:2]"
      ],
      "metadata": {
        "colab": {
          "base_uri": "https://localhost:8080/"
        },
        "id": "lNVkhRyehfev",
        "outputId": "7ef42ae9-d6f8-4956-e1ee-608a0250d48a"
      },
      "execution_count": 12,
      "outputs": [
        {
          "output_type": "stream",
          "name": "stdout",
          "text": [
            "item_description 평균 문자열 개수: 145.7113889385411\n"
          ]
        },
        {
          "output_type": "execute_result",
          "data": {
            "text/plain": [
              "0                                                                                                                                                                              No description yet\n",
              "1    This keyboard is in great condition and works like it came out of the box. All of the ports are tested and work perfectly. The lights are customizable via the Razer Synapse app on your PC.\n",
              "Name: item_description, dtype: object"
            ]
          },
          "metadata": {},
          "execution_count": 12
        }
      ]
    },
    {
      "cell_type": "code",
      "source": [
        "# name 속성에 대한 피처 벡터화 변환\n",
        "cnt_vect = CountVectorizer()\n",
        "X_name = cnt_vect.fit_transform(mercari_df.name)\n",
        "\n",
        "# item_description에 대한 피처 벡터화 변환\n",
        "tfidf_descp = TfidfVectorizer(max_features=50000, ngram_range=(1, 3), stop_words='english')\n",
        "X_descp = tfidf_descp.fit_transform(mercari_df['item_description'])\n",
        "\n",
        "print('name vectorization shape:', X_name.shape)\n",
        "print('item_description vectorization shape:', X_descp.shape)"
      ],
      "metadata": {
        "colab": {
          "base_uri": "https://localhost:8080/"
        },
        "id": "b1RMXueIhte0",
        "outputId": "7be4eac2-355e-49f4-bbbc-bea11dac9660"
      },
      "execution_count": 13,
      "outputs": [
        {
          "output_type": "stream",
          "name": "stdout",
          "text": [
            "name vectorization shape: (1482535, 105757)\n",
            "item_description vectorization shape: (1482535, 50000)\n"
          ]
        }
      ]
    },
    {
      "cell_type": "markdown",
      "source": [
        "CountVectorizer, TfidfVectorizer가 fit_transform()을 통해 반환하는 데이터는 희소 행렬 형태이다. 희소 행렬 객체 변수인 X_name과 X_descp를 새로 결합해 새로운 데이터 세트를 구성해야 하고, cat_dae, cat_jung, cat_so, brand_name, shipping, item_condition_id도 모두 X_name, X_descp와 결합해 ML 모델을 실행하는 기반 데이터 세트로 재구성되어야 한다.\n",
        "\n",
        "이를 위해 이 인코딩 대상 칼럼도 밀집 행렬 형태가 아닌 희소 행렬 형태로 인코딩을 적용한 뒤, 함께 결합하도록 한다.\n",
        "\n",
        "#### 사이킷런의 원-핫 인코딩 클래스\n",
        "* OneHotEncoder\n",
        "* LabelBinarizer : 희소 행렬 형태의 원-핫 인코딩 변환을 지원. 생성 시 sparse_out=True로 파라미터를 설정해주기만 하면 된다.\n",
        "\n",
        "개별 칼럼으로 만들어진 희소 행렬은 사이파이 패키지인 sparse 모듈의 hstack() 함수를 이용해 결합한다. hstack() 함수는 희소 행렬을 손쉽게 칼럼 레벨로 결합할 수 있게 해준다.\n",
        "\n",
        "![image.png](data:image/png;base64,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)"
      ],
      "metadata": {
        "id": "NhIzk0dIiyvV"
      }
    },
    {
      "cell_type": "code",
      "source": [
        "# 인코딩 대상 칼럼 모두 LabelBinarizer로 원-핫 인코딩 변환\n",
        "from sklearn.preprocessing import LabelBinarizer\n",
        "\n",
        "# brand_name, item_condition_id, shipping 각 피처들을 희소 행렬 원-핫 인코딩 변환\n",
        "lb_brand_name = LabelBinarizer(sparse_output=True)\n",
        "X_brand = lb_brand_name.fit_transform(mercari_df['brand_name'])\n",
        "\n",
        "lb_item_cond_id = LabelBinarizer(sparse_output=True)\n",
        "X_item_cond_id = lb_item_cond_id.fit_transform(mercari_df['item_condition_id'])\n",
        "\n",
        "lb_shipping = LabelBinarizer(sparse_output=True)\n",
        "X_shipping = lb_shipping.fit_transform(mercari_df['shipping'])\n",
        "\n",
        "# cat_dae, cat_jung, cat_so 각 피처들을 희소 행렬 원-핫 인코딩 변환\n",
        "lb_cat_dae = LabelBinarizer(sparse_output=True)\n",
        "X_cat_dae= lb_cat_dae.fit_transform(mercari_df['cat_dae'])\n",
        "\n",
        "lb_cat_jung = LabelBinarizer(sparse_output=True)\n",
        "X_cat_jung = lb_cat_jung.fit_transform(mercari_df['cat_jung'])\n",
        "\n",
        "lb_cat_so = LabelBinarizer(sparse_output=True)\n",
        "X_cat_so = lb_cat_so.fit_transform(mercari_df['cat_so'])"
      ],
      "metadata": {
        "id": "VI4m-mPfpaSM"
      },
      "execution_count": 14,
      "outputs": []
    },
    {
      "cell_type": "code",
      "source": [
        "# 확인\n",
        "print(type(X_brand), type(X_item_cond_id), type(X_shipping))\n",
        "print('X_brand_shape:{0}, X_item_cond_id shape:{1}'.format(X_brand.shape, X_item_cond_id.shape))\n",
        "print('X_shipping shape:{0}, X_cat_dae shape:{1}'.format(X_shipping.shape, X_cat_dae.shape))\n",
        "print('X_cat_jung shape:{0}, X_cat_so shape:{1}'.format(X_cat_jung.shape, X_cat_so.shape))"
      ],
      "metadata": {
        "colab": {
          "base_uri": "https://localhost:8080/"
        },
        "id": "afSEGTP6qMdr",
        "outputId": "85c6b0c8-ede3-430a-ccf2-803b755cdf3b"
      },
      "execution_count": 15,
      "outputs": [
        {
          "output_type": "stream",
          "name": "stdout",
          "text": [
            "<class 'scipy.sparse.csr.csr_matrix'> <class 'scipy.sparse.csr.csr_matrix'> <class 'scipy.sparse.csr.csr_matrix'>\n",
            "X_brand_shape:(1482535, 4810), X_item_cond_id shape:(1482535, 5)\n",
            "X_shipping shape:(1482535, 1), X_cat_dae shape:(1482535, 11)\n",
            "X_cat_jung shape:(1482535, 114), X_cat_so shape:(1482535, 871)\n"
          ]
        }
      ]
    },
    {
      "cell_type": "markdown",
      "source": [
        "인코딩 변환된 데이터 세트가 CSR 형태로 변환된 csr_matrix 타입이다. 그리고 brand_name 칼럼 경우 값의 유형이 4810개이므로 이를 원-핫 인코딩으로 변환환 X_brand_shape의 경우 4810개의 인코딩 칼럼을 가지게 되었다. X_cat_so의 경우도 마찬가지로 871개의 인코딩 칼럼을 가진다. 인코딩 칼럼이 매우 많이 생겼지만, 피처 벡터화로 텍스트 형태의 문자열이 가지는 벡터 형태의 매우 많은 칼럼과 함께 결합되므로 크게 문제될 것은 없다. "
      ],
      "metadata": {
        "id": "Ol2VbHNPqXcz"
      }
    },
    {
      "cell_type": "code",
      "source": [
        "# 피처 벡터화 변환한 데이터 세트와 희소 인코딩 변환된 데이터 세트를 hstack()을 이용해 모두 결합\n",
        "# 결합된 데이터는 Mercari Price Suggestion을 위한 기반 데이터 세트로 사용됨.\n",
        "from scipy.sparse import hstack\n",
        "import gc\n",
        "\n",
        "sparse_matrix_list = (X_name, X_descp, X_brand, X_item_cond_id, X_shipping, X_cat_dae, X_cat_jung, X_cat_so)\n",
        "\n",
        "# hstack 함수를 이용해 인코딩과 벡터화를 수행한 데이터 세트를 모두 결합.\n",
        "X_features_sparse = hstack(sparse_matrix_list).tocsr()\n",
        "print(type(X_features_sparse), X_features_sparse.shape)\n",
        "\n",
        "# 데이터 세트가 메모리를 많이 차지하므로 사용 목적이 끝났으면 바로 메모리에서 삭제\n",
        "del X_features_sparse\n",
        "gc.collect()"
      ],
      "metadata": {
        "colab": {
          "base_uri": "https://localhost:8080/"
        },
        "id": "miTsj3isq7hM",
        "outputId": "80b3854d-f8fc-4153-db63-af98bc40b114"
      },
      "execution_count": 16,
      "outputs": [
        {
          "output_type": "stream",
          "name": "stdout",
          "text": [
            "<class 'scipy.sparse.csr.csr_matrix'> (1482535, 161569)\n"
          ]
        },
        {
          "output_type": "execute_result",
          "data": {
            "text/plain": [
              "153"
            ]
          },
          "metadata": {},
          "execution_count": 16
        }
      ]
    },
    {
      "cell_type": "markdown",
      "source": [
        "hstack()으로 결합한 데이터 세트는 csr_matrix 타입이며, 총 161569개의 피처를 가지게 되었다. 이렇게 만들어진 데이터 세트에 회귀를 적용하여 price 값을 예측할 모델 구축."
      ],
      "metadata": {
        "id": "AF9JizPbsXmz"
      }
    },
    {
      "cell_type": "markdown",
      "source": [
        "### 릿지 회귀 모델 구축 및 평가\n",
        "\n",
        "* 평가 지표 - RMSLE(Root Mean Square Logarithmic Error)\n",
        "    * 낮은 가격보다 높은 각겨에서 오류가 발생할 경우 오류 값이 더 커지는 것을 억제하기 위해 RMSLE를 도입\n",
        "\n",
        "![image.png](data:image/png;base64,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)"
      ],
      "metadata": {
        "id": "iUxXxksWsPOr"
      }
    },
    {
      "cell_type": "code",
      "source": [
        "def rmsle(y, y_pred):\n",
        "    # underflow, overflow를 막기 위해 log가 아닌 log1p로 rmsle 계산\n",
        "    return np.sqrt(np.mean(np.power(np.log1p(y) - np.log1p(y_pred), 2)))\n",
        "\n",
        "def evaluate_org_price(y_test, preds):\n",
        "    # 원본 데이터는 log1p로 변환되었으므로 exmpm1로 원복 필요\n",
        "    preds_exmpm = np.expm1(preds)\n",
        "    y_test_exmpm = np.expm1(y_test)\n",
        "\n",
        "    # rmsle로 RMSLE 값 추출\n",
        "    rmsle_result = rmsle(y_test_exmpm, preds_exmpm)\n",
        "    return rmsle_result"
      ],
      "metadata": {
        "id": "iFFvlMXIw6Xi"
      },
      "execution_count": 17,
      "outputs": []
    },
    {
      "cell_type": "markdown",
      "source": [
        "#### 학습용 데이터를 생성하고, 모델을 학습/예측하는 로직 함수 구현"
      ],
      "metadata": {
        "id": "WmJR9z2IxdCa"
      }
    },
    {
      "cell_type": "code",
      "source": [
        "import gc\n",
        "from scipy.sparse import hstack\n",
        "\n",
        "def model_train_predict(model, matrix_list):\n",
        "    # scipy.sparse 모듈의 hstack을 이용해 희소 행렬 결합\n",
        "    X = hstack(matrix_list).tocsr()\n",
        "\n",
        "    X_train, X_test, y_train, y_test = train_test_split(X, mercari_df['price'], test_size=0.2, random_state=156)\n",
        "\n",
        "    # 모델 학습 및 예측\n",
        "    model.fit(X_train, y_train)\n",
        "    preds = model.predict(X_test)\n",
        "\n",
        "    del X, X_train, X_test, y_train\n",
        "    gc.collect()\n",
        "\n",
        "    return preds, y_test "
      ],
      "metadata": {
        "id": "GdeycEcDxjJC"
      },
      "execution_count": 18,
      "outputs": []
    },
    {
      "cell_type": "markdown",
      "source": [
        "#### Ridge를 이용하여 Mercari Price 회귀 예측\n",
        "* item_description과 같은 텍스트 형태의 속성이 얼마나 영향을 미치는지 확인."
      ],
      "metadata": {
        "id": "5rNrnF4zyMha"
      }
    },
    {
      "cell_type": "code",
      "source": [
        "linear_model = Ridge(solver = \"lsqr\", fit_intercept=False)\n",
        "\n",
        "sparse_matrix_list = (X_name, X_brand, X_item_cond_id, X_shipping, X_cat_dae, X_cat_jung, X_cat_so)\n",
        "linear_preds , y_test = model_train_predict(model=linear_model ,matrix_list=sparse_matrix_list)\n",
        "print('Item Description을 제외했을 때 rmsle 값:', evaluate_org_price(y_test , linear_preds))\n",
        "\n",
        "sparse_matrix_list = (X_descp, X_name, X_brand, X_item_cond_id, X_shipping, X_cat_dae, X_cat_jung, X_cat_so)\n",
        "linear_preds , y_test = model_train_predict(model=linear_model , matrix_list=sparse_matrix_list)\n",
        "print('Item Description을 포함한 rmsle 값:',  evaluate_org_price(y_test ,linear_preds))"
      ],
      "metadata": {
        "colab": {
          "base_uri": "https://localhost:8080/"
        },
        "id": "t8SrhDFkyYU6",
        "outputId": "2f5d7ca4-fada-496c-d555-d1df65e51a1e"
      },
      "execution_count": 19,
      "outputs": [
        {
          "output_type": "stream",
          "name": "stdout",
          "text": [
            "Item Description을 제외했을 때 rmsle 값: 0.5023727038010544\n",
            "Item Description을 포함한 rmsle 값: 0.4712195143433641\n"
          ]
        }
      ]
    },
    {
      "cell_type": "markdown",
      "source": [
        "Item Description을 포함했을 때 rmsle 값이 많이 감소했다. 즉, Item Description 영향이 중요하다는 것을 알 수 있다."
      ],
      "metadata": {
        "id": "iASmOlOmzchr"
      }
    },
    {
      "cell_type": "markdown",
      "source": [
        "### LightGBM 회귀 모델 구축과 앙상블을 이용한 최종 예측 평가\n",
        "* n_estimators : 1000 이상 증가시키면 예측 성능은 좋아지나, 시간이 많이 걸린다. 여기서는 200으로 작게 설정한다."
      ],
      "metadata": {
        "id": "P-BPbTvPzj7J"
      }
    },
    {
      "cell_type": "code",
      "source": [
        "from lightgbm import LGBMRegressor\n",
        "\n",
        "sparse_matrix_list = (X_descp, X_name, X_brand, X_item_cond_id, X_shipping, X_cat_dae, X_cat_jung, X_cat_so)\n",
        "\n",
        "lgbm_model = LGBMRegressor(n_estimators=200, learning_rate=0.5, num_leaves=125, random_state=156)\n",
        "lgbm_preds , y_test = model_train_predict(model = lgbm_model , matrix_list=sparse_matrix_list)\n",
        "print('LightGBM rmsle 값:',  evaluate_org_price(y_test , lgbm_preds))"
      ],
      "metadata": {
        "colab": {
          "base_uri": "https://localhost:8080/"
        },
        "id": "NnIlZpMQz1_6",
        "outputId": "fb2860d6-c0c9-4eea-9a4e-1755a41886f9"
      },
      "execution_count": 20,
      "outputs": [
        {
          "output_type": "stream",
          "name": "stdout",
          "text": [
            "LightGBM rmsle 값: 0.45719580244261243\n"
          ]
        }
      ]
    },
    {
      "cell_type": "markdown",
      "source": [
        "Ridge보다 예측 성능이 조금 더 나아졌다.\n",
        "\n",
        "* LightGBM의 예측값과 Ridge의 예측값을 서로 앙상블하여 최종 예측 결과값을 도출.\n",
        "* LightGBM 예측값에 X를 곱하고, Ridge 예측값에 Y를 곱한 값을 서로 합해 최종 예측 결과값으로 한다.(X와 Y의 배합 비율은 임의로 산정)"
      ],
      "metadata": {
        "id": "rdYHFwPP0X5S"
      }
    },
    {
      "cell_type": "code",
      "source": [
        "preds = lgbm_preds * 0.4 + linear_preds * 0.6\n",
        "print('LightGBM과 Ridge를 ensemble한 최종 rmsle 값:',  evaluate_org_price(y_test , preds))"
      ],
      "metadata": {
        "colab": {
          "base_uri": "https://localhost:8080/"
        },
        "id": "PoEu7Kue1QmB",
        "outputId": "54d0ec4a-3290-44ba-8196-0e8e46ec7703"
      },
      "execution_count": 21,
      "outputs": [
        {
          "output_type": "stream",
          "name": "stdout",
          "text": [
            "LightGBM과 Ridge를 ensemble한 최종 rmsle 값: 0.45188477431350804\n"
          ]
        }
      ]
    },
    {
      "cell_type": "code",
      "source": [
        "preds = lgbm_preds * 0.45 + linear_preds * 0.55\n",
        "print('LightGBM과 Ridge를 ensemble한 최종 rmsle 값:',  evaluate_org_price(y_test , preds))"
      ],
      "metadata": {
        "colab": {
          "base_uri": "https://localhost:8080/"
        },
        "id": "ZjnFNpGi06pC",
        "outputId": "8894866a-361b-41c8-aa94-ee02eb01e366"
      },
      "execution_count": 22,
      "outputs": [
        {
          "output_type": "stream",
          "name": "stdout",
          "text": [
            "LightGBM과 Ridge를 ensemble한 최종 rmsle 값: 0.4507259214329315\n"
          ]
        }
      ]
    },
    {
      "cell_type": "code",
      "source": [
        "preds = lgbm_preds * 0.5 + linear_preds * 0.5\n",
        "print('LightGBM과 Ridge를 ensemble한 최종 rmsle 값:',  evaluate_org_price(y_test , preds))"
      ],
      "metadata": {
        "colab": {
          "base_uri": "https://localhost:8080/"
        },
        "id": "-aGQTSc91GAR",
        "outputId": "2c88fdba-b615-4afb-934e-002e1a35b8d6"
      },
      "execution_count": 23,
      "outputs": [
        {
          "output_type": "stream",
          "name": "stdout",
          "text": [
            "LightGBM과 Ridge를 ensemble한 최종 rmsle 값: 0.4498568634788895\n"
          ]
        }
      ]
    },
    {
      "cell_type": "code",
      "source": [
        "preds = lgbm_preds * 0.55 + linear_preds * 0.45\n",
        "print('LightGBM과 Ridge를 ensemble한 최종 rmsle 값:',  evaluate_org_price(y_test , preds))"
      ],
      "metadata": {
        "colab": {
          "base_uri": "https://localhost:8080/"
        },
        "id": "2WLjVnKA1ITb",
        "outputId": "448c1546-ef3b-4025-c146-925d70d5448f"
      },
      "execution_count": 24,
      "outputs": [
        {
          "output_type": "stream",
          "name": "stdout",
          "text": [
            "LightGBM과 Ridge를 ensemble한 최종 rmsle 값: 0.4492792821384937\n"
          ]
        }
      ]
    },
    {
      "cell_type": "code",
      "source": [
        "preds = lgbm_preds * 0.6 + linear_preds * 0.4\n",
        "print('LightGBM과 Ridge를 ensemble한 최종 rmsle 값:',  evaluate_org_price(y_test , preds))"
      ],
      "metadata": {
        "colab": {
          "base_uri": "https://localhost:8080/"
        },
        "id": "H90oC4ZG1KHA",
        "outputId": "a89b4560-7bfd-4bf9-a97d-2c3b71f03cc5"
      },
      "execution_count": 25,
      "outputs": [
        {
          "output_type": "stream",
          "name": "stdout",
          "text": [
            "LightGBM과 Ridge를 ensemble한 최종 rmsle 값: 0.44899430227008386\n"
          ]
        }
      ]
    },
    {
      "cell_type": "markdown",
      "source": [
        "# 정리\n",
        "\n",
        "### 텍스트 분석 프로세스\n",
        "1. 텍스트 사전 정제 작업 등의 텍스트 정규화 작업 수행\n",
        "2. 단어들을 피처 벡터화로 변환\n",
        "3. 생성된 피처 벡터 데이터 세트에 머신러닝 모델을 학습하고 예측, 평가 수행\n",
        "\n",
        "### 텍스트 정규화 작업\n",
        "* 텍스트 클렌징 및 대소문자 변경, 단어 토큰화, 의미 없는 단어 필터링, 어근 추출 등 피처 벡터화를 진행하기 이전에 수행하는 다양한 사전 작업을 의미\n",
        "* 피처 벡터화 : BOW의 대표 방식인 Count 기반과 TF-IDF 기반 피처 벡터화\n",
        "* 일반적으로 긴 문장에서는 TF-IDF 기반의 피처 벡터가 더 정확한 결과를 도출\n",
        "* 피처 벡터 데이터 세트는 희소 행렬이며, 머신러닝 모델은 이러한 희소 행렬 기반에서 최적화 되어야 한다.\n",
        "\n",
        "### 텍스트 분류\n",
        "* 피처 벡터화한 후 로지스틱 회귀를 적용하여 문서를 지도 학습으로 예측 분류\n",
        "\n",
        "### 감성 분류\n",
        "* 지도 학습 기반으로 긍정/부정 이진 분류를 적용한 방식\n",
        "* SentiWordNet, VADER과 같은 감성 사전 Lexicon을 이용한 방식\n",
        "\n",
        "### 토픽 모델링\n",
        "* LDA(Latent Dirichlet Allocation)을 이용해 공통 토픽 추출\n",
        "\n",
        "### 텍스트 군집화\n",
        "* K-평균 군집화 기법을 이용해 비슷한 문서들끼리 군집화\n",
        "\n",
        "### 텍스트 유사도 측정\n",
        "* 코사인 유사도를 이용하여 문서들끼리 얼마나 비슷한지를 측정\n",
        "\n",
        "### 한글 형태소 분석기\n",
        "* KoNLPy 패키지를 이용하여 한글 형태소를 분석하여 긍정/부정 이진 분류\n",
        "\n",
        "### Mercari Price Challenge\n",
        "* 정형 피처들과 텍스트와 같은 비정형 피처를 결합하여 효과적인 회귀 예측 모델 구현\n",
        "\n"
      ],
      "metadata": {
        "id": "2NqfXr5p1WXB"
      }
    }
  ]
}