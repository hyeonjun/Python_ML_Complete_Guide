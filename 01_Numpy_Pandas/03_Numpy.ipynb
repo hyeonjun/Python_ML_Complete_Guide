{
  "nbformat": 4,
  "nbformat_minor": 0,
  "metadata": {
    "colab": {
      "name": "Numpy.ipynb",
      "provenance": [],
      "collapsed_sections": [],
      "authorship_tag": "ABX9TyPXx+cKOPB1BoxcUoss7Vyl"
    },
    "kernelspec": {
      "name": "python3",
      "display_name": "Python 3"
    },
    "language_info": {
      "name": "python"
    }
  },
  "cells": [
    {
      "cell_type": "markdown",
      "metadata": {
        "id": "rl_jTwOZV0vj"
      },
      "source": [
        "# 넘파이 ndarray 개요\n",
        "\n",
        "넘파이 기반 데이터 타입은 ndarray이다. ndarray를 이용해 넘파이에서 다차원(Multi-dimentsion) 배열을 쉽게 생성하고 다양한 연산을 수행할 수 있다. \n",
        "\n",
        "넘파이 array() 함수는 파이썬의 리스트와 같은 다양한 인자를 받아서 ndarray로 변환하는 기능을 수행한다. 생성된 ndarray 배열의 shape 변수는 ndarray의 크기, 즉 행과 열의 수는 튜플 형태로 가지고 있으며  이를 통해 ndarray 배열의 차원까지 알 수 있다."
      ]
    },
    {
      "cell_type": "code",
      "metadata": {
        "colab": {
          "base_uri": "https://localhost:8080/"
        },
        "id": "GeOtsW5ZUcA-",
        "outputId": "cb6e7956-6f8f-4807-fb76-a81db52b5616"
      },
      "source": [
        "import numpy as np\n",
        "\n",
        "array1 = np.array([1, 2, 3])\n",
        "print('array1 type :', type(array1))\n",
        "print('array1 array 형태 :', array1.shape)\n",
        "\n",
        "array2 = np.array([[1, 2, 3],\n",
        "                   [2, 3, 4]])\n",
        "print('array2 type :', type(array2))\n",
        "print('array2 array 형태 :', array2.shape)\n",
        "\n",
        "array3 = np.array([[1, 2, 3]])\n",
        "print('array3 type :', type(array3))\n",
        "print('array3 array 형태 :', array3.shape)"
      ],
      "execution_count": 1,
      "outputs": [
        {
          "output_type": "stream",
          "name": "stdout",
          "text": [
            "array1 type : <class 'numpy.ndarray'>\n",
            "array1 array 형태 : (3,)\n",
            "array2 type : <class 'numpy.ndarray'>\n",
            "array2 array 형태 : (2, 3)\n",
            "array3 type : <class 'numpy.ndarray'>\n",
            "array3 array 형태 : (1, 3)\n"
          ]
        }
      ]
    },
    {
      "cell_type": "markdown",
      "metadata": {
        "id": "fPQbLu40Xkk7"
      },
      "source": [
        "ndarray로 변환을 원하는 객체를 인자로 입력하면 ndarray를 반환한다. ndarray.shape는 ndarray의 차원과 크기를 튜플 형태로 나타낸다.\n",
        "\n",
        "이번에는 ndarray.ndim을 이용하여 각 array의 차원을 확인하자."
      ]
    },
    {
      "cell_type": "code",
      "metadata": {
        "colab": {
          "base_uri": "https://localhost:8080/"
        },
        "id": "-Pm2x65IYI4t",
        "outputId": "18e93cb1-090f-453c-f25a-3facd2c5b3a3"
      },
      "source": [
        "print('array1 : {0}차원, array2 : {1}차원, array3 : {2}차원'.format(array1.ndim, array2.ndim, array3.ndim))"
      ],
      "execution_count": 2,
      "outputs": [
        {
          "output_type": "stream",
          "name": "stdout",
          "text": [
            "array1 : 1차원, array2 : 2차원, array3 : 2차원\n"
          ]
        }
      ]
    },
    {
      "cell_type": "markdown",
      "metadata": {
        "id": "B-bJ_fDYYeX1"
      },
      "source": [
        "# ndarray의 데이터 타입\n",
        "\n",
        "ndarray 내의 데이터값은 숫자, 문자열, boolean 등 모두 가능.\n",
        "\n",
        "ndarray 내의 데이터 타입은 그 연산의 특성상 같은 데이터 타입만 가능하다. 즉, 한 개의 ndarray 객체에 int와 float가 같이 있을 수 없다. ndarray 내의 데이터 타입은 dtype 속성으로 확인할 수 있다."
      ]
    },
    {
      "cell_type": "code",
      "metadata": {
        "colab": {
          "base_uri": "https://localhost:8080/"
        },
        "id": "Pq6xn133ZEEE",
        "outputId": "86aab1c5-dade-42ba-a9c8-5988a4182539"
      },
      "source": [
        "list1 = [1, 2, 3]\n",
        "print(type(list1))\n",
        "array1 = np.array(list1)\n",
        "print(type(array1))\n",
        "print(array1, array1.dtype)"
      ],
      "execution_count": 3,
      "outputs": [
        {
          "output_type": "stream",
          "name": "stdout",
          "text": [
            "<class 'list'>\n",
            "<class 'numpy.ndarray'>\n",
            "[1 2 3] int64\n"
          ]
        }
      ]
    },
    {
      "cell_type": "code",
      "metadata": {
        "colab": {
          "base_uri": "https://localhost:8080/"
        },
        "id": "WhwDMhqrEUc4",
        "outputId": "44bc1ade-e570-4166-c72e-03b3c34caf43"
      },
      "source": [
        "list2 = [1, 2, 'test']\n",
        "array2 = np.array(list2)\n",
        "print(array2, array2.dtype)\n",
        "\n",
        "list3 = [1,2, 3.0]\n",
        "array3 = np.array(list3)\n",
        "print(array3, array3.dtype)"
      ],
      "execution_count": 4,
      "outputs": [
        {
          "output_type": "stream",
          "name": "stdout",
          "text": [
            "['1' '2' 'test'] <U21\n",
            "[1. 2. 3.] float64\n"
          ]
        }
      ]
    },
    {
      "cell_type": "markdown",
      "metadata": {
        "id": "DECOSy8AZTuT"
      },
      "source": [
        "문자열이 섞여있는 list2를 ndarray로 변환하면 1, 2 모두 문자열 값으로 변환되고, float가 섞여있어 1, 2가 1., 2.인 float 형으로 변환되었다.\n",
        "\n",
        "ndarray 내 데이터값의 타입 변경도 astype() 메서드를 이용할 수 있다. astype()에 인자로 원하는 타입을 문자열로 지정하면 된다. 이렇게 데이터 타입을 변경하는 경우는 대용량 데이터의 ndarray를 만들 때 많은 메모리가 사용되는데, 메모리를 더 절약해야할 때 보통 사용된다. 예를 들어 int형으로 충분한데, 데이터 타입이 float라면 int 형으로 바꿔 메모리를 절약할 수 있다."
      ]
    },
    {
      "cell_type": "code",
      "metadata": {
        "colab": {
          "base_uri": "https://localhost:8080/"
        },
        "id": "z3e9oK6lGAHo",
        "outputId": "f7438484-6595-4973-860a-c0d561f19dfc"
      },
      "source": [
        "array_int = np.array([1, 2, 3])\n",
        "array_float = array_int.astype('float64')\n",
        "print(array_float, array_float.dtype)\n",
        "\n",
        "array_int1 = array_float.astype('int32')\n",
        "print(array_int1, array_int1.dtype)\n",
        "\n",
        "array_float1 = np.array([1.1, 2.1, 3.1])\n",
        "array_int2 = array_float1.astype('int32')\n",
        "print(array_int2, array_int2.dtype)"
      ],
      "execution_count": 5,
      "outputs": [
        {
          "output_type": "stream",
          "name": "stdout",
          "text": [
            "[1. 2. 3.] float64\n",
            "[1 2 3] int32\n",
            "[1 2 3] int32\n"
          ]
        }
      ]
    },
    {
      "cell_type": "markdown",
      "metadata": {
        "id": "cIbva_tIGuyx"
      },
      "source": [
        "# ndarray를 편리하게 생성하기 - arange, zeros, ones\n",
        "\n",
        "특정 크키과 차원을 가진 ndarray를 연속값이나 0 또는 1로 초기화해 쉽게 생성해야할 필요가 있는 경우가 발생할 수 있다. 주로 테스트용으로 데이터를 만들거나 대규모 데이터를 일괄적으로 초기화해야할 경우에 사용된다."
      ]
    },
    {
      "cell_type": "code",
      "metadata": {
        "colab": {
          "base_uri": "https://localhost:8080/"
        },
        "id": "9YRQqBPvGleH",
        "outputId": "a353f52a-99f5-4a67-b37b-717cd1675013"
      },
      "source": [
        "seq_array = np.arange(10)\n",
        "print(seq_array)\n",
        "print(seq_array.dtype, seq_array.shape)"
      ],
      "execution_count": 6,
      "outputs": [
        {
          "output_type": "stream",
          "name": "stdout",
          "text": [
            "[0 1 2 3 4 5 6 7 8 9]\n",
            "int64 (10,)\n"
          ]
        }
      ]
    },
    {
      "cell_type": "markdown",
      "metadata": {
        "id": "z_xsf7cTHY8v"
      },
      "source": [
        "0부터 9까지의 연속 숫자 값으로 구성된 1차원 ndarray를 만들어준다.  range와 유사하다.\n",
        "\n",
        "zeros()는 함수 인자로 튜플 형태의 shape 값을 입력하면 모든 값을 0으로 채운 해당 shape를 가진 ndarray를 반환한다. \n",
        "\n",
        "유사하게 ones는 1로 채워진다. 함수 인자로 dtype을 정해주지 않으면 default로 float64 형의 데이터로 ndarray를 채운다."
      ]
    },
    {
      "cell_type": "code",
      "metadata": {
        "colab": {
          "base_uri": "https://localhost:8080/"
        },
        "id": "r84HzWF-IK-Y",
        "outputId": "ef564dd1-2388-4a2a-c4aa-310c183e2f97"
      },
      "source": [
        "zero_array = np.zeros((3, 2), dtype='int32')\n",
        "print(zero_array)\n",
        "print(zero_array.dtype, zero_array.shape)\n",
        "\n",
        "one_array = np.ones((3, 2))\n",
        "print(one_array)\n",
        "print(one_array.dtype, one_array.shape)"
      ],
      "execution_count": 7,
      "outputs": [
        {
          "output_type": "stream",
          "name": "stdout",
          "text": [
            "[[0 0]\n",
            " [0 0]\n",
            " [0 0]]\n",
            "int32 (3, 2)\n",
            "[[1. 1.]\n",
            " [1. 1.]\n",
            " [1. 1.]]\n",
            "float64 (3, 2)\n"
          ]
        }
      ]
    },
    {
      "cell_type": "markdown",
      "metadata": {
        "id": "JvUJ12xoIiFY"
      },
      "source": [
        "# ndarray의 차원과 크기를 변경하는 reshape()\n",
        "\n",
        "reshape() 메서드는 ndarray를 특정 차원 및 크기로 변환한다. 변환을 원하는 크기를 함수 인자로 부여하면 된다."
      ]
    },
    {
      "cell_type": "code",
      "metadata": {
        "colab": {
          "base_uri": "https://localhost:8080/"
        },
        "id": "_pkrh0O9I5gA",
        "outputId": "b0141ec5-53ec-41ba-b0db-7c38d3c6dd93"
      },
      "source": [
        "array1 = np.arange(10)\n",
        "print('array1:\\n', array1)\n",
        "\n",
        "array2 = array1.reshape(2, 5)\n",
        "print('array2:\\n', array2)\n",
        "\n",
        "array3 = array1.reshape(5, 2)\n",
        "print('array3:\\n', array3)"
      ],
      "execution_count": 8,
      "outputs": [
        {
          "output_type": "stream",
          "name": "stdout",
          "text": [
            "array1:\n",
            " [0 1 2 3 4 5 6 7 8 9]\n",
            "array2:\n",
            " [[0 1 2 3 4]\n",
            " [5 6 7 8 9]]\n",
            "array3:\n",
            " [[0 1]\n",
            " [2 3]\n",
            " [4 5]\n",
            " [6 7]\n",
            " [8 9]]\n"
          ]
        }
      ]
    },
    {
      "cell_type": "code",
      "metadata": {
        "colab": {
          "base_uri": "https://localhost:8080/",
          "height": 172
        },
        "id": "LwUXiQI_JTtZ",
        "outputId": "2c94acc0-4b3c-4352-8e22-6a43f350412d"
      },
      "source": [
        "array4 = array1.reshape(4, 3) # 당연히 오류난다."
      ],
      "execution_count": 9,
      "outputs": [
        {
          "output_type": "error",
          "ename": "ValueError",
          "evalue": "ignored",
          "traceback": [
            "\u001b[0;31m---------------------------------------------------------------------------\u001b[0m",
            "\u001b[0;31mValueError\u001b[0m                                Traceback (most recent call last)",
            "\u001b[0;32m<ipython-input-9-e68fccd894e3>\u001b[0m in \u001b[0;36m<module>\u001b[0;34m()\u001b[0m\n\u001b[0;32m----> 1\u001b[0;31m \u001b[0marray4\u001b[0m \u001b[0;34m=\u001b[0m \u001b[0marray1\u001b[0m\u001b[0;34m.\u001b[0m\u001b[0mreshape\u001b[0m\u001b[0;34m(\u001b[0m\u001b[0;36m4\u001b[0m\u001b[0;34m,\u001b[0m \u001b[0;36m3\u001b[0m\u001b[0;34m)\u001b[0m \u001b[0;31m# 당연히 오류난다.\u001b[0m\u001b[0;34m\u001b[0m\u001b[0;34m\u001b[0m\u001b[0m\n\u001b[0m",
            "\u001b[0;31mValueError\u001b[0m: cannot reshape array of size 10 into shape (4,3)"
          ]
        }
      ]
    },
    {
      "cell_type": "markdown",
      "metadata": {
        "id": "TdPmsrsgJZKD"
      },
      "source": [
        "reshape()를 시전에서 더욱 효율적으로 사용하는 경우는 아마도 인자로 -1을 적용하는 경우일 것이다. -1을 인자로 사용하면 원래 ndarray와 호환되는 새로운 shape로 변환해 준다."
      ]
    },
    {
      "cell_type": "code",
      "metadata": {
        "colab": {
          "base_uri": "https://localhost:8080/"
        },
        "id": "5Kg5hVAAJYr4",
        "outputId": "fd01ca8c-9610-4068-afd9-68c0341a83b1"
      },
      "source": [
        "array1 = np.arange(10)\n",
        "print(array1)\n",
        "\n",
        "array2 = array1.reshape(-1, 5)\n",
        "print(array2, array2.shape)\n",
        "\n",
        "array3 = array1.reshape(5, -1)\n",
        "print(array3, array3.shape)"
      ],
      "execution_count": 10,
      "outputs": [
        {
          "output_type": "stream",
          "name": "stdout",
          "text": [
            "[0 1 2 3 4 5 6 7 8 9]\n",
            "[[0 1 2 3 4]\n",
            " [5 6 7 8 9]] (2, 5)\n",
            "[[0 1]\n",
            " [2 3]\n",
            " [4 5]\n",
            " [6 7]\n",
            " [8 9]] (5, 2)\n"
          ]
        }
      ]
    },
    {
      "cell_type": "code",
      "metadata": {
        "colab": {
          "base_uri": "https://localhost:8080/",
          "height": 172
        },
        "id": "caTWgc9MKQmB",
        "outputId": "4aab40cb-6eb2-4bcb-8d89-5ff187cddf80"
      },
      "source": [
        "array4 = array1.reshape(-1, 4) # error"
      ],
      "execution_count": 11,
      "outputs": [
        {
          "output_type": "error",
          "ename": "ValueError",
          "evalue": "ignored",
          "traceback": [
            "\u001b[0;31m---------------------------------------------------------------------------\u001b[0m",
            "\u001b[0;31mValueError\u001b[0m                                Traceback (most recent call last)",
            "\u001b[0;32m<ipython-input-11-3fd48d9a9625>\u001b[0m in \u001b[0;36m<module>\u001b[0;34m()\u001b[0m\n\u001b[0;32m----> 1\u001b[0;31m \u001b[0marray4\u001b[0m \u001b[0;34m=\u001b[0m \u001b[0marray1\u001b[0m\u001b[0;34m.\u001b[0m\u001b[0mreshape\u001b[0m\u001b[0;34m(\u001b[0m\u001b[0;34m-\u001b[0m\u001b[0;36m1\u001b[0m\u001b[0;34m,\u001b[0m \u001b[0;36m4\u001b[0m\u001b[0;34m)\u001b[0m \u001b[0;31m# error\u001b[0m\u001b[0;34m\u001b[0m\u001b[0;34m\u001b[0m\u001b[0m\n\u001b[0m",
            "\u001b[0;31mValueError\u001b[0m: cannot reshape array of size 10 into shape (4)"
          ]
        }
      ]
    },
    {
      "cell_type": "markdown",
      "metadata": {
        "id": "cZNJokNiKfav"
      },
      "source": [
        "-1 인자는 reshape(-1, 1)와 같은 형태로 자주 사용된다. \n",
        "\n",
        "reshape(-1, 1)은 원본 ndarray가 어떤 형태라도 2차원이고, 여러 개의 로우를 가지되 반드시 1개의 컬럼을 가진 ndarray로 변환된다. 여러 개의 넘파이 ndarray를 stack이나 concat으로 결합할 때 각각의 ndarray의 형태를 통일해 유용하게 사용된다."
      ]
    },
    {
      "cell_type": "code",
      "metadata": {
        "colab": {
          "base_uri": "https://localhost:8080/"
        },
        "id": "A2dVkmxsLFdI",
        "outputId": "a585fa37-817c-4c3f-cc19-fda167b1c13a"
      },
      "source": [
        "array1 = np.arange(8)\n",
        "array3d = array1.reshape((2, 2, 2))\n",
        "print('array3d:\\n', array3d.tolist())\n",
        "\n",
        "# 3차원 ndarray를 2차원 ndarray로 변환\n",
        "array5 = array3d.reshape(-1, 1)\n",
        "print('array5:\\n', array5.tolist())\n",
        "print('array5 shape:', array5.shape)\n",
        "\n",
        "# 1차원 ndarray를 2차원 ndarray로 변환\n",
        "array6 = array1.reshape(-1, 1)\n",
        "print('array6:\\n', array6.tolist())\n",
        "print('array6 shape:', array6.shape)"
      ],
      "execution_count": 12,
      "outputs": [
        {
          "output_type": "stream",
          "name": "stdout",
          "text": [
            "array3d:\n",
            " [[[0, 1], [2, 3]], [[4, 5], [6, 7]]]\n",
            "array5:\n",
            " [[0], [1], [2], [3], [4], [5], [6], [7]]\n",
            "array5 shape: (8, 1)\n",
            "array6:\n",
            " [[0], [1], [2], [3], [4], [5], [6], [7]]\n",
            "array6 shape: (8, 1)\n"
          ]
        }
      ]
    },
    {
      "cell_type": "markdown",
      "metadata": {
        "id": "W0jmd_EYMZIq"
      },
      "source": [
        "# 넘파이의 ndarray의 데이터 세트 선택하기 - 인덱싱(Indexing)\n",
        "\n",
        "##### 단일 값 추출\n",
        "\n",
        "1개의 데이터값을 선택하려면 ndarray 객체에 해당하는 위치의 인덱스 값을 [] 안에 입력하면 된다."
      ]
    },
    {
      "cell_type": "code",
      "metadata": {
        "colab": {
          "base_uri": "https://localhost:8080/"
        },
        "id": "ZbuiA1xBM8QB",
        "outputId": "d1b0fa94-7d4f-481b-bb86-5804de3f06f3"
      },
      "source": [
        "array1 = np.arange(1, 10)\n",
        "print(array1)\n",
        "\n",
        "value = array1[2]\n",
        "print(value)\n",
        "print(type(value))"
      ],
      "execution_count": 13,
      "outputs": [
        {
          "output_type": "stream",
          "name": "stdout",
          "text": [
            "[1 2 3 4 5 6 7 8 9]\n",
            "3\n",
            "<class 'numpy.int64'>\n"
          ]
        }
      ]
    },
    {
      "cell_type": "code",
      "metadata": {
        "colab": {
          "base_uri": "https://localhost:8080/"
        },
        "id": "bvf4erLXNLFh",
        "outputId": "b41ec9a2-d3ec-4e63-dd7f-0d20e275298f"
      },
      "source": [
        "print(array1[-1], array1[-2])"
      ],
      "execution_count": 14,
      "outputs": [
        {
          "output_type": "stream",
          "name": "stdout",
          "text": [
            "9 8\n"
          ]
        }
      ]
    },
    {
      "cell_type": "code",
      "metadata": {
        "colab": {
          "base_uri": "https://localhost:8080/"
        },
        "id": "gTTbWoMoNR2x",
        "outputId": "668e69fa-ed86-44a0-cad2-08c57aa7cf50"
      },
      "source": [
        "array1[0] = 9\n",
        "array1[8] = 0\n",
        "print(array1)"
      ],
      "execution_count": 15,
      "outputs": [
        {
          "output_type": "stream",
          "name": "stdout",
          "text": [
            "[9 2 3 4 5 6 7 8 0]\n"
          ]
        }
      ]
    },
    {
      "cell_type": "markdown",
      "metadata": {
        "id": "lDYumBoWNgSr"
      },
      "source": [
        "##### 다차원에서의 단일 값 추출"
      ]
    },
    {
      "cell_type": "code",
      "metadata": {
        "colab": {
          "base_uri": "https://localhost:8080/"
        },
        "id": "dYsmN8HnNqzx",
        "outputId": "6e388492-0e1c-4798-953f-934576b3080f"
      },
      "source": [
        "array1d = np.arange(1, 10)\n",
        "array2d = array1d.reshape(3, 3)\n",
        "print(array2d)\n",
        "\n",
        "# array2d[row, col]\n",
        "print(array2d[0, 0])\n",
        "print(array2d[0, 1])\n",
        "print(array2d[1, 0])\n",
        "print(array2d[2, 2])"
      ],
      "execution_count": 16,
      "outputs": [
        {
          "output_type": "stream",
          "name": "stdout",
          "text": [
            "[[1 2 3]\n",
            " [4 5 6]\n",
            " [7 8 9]]\n",
            "1\n",
            "2\n",
            "4\n",
            "9\n"
          ]
        }
      ]
    },
    {
      "cell_type": "markdown",
      "metadata": {
        "id": "IFcQdLlwO1Uh"
      },
      "source": [
        "![image.png](data:image/png;base64,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)"
      ]
    },
    {
      "cell_type": "markdown",
      "metadata": {
        "id": "YAJQp-P1OGbJ"
      },
      "source": [
        "axis=1 : 컬럽 방향의 축\n",
        "axis=0 : 로우 방향의 축\n",
        "\n",
        "위에서 row, col 인덱싱은 사실 axis 0, axis 1에 대한 값이다. 2차원이므로 axis 0, axis 1로 구분되며, 3 차원일 경우 axis 2를 추가로 3개의 축을 가지게 된다. \n"
      ]
    },
    {
      "cell_type": "markdown",
      "metadata": {
        "id": "qtEEzUKyPzRi"
      },
      "source": [
        "##### 슬라이싱\n",
        "\n",
        "':' 기호를 이용해 연속한 데이터를 슬라이싱하여 추출. 단일 데이터값 추출을 제외하고 슬라이싱, 팬시 인덱싱, 불린 인덱싱으로 추출된 데이터 세트는 모두 ndarray 타입이다. "
      ]
    },
    {
      "cell_type": "code",
      "metadata": {
        "colab": {
          "base_uri": "https://localhost:8080/"
        },
        "id": "LmjqhK9qQElS",
        "outputId": "3360b397-1349-4957-b469-767420ccbf32"
      },
      "source": [
        "array1 = np.arange(1, 10)\n",
        "array3 = array1[0:3]\n",
        "print(array3)\n",
        "print(type(array3))"
      ],
      "execution_count": 17,
      "outputs": [
        {
          "output_type": "stream",
          "name": "stdout",
          "text": [
            "[1 2 3]\n",
            "<class 'numpy.ndarray'>\n"
          ]
        }
      ]
    },
    {
      "cell_type": "code",
      "metadata": {
        "colab": {
          "base_uri": "https://localhost:8080/"
        },
        "id": "SRyiyrJOQW-r",
        "outputId": "a9a710c3-a3f6-4cc0-b8ab-799115f3f648"
      },
      "source": [
        "array4 = array1[:3]\n",
        "print(array4)\n",
        "\n",
        "array5 = array1[3:]\n",
        "print(array5)\n",
        "\n",
        "array6 = array1[:]\n",
        "print(array6)"
      ],
      "execution_count": 18,
      "outputs": [
        {
          "output_type": "stream",
          "name": "stdout",
          "text": [
            "[1 2 3]\n",
            "[4 5 6 7 8 9]\n",
            "[1 2 3 4 5 6 7 8 9]\n"
          ]
        }
      ]
    },
    {
      "cell_type": "markdown",
      "metadata": {
        "id": "P0Z9hDZcUA7L"
      },
      "source": [
        "##### 2차원 슬라이싱\n",
        "\n",
        "2차원 슬라이싱도 1차원 슬라이싱과 유사하며, 단지 콤마로 로우와 칼럼 인덱스를 지칭하는 부분만 다르다."
      ]
    },
    {
      "cell_type": "code",
      "metadata": {
        "colab": {
          "base_uri": "https://localhost:8080/"
        },
        "id": "1udUqIpAUKt7",
        "outputId": "acbdaaa3-a3fd-420c-83b4-376b7815a707"
      },
      "source": [
        "array1d = np.arange(1, 10)\n",
        "array2d = array1d.reshape(3, 3)\n",
        "print(array2d, '\\n')\n",
        "\n",
        "print('array2d[0:2, 0:2]\\n', array2d[0:2, 0:2],'\\n')\n",
        "print('array2d[1:3, 0:3]\\n', array2d[1:3, 0:3],'\\n')\n",
        "print('array2d[1:3, :]\\n', array2d[1:3, :],'\\n')\n",
        "print('array2d[:, :]\\n', array2d[:, :],'\\n')\n",
        "print('array2d[:2, 1:]\\n', array2d[:2, 1:],'\\n')\n",
        "print('array2d[:2, 0]\\n', array2d[:2, 0],'\\n')"
      ],
      "execution_count": 19,
      "outputs": [
        {
          "output_type": "stream",
          "name": "stdout",
          "text": [
            "[[1 2 3]\n",
            " [4 5 6]\n",
            " [7 8 9]] \n",
            "\n",
            "array2d[0:2, 0:2]\n",
            " [[1 2]\n",
            " [4 5]] \n",
            "\n",
            "array2d[1:3, 0:3]\n",
            " [[4 5 6]\n",
            " [7 8 9]] \n",
            "\n",
            "array2d[1:3, :]\n",
            " [[4 5 6]\n",
            " [7 8 9]] \n",
            "\n",
            "array2d[:, :]\n",
            " [[1 2 3]\n",
            " [4 5 6]\n",
            " [7 8 9]] \n",
            "\n",
            "array2d[:2, 1:]\n",
            " [[2 3]\n",
            " [5 6]] \n",
            "\n",
            "array2d[:2, 0]\n",
            " [1 4] \n",
            "\n"
          ]
        }
      ]
    },
    {
      "cell_type": "code",
      "metadata": {
        "colab": {
          "base_uri": "https://localhost:8080/"
        },
        "id": "c_H0_l1HU_FW",
        "outputId": "514ef744-2035-4542-b53c-8a95022fbb98"
      },
      "source": [
        "print(array2d[0])\n",
        "print(array2d[1])\n",
        "print('array2d[0] shape', array2d[0].shape, 'array2d[1] shape', array2d[1].shape)"
      ],
      "execution_count": 20,
      "outputs": [
        {
          "output_type": "stream",
          "name": "stdout",
          "text": [
            "[1 2 3]\n",
            "[4 5 6]\n",
            "array2d[0] shape (3,) array2d[1] shape (3,)\n"
          ]
        }
      ]
    },
    {
      "cell_type": "markdown",
      "metadata": {
        "id": "RBaqnpPqVOrs"
      },
      "source": [
        "##### 팬시 인덱싱\n",
        "\n",
        "팬시 인덱싱은 리스트나 ndarray로 인덱스 집합을 지정하면 해당 위치의 인덱스에 해당하는 ndarray를 반환하는 인덱싱 방식이다. "
      ]
    },
    {
      "cell_type": "code",
      "metadata": {
        "colab": {
          "base_uri": "https://localhost:8080/"
        },
        "id": "1X1kcYgtVi6G",
        "outputId": "a7e9d4ff-72e5-49fe-b459-150835adf945"
      },
      "source": [
        "array1d = np.arange(1, 10)\n",
        "array2d = array1d.reshape(3, 3)\n",
        "\n",
        "array3 = array2d[[0, 1], 2]\n",
        "print('array2d[[0, 1], 2] :', array3.tolist())\n",
        "print()\n",
        "\n",
        "array4 = array2d[[0, 1], 0:2]\n",
        "print('array2d[[0, 1], 0:2] :', array4.tolist())\n",
        "print()\n",
        "\n",
        "array5 = array2d[[0, 1]]\n",
        "print('array2d[[0, 1]] :', array5.tolist())"
      ],
      "execution_count": 21,
      "outputs": [
        {
          "output_type": "stream",
          "name": "stdout",
          "text": [
            "array2d[[0, 1], 2] : [3, 6]\n",
            "\n",
            "array2d[[0, 1], 0:2] : [[1, 2], [4, 5]]\n",
            "\n",
            "array2d[[0, 1]] : [[1, 2, 3], [4, 5, 6]]\n"
          ]
        }
      ]
    },
    {
      "cell_type": "markdown",
      "metadata": {
        "id": "fmZ_iebPWQoc"
      },
      "source": [
        "##### 불린 인덱싱\n",
        "\n",
        "불린 인덱싱은 조건 필터링과 검색을 동시에 할 수 있기 때문에 매우 자주 사용된다. 불린 인덱싱은 ndarray의 인덱스를 지정하는 [] 내에 조건문을 그대로 기재하면 된다."
      ]
    },
    {
      "cell_type": "code",
      "metadata": {
        "colab": {
          "base_uri": "https://localhost:8080/"
        },
        "id": "78ifAK78WhLL",
        "outputId": "079fbaeb-bd3e-411d-a08e-ee76c4eb7789"
      },
      "source": [
        "array1d = np.arange(1, 10)\n",
        "array3 = array1d[array1d > 5]\n",
        "print('array1d[array1d > 5] :', array3)"
      ],
      "execution_count": 22,
      "outputs": [
        {
          "output_type": "stream",
          "name": "stdout",
          "text": [
            "array1d[array1d > 5] : [6 7 8 9]\n"
          ]
        }
      ]
    },
    {
      "cell_type": "code",
      "metadata": {
        "colab": {
          "base_uri": "https://localhost:8080/"
        },
        "id": "7fzbH1CJWs-D",
        "outputId": "a26dec89-5597-42c4-8225-b2f30bad207e"
      },
      "source": [
        "array1d > 5"
      ],
      "execution_count": 23,
      "outputs": [
        {
          "output_type": "execute_result",
          "data": {
            "text/plain": [
              "array([False, False, False, False, False,  True,  True,  True,  True])"
            ]
          },
          "metadata": {},
          "execution_count": 23
        }
      ]
    },
    {
      "cell_type": "code",
      "metadata": {
        "colab": {
          "base_uri": "https://localhost:8080/"
        },
        "id": "a-JTIt91Wxes",
        "outputId": "4bdee4d7-83a0-4c04-ff4e-6c91e55719e3"
      },
      "source": [
        "boolean_indexes = np.array([False, False, False, False, False,  True,  True,  True,  True])\n",
        "array3 = array1d[boolean_indexes]\n",
        "print('필터링 결과 :', array3)"
      ],
      "execution_count": 24,
      "outputs": [
        {
          "output_type": "stream",
          "name": "stdout",
          "text": [
            "필터링 결과 : [6 7 8 9]\n"
          ]
        }
      ]
    },
    {
      "cell_type": "code",
      "metadata": {
        "colab": {
          "base_uri": "https://localhost:8080/"
        },
        "id": "1WzqxXKvW-UU",
        "outputId": "a1573dd6-bb01-423f-cfec-11a68914f6ee"
      },
      "source": [
        "indexes = np.array([5, 6, 7, 8])\n",
        "array4 = array1d[indexes]\n",
        "print('일반 인덱스로 필터링 결과 :',array4)"
      ],
      "execution_count": 25,
      "outputs": [
        {
          "output_type": "stream",
          "name": "stdout",
          "text": [
            "일반 인덱스로 필터링 결과 : [6 7 8 9]\n"
          ]
        }
      ]
    },
    {
      "cell_type": "markdown",
      "metadata": {
        "id": "CMaTDQ_4XNg7"
      },
      "source": [
        "# 행렬의 정렬 - sort()와 argsort()\n",
        "\n",
        "넘파이에서 행렬을 정렬하는 대표적인 방법인 np.sort()와 ndarray.sort(), 그리고 정렬된 행렬의 인덱스를 반환하는 argsort()\n",
        "\n",
        "\n",
        "##### 행렬 정렬\n",
        "\n",
        "넘파이의 행렬 정렬은 np.sort()와 같이 넘파이에서 sort()를 호출하는 방식과 ndarray.sort()와 같이 행렬 자체에서 sort()를 호출하는 방식이 있다. 두 방식의 차이는 np.sort()의 경우 원 행렬은 그대로 유지하고 정렬된 행렬을 반환하며, ndarray.sort()는 원 행렬 자체를 정렬한 형태로 변환한다."
      ]
    },
    {
      "cell_type": "code",
      "metadata": {
        "colab": {
          "base_uri": "https://localhost:8080/"
        },
        "id": "_q0tomN9XwVL",
        "outputId": "e05395f0-0d8c-4417-df0e-b8725a866884"
      },
      "source": [
        "org_array = np.array([3, 1, 9, 5])\n",
        "print('원본 :', org_array)\n",
        "sort_array1 = np.sort(org_array)\n",
        "print('np.sort() 호출 후 반환된 정렬 행렬 :', sort_array1)\n",
        "print('np.sort() 호출 후 원본 행렬 :',org_array)\n",
        "sort_array2 = org_array.sort()\n",
        "print('org_array.sort() 호출 후 반환된 행렬 :', sort_array2)\n",
        "print('org_array.sort() 호출 후 원본 행렬 :',org_array)"
      ],
      "execution_count": 26,
      "outputs": [
        {
          "output_type": "stream",
          "name": "stdout",
          "text": [
            "원본 : [3 1 9 5]\n",
            "np.sort() 호출 후 반환된 정렬 행렬 : [1 3 5 9]\n",
            "np.sort() 호출 후 원본 행렬 : [3 1 9 5]\n",
            "org_array.sort() 호출 후 반환된 행렬 : None\n",
            "org_array.sort() 호출 후 원본 행렬 : [1 3 5 9]\n"
          ]
        }
      ]
    },
    {
      "cell_type": "code",
      "metadata": {
        "colab": {
          "base_uri": "https://localhost:8080/"
        },
        "id": "qZj8eBREYdDq",
        "outputId": "a88643c0-ad82-4e71-809d-b5b262980dc0"
      },
      "source": [
        "# 내림차순 정렬 [::-1]\n",
        "sort_array1_desc = np.sort(org_array)[::-1]\n",
        "print(sort_array1_desc)"
      ],
      "execution_count": 27,
      "outputs": [
        {
          "output_type": "stream",
          "name": "stdout",
          "text": [
            "[9 5 3 1]\n"
          ]
        }
      ]
    },
    {
      "cell_type": "markdown",
      "metadata": {
        "id": "Jkwl1UjtYWTc"
      },
      "source": [
        "행렬이 2차원 이상일 경우에 axis 축 값 설정을 통해 로우 방향, 또는 칼럼 방향으로 정렬할 수 있다."
      ]
    },
    {
      "cell_type": "code",
      "metadata": {
        "colab": {
          "base_uri": "https://localhost:8080/"
        },
        "id": "SleDseU7Y67B",
        "outputId": "a7e350c6-3290-4d84-f7f0-a628dac0119b"
      },
      "source": [
        "array2d = np.array([[8, 12],\n",
        "                    [7, 1]])\n",
        "sort_array2d_axis0 = np.sort(array2d, axis=0)\n",
        "print('로우 방향으로 정렬 :\\n',sort_array2d_axis0)\n",
        "sort_array2d_axis1 = np.sort(array2d, axis=1)\n",
        "print('칼럼 방향으로 정렬 :\\n',sort_array2d_axis1)"
      ],
      "execution_count": 28,
      "outputs": [
        {
          "output_type": "stream",
          "name": "stdout",
          "text": [
            "로우 방향으로 정렬 :\n",
            " [[ 7  1]\n",
            " [ 8 12]]\n",
            "칼럼 방향으로 정렬 :\n",
            " [[ 8 12]\n",
            " [ 1  7]]\n"
          ]
        }
      ]
    },
    {
      "cell_type": "code",
      "metadata": {
        "colab": {
          "base_uri": "https://localhost:8080/"
        },
        "id": "tNCTK-JtZPzA",
        "outputId": "7f0bcfad-87a0-430b-f658-734fb3bf6d3c"
      },
      "source": [
        "array2d = np.array([[8, 1],\n",
        "                    [7, 12]])\n",
        "sort_array2d_axis0 = np.sort(array2d, axis=0)\n",
        "print('로우 방향으로 정렬 :\\n',sort_array2d_axis0)\n",
        "sort_array2d_axis1 = np.sort(array2d, axis=1)\n",
        "print('칼럼 방향으로 정렬 :\\n',sort_array2d_axis1)"
      ],
      "execution_count": 29,
      "outputs": [
        {
          "output_type": "stream",
          "name": "stdout",
          "text": [
            "로우 방향으로 정렬 :\n",
            " [[ 7  1]\n",
            " [ 8 12]]\n",
            "칼럼 방향으로 정렬 :\n",
            " [[ 1  8]\n",
            " [ 7 12]]\n"
          ]
        }
      ]
    },
    {
      "cell_type": "markdown",
      "metadata": {
        "id": "lvTmzb-jZT0k"
      },
      "source": [
        "##### 정렬된 행렬의 인덱스 반환하기\n",
        "\n",
        "원본 행렬이 정렬되었을 때 기존 원본 행렬의 원소에 대한 인덱스를 필요로 할 때 np.argsort()를 이용한다. np.argsort()는 정렬 행렬의 원본 행렬 인덱스를 ndarray 형으로 반환한다."
      ]
    },
    {
      "cell_type": "code",
      "metadata": {
        "colab": {
          "base_uri": "https://localhost:8080/"
        },
        "id": "5oq9L-OeZocW",
        "outputId": "d6a17890-7d8f-4438-f5bb-aeb680d95de0"
      },
      "source": [
        "org_array = np.array([3, 1, 9, 5])\n",
        "sort_indices = np.argsort(org_array)\n",
        "print(type(sort_indices))\n",
        "print('행렬 정렬 시 원본 행렬의 인덱스 :', sort_indices)"
      ],
      "execution_count": 30,
      "outputs": [
        {
          "output_type": "stream",
          "name": "stdout",
          "text": [
            "<class 'numpy.ndarray'>\n",
            "행렬 정렬 시 원본 행렬의 인덱스 : [1 0 3 2]\n"
          ]
        }
      ]
    },
    {
      "cell_type": "code",
      "metadata": {
        "colab": {
          "base_uri": "https://localhost:8080/"
        },
        "id": "29kyW2s1Z32m",
        "outputId": "8d872302-0a4d-4c86-8a76-8e72fe4c9ed0"
      },
      "source": [
        "org_array = np.array([3, 1, 9, 5])\n",
        "sort_indices_desc = np.argsort(org_array)[::-1]\n",
        "print(type(sort_indices_desc))\n",
        "print('행렬 내림차순 정렬 시 원본 행렬의 인덱스 :', sort_indices_desc)"
      ],
      "execution_count": 31,
      "outputs": [
        {
          "output_type": "stream",
          "name": "stdout",
          "text": [
            "<class 'numpy.ndarray'>\n",
            "행렬 내림차순 정렬 시 원본 행렬의 인덱스 : [2 3 0 1]\n"
          ]
        }
      ]
    },
    {
      "cell_type": "markdown",
      "metadata": {
        "id": "5Kl1Z9ocaCK8"
      },
      "source": [
        "argsort()는 넘파이에서 매우 활용도가 높다. 넘파이의 ndarray는 RDBMS의 TABLE 칼럼이나 판다스 DataFrame 칼럼과 같은 메타 데이터를 가질 수 없다. 따라서 실제 값과 그 값이 뜻하는 메타 데이터를 별도의 ndarray로 각각 가져야한 한다. "
      ]
    },
    {
      "cell_type": "code",
      "metadata": {
        "colab": {
          "base_uri": "https://localhost:8080/"
        },
        "id": "wnTmoKl-aVet",
        "outputId": "e4983cc7-8c3c-4ba4-9516-593d37515626"
      },
      "source": [
        "name_array = np.array(['John', 'Mike', 'Sarah', 'Kate', 'Samuel'])\n",
        "score_array = np.array([78, 95, 84, 98, 88])\n",
        "\n",
        "sort_indices_asc = np.argsort(score_array)\n",
        "print('성적 오름차순 정렬 시 score_array의 인덱스 :', sort_indices_asc)\n",
        "print('성적 오름차순으로 name_array의 이름 출력 :', name_array[sort_indices_asc])"
      ],
      "execution_count": 32,
      "outputs": [
        {
          "output_type": "stream",
          "name": "stdout",
          "text": [
            "성적 오름차순 정렬 시 score_array의 인덱스 : [0 2 4 1 3]\n",
            "성적 오름차순으로 name_array의 이름 출력 : ['John' 'Sarah' 'Samuel' 'Mike' 'Kate']\n"
          ]
        }
      ]
    },
    {
      "cell_type": "markdown",
      "metadata": {
        "id": "pbom1ARBa5it"
      },
      "source": [
        "# 선형대수 연산 - 행렬 내적과 전치 행렬 구하기\n",
        "\n",
        "##### 행렬 내적(행렬 곱)\n",
        "\n",
        "행렬 내적은 행렬 곱이며, 두 행렬 A와 B의 내적은 np.dot()을 이용해 계산이 가능하다. 두 행렬 A와 B의 내적은 왼쪽 행렬의 로우(행)와 오른쪽 행렬의 칼럼(열)의 원소들을 순차적으로 곱한 뒤 그 결과를 모두 더한 값이다."
      ]
    },
    {
      "cell_type": "code",
      "metadata": {
        "colab": {
          "base_uri": "https://localhost:8080/"
        },
        "id": "30u7pApibuBd",
        "outputId": "c1e3cd2c-b95b-4912-91d0-86a45255b213"
      },
      "source": [
        "A = np.array([[1, 2, 3],\n",
        "              [4, 5, 6]])\n",
        "B = np.array([[7, 8],\n",
        "              [9, 10],\n",
        "              [11, 12]])\n",
        "dot_product = np.dot(A, B)\n",
        "print(dot_product)"
      ],
      "execution_count": 33,
      "outputs": [
        {
          "output_type": "stream",
          "name": "stdout",
          "text": [
            "[[ 58  64]\n",
            " [139 154]]\n"
          ]
        }
      ]
    },
    {
      "cell_type": "markdown",
      "metadata": {
        "id": "Wvybwf0kcA50"
      },
      "source": [
        "##### 전치 행렬\n",
        "\n",
        "원 행렬에서 행과 열 위치를 교환한 원소로 구성한 행렬을 그 행렬의 전치 행렬이라 한다. 넘파이의 tranpose()를 이용해 전치 행렬을 쉽게 구할 수 있다."
      ]
    },
    {
      "cell_type": "code",
      "metadata": {
        "colab": {
          "base_uri": "https://localhost:8080/"
        },
        "id": "KLCVoWuLcUyF",
        "outputId": "f4bf3c6b-96e9-4fa6-c2c0-50367f574007"
      },
      "source": [
        "A = np.array([[1, 2],\n",
        "              [3, 4]])\n",
        "transpose_mat = np.transpose(A)\n",
        "print('A의 전치 행렬 :\\n',transpose_mat)"
      ],
      "execution_count": 34,
      "outputs": [
        {
          "output_type": "stream",
          "name": "stdout",
          "text": [
            "A의 전치 행렬 :\n",
            " [[1 3]\n",
            " [2 4]]\n"
          ]
        }
      ]
    },
    {
      "cell_type": "code",
      "metadata": {
        "colab": {
          "base_uri": "https://localhost:8080/"
        },
        "id": "a7vnNCm7chsG",
        "outputId": "22e46b01-3e91-445f-fec0-9b971d56b341"
      },
      "source": [
        "A = np.array([[1, 2],\n",
        "              [3, 4],\n",
        "              [5, 6]])\n",
        "transpose_mat = np.transpose(A)\n",
        "print('A의 전치 행렬 :\\n',transpose_mat)"
      ],
      "execution_count": 35,
      "outputs": [
        {
          "output_type": "stream",
          "name": "stdout",
          "text": [
            "A의 전치 행렬 :\n",
            " [[1 3 5]\n",
            " [2 4 6]]\n"
          ]
        }
      ]
    }
  ]
}